{
 "cells": [
  {
   "cell_type": "markdown",
   "metadata": {},
   "source": [
    "# Unit simplification\n",
    "Problems in unit simplification"
   ]
  },
  {
   "cell_type": "code",
   "execution_count": 16,
   "metadata": {
    "collapsed": false
   },
   "outputs": [
    {
     "name": "stdout",
     "output_type": "stream",
     "text": [
      "<?xml version=\"1.0\" encoding=\"UTF-8\"?>\n",
      "<!-- Created by libAntimony version v2.8.1 on 2016-02-17 10:28 with libSBML version 5.12.1. -->\n",
      "<sbml xmlns=\"http://www.sbml.org/sbml/level3/version1/core\" level=\"3\" version=\"1\">\n",
      "  <model id=\"__main\" name=\"__main\">\n",
      "    <listOfCompartments>\n",
      "      <compartment sboTerm=\"SBO:0000410\" id=\"default_compartment\" spatialDimensions=\"3\" size=\"1\" constant=\"true\"/>\n",
      "    </listOfCompartments>\n",
      "    <listOfSpecies>\n",
      "      <species id=\"S1\" compartment=\"default_compartment\" initialConcentration=\"1\" hasOnlySubstanceUnits=\"false\" boundaryCondition=\"false\" constant=\"false\"/>\n",
      "    </listOfSpecies>\n",
      "    <listOfParameters>\n",
      "      <parameter id=\"k1\" value=\"2\" constant=\"true\"/>\n",
      "      <parameter id=\"k2\" constant=\"false\"/>\n",
      "    </listOfParameters>\n",
      "    <listOfRules>\n",
      "      <assignmentRule variable=\"k2\">\n",
      "        <math xmlns=\"http://www.w3.org/1998/Math/MathML\">\n",
      "          <apply>\n",
      "            <times/>\n",
      "            <ci> k1 </ci>\n",
      "            <ci> S1 </ci>\n",
      "          </apply>\n",
      "        </math>\n",
      "      </assignmentRule>\n",
      "    </listOfRules>\n",
      "  </model>\n",
      "</sbml>\n",
      "\n",
      "<Model __main \"__main\">\n",
      "id: k2\n",
      "set id: True\n",
      "variable: k2\n",
      "* set id of rule *\n",
      "id: k2\n",
      "set id: True\n",
      "variable: k2\n",
      "--------------------------------------------------------------------------------\n",
      "<class 'libsbml.SBase'> \n",
      "<class 'libsbml.SBase'> default_compartment\n",
      "<class 'libsbml.SBase'> \n",
      "<class 'libsbml.SBase'> S1\n",
      "<class 'libsbml.SBase'> \n",
      "<class 'libsbml.SBase'> k1\n",
      "<class 'libsbml.SBase'> k2\n",
      "<class 'libsbml.SBase'> \n",
      "<class 'libsbml.SBase'> k2\n"
     ]
    },
    {
     "ename": "TypeError",
     "evalue": "'SBaseList' object is not iterable",
     "output_type": "error",
     "traceback": [
      "\u001b[1;31m---------------------------------------------------------------------------\u001b[0m",
      "\u001b[1;31mTypeError\u001b[0m                                 Traceback (most recent call last)",
      "\u001b[1;32m<ipython-input-16-dde1e1462f7e>\u001b[0m in \u001b[0;36m<module>\u001b[1;34m()\u001b[0m\n\u001b[0;32m     38\u001b[0m \u001b[1;33m\u001b[0m\u001b[0m\n\u001b[0;32m     39\u001b[0m \u001b[1;31m# ListOf not iteratable\u001b[0m\u001b[1;33m\u001b[0m\u001b[1;33m\u001b[0m\u001b[0m\n\u001b[1;32m---> 40\u001b[1;33m \u001b[1;32mfor\u001b[0m \u001b[0ms\u001b[0m \u001b[1;32min\u001b[0m \u001b[0mmodel\u001b[0m\u001b[1;33m.\u001b[0m\u001b[0mgetListOfAllElements\u001b[0m\u001b[1;33m(\u001b[0m\u001b[1;33m)\u001b[0m\u001b[1;33m:\u001b[0m\u001b[1;33m\u001b[0m\u001b[0m\n\u001b[0m\u001b[0;32m     41\u001b[0m     \u001b[1;32mprint\u001b[0m\u001b[1;33m(\u001b[0m\u001b[0ms\u001b[0m\u001b[1;33m.\u001b[0m\u001b[0mid\u001b[0m\u001b[1;33m)\u001b[0m\u001b[1;33m\u001b[0m\u001b[0m\n",
      "\u001b[1;31mTypeError\u001b[0m: 'SBaseList' object is not iterable"
     ]
    }
   ],
   "source": [
    "from __future__ import print_function, division\n",
    "import tellurium as te\n",
    "r = te.loada(\"\"\"\n",
    "species S1;\n",
    "S1 = 1.0;\n",
    "k1 = 2.0;\n",
    "\n",
    "k2 := k1*S1 \n",
    "\"\"\")\n",
    "sbml_str = r.getSBML()\n",
    "\n",
    "\"\"\" L3V1 specificaiton p17, 39ff\n",
    "The SBase abstract type is used as the base type for certain objects such as SBML, **AssignmentRule,\n",
    "etc., which do not have identi\f",
    "ers** because these components do not need to be referenced by other\n",
    "components.\n",
    "\"\"\"\n",
    "\n",
    "import libsbml\n",
    "doc = libsbml.readSBMLFromString(sbml_str)\n",
    "model = doc.getModel()\n",
    "print(model)\n",
    "rule = model.getAssignmentRule('k2')\n",
    "print('id:', rule.id)\n",
    "print('set id:', rule.isSetId())\n",
    "print('variable:', rule.variable)\n",
    "\n",
    "# not possible to set id on rule\n",
    "print('* set id of rule *')\n",
    "rule.setId('my_rule')\n",
    "\n",
    "print('id:', rule.id)\n",
    "print('set id:', rule.isSetId())\n",
    "print('variable:', rule.variable)\n",
    "\n",
    "print('-'*80)\n",
    "\n",
    "# list of all ids is not unique in model (two with same id, here k2)\n",
    "all_elements = model.getListOfAllElements()\n",
    "\n",
    "for k in range(all_elements.getSize()):\n",
    "    element = all_elements.get(k)\n",
    "    print(type(element), element.id)\n",
    "\n",
    "# ListOf not iteratable\n",
    "for s in model.getListOfAllElements():\n",
    "    print(s.id)    "
   ]
  },
  {
   "cell_type": "code",
   "execution_count": 17,
   "metadata": {
    "collapsed": false
   },
   "outputs": [
    {
     "name": "stdout",
     "output_type": "stream",
     "text": [
      "<?xml version=\"1.0\" encoding=\"UTF-8\"?>\n",
      "<!-- Created by libAntimony version v2.8.1 on 2016-02-17 10:28 with libSBML version 5.12.1. -->\n",
      "<sbml xmlns=\"http://www.sbml.org/sbml/level3/version1/core\" level=\"3\" version=\"1\">\n",
      "  <model id=\"__main\" name=\"__main\" substanceUnits=\"substance\" timeUnits=\"time_unit\" volumeUnits=\"volume\" areaUnits=\"area\" lengthUnits=\"length\" extentUnits=\"extent\">\n",
      "    <listOfUnitDefinitions>\n",
      "      <unitDefinition id=\"mmol\">\n",
      "        <listOfUnits>\n",
      "          <unit kind=\"mole\" exponent=\"1\" scale=\"-3\" multiplier=\"1\"/>\n",
      "        </listOfUnits>\n",
      "      </unitDefinition>\n",
      "      <unitDefinition id=\"mM\">\n",
      "        <listOfUnits>\n",
      "          <unit kind=\"mole\" exponent=\"1\" scale=\"-3\" multiplier=\"1\"/>\n",
      "          <unit kind=\"litre\" exponent=\"-1\" scale=\"0\" multiplier=\"1\"/>\n",
      "        </listOfUnits>\n",
      "      </unitDefinition>\n",
      "      <unitDefinition id=\"mmol_per_s\">\n",
      "        <listOfUnits>\n",
      "          <unit kind=\"mole\" exponent=\"1\" scale=\"-3\" multiplier=\"1\"/>\n",
      "          <unit kind=\"second\" exponent=\"-1\" scale=\"0\" multiplier=\"1\"/>\n",
      "        </listOfUnits>\n",
      "      </unitDefinition>\n",
      "      <unitDefinition id=\"test\">\n",
      "        <listOfUnits>\n",
      "          <unit kind=\"litre\" exponent=\"1\" scale=\"3\" multiplier=\"1\"/>\n",
      "          <unit kind=\"metre\" exponent=\"-3\" scale=\"0\" multiplier=\"1\"/>\n",
      "        </listOfUnits>\n",
      "      </unitDefinition>\n",
      "      <unitDefinition id=\"substance\">\n",
      "        <listOfUnits>\n",
      "          <unit kind=\"mole\" exponent=\"1\" scale=\"-3\" multiplier=\"1\"/>\n",
      "        </listOfUnits>\n",
      "      </unitDefinition>\n",
      "      <unitDefinition id=\"volume\">\n",
      "        <listOfUnits>\n",
      "          <unit kind=\"litre\" exponent=\"1\" scale=\"0\" multiplier=\"1\"/>\n",
      "        </listOfUnits>\n",
      "      </unitDefinition>\n",
      "      <unitDefinition id=\"area\">\n",
      "        <listOfUnits>\n",
      "          <unit kind=\"metre\" exponent=\"2\" scale=\"0\" multiplier=\"1\"/>\n",
      "        </listOfUnits>\n",
      "      </unitDefinition>\n",
      "      <unitDefinition id=\"length\">\n",
      "        <listOfUnits>\n",
      "          <unit kind=\"metre\" exponent=\"1\" scale=\"0\" multiplier=\"1\"/>\n",
      "        </listOfUnits>\n",
      "      </unitDefinition>\n",
      "      <unitDefinition id=\"extent\">\n",
      "        <listOfUnits>\n",
      "          <unit kind=\"mole\" exponent=\"1\" scale=\"-3\" multiplier=\"1\"/>\n",
      "        </listOfUnits>\n",
      "      </unitDefinition>\n",
      "      <unitDefinition id=\"time_unit\">\n",
      "        <listOfUnits>\n",
      "          <unit kind=\"second\" exponent=\"1\" scale=\"0\" multiplier=\"1\"/>\n",
      "        </listOfUnits>\n",
      "      </unitDefinition>\n",
      "    </listOfUnitDefinitions>\n",
      "    <listOfCompartments>\n",
      "      <compartment sboTerm=\"SBO:0000410\" id=\"default_compartment\" spatialDimensions=\"3\" size=\"1\" constant=\"true\"/>\n",
      "    </listOfCompartments>\n",
      "    <listOfSpecies>\n",
      "      <species id=\"S1\" compartment=\"default_compartment\" initialConcentration=\"0\" hasOnlySubstanceUnits=\"false\" boundaryCondition=\"false\" constant=\"false\"/>\n",
      "    </listOfSpecies>\n",
      "    <listOfParameters>\n",
      "      <parameter id=\"v0\" value=\"1\" units=\"mmol_per_s\" constant=\"true\"/>\n",
      "      <parameter id=\"k1\" value=\"1\" units=\"test\" constant=\"true\"/>\n",
      "    </listOfParameters>\n",
      "    <listOfReactions>\n",
      "      <reaction id=\"J0\" reversible=\"true\" fast=\"false\">\n",
      "        <listOfReactants>\n",
      "          <speciesReference species=\"S1\" stoichiometry=\"1\" constant=\"true\"/>\n",
      "        </listOfReactants>\n",
      "        <kineticLaw>\n",
      "          <math xmlns=\"http://www.w3.org/1998/Math/MathML\">\n",
      "            <apply>\n",
      "              <times/>\n",
      "              <ci> v0 </ci>\n",
      "              <ci> k1 </ci>\n",
      "            </apply>\n",
      "          </math>\n",
      "        </kineticLaw>\n",
      "      </reaction>\n",
      "    </listOfReactions>\n",
      "  </model>\n",
      "</sbml>\n",
      "\n"
     ]
    }
   ],
   "source": [
    "from __future__ import print_function, division\n",
    "import tellurium as te\n",
    "r = te.loada(\"\"\"\n",
    "// Units\n",
    "unit mmol = 1e-3 mole;\n",
    "unit mM = mmol / litre;\n",
    "unit mmol_per_s = mmol / second;\n",
    "unit test = 1000 litre / metre^3\n",
    "\n",
    "substance = mmol;\n",
    "volume = litre;\n",
    "area = metre^2; \n",
    "length = metre;\n",
    "extent = mmol;\n",
    "time_unit = second;\n",
    "\n",
    "// Species\n",
    "species S1 = 0.0\n",
    "\n",
    "// Reaction\n",
    "J0: S1 ->; v0 * k1;\n",
    "v0 = 1.0 mmol_per_s;\n",
    "k1 = 1.0 test;\n",
    "\n",
    "\"\"\")\n",
    "sbml_str = r.getSBML()\n",
    "print(sbml_str)"
   ]
  },
  {
   "cell_type": "code",
   "execution_count": 59,
   "metadata": {
    "collapsed": false
   },
   "outputs": [
    {
     "name": "stdout",
     "output_type": "stream",
     "text": [
      "\n",
      " read time (ms): 0.002287\n",
      " validation error(s): 1\n",
      "\n",
      "line 75: (10541 [Warning]) The units of the 'math' formula in a <kineticLaw> definition are expected to be the equivalent of _substance per time_.\n",
      "Reference: L3V1 Sections 4.11.7, 4.2.4 AND 4.9.4\n",
      " In level 3 the expected units are extent_per_time. Expected units are mole (exponent = 1, multiplier = 1, scale = -3), second (exponent = -1, multiplier = 1, scale = 0) but the units returned by the <math> expression in the <kineticLaw> (from the <reaction> with id 'J0') are mole (exponent = 1, multiplier = 1, scale = -3), second (exponent = -1, multiplier = 1, scale = 0), litre (exponent = 1, multiplier = 1, scale = 3), metre (exponent = -3, multiplier = 1, scale = 0).\n",
      "\n"
     ]
    },
    {
     "data": {
      "text/plain": [
       "1"
      ]
     },
     "execution_count": 59,
     "metadata": {},
     "output_type": "execute_result"
    }
   ],
   "source": [
    "# validate\n",
    "from multiscale.sbmlutils import validation\n",
    "import tempfile\n",
    "import libsbml\n",
    "doc = libsbml.readSBML(sbml_str)\n",
    "f = tempfile.NamedTemporaryFile(suffix='.xml')\n",
    "f.write(sbml_str)\n",
    "f.flush()\n",
    "validation.check_sbml(f.name)"
   ]
  },
  {
   "cell_type": "code",
   "execution_count": null,
   "metadata": {
    "collapsed": true
   },
   "outputs": [],
   "source": []
  }
 ],
 "metadata": {
  "kernelspec": {
   "display_name": "Python 2",
   "language": "python",
   "name": "python2"
  },
  "language_info": {
   "codemirror_mode": {
    "name": "ipython",
    "version": 2
   },
   "file_extension": ".py",
   "mimetype": "text/x-python",
   "name": "python",
   "nbconvert_exporter": "python",
   "pygments_lexer": "ipython2",
   "version": "2.7.6"
  }
 },
 "nbformat": 4,
 "nbformat_minor": 0
}
