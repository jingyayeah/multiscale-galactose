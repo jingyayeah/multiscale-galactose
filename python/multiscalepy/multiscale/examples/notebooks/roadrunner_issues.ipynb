{
 "cells": [
  {
   "cell_type": "markdown",
   "metadata": {
    "collapsed": true
   },
   "source": [
    "# Parameter slider"
   ]
  },
  {
   "cell_type": "code",
   "execution_count": null,
   "metadata": {
    "collapsed": false
   },
   "outputs": [],
   "source": [
    "%matplotlib inline\n",
    "import tellurium as te\n",
    "from tellurium.widgets import ParameterSlider\n",
    "\n",
    "model = '''\n",
    "      model pathway()\n",
    "        S1 -> S2; k1*S1 - k2*S2 # Reversible term added here\n",
    "\n",
    "        # Initialize values\n",
    "        S1 = 5; S2 = 0;\n",
    "        k1 = 0.1;  k2 = 0.05;\n",
    "\n",
    "      end\n",
    "'''\n",
    "r = te.loadAntimonyModel(model)\n",
    "ParameterSlider(r, paramIds=['k1']);"
   ]
  },
  {
   "cell_type": "code",
   "execution_count": null,
   "metadata": {
    "collapsed": false
   },
   "outputs": [],
   "source": [
    "model = '''\n",
    "      model pathway()\n",
    "        S1 -> S2; k1*S1 - k2*S2 # Reversible term added here\n",
    "\n",
    "        # Initialize values\n",
    "        S1 = 5; S2 = 0;\n",
    "        k1 = 0.1;  k2 = 0.05;\n",
    "\n",
    "      end\n",
    "'''\n",
    "r = te.loada(model)\n",
    "# works\n",
    "r.selections = [\"time\", \"[S1]\"]\n",
    "s = r.simulate(10, 20)\n",
    "r.plot()\n",
    "# works\n",
    "s = r.simulate(10, 20, [\"time\", \"[S1]\"])\n",
    "r.plot()\n",
    "#fails\n",
    "s = r.simulate(10, 20, selections=[\"time\", \"[S1]\"])\n",
    "r.plot()"
   ]
  },
  {
   "cell_type": "code",
   "execution_count": 2,
   "metadata": {
    "collapsed": false
   },
   "outputs": [
    {
     "name": "stdout",
     "output_type": "stream",
     "text": [
      "1.4.2; Compiler: gcc 4.8.4, C++ version: 199711; JIT Compiler: LLVM-3.4; Date: Feb  2 2016, 09:23:35; LibSBML Version: 5.12.0\n",
      "['time', 'PP_S', 'S3', 'S4', 'J0']\n",
      "<roadrunner.RoadRunner() { \n",
      "'this' : 0x226dd10\n",
      "'modelLoaded' : true\n",
      "'modelName' : event_time\n",
      "'libSBMLVersion' : LibSBML Version: 5.12.0\n",
      "'jacobianStepSize' : 1e-05\n",
      "'conservedMoietyAnalysis' : false\n",
      "'simulateOptions' : \n",
      "< roadrunner.SimulateOptions() \n",
      "{ \n",
      "'this' : 0x39f64c0, \n",
      "'reset' : 0,\n",
      "'structuredResult' : 0,\n",
      "'copyResult' : 1,\n",
      "'steps' : 50,\n",
      "'start' : 0,\n",
      "'duration' : 7,\n",
      "'stiff' : false, \n",
      "'absolute' : 0.000001, \n",
      "'relative' : 0.000001\n",
      "}>, \n",
      "'integrator' : \n",
      "< roadrunner.Integrator() >\n",
      "  settings:\n",
      "      relative_tolerance: 0.00001\n",
      "      absolute_tolerance: 0.0000000001\n",
      "                   stiff: false\n",
      "       maximum_bdf_order: 5\n",
      "     maximum_adams_order: 12\n",
      "       maximum_num_steps: 20000\n",
      "       maximum_time_step: 0\n",
      "       minimum_time_step: 0\n",
      "       initial_time_step: 0\n",
      "          multiple_steps: false\n",
      "      variable_step_size: false\n",
      "\n",
      "}>\n",
      "    time, PP_S,  S3, S4, J0\n",
      " [[    0,    0, 0.5,  1,  0]]\n",
      "\n",
      "           time, PP_S,  S3, S4, J0\n",
      " [[           0,    0, 0.5,  1,  0],\n",
      "  [ 0.000240258,    0, 0.5,  1,  0],\n",
      "  [           2,    0, 0.5,  1,  0],\n",
      "  [           2,    0,   5, 10,  0],\n",
      "  [     2.00026,    0,   5, 10,  0],\n",
      "  [     4.55863,    0,   5, 10,  0],\n",
      "  [           7,    0,   5, 10,  0]]\n",
      "\n"
     ]
    }
   ],
   "source": [
    "from __future__ import print_function, division\n",
    "\n",
    "import tellurium as te\n",
    "import roadrunner\n",
    "from roadrunner import SelectionRecord\n",
    "print(roadrunner.__version__)\n",
    "\n",
    "# Model definition via antimony.\n",
    "# The model contains an Event triggered at t=2 [s].\n",
    "r = te.loada(\"\"\"\n",
    "    model event_time()\n",
    "    // Reactions\n",
    "    J0: $PP_S -> 2 S3; K1 * PP_S;\n",
    "\n",
    "    // Species initializations:\n",
    "    var species S3;\n",
    "    var species S4;\n",
    "    S3 = 0.5;\n",
    "    PP_S = 0.0;\n",
    "    S4 := 2*S3;\n",
    "\n",
    "    // Rule for S1\n",
    "    K1 = 0.5;    \n",
    "    \n",
    "    // Additional events for triggering re-integration\n",
    "    E1: at(time>=2):  S3=5;  \n",
    "    end\n",
    "\"\"\")\n",
    "\n",
    "r.selections = ['time'] + r.model.getBoundarySpeciesIds() + r.model.getFloatingSpeciesIds() + r.model.getReactionIds()\n",
    "print(r.selections)\n",
    "\n",
    "absTol = 1E-6 * min(r.model.getCompartmentVolumes())\n",
    "relTol = 1E-6\n",
    "\n",
    "s = r.simulate(0, 7, absolute=absTol, relative=relTol, variableStep=False, stiff=False, plot=True)\n",
    "print(r)\n",
    "print(s)\n",
    "s = r.simulate(0, 7, absolute=absTol, relative=relTol, variableStep=True, stiff=False, plot=True)\n",
    "print(s)"
   ]
  },
  {
   "cell_type": "code",
   "execution_count": null,
   "metadata": {
    "collapsed": true
   },
   "outputs": [],
   "source": []
  }
 ],
 "metadata": {
  "kernelspec": {
   "display_name": "Python 2",
   "language": "python",
   "name": "python2"
  },
  "language_info": {
   "codemirror_mode": {
    "name": "ipython",
    "version": 2
   },
   "file_extension": ".py",
   "mimetype": "text/x-python",
   "name": "python",
   "nbconvert_exporter": "python",
   "pygments_lexer": "ipython2",
   "version": "2.7.6"
  }
 },
 "nbformat": 4,
 "nbformat_minor": 0
}
