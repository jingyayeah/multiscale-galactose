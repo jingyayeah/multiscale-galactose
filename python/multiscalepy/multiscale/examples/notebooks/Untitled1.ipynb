{
 "cells": [
  {
   "cell_type": "code",
   "execution_count": 3,
   "metadata": {
    "collapsed": false
   },
   "outputs": [
    {
     "ename": "Exception",
     "evalue": "Antimony: Unable to read SBML string due to errors encountered when parsing the file.  Error(s) from libSBML:\n\nline 2: (01035 [Error]) Main XML content is empty.\n\nline 2: (20201 [Error]) An SBML document must contain a <model> element. The <model> element is optional in L3V2 and beyond.\nReference: L3V1 Section 4.1\n\n",
     "output_type": "error",
     "traceback": [
      "\u001b[1;31m---------------------------------------------------------------------------\u001b[0m",
      "\u001b[1;31mException\u001b[0m                                 Traceback (most recent call last)",
      "\u001b[1;32m<ipython-input-3-f079c1b44e8b>\u001b[0m in \u001b[0;36m<module>\u001b[1;34m()\u001b[0m\n\u001b[0;32m      4\u001b[0m \u001b[1;33m\u001b[0m\u001b[0m\n\u001b[0;32m      5\u001b[0m \u001b[1;32mimport\u001b[0m \u001b[0mtellurium\u001b[0m \u001b[1;32mas\u001b[0m \u001b[0mte\u001b[0m\u001b[1;33m\u001b[0m\u001b[0m\n\u001b[1;32m----> 6\u001b[1;33m \u001b[0mantimony_str\u001b[0m \u001b[1;33m=\u001b[0m \u001b[0mte\u001b[0m\u001b[1;33m.\u001b[0m\u001b[0msbmlToAntimony\u001b[0m\u001b[1;33m(\u001b[0m\u001b[0mtestdata\u001b[0m\u001b[1;33m.\u001b[0m\u001b[0mdemo_sbml\u001b[0m\u001b[1;33m)\u001b[0m\u001b[1;33m\u001b[0m\u001b[0m\n\u001b[0m\u001b[0;32m      7\u001b[0m \u001b[1;32mprint\u001b[0m\u001b[1;33m(\u001b[0m\u001b[0mantimony_str\u001b[0m\u001b[1;33m)\u001b[0m\u001b[1;33m\u001b[0m\u001b[0m\n\u001b[0;32m      8\u001b[0m \u001b[1;33m\u001b[0m\u001b[0m\n",
      "\u001b[1;32m/home/mkoenig/git/tellurium/tellurium/tellurium.pyc\u001b[0m in \u001b[0;36msbmlToAntimony\u001b[1;34m(str)\u001b[0m\n\u001b[0;32m    250\u001b[0m     \u001b[0merr\u001b[0m \u001b[1;33m=\u001b[0m \u001b[0mantimony\u001b[0m\u001b[1;33m.\u001b[0m\u001b[0mloadSBMLString\u001b[0m\u001b[1;33m(\u001b[0m\u001b[0mstr\u001b[0m\u001b[1;33m)\u001b[0m\u001b[1;33m\u001b[0m\u001b[0m\n\u001b[0;32m    251\u001b[0m     \u001b[1;32mif\u001b[0m \u001b[0merr\u001b[0m \u001b[1;33m<\u001b[0m \u001b[1;36m0\u001b[0m\u001b[1;33m:\u001b[0m\u001b[1;33m\u001b[0m\u001b[0m\n\u001b[1;32m--> 252\u001b[1;33m         \u001b[1;32mraise\u001b[0m \u001b[0mException\u001b[0m\u001b[1;33m(\u001b[0m\u001b[1;34m'Antimony: '\u001b[0m \u001b[1;33m+\u001b[0m \u001b[0mantimony\u001b[0m\u001b[1;33m.\u001b[0m\u001b[0mgetLastError\u001b[0m\u001b[1;33m(\u001b[0m\u001b[1;33m)\u001b[0m\u001b[1;33m)\u001b[0m\u001b[1;33m\u001b[0m\u001b[0m\n\u001b[0m\u001b[0;32m    253\u001b[0m \u001b[1;33m\u001b[0m\u001b[0m\n\u001b[0;32m    254\u001b[0m     \u001b[1;32mreturn\u001b[0m \u001b[0mantimony\u001b[0m\u001b[1;33m.\u001b[0m\u001b[0mgetAntimonyString\u001b[0m\u001b[1;33m(\u001b[0m\u001b[0mNone\u001b[0m\u001b[1;33m)\u001b[0m\u001b[1;33m\u001b[0m\u001b[0m\n",
      "\u001b[1;31mException\u001b[0m: Antimony: Unable to read SBML string due to errors encountered when parsing the file.  Error(s) from libSBML:\n\nline 2: (01035 [Error]) Main XML content is empty.\n\nline 2: (20201 [Error]) An SBML document must contain a <model> element. The <model> element is optional in L3V2 and beyond.\nReference: L3V1 Section 4.1\n\n"
     ]
    }
   ],
   "source": [
    "import multiscale.simulate.roadrunner_tools as rt\n",
    "import multiscale.examples.testdata as testdata\n",
    "reload(rt)\n",
    "\n",
    "import tellurium as te\n",
    "\n",
    "antimony_str = te.sbmlToAntimony(testdata.demo_sbml)\n",
    "print(antimony_str)\n",
    "\n",
    "r = rt.MyRunner(testdata.demo_sbml)\n",
    "r.simulate(0,10,101)"
   ]
  },
  {
   "cell_type": "code",
   "execution_count": 8,
   "metadata": {
    "collapsed": false
   },
   "outputs": [
    {
     "name": "stdout",
     "output_type": "stream",
     "text": [
      "Time<__init__> Model loading: 0.0302379131317 [s]\n"
     ]
    }
   ],
   "source": [
    "# cast to super class for untimed behavior\n"
   ]
  },
  {
   "cell_type": "code",
   "execution_count": 35,
   "metadata": {
    "collapsed": false
   },
   "outputs": [
    {
     "name": "stdout",
     "output_type": "stream",
     "text": [
      "{'start': 0, 'end': 20}\n"
     ]
    }
   ],
   "source": [
    "def simulate_complex(initial_concentrations={}, initial_amounts={},\n",
    "                         parameters={}, reset_parameters=False, **kwargs):\n",
    "    print(kwargs)\n",
    "    \n",
    "simulate_complex(start=0, end=20, initial_amounts=\"amounts\")"
   ]
  },
  {
   "cell_type": "code",
   "execution_count": 36,
   "metadata": {
    "collapsed": false
   },
   "outputs": [
    {
     "data": {
      "text/plain": [
       "<roadrunner.RoadRunner() { this = 0x2e97170 }>"
      ]
     },
     "execution_count": 36,
     "metadata": {},
     "output_type": "execute_result"
    }
   ],
   "source": [
    "r"
   ]
  },
  {
   "cell_type": "code",
   "execution_count": 37,
   "metadata": {
    "collapsed": false
   },
   "outputs": [
    {
     "name": "stdout",
     "output_type": "stream",
     "text": [
      "['e__A', 'e__C', 'e__B', 'c__C', 'c__B', 'c__A']\n"
     ]
    }
   ],
   "source": [
    "print(r.model.getFloatingSpeciesIds())\n"
   ]
  },
  {
   "cell_type": "code",
   "execution_count": 42,
   "metadata": {
    "collapsed": false
   },
   "outputs": [
    {
     "name": "stdout",
     "output_type": "stream",
     "text": [
      "Time<__init__> SBML compile: 0.0245649814606 [s]\n"
     ]
    }
   ],
   "source": [
    "from multiscale.examples.testdata import demo_sbml\n",
    "reload(rt)\n",
    "r = rt.MyRunner(demo_sbml)\n",
    "r['init(e__A)'] = 1.0\n",
    "r['init(e__B)'] = 1.0\n",
    "r['init(c__C)'] = 1.0"
   ]
  },
  {
   "cell_type": "code",
   "execution_count": 53,
   "metadata": {
    "collapsed": false
   },
   "outputs": [
    {
     "name": "stdout",
     "output_type": "stream",
     "text": [
      "1.4.2; Compiler: gcc 4.8.4, C++ version: 199711; JIT Compiler: LLVM-3.4; Date: Jan 20 2016, 08:49:40\n",
      "(14.3, 14.3)\n",
      "(1.0, 1.0)\n",
      "(-3.0, -3.0)\n",
      "********************************************************************************\n",
      "(1, 0.0)\n",
      "(15, 0.0)\n",
      "(-20, 0.0)\n",
      "********************************************************************************\n",
      "1.0\n",
      "15.0\n",
      "-20.0\n"
     ]
    }
   ],
   "source": [
    "import roadrunner\n",
    "print(roadrunner.__version__)\n",
    "from multiscale.examples.testdata import demo_sbml\n",
    "# demo_sbml = \"https://raw.githubusercontent.com/matthiaskoenig/multiscale-galactose/develop/python/multiscalepy/multiscale/examples/models/demo/Koenig_demo_10.xml\"\n",
    "\n",
    "def _set_values(r, value_dict):\n",
    "    \"\"\"\n",
    "    Set values in model from {selection: value}.\n",
    "    :return: {selection: original} returns dictionary of original values.\n",
    "    \"\"\"\n",
    "    changed = dict()\n",
    "    for key, value in value_dict.items():\n",
    "        changed[key] = r[key]\n",
    "        r[key] = value\n",
    "    return changed\n",
    "\n",
    "r = roadrunner.RoadRunner(demo_sbml)\n",
    "\n",
    "# set initial concentrations (working)\n",
    "d1 = {'init([e__A])': 1.0, 'init([e__B])': 14.3, 'init([c__C])': -3.0}\n",
    "_set_values(r, d1)\n",
    "for key in d1:\n",
    "    print(d1[key], r[key])\n",
    "\n",
    "print('*'*80)\n",
    "\n",
    "# set initial amounts(not working ?)\n",
    "d2 = {'init(e__A)': 1, 'init(e__B)': 15, 'init(c__C)': -20}\n",
    "_set_values(r, d2)\n",
    "for key in d2:\n",
    "    print(d2[key], r[key])\n",
    "    \n",
    "print('*'*80)\n",
    "    \n",
    "# access no problem and values set:\n",
    "print(r['e__A'])\n",
    "print(r['e__B'])\n",
    "print(r['c__C'])\n"
   ]
  },
  {
   "cell_type": "code",
   "execution_count": null,
   "metadata": {
    "collapsed": true
   },
   "outputs": [],
   "source": []
  }
 ],
 "metadata": {
  "kernelspec": {
   "display_name": "Python 2",
   "language": "python",
   "name": "python2"
  },
  "language_info": {
   "codemirror_mode": {
    "name": "ipython",
    "version": 2
   },
   "file_extension": ".py",
   "mimetype": "text/x-python",
   "name": "python",
   "nbconvert_exporter": "python",
   "pygments_lexer": "ipython2",
   "version": "2.7.6"
  }
 },
 "nbformat": 4,
 "nbformat_minor": 0
}
