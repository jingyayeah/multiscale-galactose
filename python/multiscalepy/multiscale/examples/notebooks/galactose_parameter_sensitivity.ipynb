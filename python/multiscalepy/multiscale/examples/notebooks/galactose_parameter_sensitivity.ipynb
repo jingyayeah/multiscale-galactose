{
 "cells": [
  {
   "cell_type": "markdown",
   "metadata": {},
   "source": [
    "# Parameter sensitivity\n",
    "\n",
    "Analysis of the effect of parameter changes on the output of standard simulations. The single cell clearance model of galactose metabolism is tested."
   ]
  },
  {
   "cell_type": "code",
   "execution_count": 1,
   "metadata": {
    "collapsed": false
   },
   "outputs": [],
   "source": [
    "from __future__ import print_function, division\n",
    "%matplotlib inline"
   ]
  },
  {
   "cell_type": "code",
   "execution_count": 4,
   "metadata": {
    "collapsed": true
   },
   "outputs": [],
   "source": [
    "# simulation & model database\n",
    "import django\n",
    "django.setup()\n",
    "# import the database API functions and tools\n",
    "import simapp.db.api as db_api\n",
    "import multiscale.odesim.db.tools as db_tools"
   ]
  },
  {
   "cell_type": "code",
   "execution_count": 3,
   "metadata": {
    "collapsed": false
   },
   "outputs": [
    {
     "ename": "ImportError",
     "evalue": "No module named util.util_classes",
     "output_type": "error",
     "traceback": [
      "\u001b[1;31m---------------------------------------------------------------------------\u001b[0m",
      "\u001b[1;31mImportError\u001b[0m                               Traceback (most recent call last)",
      "\u001b[1;32m<ipython-input-3-5c64f578316e>\u001b[0m in \u001b[0;36m<module>\u001b[1;34m()\u001b[0m\n\u001b[0;32m      3\u001b[0m \u001b[0mreload\u001b[0m\u001b[1;33m(\u001b[0m\u001b[0mtestdata\u001b[0m\u001b[1;33m)\u001b[0m\u001b[1;33m\u001b[0m\u001b[0m\n\u001b[0;32m      4\u001b[0m \u001b[1;33m\u001b[0m\u001b[0m\n\u001b[1;32m----> 5\u001b[1;33m \u001b[0mcomp_model\u001b[0m \u001b[1;33m=\u001b[0m \u001b[0mdb_api\u001b[0m\u001b[1;33m.\u001b[0m\u001b[0mcreate_model\u001b[0m\u001b[1;33m(\u001b[0m\u001b[0mfilepath\u001b[0m\u001b[1;33m=\u001b[0m\u001b[0mtestdata\u001b[0m\u001b[1;33m.\u001b[0m\u001b[0mgalactose_singlecell_sbml\u001b[0m\u001b[1;33m)\u001b[0m\u001b[1;33m\u001b[0m\u001b[0m\n\u001b[0m\u001b[0;32m      6\u001b[0m \u001b[1;32mif\u001b[0m \u001b[1;32mnot\u001b[0m \u001b[0mcomp_model\u001b[0m\u001b[1;33m:\u001b[0m\u001b[1;33m\u001b[0m\u001b[0m\n\u001b[0;32m      7\u001b[0m     \u001b[1;31m# TODO: fix how to get models !\u001b[0m\u001b[1;33m\u001b[0m\u001b[1;33m\u001b[0m\u001b[0m\n",
      "\u001b[1;32m/home/mkoenig/git/multiscale-galactose/python/multiscalepy/multiscale/multiscalesite/simapp/db/api.pyc\u001b[0m in \u001b[0;36mcreate_model\u001b[1;34m(filepath, model_format)\u001b[0m\n\u001b[0;32m     39\u001b[0m     \u001b[1;33m:\u001b[0m\u001b[1;32mreturn\u001b[0m\u001b[1;33m:\u001b[0m \u001b[0mmodels\u001b[0m\u001b[1;33m.\u001b[0m\u001b[0mCompModel\u001b[0m\u001b[1;33m\u001b[0m\u001b[0m\n\u001b[0;32m     40\u001b[0m     \"\"\"\n\u001b[1;32m---> 41\u001b[1;33m     \u001b[1;32mreturn\u001b[0m \u001b[0mCompModel\u001b[0m\u001b[1;33m.\u001b[0m\u001b[0mcreate\u001b[0m\u001b[1;33m(\u001b[0m\u001b[0mfile_path\u001b[0m\u001b[1;33m=\u001b[0m\u001b[0mfilepath\u001b[0m\u001b[1;33m,\u001b[0m \u001b[0mmodel_format\u001b[0m\u001b[1;33m=\u001b[0m\u001b[0mmodel_format\u001b[0m\u001b[1;33m)\u001b[0m\u001b[1;33m\u001b[0m\u001b[0m\n\u001b[0m\u001b[0;32m     42\u001b[0m \u001b[1;33m\u001b[0m\u001b[0m\n\u001b[0;32m     43\u001b[0m \u001b[1;33m\u001b[0m\u001b[0m\n",
      "\u001b[1;32m/home/mkoenig/git/multiscale-galactose/python/multiscalepy/multiscale/multiscalesite/simapp/models.pyc\u001b[0m in \u001b[0;36mcreate\u001b[1;34m(cls, file_path, model_format)\u001b[0m\n\u001b[0;32m    129\u001b[0m \u001b[1;33m\u001b[0m\u001b[0m\n\u001b[0;32m    130\u001b[0m         \u001b[1;31m# check via hash\u001b[0m\u001b[1;33m\u001b[0m\u001b[1;33m\u001b[0m\u001b[0m\n\u001b[1;32m--> 131\u001b[1;33m         \u001b[1;32mfrom\u001b[0m \u001b[0mutil\u001b[0m\u001b[1;33m.\u001b[0m\u001b[0mutil_classes\u001b[0m \u001b[1;32mimport\u001b[0m \u001b[0mhash_for_file\u001b[0m\u001b[1;33m\u001b[0m\u001b[0m\n\u001b[0m\u001b[0;32m    132\u001b[0m         \u001b[0mmd5\u001b[0m \u001b[1;33m=\u001b[0m \u001b[0mhash_for_file\u001b[0m\u001b[1;33m(\u001b[0m\u001b[0mfile_path\u001b[0m\u001b[1;33m,\u001b[0m \u001b[0mhash_type\u001b[0m\u001b[1;33m=\u001b[0m\u001b[1;34m'MD5'\u001b[0m\u001b[1;33m)\u001b[0m\u001b[1;33m\u001b[0m\u001b[0m\n\u001b[0;32m    133\u001b[0m         \u001b[1;32mtry\u001b[0m\u001b[1;33m:\u001b[0m\u001b[1;33m\u001b[0m\u001b[0m\n",
      "\u001b[1;31mImportError\u001b[0m: No module named util.util_classes"
     ]
    }
   ],
   "source": [
    "# create model in database\n",
    "import multiscale.examples.testdata as testdata\n",
    "reload(testdata)\n",
    "\n",
    "comp_model = db_api.create_model(filepath=testdata.galactose_singlecell_sbml)\n",
    "if not comp_model:\n",
    "    # TODO: fix how to get models !\n",
    "    from simapp.models import CompModel\n",
    "    comp_models = CompModel.objects.filter(model_id='galactose_29_annotated')\n",
    "    comp_model = comp_models[0]\n",
    "print(comp_model)"
   ]
  },
  {
   "cell_type": "markdown",
   "metadata": {},
   "source": [
    "## Reference simulation\n",
    "Reference simulation against which the parameter changes are tested."
   ]
  },
  {
   "cell_type": "code",
   "execution_count": null,
   "metadata": {
    "collapsed": false
   },
   "outputs": [],
   "source": [
    "import roadrunner\n",
    "from roadrunner import SelectionRecord\n",
    "print(roadrunner.getVersionStr())"
   ]
  },
  {
   "cell_type": "code",
   "execution_count": null,
   "metadata": {
    "collapsed": false
   },
   "outputs": [],
   "source": [
    "# standard simulation \n",
    "import multiscale.odesim.simulate.roadrunner_tools as rt\n",
    "from multiscale.util.timing import time_it\n",
    "\n",
    "reload(rt)\n",
    "\n",
    "\n",
    "# load model\n",
    "r = rt.load_model(comp_model.filepath)\n",
    "# selections\n",
    "r.selections = ['time'] + ['[{}]'.format(s) for s in r.model.getFloatingSpeciesIds()]\n",
    "print(r.selections)\n",
    "# settings\n",
    "rt.set_integrator_settings(r)\n",
    "# simulate\n",
    "s, _ = rt.simulate(r, 0, 1000)\n",
    "r.plot()\n",
    "rt.plot_results([s])\n",
    "\n",
    "# store final concentrations\n",
    "c1 = rt.store_concentrations(r)"
   ]
  },
  {
   "cell_type": "code",
   "execution_count": null,
   "metadata": {
    "collapsed": false
   },
   "outputs": [],
   "source": [
    "# Galactose challenge after certain amount of time.\n",
    "# What are the effects of parameter changes in the model (analysis of variability)\n",
    "# Test galactose challenge\n",
    "\n",
    "import numpy as np\n",
    "from roadrunner import SelectionRecord\n",
    "reload(rt)\n",
    "\n",
    "# Changed fixed boundary conditions\n",
    "r.reset(SelectionRecord.ALL)  # reset model\n",
    "\n",
    "# storage for partial results\n",
    "results = []\n",
    "tends = [20, 100, 200]\n",
    "Nsim = 10\n",
    "\n",
    "for k in xrange(Nsim):\n",
    "    # simulate & store concentrations at end point\n",
    "    s1 = r.simulate(0, tends[0])\n",
    "    c1 = rt.store_concentrations(r)\n",
    "\n",
    "    # change boundary concentrations\n",
    "    e__gal = r.e__gal  # store old value\n",
    "    r.e__gal = k+1       # set new value\n",
    "    s2 = r.simulate(tends[0], tends[1])\n",
    "    \n",
    "    # reset values\n",
    "    r.e__gal = e__gal  # restore value\n",
    "    s3 = r.simulate(tends[1], tends[2])\n",
    "    \n",
    "    s = np.concatenate([s1, s2, s3], axis=0)\n",
    "    results.append(s)\n",
    "\n",
    "# plot the results\n",
    "rt.plot_results(results, '-', alpha=0.7)\n",
    "\n",
    "# plot histograms: TODO: how different are the start from the end points"
   ]
  },
  {
   "cell_type": "markdown",
   "metadata": {
    "collapsed": false
   },
   "source": [
    "## Test zero concentrations\n",
    "Check if all external concentrations can be set to zero in the model."
   ]
  },
  {
   "cell_type": "code",
   "execution_count": null,
   "metadata": {
    "collapsed": false
   },
   "outputs": [],
   "source": [
    "import libsbml\n",
    "import matplotlib.pylab as plt\n",
    "doc = libsbml.readSBML(comp_model.filepath)\n",
    "model = doc.getModel()\n",
    "\n",
    "# get all external species ids\n",
    "e_species = []\n",
    "for s in model.species:\n",
    "    if (s.compartment == 'e'):\n",
    "        e_species.append(s)\n",
    "\n",
    "# set them to zero and simulate\n",
    "reload(rt)\n",
    "r = rt.load_model(comp_model.filepath)\n",
    "rt.set_integrator_settings(r)\n",
    "\n",
    "for e_id in e_species:\n",
    "    print(e_id)\n",
    "    s, __ = rt.simulate(r, 0, 1000, init_concentrations={e_id.id: 0.0})\n",
    "    rt.plot_results([s])\n",
    "    \n",
    "r.getIntegrator().getSetting('variable_step_size')\n",
    "print(type(r))\n",
    "isinstance(r, roadrunner.roadrunner.RoadRunner)"
   ]
  },
  {
   "cell_type": "markdown",
   "metadata": {},
   "source": [
    "## Test parameter change\n",
    "Change all parameters in the model via 10% and see the effect on the model simulations"
   ]
  },
  {
   "cell_type": "code",
   "execution_count": null,
   "metadata": {
    "collapsed": false
   },
   "outputs": [],
   "source": [
    "# implement the parameter changes\n",
    "reload(rt)\n",
    "\n",
    "# TODO: refactor in standard method (standard application of s)\n",
    "# single parameter variation, double parameter variation, initial concentration variation, initial amount variation.\n",
    "\n",
    "\n",
    "# All global parameters which are constant have to be varied.\n",
    "parameter_ids = r.model.getGlobalParameterIds()\n",
    "import libsbml\n",
    "doc = libsbml.readSBMLFromFile(comp_model.filepath)\n",
    "model = doc.getModel()\n",
    "const_parameter_ids = []\n",
    "for pid in parameter_ids:\n",
    "    par = model.getParameter(pid)\n",
    "    if par.getConstant() == True:\n",
    "        const_parameter_ids.append(pid)\n",
    "\n",
    "# number of constant parameters (not calculated via assignment)\n",
    "print('Number of parameters:', len(const_parameter_ids))\n",
    "\n",
    "# and this is the amount\n",
    "factors = [0.9, 1.1]\n",
    "\n",
    "# repeated simulation\n",
    "results = []\n",
    "tends = [20, 50, 70]\n",
    "gal_ext = [0, 2, 4, 8]\n",
    "\n",
    "for k_pid, pid in enumerate(sorted(const_parameter_ids)):\n",
    "    print(k_pid, ':', pid)\n",
    "    for f in factors:\n",
    "        for gal in gal_ext:\n",
    "            # full reset\n",
    "            r.reset(SelectionRecord.ALL)\n",
    "            \n",
    "            # change parameter\n",
    "            c_backup = rt.store_concentrations(r)\n",
    "            p_old = r[pid]\n",
    "            r[pid] = f * p_old\n",
    "            r.reset(SelectionRecord.INITIAL_GLOBAL_PARAMETER)\n",
    "            rt.restore_concentrations(r, c_backup)  # restore concentrations\n",
    "            \n",
    "            # simulate\n",
    "           \n",
    "            s1 = r.simulate(0, tends[0])\n",
    "            c1 = rt.store_concentrations(r)\n",
    "\n",
    "            # change boundary concentrations\n",
    "            e__gal = r.e__gal    # store old value\n",
    "            r.e__gal = gal       # set new value\n",
    "            s2 = r.simulate(tends[0], tends[1])\n",
    "\n",
    "            # reset values\n",
    "            r.e__gal = e__gal  # restore value\n",
    "            s3 = r.simulate(tends[1], tends[2])\n",
    "\n",
    "            s = np.concatenate([s1, s2, s3], axis=0)\n",
    "            results.append(s)\n",
    "\n",
    "# plot the results\n",
    "rt.plot_results(results, '-', color='black', alpha=0.7)"
   ]
  },
  {
   "cell_type": "code",
   "execution_count": null,
   "metadata": {
    "collapsed": false
   },
   "outputs": [],
   "source": []
  },
  {
   "cell_type": "markdown",
   "metadata": {},
   "source": [
    "## Double parameter variability"
   ]
  },
  {
   "cell_type": "code",
   "execution_count": null,
   "metadata": {
    "collapsed": false
   },
   "outputs": [],
   "source": [
    "# get units from the sbml\n",
    "import libsbml\n",
    "doc = libsbml.readSBML(comp_model.filepath)\n",
    "sbml_model = doc.getModel()\n",
    "units = {}\n",
    "for pid in const_parameter_ids: \n",
    "    p = sbml_model.getParameter(pid)\n",
    "    unit = p.getUnits()\n",
    "    units[pid] = unit\n",
    "units"
   ]
  },
  {
   "cell_type": "code",
   "execution_count": null,
   "metadata": {
    "collapsed": false
   },
   "outputs": [],
   "source": [
    "# get the original values for all parameters\n",
    "values = {pid: r[pid] for pid in parameter_ids}"
   ]
  },
  {
   "cell_type": "code",
   "execution_count": null,
   "metadata": {
    "collapsed": false
   },
   "outputs": [],
   "source": [
    "# now we can setup the single variations\n",
    "from multiscale.odesim.dist.samples import Sample, SampleParameter\n",
    "factors = [0.90, 1.10]\n",
    "samples = []\n",
    "for pid in parameter_ids:\n",
    "    for f in factors:\n",
    "        # create an empty sample\n",
    "        s = Sample()\n",
    "        # Set the parameters to the values\n",
    "        sp = SampleParameter(pid, f * r[pid], unit=units[pid], \\\n",
    "                             parameter_type=db_api.ParameterType.GLOBAL_PARAMETER)\n",
    "        s.add_parameter(sp)\n",
    "        samples.append(s)\n",
    "\n",
    "samples"
   ]
  },
  {
   "cell_type": "code",
   "execution_count": null,
   "metadata": {
    "collapsed": false
   },
   "outputs": [],
   "source": [
    "# We want step based integration in the interval [0.0, 20.0]\n",
    "settings_dict = {db_api.SettingKey.VAR_STEPS: False,\\\n",
    "                 db_api.SettingKey.T_START: 0.0,\\\n",
    "                 db_api.SettingKey.T_END: 20.0, \\\n",
    "                 db_api.SettingKey.STEPS: 100}\n",
    "\n",
    "# For the tolerances, ... we use the default settings\n",
    "settings = db_api.create_settings(settings_dict)\n",
    "for setting in settings:\n",
    "    print(setting)"
   ]
  },
  {
   "cell_type": "code",
   "execution_count": null,
   "metadata": {
    "collapsed": true
   },
   "outputs": [],
   "source": [
    "method = db_api.create_method(method_type=db_api.MethodType.ODE, settings=settings)"
   ]
  },
  {
   "cell_type": "code",
   "execution_count": null,
   "metadata": {
    "collapsed": true
   },
   "outputs": [],
   "source": [
    "task = db_api.create_task(comp_model, method=method, info=\"Single parameter variation {}.\".format(factors))"
   ]
  },
  {
   "cell_type": "code",
   "execution_count": null,
   "metadata": {
    "collapsed": false
   },
   "outputs": [],
   "source": [
    "from django.core.exceptions import ValidationError\n",
    "try:\n",
    "    # add the simulations to the task\n",
    "    simulations = db_tools.create_simulations_from_samples(task, samples)\n",
    "    # finalize task, so no additional simulations can be added\n",
    "    task.finalize_status()\n",
    "except ValidationError:\n",
    "    simulations = task.simulations.all()\n",
    "simulations\n",
    "print('TaskStatus:', task.status_str)"
   ]
  },
  {
   "cell_type": "code",
   "execution_count": null,
   "metadata": {
    "collapsed": false
   },
   "outputs": [],
   "source": [
    "len(simulations)"
   ]
  },
  {
   "cell_type": "markdown",
   "metadata": {},
   "source": [
    "### Solve the ODE system\n",
    "\n",
    "Now we are running the solver on the defined problems."
   ]
  },
  {
   "cell_type": "code",
   "execution_count": null,
   "metadata": {
    "collapsed": true
   },
   "outputs": [],
   "source": [
    "from multiscale.odesim.simulate import solve"
   ]
  },
  {
   "cell_type": "code",
   "execution_count": null,
   "metadata": {
    "collapsed": false
   },
   "outputs": [],
   "source": [
    "solve.run_simulations(simulations, task)"
   ]
  },
  {
   "cell_type": "code",
   "execution_count": null,
   "metadata": {
    "collapsed": true
   },
   "outputs": [],
   "source": [
    "# plot the results\n",
    "from simapp.models import Result\n",
    "import matplotlib.pylab as plt\n",
    "plt_fontsize = 30"
   ]
  },
  {
   "cell_type": "code",
   "execution_count": null,
   "metadata": {
    "collapsed": false
   },
   "outputs": [],
   "source": [
    "# Load the HDF5 files and plot them\n",
    "from multiscale.odesim.simulate import solve_io\n",
    "reload(solve_io)\n",
    "plt.figure(figsize=(20,14))\n",
    "for sim in simulations:\n",
    "    result = Result.objects.get(simulation=sim, result_type=db_api.ResultType.HDF5)\n",
    "    data, header = solve_io.load_hdf5(result.filepath)\n",
    "    plt.plot(data[:,0], data[:,1:], '-', color='black')\n",
    "    \n",
    "plt.xlabel('time [s]', fontsize=plt_fontsize)\n",
    "plt.ylabel('species [mM]', fontsize=plt_fontsize);"
   ]
  },
  {
   "cell_type": "markdown",
   "metadata": {},
   "source": [
    "## Double parameter variation\n",
    "\n",
    "For comparison all double parameter changes in the model are performed.  \n",
    "How much larger are the combined effects of parameter changes?"
   ]
  },
  {
   "cell_type": "code",
   "execution_count": null,
   "metadata": {
    "collapsed": false
   },
   "outputs": [],
   "source": [
    "# now we can setup the double variations\n",
    "from multiscale.odesim.dist.samples import Sample, SampleParameter\n",
    "samples_double = []\n",
    "for pid1 in parameter_ids:\n",
    "    for pid2 in parameter_ids:\n",
    "        if pid1 == pid2:\n",
    "            continue\n",
    "        for f1 in factors:\n",
    "            for f2 in factors:\n",
    "        \n",
    "                # create an empty sample\n",
    "                s = Sample()\n",
    "                # Set first parameter\n",
    "                sp1 = SampleParameter(pid1, f1 * rr[pid1], unit=units[pid1], \\\n",
    "                             parameter_type=db_api.ParameterType.GLOBAL_PARAMETER)\n",
    "                # Set second parameter\n",
    "                sp2 = SampleParameter(pid2, f2 * rr[pid2], unit=units[pid2], \\\n",
    "                             parameter_type=db_api.ParameterType.GLOBAL_PARAMETER)\n",
    "                s.add_parameters([sp1, sp2])\n",
    "                samples_double.append(s)\n",
    "print('Number of parameters:', len(parameter_ids))                \n",
    "print('Number of samples:', len(samples_double))"
   ]
  },
  {
   "cell_type": "code",
   "execution_count": null,
   "metadata": {
    "collapsed": true
   },
   "outputs": [],
   "source": [
    "task_double = db_api.create_task(comp_model, method=method, info=\"Double parameter variation {}.\".format(factors))"
   ]
  },
  {
   "cell_type": "code",
   "execution_count": null,
   "metadata": {
    "collapsed": true
   },
   "outputs": [],
   "source": [
    "# Removing objects from the database\n",
    "# from simapp.models import Task\n",
    "# task_temp = Task.objects.get(pk=64)\n",
    "# task_temp.delete()\n",
    "# task_double.info = \"Double parameter variation {}.\".format(factors)\n",
    "# task_double.save()"
   ]
  },
  {
   "cell_type": "code",
   "execution_count": null,
   "metadata": {
    "collapsed": false
   },
   "outputs": [],
   "source": [
    "print('TaskStatus:', task.status_str)\n",
    "from django.core.exceptions import ValidationError\n",
    "try:\n",
    "    # add the simulations to the task\n",
    "    simulations_double = db_tools.create_simulations_from_samples(task_double, samples_double)\n",
    "    # finalize task, so no additional simulations can be added\n",
    "    task_double.finalize_status()\n",
    "except ValidationError:\n",
    "    simulations_double = task_double.simulations.all()\n",
    "simulations\n",
    "print('TaskStatus:', task.status_str)"
   ]
  },
  {
   "cell_type": "code",
   "execution_count": null,
   "metadata": {
    "collapsed": false
   },
   "outputs": [],
   "source": [
    "import time\n",
    "start = time.time()\n",
    "solve.run_simulations(simulations_double, task_double)\n",
    "duration = time.time() - start\n",
    "print('Total time:', duration)"
   ]
  },
  {
   "cell_type": "code",
   "execution_count": null,
   "metadata": {
    "collapsed": false
   },
   "outputs": [],
   "source": [
    "# Load the HDF5 files and plot them\n",
    "from multiscale.odesim.simulate import solve_io\n",
    "reload(solve_io)\n",
    "plt.figure(figsize=(20,14))\n",
    "for sim in simulations_double:\n",
    "    result = Result.objects.get(simulation=sim, result_type=db_api.ResultType.HDF5)\n",
    "    data, header = solve_io.load_hdf5(result.filepath)\n",
    "    plt.plot(data[:,0], data[:,1:], '-', color='grey')\n",
    "    \n",
    "for sim in simulations:\n",
    "    result = Result.objects.get(simulation=sim, result_type=db_api.ResultType.HDF5)\n",
    "    data, header = solve_io.load_hdf5(result.filepath)\n",
    "    plt.plot(data[:,0], data[:,1:], '-', color='black')\n",
    "    \n",
    "plt.xlabel('time [s]', fontsize=plt_fontsize)\n",
    "plt.ylabel('species [mM]', fontsize=plt_fontsize)"
   ]
  },
  {
   "cell_type": "code",
   "execution_count": null,
   "metadata": {
    "collapsed": true
   },
   "outputs": [],
   "source": []
  }
 ],
 "metadata": {
  "kernelspec": {
   "display_name": "Python 2",
   "language": "python",
   "name": "python2"
  },
  "language_info": {
   "codemirror_mode": {
    "name": "ipython",
    "version": 2
   },
   "file_extension": ".py",
   "mimetype": "text/x-python",
   "name": "python",
   "nbconvert_exporter": "python",
   "pygments_lexer": "ipython2",
   "version": "2.7.6"
  }
 },
 "nbformat": 4,
 "nbformat_minor": 0
}
