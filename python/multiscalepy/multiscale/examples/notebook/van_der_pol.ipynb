{
 "cells": [
  {
   "cell_type": "markdown",
   "metadata": {},
   "source": [
    "# Van der Pol oscillator\n",
    "*Matthias König*\n",
    "\n",
    "The Van der Pol oscillator is a non-conservative oscillator with non-linear damping. It is one of the standard models analysed in dynamics. In this tutorial the Van der Pol oscillator is analysed using SBML.\n",
    "\n",
    "http://en.wikipedia.org/wiki/Van_der_Pol_oscillator  \n",
    "http://www.opencor.ws/user/howToGetStarted.html\n",
    "\n",
    "## History\n",
    "The Van der Pol oscillator was originally proposed by the Dutch electrical engineer and physicist Balthasar van der Pol while he was working at Philips. Van der Pol found stable oscillations, which he called relaxation-oscillations[2] and are now known as limit cycles, in electrical circuits employing vacuum tubes. When these circuits were driven near the limit cycle they become entrained, i.e. the driving signal pulls the current along with it. Van der Pol and his colleague, van der Mark, reported in the September 1927 issue of Nature that at certain drive frequencies an irregular noise was heard. This irregular noise was always heard near the natural entrainment frequencies. This was one of the first discovered instances of deterministic chaos.\n",
    "\n",
    "The Van der Pol equation has a long history of being used in both the physical and biological sciences. For instance, in biology, Fitzhugh and Nagumo extended the equation in a planar field as a model for action potentials of neurons. \n",
    "\n",
    "## Equations\n",
    "The Van der Pol oscillator evolves in time according to the second-order differential equation\n",
    "\n",
    "$$\\frac{d^2x}{dt^2} - µ(1-x^2)\\frac{dx}{dt} + x = 0$$\n",
    "\n",
    "with initial conditions $x=−2$ and $\\frac{dx}{dt}=0$. $x$ is the position coordinate—which is a function of the time $t$, and $μ$ is a scalar parameter indicating the nonlinearity and the strength of the damping.\n",
    "\n",
    "To create a SBML file, we need to convert the second-order equation to two first-order equations by defining the velocity $\\frac{dx}{dt}$ as a new variable $y$:\n",
    "\n",
    "$$\\frac{dx}{dt}=y$$\n",
    "$$\\frac{dy}{dt}=\\mu(1-x^2)y-x$$\n",
    "\n",
    "The initial conditions are now $x=−2$ and $y=0$.\n",
    "\n",
    "## Requirements\n",
    "* `antimony`\n",
    "* `roadrunner`\n",
    "* `matplotlib`"
   ]
  },
  {
   "cell_type": "markdown",
   "metadata": {},
   "source": [
    "## Notebook settings\n",
    "In a first step general settings for the notebook are defined."
   ]
  },
  {
   "cell_type": "code",
   "execution_count": 1,
   "metadata": {
    "collapsed": true
   },
   "outputs": [],
   "source": [
    "# print settings for notebook \n",
    "%matplotlib inline\n",
    "\n",
    "import matplotlib as mpl\n",
    "import matplotlib.pylab as plt\n",
    "mpl.rcParams;\n",
    "\n",
    "mpl.rcParams['figure.figsize'] = (9.0, 6.0)\n",
    "mpl.rcParams['axes.labelsize'] = 'medium'\n",
    "font = {'family' : 'sans-serif',\n",
    "        'weight' : 'normal', # bold\n",
    "        'size'   : 14}\n",
    "mpl.rc('font', **font)"
   ]
  },
  {
   "cell_type": "markdown",
   "metadata": {},
   "source": [
    "## SBML Model\n",
    "Now the model description of the Van der Pol oscillator in a standard format for computational models, the Systems Biology Markup Language ([SBML](www.sbml.org)) is created [Hucka2003]. This allows to analyse the model in a multitude of tools supporting SBML, to name a few\n",
    "\n",
    "* `COPASI`\n",
    "* `cy3sbml`\n",
    "\n",
    "The SBML for the above system of ordinary differential equations (ODEs) is created with [Antimony](http://antimony.sourceforge.net/): A modular human-readable, human-writeable model definition language [Smith?].\n",
    "\n",
    "We set the initial conditions $x=−2$ and $y=0$ and the damping parameter $mu=0$, i.e. no dampening."
   ]
  },
  {
   "cell_type": "code",
   "execution_count": 2,
   "metadata": {
    "collapsed": false
   },
   "outputs": [
    {
     "data": {
      "text/plain": [
       "1"
      ]
     },
     "execution_count": 2,
     "metadata": {},
     "output_type": "execute_result"
    }
   ],
   "source": [
    "# create SBML\n",
    "import antimony\n",
    "\n",
    "model_id = 'van_der_pol'\n",
    "# ----------------------------\n",
    "model_str = '''\n",
    "model {}\n",
    "  \n",
    "var species x = 2; \n",
    "var species y = 0;\n",
    "const mu = 0;\n",
    "\n",
    "J1: -> x; y\n",
    "J2: -> y; mu *(1-x^2)*y - x\n",
    "\n",
    "end\n",
    "'''.format(model_id)\n",
    "# ----------------------------\n",
    "\n",
    "antimony.setBareNumbersAreDimensionless(True)\n",
    "antimony.loadAntimonyString(model_str)\n",
    "antimony.writeSBMLFile('{}.xml'.format(model_id), model_id)"
   ]
  },
  {
   "cell_type": "code",
   "execution_count": 3,
   "metadata": {
    "collapsed": false
   },
   "outputs": [
    {
     "name": "stdout",
     "output_type": "stream",
     "text": [
      "<?xml version=\"1.0\" encoding=\"UTF-8\"?>\n",
      "<!-- Created by libAntimony version v2.8.1 on 2015-12-05 15:58 with libSBML version 5.11.9. -->\n",
      "<sbml xmlns=\"http://www.sbml.org/sbml/level3/version1/core\" level=\"3\" version=\"1\">\n",
      "  <model id=\"van_der_pol\" name=\"van_der_pol\">\n",
      "    <listOfUnitDefinitions>\n",
      "      <unitDefinition id=\"dimensionless_litre\">\n",
      "        <listOfUnits>\n",
      "          <unit kind=\"dimensionless\" exponent=\"1\" scale=\"0\" multiplier=\"1\"/>\n",
      "          <unit kind=\"litre\" exponent=\"1\" scale=\"0\" multiplier=\"1\"/>\n",
      "        </listOfUnits>\n",
      "      </unitDefinition>\n",
      "    </listOfUnitDefinitions>\n",
      "    <listOfCompartments>\n",
      "      <compartment sboTerm=\"SBO:0000410\" id=\"default_compartment\" spatialDimensions=\"3\" size=\"1\" constant=\"true\"/>\n",
      "    </listOfCompartments>\n",
      "    <listOfSpecies>\n",
      "      <species id=\"x\" compartment=\"default_compartment\" initialConcentration=\"2\" substanceUnits=\"dimensionless_litre\" hasOnlySubstanceUnits=\"false\" boundaryCondition=\"false\" constant=\"false\"/>\n",
      "      <species id=\"y\" compartment=\"default_compartment\" initialConcentration=\"0\" substanceUnits=\"dimensionless_litre\" hasOnlySubstanceUnits=\"false\" boundaryCondition=\"false\" constant=\"false\"/>\n",
      "    </listOfSpecies>\n",
      "    <listOfParameters>\n",
      "      <parameter id=\"mu\" value=\"0\" units=\"dimensionless\" constant=\"true\"/>\n",
      "    </listOfParameters>\n",
      "    <listOfReactions>\n",
      "      <reaction id=\"J1\" reversible=\"true\" fast=\"false\">\n",
      "        <listOfProducts>\n",
      "          <speciesReference species=\"x\" stoichiometry=\"1\" constant=\"true\"/>\n",
      "        </listOfProducts>\n",
      "        <listOfModifiers>\n",
      "          <modifierSpeciesReference species=\"y\"/>\n",
      "        </listOfModifiers>\n",
      "        <kineticLaw>\n",
      "          <math xmlns=\"http://www.w3.org/1998/Math/MathML\">\n",
      "            <ci> y </ci>\n",
      "          </math>\n",
      "        </kineticLaw>\n",
      "      </reaction>\n",
      "      <reaction id=\"J2\" reversible=\"true\" fast=\"false\">\n",
      "        <listOfProducts>\n",
      "          <speciesReference species=\"y\" stoichiometry=\"1\" constant=\"true\"/>\n",
      "        </listOfProducts>\n",
      "        <listOfModifiers>\n",
      "          <modifierSpeciesReference species=\"x\"/>\n",
      "        </listOfModifiers>\n",
      "        <kineticLaw>\n",
      "          <math xmlns=\"http://www.w3.org/1998/Math/MathML\" xmlns:sbml=\"http://www.sbml.org/sbml/level3/version1/core\">\n",
      "            <apply>\n",
      "              <minus/>\n",
      "              <apply>\n",
      "                <times/>\n",
      "                <ci> mu </ci>\n",
      "                <apply>\n",
      "                  <minus/>\n",
      "                  <cn sbml:units=\"dimensionless\" type=\"integer\"> 1 </cn>\n",
      "                  <apply>\n",
      "                    <power/>\n",
      "                    <ci> x </ci>\n",
      "                    <cn sbml:units=\"dimensionless\" type=\"integer\"> 2 </cn>\n",
      "                  </apply>\n",
      "                </apply>\n",
      "                <ci> y </ci>\n",
      "              </apply>\n",
      "              <ci> x </ci>\n",
      "            </apply>\n",
      "          </math>\n",
      "        </kineticLaw>\n",
      "      </reaction>\n",
      "    </listOfReactions>\n",
      "  </model>\n",
      "</sbml>\n",
      "\n"
     ]
    }
   ],
   "source": [
    "# show the SBML\n",
    "print(antimony.getSBMLString(model_id))"
   ]
  },
  {
   "cell_type": "markdown",
   "metadata": {},
   "source": [
    "### Validation\n",
    "TODO"
   ]
  },
  {
   "cell_type": "markdown",
   "metadata": {},
   "source": [
    "## Simulation\n",
    "\n",
    "After the model definition the model can be be simulated.\n",
    "We can now use the defined model for some simulations. We use `roadrunner` for the simulations."
   ]
  },
  {
   "cell_type": "code",
   "execution_count": 4,
   "metadata": {
    "collapsed": false
   },
   "outputs": [
    {
     "data": {
      "text/plain": [
       "['time', '[x]', '[y]']"
      ]
     },
     "execution_count": 4,
     "metadata": {},
     "output_type": "execute_result"
    }
   ],
   "source": [
    "import roadrunner\n",
    "rr = roadrunner.RoadRunner('van_der_pol.xml')\n",
    "rr.selections"
   ]
  },
  {
   "cell_type": "code",
   "execution_count": 5,
   "metadata": {
    "collapsed": false
   },
   "outputs": [
    {
     "name": "stdout",
     "output_type": "stream",
     "text": [
      "mu = 0.0\n"
     ]
    },
    {
     "data": {
      "image/png": "[encoded data removed]",
      "text/plain": [
       "<matplotlib.figure.Figure at 0x7fbcf84c0d10>"
      ]
     },
     "metadata": {},
     "output_type": "display_data"
    }
   ],
   "source": [
    "# Simulation \n",
    "print('mu = {}'.format(rr['mu']))\n",
    "# TODO FIX settings of simulator\n",
    "duration = 50\n",
    "\n",
    "s = rr.simulate(0, duration, variableStep=True, plot=False)\n",
    "# create plot\n",
    "plt.subplot(121)\n",
    "plt.plot(s['time'], s['[x]'], color='blue', label='x')\n",
    "plt.plot(s['time'], s['[y]'], color='black', label='y')\n",
    "plt.legend()\n",
    "plt.xlabel('time')\n",
    "plt.ylabel('x , y');\n",
    "plt.xlim([0,duration])\n",
    "plt.ylim([-3,3])\n",
    "\n",
    "plt.subplot(122)\n",
    "plt.plot(s['[x]'], s['[y]'], color=\"black\")\n",
    "plt.xlabel('x')\n",
    "plt.ylabel('y');\n",
    "plt.xlim([-3,3])\n",
    "plt.ylim([-3,3]);"
   ]
  },
  {
   "cell_type": "code",
   "execution_count": null,
   "metadata": {
    "collapsed": false
   },
   "outputs": [],
   "source": [
    "\n",
    "import roadrunner\n",
    "reload(roadrunner)\n",
    "rr = roadrunner.RoadRunner('van_der_pol.xml')\n",
    "result = rr.simulate(start=0, end=50, variableStep=True, plot=True)\n",
    "# result = rr.simulate(start=0, end=1, variableStep=True)\n",
    "print result"
   ]
  },
  {
   "cell_type": "markdown",
   "metadata": {},
   "source": [
    "## Model behavior\n",
    "\n",
    "Evolution of the limit cycle in the phase plane. The limit cycle begins as circle and, with varying $\\mu$, become increasingly sharp. An example of a [Relaxation oscillator](http://en.wikipedia.org/wiki/Relaxation_oscillator).\n",
    "\n",
    "The Van der Pol oscillator shows an interesting behavior depending on the dampin parameter $\\mu$.\n",
    "\n",
    "![phase plane](http://upload.wikimedia.org/wikipedia/commons/thumb/f/fa/VanderPol-lc.svg/220px-VanderPol-lc.svg.png \"Van der Pol phase plane\")"
   ]
  },
  {
   "cell_type": "code",
   "execution_count": null,
   "metadata": {
    "collapsed": false
   },
   "outputs": [],
   "source": [
    "# add the additional values of interest to the selection\n",
    "rr.selections"
   ]
  },
  {
   "cell_type": "code",
   "execution_count": null,
   "metadata": {
    "collapsed": false
   },
   "outputs": [],
   "source": [
    "reload(roadrunner)\n",
    "rr.selections = ['time'] + ['[{}]'.format(sid) for sid in rr.model.getFloatingSpeciesIds()] \\\n",
    "                            + rr.model.getReactionIds()\n",
    "rr.selections"
   ]
  },
  {
   "cell_type": "code",
   "execution_count": null,
   "metadata": {
    "collapsed": false
   },
   "outputs": [],
   "source": [
    "import multiscale.odesim.roadrunner.roadrunner_tools as rt\n",
    "import numpy as np\n",
    "results = []\n",
    "mu_values = [0, 0.01, 0.5, 1.0, 1.5, 2.0, 2.5, 3.0, 3.5, 4.0]\n",
    "for mu in mu_values:\n",
    "    print mu\n",
    "    s, gp = rt.simulation(rr, t_start=0, t_stop=100, parameters={'mu': mu})\n",
    "    results.append(s)"
   ]
  },
  {
   "cell_type": "code",
   "execution_count": null,
   "metadata": {
    "collapsed": false
   },
   "outputs": [],
   "source": [
    "plt.figure(figsize=(3,8))\n",
    "for k, mu in enumerate(mu_values):\n",
    "    res = results[k]\n",
    "    plt.plot(res['[x]'], res['[y]'], color='black')\n",
    "plt.title('Phase plane of limit cycle')\n",
    "plt.xlabel('x')\n",
    "plt.ylabel('y')\n",
    "plt.xlim([-2,2])\n",
    "plt.ylim([-7,7])"
   ]
  },
  {
   "cell_type": "code",
   "execution_count": null,
   "metadata": {
    "collapsed": true
   },
   "outputs": [],
   "source": [
    "import numpy as np"
   ]
  },
  {
   "cell_type": "code",
   "execution_count": null,
   "metadata": {
    "collapsed": false
   },
   "outputs": [],
   "source": [
    "# calculating the derivatives for given concentrations\n",
    "def dxdt(rr, X, Y): \n",
    "    DX = np.zeros_like(X)\n",
    "    DY = np.zeros_like(Y)\n",
    "    for k, _ in np.ndenumerate(X):\n",
    "        # print('X[k], Y[k]', X[k], Y[k])\n",
    "        rr['[x]'], rr['[y]'] = X[k], Y[k] \n",
    "        DX[k], DY[k] = rr['J1'], rr['J2']\n",
    "    return DX, DY"
   ]
  },
  {
   "cell_type": "code",
   "execution_count": null,
   "metadata": {
    "collapsed": false
   },
   "outputs": [],
   "source": [
    "def phase_portrait(rr, x=np.linspace(-4, 4, 20), y=np.linspace(-7, 7, 20), figsize = (5,8)):\n",
    "    \n",
    "    fig2 = plt.figure(figsize=figsize)\n",
    "    ax2 = fig2.add_subplot(1,1,1)\n",
    "\n",
    "    # quiverplot\n",
    "    # define a grid and compute direction at each point\n",
    "    X1 , Y1  = np.meshgrid(x, y)                    # create a grid\n",
    "    DX1, DY1 = dxdt(rr, X1, Y1)                   # compute J1 and J2 (use roadrunner as calculator)\n",
    "\n",
    "    M = (np.hypot(DX1, DY1))                        # norm the rate \n",
    "    M[ M == 0] = 1.                                 # avoid zero division errors \n",
    "    DX1 /= M                                        # normalize each arrows\n",
    "    DY1 /= M\n",
    "\n",
    "    ax2.quiver(X1, Y1, DX1, DY1, M, pivot='mid')\n",
    "    # ax2.xaxis.label = 'x'\n",
    "    # ax2.yaxis.label = 'y'\n",
    "    # ax2.legend()\n",
    "    ax2.grid()"
   ]
  },
  {
   "cell_type": "code",
   "execution_count": null,
   "metadata": {
    "collapsed": false
   },
   "outputs": [],
   "source": [
    "for mu in [0.3, 0.0, 0.3, 4.0]:\n",
    "    print mu\n",
    "    rr['mu'] = mu\n",
    "    phase_portrait(rr, figsize=(4,4))\n",
    "    trajectory(mu, x0=2.3, y0=4.0)"
   ]
  },
  {
   "cell_type": "markdown",
   "metadata": {},
   "source": [
    "## Phase plane and trajectories\n",
    "\n",
    "We can now analyse the phase plane and the trajectories for different damping values $mu$."
   ]
  },
  {
   "cell_type": "code",
   "execution_count": null,
   "metadata": {
    "collapsed": false
   },
   "outputs": [],
   "source": [
    "mu = 0.3  # 0.0, 0.3, 4.0\n",
    "\n",
    "# create phase portrait\n",
    "rr['mu'] = mu\n",
    "phase_portrait(rr)\n",
    "# single trajectories\n",
    "def trajectory(mu, x0=2.0, y0=0.0, color=\"black\"):\n",
    "    s, _ = rt.simulation(rr, t_start=0, t_stop=100, parameters = {'mu' : mu}, init_concentrations={'x':x0, 'y':y0})\n",
    "    plt.plot(s['[x]'], s['[y]'], color=color)\n",
    "\n",
    "\n",
    "trajectory(mu, x0=2.3, y0=4.0)\n",
    "trajectory(mu, x0=0.2, y0=0.4)\n",
    "trajectory(mu, x0=-2.0, y0=6.0)\n",
    "trajectory(mu, x0=-2.0, y0=-6.0)\n",
    "# limit cycle\n",
    "trajectory(mu, color=\"blue\")"
   ]
  },
  {
   "cell_type": "code",
   "execution_count": null,
   "metadata": {
    "collapsed": true
   },
   "outputs": [],
   "source": []
  }
 ],
 "metadata": {
  "kernelspec": {
   "display_name": "Python 2",
   "language": "python",
   "name": "python2"
  },
  "language_info": {
   "codemirror_mode": {
    "name": "ipython",
    "version": 2
   },
   "file_extension": ".py",
   "mimetype": "text/x-python",
   "name": "python",
   "nbconvert_exporter": "python",
   "pygments_lexer": "ipython2",
   "version": "2.7.6"
  }
 },
 "nbformat": 4,
 "nbformat_minor": 0
}
