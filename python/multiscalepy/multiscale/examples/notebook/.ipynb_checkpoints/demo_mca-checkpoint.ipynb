{
 "cells": [
  {
   "cell_type": "markdown",
   "metadata": {},
   "source": [
    "# Variability analysis\n",
    "\n",
    "An important tool in analyzing the behavior of computational models is analyzing the sensitivity of results to parameter changes. Metabolic Control Analysis (MCA) provides tools for analyzing the effects of such changes on the steady state of the model."
   ]
  },
  {
   "cell_type": "code",
   "execution_count": 54,
   "metadata": {
    "collapsed": true
   },
   "outputs": [],
   "source": [
    "from __future__ import print_function, division\n",
    "%matplotlib inline\n",
    "\n",
    "import roadrunner\n",
    "import numpy as np\n",
    "import pandas as pd\n",
    "from pandas import DataFrame\n",
    "import matplotlib.pylab as plt"
   ]
  },
  {
   "cell_type": "markdown",
   "metadata": {},
   "source": [
    "We are interested in the effects of parameters for a given simulation scenario. The analysed scenario is simple simulation to steady state."
   ]
  },
  {
   "cell_type": "code",
   "execution_count": 55,
   "metadata": {
    "collapsed": false
   },
   "outputs": [
    {
     "data": {
      "image/png": "[encoded data removed]",
      "text/plain": [
       "<matplotlib.figure.Figure at 0x7f3adb72d190>"
      ]
     },
     "metadata": {},
     "output_type": "display_data"
    },
    {
     "name": "stdout",
     "output_type": "stream",
     "text": [
      "A = 0.592003505368\n",
      "C = 1.11845145729\n",
      "B = 3.28951210037\n",
      "C_ext = 1.11846859027\n",
      "B_ext = 3.28944074703\n",
      "A_ext = 0.592123599679\n"
     ]
    }
   ],
   "source": [
    "# from multiscale.examples.testdata import demo_filepath\n",
    "demo_filepath=\"demo_v02.xml\"\n",
    "\n",
    "# equidistant timecourse\n",
    "roadrunner.Config.setValue(roadrunner.Config.LOADSBMLOPTIONS_CONSERVED_MOIETIES, True)\n",
    "rr = roadrunner.RoadRunner(demo_filepath)\n",
    "s = rr.simulate(0,40, 100, plot=True)  \n",
    "\n",
    "for sid, value in zip(rr.model.getFloatingSpeciesIds(), rr.model.getFloatingSpeciesConcentrations()):\n",
    "    print('{} = {}'.format(sid, value))"
   ]
  },
  {
   "cell_type": "code",
   "execution_count": 56,
   "metadata": {
    "collapsed": false
   },
   "outputs": [
    {
     "name": "stdout",
     "output_type": "stream",
     "text": [
      "['time', '[A]', '[C]', '[B]', '[C_ext]', '[B_ext]', '[A_ext]']\n",
      "[ 0.59210528  1.11842109  3.28947379  1.11842105  3.28947388  0.59210491]\n"
     ]
    }
   ],
   "source": [
    "# Steady States\n",
    "# Performs a steady state calculation (evolves the system to a steady\n",
    "#        state), then calculates and returns the set of values specified by\n",
    "#        the steady state selections.\n",
    "print(rr.selections)\n",
    "print(rr.getSteadyStateValues())"
   ]
  },
  {
   "cell_type": "markdown",
   "metadata": {},
   "source": [
    "## Metabolic Control Analysis (MCA)\n",
    "\n",
    "Metabolic control analysis (MCA) is a mathematical framework for describing metabolic, signaling, and genetic pathways. MCA quantifies how variables, such as fluxes and species concentrations, depend on network parameters. In particular it is able to describe how network dependent properties, called control coefficients, depend on local properties called elasticities [http://en.wikipedia.org/wiki/Metabolic_control_analysis].\n",
    "\n",
    "### Control Coefficients\n",
    "\n",
    "A control coefficient measures the relative steady state change in a system variable, e.g. pathway flux (J) or metabolite concentration (S), in response to a relative change in a parameter, e.g. enzyme activity or the steady-state rate ( v_i ) of step i. The two main control coefficients are the flux and concentration control coefficients. Flux control coefficients are defined by:\n",
    "\n",
    "$$C^J_{v_i} = \\left( \\frac{dJ}{dp} \\frac{p}{J} \\right) \\bigg/ \\left( \\frac{\\partial v_i}{\\partial p}\\frac{p}{v_i} \\right) = \\frac{d\\ln J}{d\\ln v_i}$$"
   ]
  },
  {
   "cell_type": "code",
   "execution_count": 57,
   "metadata": {
    "collapsed": false
   },
   "outputs": [
    {
     "data": {
      "text/plain": [
       "0.05554890329514592"
      ]
     },
     "execution_count": 57,
     "metadata": {},
     "output_type": "execute_result"
    }
   ],
   "source": [
    "# Scaled control coefficient with respect to a global parameter.\n",
    "rr.getCC('bA', 'Vmax_bA')"
   ]
  },
  {
   "cell_type": "code",
   "execution_count": 58,
   "metadata": {
    "collapsed": false
   },
   "outputs": [
    {
     "name": "stdout",
     "output_type": "stream",
     "text": [
      "** Scaled Flux Control Coefficients **\n"
     ]
    },
    {
     "ename": "RuntimeError",
     "evalue": "Unexpected error from getScaledFluxControlCoefficientMatrix()Dividing with zero",
     "output_type": "error",
     "traceback": [
      "\u001b[1;31m---------------------------------------------------------------------------\u001b[0m",
      "\u001b[1;31mRuntimeError\u001b[0m                              Traceback (most recent call last)",
      "\u001b[1;32m<ipython-input-58-808fbe02db35>\u001b[0m in \u001b[0;36m<module>\u001b[1;34m()\u001b[0m\n\u001b[0;32m      2\u001b[0m \u001b[1;31m# where n is the number of reactions.\u001b[0m\u001b[1;33m\u001b[0m\u001b[1;33m\u001b[0m\u001b[0m\n\u001b[0;32m      3\u001b[0m \u001b[1;32mprint\u001b[0m\u001b[1;33m(\u001b[0m\u001b[1;34m'** Scaled Flux Control Coefficients **'\u001b[0m\u001b[1;33m)\u001b[0m\u001b[1;33m\u001b[0m\u001b[0m\n\u001b[1;32m----> 4\u001b[1;33m \u001b[0mrr\u001b[0m\u001b[1;33m.\u001b[0m\u001b[0mgetScaledFluxControlCoefficientMatrix\u001b[0m\u001b[1;33m(\u001b[0m\u001b[1;33m)\u001b[0m\u001b[1;33m\u001b[0m\u001b[0m\n\u001b[0m\u001b[0;32m      5\u001b[0m \u001b[0mC_J\u001b[0m \u001b[1;33m=\u001b[0m \u001b[0mDataFrame\u001b[0m\u001b[1;33m(\u001b[0m\u001b[0mrr\u001b[0m\u001b[1;33m.\u001b[0m\u001b[0mgetScaledFluxControlCoefficientMatrix\u001b[0m\u001b[1;33m(\u001b[0m\u001b[1;33m)\u001b[0m\u001b[1;33m,\u001b[0m                 \u001b[0mindex\u001b[0m\u001b[1;33m=\u001b[0m\u001b[0mrr\u001b[0m\u001b[1;33m.\u001b[0m\u001b[0mmodel\u001b[0m\u001b[1;33m.\u001b[0m\u001b[0mgetReactionIds\u001b[0m\u001b[1;33m(\u001b[0m\u001b[1;33m)\u001b[0m\u001b[1;33m,\u001b[0m                 \u001b[0mcolumns\u001b[0m\u001b[1;33m=\u001b[0m\u001b[0mrr\u001b[0m\u001b[1;33m.\u001b[0m\u001b[0mmodel\u001b[0m\u001b[1;33m.\u001b[0m\u001b[0mgetReactionIds\u001b[0m\u001b[1;33m(\u001b[0m\u001b[1;33m)\u001b[0m\u001b[1;33m)\u001b[0m\u001b[1;33m\u001b[0m\u001b[0m\n\u001b[0;32m      6\u001b[0m \u001b[1;32mprint\u001b[0m\u001b[1;33m(\u001b[0m\u001b[0mC_J\u001b[0m\u001b[1;33m)\u001b[0m\u001b[1;33m\u001b[0m\u001b[0m\n",
      "\u001b[1;32m/usr/local/lib/python2.7/dist-packages/roadrunner/roadrunner.pyc\u001b[0m in \u001b[0;36mgetScaledFluxControlCoefficientMatrix\u001b[1;34m(self)\u001b[0m\n\u001b[0;32m   2297\u001b[0m \u001b[1;33m\u001b[0m\u001b[0m\n\u001b[0;32m   2298\u001b[0m         \"\"\"\n\u001b[1;32m-> 2299\u001b[1;33m         \u001b[1;32mreturn\u001b[0m \u001b[0m_roadrunner\u001b[0m\u001b[1;33m.\u001b[0m\u001b[0mRoadRunner_getScaledFluxControlCoefficientMatrix\u001b[0m\u001b[1;33m(\u001b[0m\u001b[0mself\u001b[0m\u001b[1;33m)\u001b[0m\u001b[1;33m\u001b[0m\u001b[0m\n\u001b[0m\u001b[0;32m   2300\u001b[0m \u001b[1;33m\u001b[0m\u001b[0m\n\u001b[0;32m   2301\u001b[0m     \u001b[1;32mdef\u001b[0m \u001b[0mgetEigenValueIds\u001b[0m\u001b[1;33m(\u001b[0m\u001b[0mself\u001b[0m\u001b[1;33m)\u001b[0m\u001b[1;33m:\u001b[0m\u001b[1;33m\u001b[0m\u001b[0m\n",
      "\u001b[1;31mRuntimeError\u001b[0m: Unexpected error from getScaledFluxControlCoefficientMatrix()Dividing with zero"
     ]
    }
   ],
   "source": [
    "# The n by n matrix of scaled flux control coefficients \n",
    "# where n is the number of reactions.\n",
    "print('** Scaled Flux Control Coefficients **')\n",
    "rr.getScaledFluxControlCoefficientMatrix()\n",
    "C_J = DataFrame(rr.getScaledFluxControlCoefficientMatrix(), \\\n",
    "                index=rr.model.getReactionIds(), \\\n",
    "                columns=rr.model.getReactionIds())\n",
    "print(C_J)"
   ]
  },
  {
   "cell_type": "markdown",
   "metadata": {},
   "source": [
    "and concentration control coefficients by:\n",
    "\n",
    "$$C^S_{v_i} = \\left( \\frac{dS}{dp} \\frac{p}{S} \\right) \\bigg/ \\left( \\frac{\\partial v_i}{\\partial p} \\frac{p}{v_i} \\right) = \\frac{d\\ln S}{d\\ln v_i}$$"
   ]
  },
  {
   "cell_type": "code",
   "execution_count": 59,
   "metadata": {
    "collapsed": false
   },
   "outputs": [
    {
     "name": "stdout",
     "output_type": "stream",
     "text": [
      "** Scaled Concentration Control Coefficients **\n",
      "                 bA  bB  bC        v1        v2        v3        v4\n",
      "A      6.661339e-17  -0  -0 -0.292398 -0.223684  0.422515  0.093567\n",
      "C      6.661339e-17  -0  -0 -0.030960  0.188080 -0.355263  0.198142\n",
      "B      6.661339e-17  -0  -0  0.063158 -0.023684  0.044737 -0.084211\n",
      "C_ext  6.661339e-17  -0   0 -0.030960  0.188080 -0.355263  0.198142\n",
      "B_ext  6.661339e-17   0  -0  0.063158 -0.023684  0.044737 -0.084211\n",
      "A_ext -1.058413e-15  -0  -0 -0.292398 -0.223684  0.422515  0.093567\n"
     ]
    }
   ],
   "source": [
    "# The m by n matrix of scaled concentration control coefficients where m is the number\n",
    "# of floating species and n the number of reactions.\n",
    "print('** Scaled Concentration Control Coefficients **')\n",
    "C_S = DataFrame(rr.getScaledConcentrationControlCoefficientMatrix(), \\\n",
    "                index=rr.model.getFloatingSpeciesIds(), \\\n",
    "                columns=rr.model.getReactionIds())\n",
    "print(C_S)"
   ]
  },
  {
   "cell_type": "markdown",
   "metadata": {},
   "source": [
    "### Summation Theorems\n",
    "\n",
    "The flux control summation theorem was discovered independently by the Kacser/Burns group and the Heinrich/Rapoport group in the early 1970s and late 1960s. The flux control summation theorem implies that metabolic fluxes are systemic properties and that their control is shared by all reactions in the system. When a single reaction changes its control of the flux this is compensated by changes in the control of the same flux by all other reactions.\n",
    "\n",
    "$$\\sum_i C^J_{v_i} = 1$$\n",
    "\n",
    "$$\\sum_i C^S_{v_i} = 0$$"
   ]
  },
  {
   "cell_type": "code",
   "execution_count": 60,
   "metadata": {
    "collapsed": false
   },
   "outputs": [
    {
     "ename": "NameError",
     "evalue": "name 'C_J' is not defined",
     "output_type": "error",
     "traceback": [
      "\u001b[1;31m---------------------------------------------------------------------------\u001b[0m",
      "\u001b[1;31mNameError\u001b[0m                                 Traceback (most recent call last)",
      "\u001b[1;32m<ipython-input-60-ca5d344e26f9>\u001b[0m in \u001b[0;36m<module>\u001b[1;34m()\u001b[0m\n\u001b[0;32m      1\u001b[0m \u001b[1;31m# Flux control coefficients have to sum to 1\u001b[0m\u001b[1;33m\u001b[0m\u001b[1;33m\u001b[0m\u001b[0m\n\u001b[1;32m----> 2\u001b[1;33m \u001b[1;32mprint\u001b[0m\u001b[1;33m(\u001b[0m\u001b[0mnp\u001b[0m\u001b[1;33m.\u001b[0m\u001b[0msum\u001b[0m\u001b[1;33m(\u001b[0m\u001b[0mC_J\u001b[0m\u001b[1;33m,\u001b[0m \u001b[0maxis\u001b[0m\u001b[1;33m=\u001b[0m\u001b[1;36m1\u001b[0m\u001b[1;33m)\u001b[0m\u001b[1;33m)\u001b[0m\u001b[1;33m\u001b[0m\u001b[0m\n\u001b[0m\u001b[0;32m      3\u001b[0m \u001b[0mabs\u001b[0m\u001b[1;33m(\u001b[0m\u001b[0mnp\u001b[0m\u001b[1;33m.\u001b[0m\u001b[0msum\u001b[0m\u001b[1;33m(\u001b[0m\u001b[0mC_J\u001b[0m\u001b[1;33m,\u001b[0m \u001b[0maxis\u001b[0m\u001b[1;33m=\u001b[0m\u001b[1;36m1\u001b[0m\u001b[1;33m)\u001b[0m\u001b[1;33m-\u001b[0m\u001b[1;36m1\u001b[0m\u001b[1;33m)\u001b[0m \u001b[1;33m<\u001b[0m \u001b[1;36m1E-6\u001b[0m\u001b[1;33m\u001b[0m\u001b[0m\n",
      "\u001b[1;31mNameError\u001b[0m: name 'C_J' is not defined"
     ]
    }
   ],
   "source": [
    "# Flux control coefficients have to sum to 1\n",
    "print(np.sum(C_J, axis=1))\n",
    "abs(np.sum(C_J, axis=1)-1) < 1E-6"
   ]
  },
  {
   "cell_type": "code",
   "execution_count": 61,
   "metadata": {
    "collapsed": false
   },
   "outputs": [
    {
     "name": "stdout",
     "output_type": "stream",
     "text": [
      "A        1.665335e-16\n",
      "C       -5.551115e-17\n",
      "B        6.938894e-17\n",
      "C_ext   -5.551115e-17\n",
      "B_ext    9.714451e-17\n",
      "A_ext   -8.743006e-16\n",
      "dtype: float64\n"
     ]
    },
    {
     "data": {
      "text/plain": [
       "A        True\n",
       "C        True\n",
       "B        True\n",
       "C_ext    True\n",
       "B_ext    True\n",
       "A_ext    True\n",
       "dtype: bool"
      ]
     },
     "execution_count": 61,
     "metadata": {},
     "output_type": "execute_result"
    }
   ],
   "source": [
    "# Concentration control coefficients have to sum to 0\n",
    "print(np.sum(C_S, axis=1))\n",
    "np.sum(C_S, axis=1) < 1E-6"
   ]
  },
  {
   "cell_type": "markdown",
   "metadata": {},
   "source": [
    "### Elasticity coefficients\n",
    "Retrieve a single elasticity coefficient with respect to a global parameter.\n",
    "\n",
    "        For example::\n",
    "\n",
    "          x = rr.getEE ('J1', 'Vmax')"
   ]
  },
  {
   "cell_type": "code",
   "execution_count": 62,
   "metadata": {
    "collapsed": false
   },
   "outputs": [
    {
     "name": "stdout",
     "output_type": "stream",
     "text": [
      "['scale_f', 'Vmax_bA', 'Km_A', 'Vmax_bB', 'Km_B', 'Vmax_bC', 'Km_C', 'Vmax_v1', 'Keq_v1', 'Vmax_v2', 'Vmax_v3', 'Vmax_v4', 'Keq_v4', 'cm_0_029db922_b623_11e5_976b_bcaec50efb75']\n",
      "1.0\n",
      "1.24996835523\n"
     ]
    }
   ],
   "source": [
    "print(rr.model.getGlobalParameterIds())\n",
    "print(rr.getEE('v1', 'Vmax_v1'))\n",
    "print(rr.getEE('v1', 'Keq_v1'))"
   ]
  }
 ],
 "metadata": {
  "kernelspec": {
   "display_name": "Python 2",
   "language": "python",
   "name": "python2"
  },
  "language_info": {
   "codemirror_mode": {
    "name": "ipython",
    "version": 2
   },
   "file_extension": ".py",
   "mimetype": "text/x-python",
   "name": "python",
   "nbconvert_exporter": "python",
   "pygments_lexer": "ipython2",
   "version": "2.7.6"
  }
 },
 "nbformat": 4,
 "nbformat_minor": 0
}
