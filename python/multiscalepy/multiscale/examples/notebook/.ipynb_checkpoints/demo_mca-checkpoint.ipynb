{
 "cells": [
  {
   "cell_type": "markdown",
   "metadata": {},
   "source": [
    "# Variability analysis\n",
    "\n",
    "An important step in computational modelling is the analysis of the sensitivity of model results to parameter changes. Metabolic Control Analysis (MCA) provides tools for analyzing the effects of such changes on the steady state of the model."
   ]
  },
  {
   "cell_type": "code",
   "execution_count": 2,
   "metadata": {
    "collapsed": true
   },
   "outputs": [],
   "source": [
    "from __future__ import print_function, division\n",
    "%matplotlib inline\n",
    "\n",
    "import roadrunner\n",
    "import numpy as np\n",
    "import pandas as pd\n",
    "from pandas import DataFrame\n",
    "import matplotlib.pylab as plt"
   ]
  },
  {
   "cell_type": "markdown",
   "metadata": {},
   "source": [
    "We are interested in the effects of parameters for a given simulation scenario. The analysed scenario is simple simulation to steady state."
   ]
  },
  {
   "cell_type": "code",
   "execution_count": 4,
   "metadata": {
    "collapsed": false
   },
   "outputs": [
    {
     "data": {
      "image/png": "[encoded data removed]",
      "text/plain": [
       "<matplotlib.figure.Figure at 0x7fc2a14bbb50>"
      ]
     },
     "metadata": {},
     "output_type": "display_data"
    },
    {
     "name": "stdout",
     "output_type": "stream",
     "text": [
      "c__C = 1.11845145723\n",
      "c__A = 0.592003504934\n",
      "c__B = 3.28951210035\n",
      "e__C = 1.11846859032\n",
      "e__B = 3.28944074714\n",
      "e__A = 0.592123600021\n"
     ]
    }
   ],
   "source": [
    "# from multiscale.examples.testdata import demo_filepath\n",
    "demo_sbml = \"../models/demo/Koenig_demo_v09.xml\"\n",
    "\n",
    "# equidistant timecourse\n",
    "roadrunner.Config.setValue(roadrunner.Config.LOADSBMLOPTIONS_CONSERVED_MOIETIES, True)\n",
    "r = roadrunner.RoadRunner(demo_sbml)\n",
    "s = r.simulate(0, 40, 100, plot=True)  \n",
    "\n",
    "for sid, value in zip(r.model.getFloatingSpeciesIds(), r.model.getFloatingSpeciesConcentrations()):\n",
    "    print('{} = {}'.format(sid, value))"
   ]
  },
  {
   "cell_type": "code",
   "execution_count": 7,
   "metadata": {
    "collapsed": false
   },
   "outputs": [
    {
     "name": "stdout",
     "output_type": "stream",
     "text": [
      "['[c__C]', '[c__A]', '[c__B]', '[e__C]', '[e__B]', '[e__A]']\n",
      "[ 1.11842105  0.59210526  3.28947368  1.11842105  3.28947368  0.59210526]\n"
     ]
    }
   ],
   "source": [
    "# Steady States\n",
    "# Performs a steady state calculation (evolves the system to a steady\n",
    "#        state), then calculates and returns the set of values specified by\n",
    "#        the steady state selections.\n",
    "# [issue #258 https://github.com/sys-bio/roadrunner/issues/258]\n",
    "print(r.steadyStateSelections)\n",
    "print(r.getSteadyStateValues())"
   ]
  },
  {
   "cell_type": "code",
   "execution_count": 8,
   "metadata": {
    "collapsed": false
   },
   "outputs": [
    {
     "name": "stdout",
     "output_type": "stream",
     "text": [
      "['bA', 'bB', 'bC', 'v1', 'v2', 'v3', 'v4']\n",
      "[ -1.39094894e-17  -5.52057367e-20   4.45205012e-20   2.63157895e-07\n",
      "   2.96052632e-07   5.59210526e-07  -2.63157895e-07]\n"
     ]
    }
   ],
   "source": [
    "# The steady state fluxes are\n",
    "print(r.model.getReactionIds())\n",
    "print(r.getReactionRates())"
   ]
  },
  {
   "cell_type": "markdown",
   "metadata": {},
   "source": [
    "## Metabolic Control Analysis (MCA)\n",
    "\n",
    "Metabolic control analysis (MCA) is a mathematical framework for describing metabolic, signaling, and genetic pathways. MCA quantifies how variables, such as fluxes and species concentrations, depend on network parameters. In particular it is able to describe how network dependent properties, called control coefficients, depend on local properties called elasticities [http://en.wikipedia.org/wiki/Metabolic_control_analysis].\n",
    "\n",
    "For the available functions in roadrunner see\n",
    "https://sys-bio.github.io/roadrunner/python_docs/metabolic.html\n",
    "\n",
    "### Control Coefficients\n",
    "\n",
    "A control coefficient measures the relative steady state change in a system variable, e.g. pathway flux (J) or metabolite concentration (S), in response to a relative change in a parameter, e.g. enzyme activity or the steady-state rate ( v_i ) of step i. The two main control coefficients are the flux and concentration control coefficients. Flux control coefficients are defined by:\n",
    "\n",
    "$$C^J_{v_i} = \\left( \\frac{dJ}{dp} \\frac{p}{J} \\right) \\bigg/ \\left( \\frac{\\partial v_i}{\\partial p}\\frac{p}{v_i} \\right) = \\frac{d\\ln J}{d\\ln v_i}$$"
   ]
  },
  {
   "cell_type": "code",
   "execution_count": 9,
   "metadata": {
    "collapsed": false
   },
   "outputs": [
    {
     "data": {
      "text/plain": [
       "-0.7417840375586783"
      ]
     },
     "execution_count": 9,
     "metadata": {},
     "output_type": "execute_result"
    }
   ],
   "source": [
    "# Scaled control coefficient with respect to a global parameter.\n",
    "r.getCC('bA', 'Vmax_bA')"
   ]
  },
  {
   "cell_type": "code",
   "execution_count": 11,
   "metadata": {
    "collapsed": false
   },
   "outputs": [
    {
     "name": "stdout",
     "output_type": "stream",
     "text": [
      "** Scaled Flux Control Coefficients **\n"
     ]
    },
    {
     "ename": "RuntimeError",
     "evalue": "Unexpected error from getScaledFluxControlCoefficientMatrix(): Dividing with zero",
     "output_type": "error",
     "traceback": [
      "\u001b[1;31m---------------------------------------------------------------------------\u001b[0m",
      "\u001b[1;31mRuntimeError\u001b[0m                              Traceback (most recent call last)",
      "\u001b[1;32m<ipython-input-11-f2b194b5a6d2>\u001b[0m in \u001b[0;36m<module>\u001b[1;34m()\u001b[0m\n\u001b[0;32m      4\u001b[0m \u001b[1;31m# [issue #251 https://github.com/sys-bio/roadrunner/issues/251]\u001b[0m\u001b[1;33m\u001b[0m\u001b[1;33m\u001b[0m\u001b[0m\n\u001b[0;32m      5\u001b[0m \u001b[1;32mprint\u001b[0m\u001b[1;33m(\u001b[0m\u001b[1;34m'** Scaled Flux Control Coefficients **'\u001b[0m\u001b[1;33m)\u001b[0m\u001b[1;33m\u001b[0m\u001b[0m\n\u001b[1;32m----> 6\u001b[1;33m \u001b[0mr\u001b[0m\u001b[1;33m.\u001b[0m\u001b[0mgetScaledFluxControlCoefficientMatrix\u001b[0m\u001b[1;33m(\u001b[0m\u001b[1;33m)\u001b[0m\u001b[1;33m\u001b[0m\u001b[0m\n\u001b[0m\u001b[0;32m      7\u001b[0m \u001b[0mC_J\u001b[0m \u001b[1;33m=\u001b[0m \u001b[0mDataFrame\u001b[0m\u001b[1;33m(\u001b[0m\u001b[0mrr\u001b[0m\u001b[1;33m.\u001b[0m\u001b[0mgetScaledFluxControlCoefficientMatrix\u001b[0m\u001b[1;33m(\u001b[0m\u001b[1;33m)\u001b[0m\u001b[1;33m,\u001b[0m                 \u001b[0mindex\u001b[0m\u001b[1;33m=\u001b[0m\u001b[0mr\u001b[0m\u001b[1;33m.\u001b[0m\u001b[0mmodel\u001b[0m\u001b[1;33m.\u001b[0m\u001b[0mgetReactionIds\u001b[0m\u001b[1;33m(\u001b[0m\u001b[1;33m)\u001b[0m\u001b[1;33m,\u001b[0m                 \u001b[0mcolumns\u001b[0m\u001b[1;33m=\u001b[0m\u001b[0mr\u001b[0m\u001b[1;33m.\u001b[0m\u001b[0mmodel\u001b[0m\u001b[1;33m.\u001b[0m\u001b[0mgetReactionIds\u001b[0m\u001b[1;33m(\u001b[0m\u001b[1;33m)\u001b[0m\u001b[1;33m)\u001b[0m\u001b[1;33m\u001b[0m\u001b[0m\n\u001b[0;32m      8\u001b[0m \u001b[1;32mprint\u001b[0m\u001b[1;33m(\u001b[0m\u001b[0mC_J\u001b[0m\u001b[1;33m)\u001b[0m\u001b[1;33m\u001b[0m\u001b[0m\n",
      "\u001b[1;32m/usr/local/lib/python2.7/dist-packages/roadrunner/roadrunner.pyc\u001b[0m in \u001b[0;36mgetScaledFluxControlCoefficientMatrix\u001b[1;34m(self)\u001b[0m\n\u001b[0;32m   2297\u001b[0m \u001b[1;33m\u001b[0m\u001b[0m\n\u001b[0;32m   2298\u001b[0m         \"\"\"\n\u001b[1;32m-> 2299\u001b[1;33m         \u001b[1;32mreturn\u001b[0m \u001b[0m_roadrunner\u001b[0m\u001b[1;33m.\u001b[0m\u001b[0mRoadRunner_getScaledFluxControlCoefficientMatrix\u001b[0m\u001b[1;33m(\u001b[0m\u001b[0mself\u001b[0m\u001b[1;33m)\u001b[0m\u001b[1;33m\u001b[0m\u001b[0m\n\u001b[0m\u001b[0;32m   2300\u001b[0m \u001b[1;33m\u001b[0m\u001b[0m\n\u001b[0;32m   2301\u001b[0m     \u001b[1;32mdef\u001b[0m \u001b[0mgetEigenValueIds\u001b[0m\u001b[1;33m(\u001b[0m\u001b[0mself\u001b[0m\u001b[1;33m)\u001b[0m\u001b[1;33m:\u001b[0m\u001b[1;33m\u001b[0m\u001b[0m\n",
      "\u001b[1;31mRuntimeError\u001b[0m: Unexpected error from getScaledFluxControlCoefficientMatrix(): Dividing with zero"
     ]
    }
   ],
   "source": [
    "# The n by n matrix of scaled flux control coefficients \n",
    "# where n is the number of reactions.\n",
    "\n",
    "# [issue #251 https://github.com/sys-bio/roadrunner/issues/251]\n",
    "print('** Scaled Flux Control Coefficients **')\n",
    "r.getScaledFluxControlCoefficientMatrix()\n",
    "C_J = DataFrame(rr.getScaledFluxControlCoefficientMatrix(), \\\n",
    "                index=r.model.getReactionIds(), \\\n",
    "                columns=r.model.getReactionIds())\n",
    "print(C_J)"
   ]
  },
  {
   "cell_type": "markdown",
   "metadata": {},
   "source": [
    "and concentration control coefficients by:\n",
    "\n",
    "$$C^S_{v_i} = \\left( \\frac{dS}{dp} \\frac{p}{S} \\right) \\bigg/ \\left( \\frac{\\partial v_i}{\\partial p} \\frac{p}{v_i} \\right) = \\frac{d\\ln S}{d\\ln v_i}$$"
   ]
  },
  {
   "cell_type": "code",
   "execution_count": 12,
   "metadata": {
    "collapsed": false
   },
   "outputs": [
    {
     "name": "stdout",
     "output_type": "stream",
     "text": [
      "** Scaled Concentration Control Coefficients **\n",
      "                bA  bB  bC        v1        v2        v3        v4\n",
      "c__C  6.661339e-17  -0  -0 -0.030960  0.188080 -0.355263  0.198142\n",
      "c__A  6.661339e-17  -0  -0 -0.292398 -0.223684  0.422515  0.093567\n",
      "c__B  6.661339e-17  -0  -0  0.063158 -0.023684  0.044737 -0.084211\n",
      "e__C  6.661339e-17  -0   0 -0.030960  0.188080 -0.355263  0.198142\n",
      "e__B  6.661339e-17   0  -0  0.063158 -0.023684  0.044737 -0.084211\n",
      "e__A -1.058413e-15  -0  -0 -0.292398 -0.223684  0.422515  0.093567\n"
     ]
    }
   ],
   "source": [
    "# The m by n matrix of scaled concentration control coefficients where m is the number\n",
    "# of floating species and n the number of reactions.\n",
    "print('** Scaled Concentration Control Coefficients **')\n",
    "C_S = DataFrame(r.getScaledConcentrationControlCoefficientMatrix(), \\\n",
    "                index=r.model.getFloatingSpeciesIds(), \\\n",
    "                columns=r.model.getReactionIds())\n",
    "print(C_S)"
   ]
  },
  {
   "cell_type": "markdown",
   "metadata": {},
   "source": [
    "### Summation Theorems\n",
    "\n",
    "The flux control summation theorem was discovered independently by the Kacser/Burns group and the Heinrich/Rapoport group in the early 1970s and late 1960s. The flux control summation theorem implies that metabolic fluxes are systemic properties and that their control is shared by all reactions in the system. When a single reaction changes its control of the flux this is compensated by changes in the control of the same flux by all other reactions.\n",
    "\n",
    "$$\\sum_i C^J_{v_i} = 1$$\n",
    "\n",
    "$$\\sum_i C^S_{v_i} = 0$$"
   ]
  },
  {
   "cell_type": "code",
   "execution_count": 13,
   "metadata": {
    "collapsed": false
   },
   "outputs": [
    {
     "ename": "NameError",
     "evalue": "name 'C_J' is not defined",
     "output_type": "error",
     "traceback": [
      "\u001b[1;31m---------------------------------------------------------------------------\u001b[0m",
      "\u001b[1;31mNameError\u001b[0m                                 Traceback (most recent call last)",
      "\u001b[1;32m<ipython-input-13-ca5d344e26f9>\u001b[0m in \u001b[0;36m<module>\u001b[1;34m()\u001b[0m\n\u001b[0;32m      1\u001b[0m \u001b[1;31m# Flux control coefficients have to sum to 1\u001b[0m\u001b[1;33m\u001b[0m\u001b[1;33m\u001b[0m\u001b[0m\n\u001b[1;32m----> 2\u001b[1;33m \u001b[1;32mprint\u001b[0m\u001b[1;33m(\u001b[0m\u001b[0mnp\u001b[0m\u001b[1;33m.\u001b[0m\u001b[0msum\u001b[0m\u001b[1;33m(\u001b[0m\u001b[0mC_J\u001b[0m\u001b[1;33m,\u001b[0m \u001b[0maxis\u001b[0m\u001b[1;33m=\u001b[0m\u001b[1;36m1\u001b[0m\u001b[1;33m)\u001b[0m\u001b[1;33m)\u001b[0m\u001b[1;33m\u001b[0m\u001b[0m\n\u001b[0m\u001b[0;32m      3\u001b[0m \u001b[0mabs\u001b[0m\u001b[1;33m(\u001b[0m\u001b[0mnp\u001b[0m\u001b[1;33m.\u001b[0m\u001b[0msum\u001b[0m\u001b[1;33m(\u001b[0m\u001b[0mC_J\u001b[0m\u001b[1;33m,\u001b[0m \u001b[0maxis\u001b[0m\u001b[1;33m=\u001b[0m\u001b[1;36m1\u001b[0m\u001b[1;33m)\u001b[0m\u001b[1;33m-\u001b[0m\u001b[1;36m1\u001b[0m\u001b[1;33m)\u001b[0m \u001b[1;33m<\u001b[0m \u001b[1;36m1E-6\u001b[0m\u001b[1;33m\u001b[0m\u001b[0m\n",
      "\u001b[1;31mNameError\u001b[0m: name 'C_J' is not defined"
     ]
    }
   ],
   "source": [
    "# Flux control coefficients have to sum to 1\n",
    "print(np.sum(C_J, axis=1))\n",
    "abs(np.sum(C_J, axis=1)-1) < 1E-6"
   ]
  },
  {
   "cell_type": "code",
   "execution_count": 14,
   "metadata": {
    "collapsed": false
   },
   "outputs": [
    {
     "name": "stdout",
     "output_type": "stream",
     "text": [
      "c__C   -5.551115e-17\n",
      "c__A    1.665335e-16\n",
      "c__B    8.326673e-17\n",
      "e__C    0.000000e+00\n",
      "e__B    8.326673e-17\n",
      "e__A   -9.298118e-16\n",
      "dtype: float64\n"
     ]
    },
    {
     "data": {
      "text/plain": [
       "c__C    True\n",
       "c__A    True\n",
       "c__B    True\n",
       "e__C    True\n",
       "e__B    True\n",
       "e__A    True\n",
       "dtype: bool"
      ]
     },
     "execution_count": 14,
     "metadata": {},
     "output_type": "execute_result"
    }
   ],
   "source": [
    "# Concentration control coefficients have to sum to 0\n",
    "print(np.sum(C_S, axis=1))\n",
    "np.sum(C_S, axis=1) < 1E-6"
   ]
  },
  {
   "cell_type": "markdown",
   "metadata": {},
   "source": [
    "### Elasticity coefficients\n",
    "Retrieve a single elasticity coefficient with respect to a global parameter.\n",
    "\n",
    "        For example::\n",
    "\n",
    "          x = rr.getEE ('J1', 'Vmax')"
   ]
  },
  {
   "cell_type": "code",
   "execution_count": 15,
   "metadata": {
    "collapsed": false
   },
   "outputs": [
    {
     "name": "stdout",
     "output_type": "stream",
     "text": [
      "['Km_C', 'scale_f', 'Vmax_bB', 'Vmax_bC', 'Vmax_bA', 'Vmax_v2', 'Vmax_v3', 'Vmax_v1', 'Km_A', 'Vmax_v4', 'Km_B', 'Keq_v4', 'Keq_v1', 'cm_0_c4e7f1e0_bb65_11e5_9bda_bcaec50efb75']\n",
      "1.0\n",
      "1.24996835523\n"
     ]
    }
   ],
   "source": [
    "print(r.model.getGlobalParameterIds())\n",
    "print(r.getEE('v1', 'Vmax_v1'))\n",
    "print(r.getEE('v1', 'Keq_v1'))"
   ]
  }
 ],
 "metadata": {
  "kernelspec": {
   "display_name": "Python 2",
   "language": "python",
   "name": "python2"
  },
  "language_info": {
   "codemirror_mode": {
    "name": "ipython",
    "version": 2
   },
   "file_extension": ".py",
   "mimetype": "text/x-python",
   "name": "python",
   "nbconvert_exporter": "python",
   "pygments_lexer": "ipython2",
   "version": "2.7.6"
  }
 },
 "nbformat": 4,
 "nbformat_minor": 0
}
