{
 "cells": [
  {
   "cell_type": "code",
   "execution_count": null,
   "metadata": {
    "collapsed": false
   },
   "outputs": [],
   "source": [
    "# Simulating simple test model\n",
    "import roadrunner\n",
    "reload(roadrunner)\n",
    "\n",
    "from simapp.models import CompModel\n",
    "\n",
    "mtest = CompModel.objects.get(model_id=\"test_1\")\n",
    "print(mtest)\n",
    "\n",
    "r = roadrunner.RoadRunner(mtest.filepath)\n",
    "# settings\n",
    "absTol = 1E-6\n",
    "relTol = 1E-6\n",
    "absTol = absTol * min(r.model.getCompartmentVolumes())  # absTol relative to the amounts\n",
    "integrator = r.getIntegrator()\n",
    "integrator.setValue('stiff', True)\n",
    "integrator.setValue('absolute_tolerance', absTol)\n",
    "integrator.setValue('relative_tolerance', relTol)\n",
    "\n",
    "# integrate\n",
    "r.simulate(0,10)\n",
    "print(r)\n",
    "print('-'*80)\n",
    "integrator = r.getIntegrator()\n",
    "print(integrator.getName())\n",
    "for key in integrator.getSettings():\n",
    "    print(key, ':', integrator.getValue(key))\n",
    "# plot\n",
    "r.plot()"
   ]
  },
  {
   "cell_type": "code",
   "execution_count": null,
   "metadata": {
    "collapsed": true
   },
   "outputs": [],
   "source": []
  }
 ],
 "metadata": {
  "kernelspec": {
   "display_name": "Python 2",
   "language": "python",
   "name": "python2"
  },
  "language_info": {
   "codemirror_mode": {
    "name": "ipython",
    "version": 2
   },
   "file_extension": ".py",
   "mimetype": "text/x-python",
   "name": "python",
   "nbconvert_exporter": "python",
   "pygments_lexer": "ipython2",
   "version": "2.7.6"
  }
 },
 "nbformat": 4,
 "nbformat_minor": 0
}
