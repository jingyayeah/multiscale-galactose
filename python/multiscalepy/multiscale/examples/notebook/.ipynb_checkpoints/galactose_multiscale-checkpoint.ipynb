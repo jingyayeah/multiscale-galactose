{
 "cells": [
  {
   "cell_type": "markdown",
   "metadata": {},
   "source": [
    "# multiscale-galactose example\n",
    "Example simulations for the multiscale model"
   ]
  },
  {
   "cell_type": "code",
   "execution_count": 2,
   "metadata": {
    "collapsed": false
   },
   "outputs": [
    {
     "name": "stdout",
     "output_type": "stream",
     "text": [
      "1.4.2; Compiler: gcc 4.8.4, C++ version: 199711; JIT Compiler: LLVM-3.4; Date: Jan 20 2016, 08:49:40\n",
      "*** First loading ***\n",
      "Time: 30.8113059998\n",
      "*** Reloading ***\n",
      "Time: 2.5517718792\n",
      "*** Hash calculation MD5 ***\n",
      "Time: 0.00472187995911\n"
     ]
    },
    {
     "data": {
      "text/plain": [
       "'c637410a85d09370be99db1cd0bd44ac'"
      ]
     },
     "execution_count": 2,
     "metadata": {},
     "output_type": "execute_result"
    }
   ],
   "source": [
    "# Testing of load times for model\n",
    "from __future__ import print_function, division\n",
    "import roadrunner\n",
    "print(roadrunner.__version__)\n",
    "import time\n",
    "\n",
    "def time_it(func, *args, **kwargs):\n",
    "    \"\"\" Time the call to the function. \"\"\"\n",
    "    time_start = time.time()\n",
    "    res = func(*args, **kwargs)\n",
    "    print('Time: {}'.format(time.time() - time_start))\n",
    "    return res\n",
    "\n",
    "def hash_for_file(filepath, hash_type='MD5', blocksize=65536):\n",
    "    \"\"\" Calculate the md5_hash for a file.\n",
    "\n",
    "        Calculating a hash for a file is always useful when you need to check if two files\n",
    "        are identical, or to make sure that the contents of a file were not changed, and to\n",
    "        check the integrity of a file when it is transmitted over a network.\n",
    "        he most used algorithms to hash a file are MD5 and SHA-1. They are used because they\n",
    "        are fast and they provide a good way to identify different files.\n",
    "        [http://www.pythoncentral.io/hashing-files-with-python/]\n",
    "    \"\"\"\n",
    "    import hashlib\n",
    "\n",
    "    hasher = None\n",
    "    if hash_type == 'MD5':\n",
    "        hasher = hashlib.md5()\n",
    "    elif hash_type == 'SHA1':\n",
    "        hasher == hashlib.sha1()\n",
    "    with open(filepath, 'rb') as f:\n",
    "        buf = f.read(blocksize)\n",
    "        while len(buf) > 0:\n",
    "            hasher.update(buf)\n",
    "            buf = f.read(blocksize)\n",
    "    return hasher.hexdigest()\n",
    "\n",
    "test_sbml = '../models/galactose/Galactose_v128_Nc20_dilution.xml'\n",
    "\n",
    "print('*** First loading ***')\n",
    "# r = rt.load_model(test_sbml)\n",
    "r = time_it(roadrunner.RoadRunner, test_sbml)\n",
    "\n",
    "print('*** Reloading ***')\n",
    "r = time_it(roadrunner.RoadRunner, test_sbml)\n",
    "\n",
    "print('*** Hash calculation MD5 ***')\n",
    "time_it(hash_for_file, test_sbml)"
   ]
  },
  {
   "cell_type": "code",
   "execution_count": null,
   "metadata": {
    "collapsed": false
   },
   "outputs": [
    {
     "name": "stdout",
     "output_type": "stream",
     "text": [
      "../models/galactose/Galactose_v128_Nc20_dilution.xml\n",
      "Time: 2.62833595276\n",
      "< roadrunner.Integrator() >\n",
      "  settings:\n",
      "      relative_tolerance: 0.00001\n",
      "      absolute_tolerance: 0.0000000001\n",
      "                   stiff: true\n",
      "       maximum_bdf_order: 5\n",
      "     maximum_adams_order: 12\n",
      "       maximum_num_steps: 20000\n",
      "       maximum_time_step: 0\n",
      "       minimum_time_step: 0\n",
      "       initial_time_step: 0\n",
      "          multiple_steps: false\n",
      "      variable_step_size: false\n",
      "\n",
      "*** stiff simulation ***\n",
      "< roadrunner.Integrator() >\n",
      "  settings:\n",
      "      relative_tolerance: 0.000001\n",
      "      absolute_tolerance: 1.5205308443374601e-21\n",
      "                   stiff: true\n",
      "       maximum_bdf_order: 5\n",
      "     maximum_adams_order: 12\n",
      "       maximum_num_steps: 20000\n",
      "       maximum_time_step: 0\n",
      "       minimum_time_step: 0\n",
      "       initial_time_step: 0\n",
      "          multiple_steps: false\n",
      "      variable_step_size: true\n",
      "\n",
      "Time: 1.7454969883"
     ]
    }
   ],
   "source": [
    "import roadrunner\n",
    "from roadrunner import SelectionRecord\n",
    "\n",
    "# import multiscale.examples.testdata as testdata\n",
    "print(test_sbml)\n",
    "\n",
    "# 31s, reload 2.7s (core), \n",
    "r = time_it(roadrunner.RoadRunner, test_sbml)\n",
    "integrator = r.getIntegrator()\n",
    "print(integrator)\n",
    "\n",
    "# set integrator settings\n",
    "rel_tol = 1E-6\n",
    "abs_tol = 1E-6 * min(r.model.getCompartmentVolumes())\n",
    "integrator.setValue('stiff', True)\n",
    "integrator.setValue('absolute_tolerance', abs_tol)\n",
    "integrator.setValue('relative_tolerance', rel_tol)\n",
    "integrator.setValue('variable_step_size', True)\n",
    "\n",
    "tend = 1000\n",
    "\n",
    "print('*** stiff simulation ***')\n",
    "print(integrator)\n",
    "time_it(r.simulate, start=0, end=tend)\n",
    "\n",
    "\n",
    "print('*** non-stiff simulation ***')\n",
    "integrator.setValue('stiff', False)\n",
    "print(integrator)\n",
    "r.reset(SelectionRecord.ALL)\n",
    "\n",
    "time_it(r.simulate, start=0, end=tend);\n"
   ]
  },
  {
   "cell_type": "code",
   "execution_count": null,
   "metadata": {
    "collapsed": true
   },
   "outputs": [],
   "source": []
  }
 ],
 "metadata": {
  "kernelspec": {
   "display_name": "Python 2",
   "language": "python",
   "name": "python2"
  },
  "language_info": {
   "codemirror_mode": {
    "name": "ipython",
    "version": 2
   },
   "file_extension": ".py",
   "mimetype": "text/x-python",
   "name": "python",
   "nbconvert_exporter": "python",
   "pygments_lexer": "ipython2",
   "version": "2.7.6"
  }
 },
 "nbformat": 4,
 "nbformat_minor": 0
}
