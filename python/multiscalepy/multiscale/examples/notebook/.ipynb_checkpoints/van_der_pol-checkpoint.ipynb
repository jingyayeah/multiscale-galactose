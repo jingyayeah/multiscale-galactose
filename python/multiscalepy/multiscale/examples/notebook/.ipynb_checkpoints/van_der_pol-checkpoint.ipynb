{
 "cells": [
  {
   "cell_type": "markdown",
   "metadata": {},
   "source": [
    "# Van der Pol oscillator\n",
    "*Matthias König*\n",
    "\n",
    "The Van der Pol oscillator is a non-conservative oscillator with non-linear damping. It is one of the standard models analysed in dynamics. In this tutorial the Van der Pol oscillator is analysed using SBML.\n",
    "\n",
    "http://en.wikipedia.org/wiki/Van_der_Pol_oscillator  \n",
    "http://www.opencor.ws/user/howToGetStarted.html\n",
    "\n",
    "## History\n",
    "The Van der Pol oscillator was originally proposed by the Dutch electrical engineer and physicist Balthasar van der Pol while he was working at Philips. Van der Pol found stable oscillations, which he called relaxation-oscillations[2] and are now known as limit cycles, in electrical circuits employing vacuum tubes. When these circuits were driven near the limit cycle they become entrained, i.e. the driving signal pulls the current along with it. Van der Pol and his colleague, van der Mark, reported in the September 1927 issue of Nature that at certain drive frequencies an irregular noise was heard. This irregular noise was always heard near the natural entrainment frequencies. This was one of the first discovered instances of deterministic chaos.\n",
    "\n",
    "The Van der Pol equation has a long history of being used in both the physical and biological sciences. For instance, in biology, Fitzhugh and Nagumo extended the equation in a planar field as a model for action potentials of neurons. \n",
    "\n",
    "## Equations\n",
    "The Van der Pol oscillator evolves in time according to the second-order differential equation\n",
    "\n",
    "$$\\frac{d^2x}{dt^2} - µ(1-x^2)\\frac{dx}{dt} + x = 0$$\n",
    "\n",
    "with initial conditions $x=−2$ and $\\frac{dx}{dt}=0$. $x$ is the position coordinate—which is a function of the time $t$, and $μ$ is a scalar parameter indicating the nonlinearity and the strength of the damping.\n",
    "\n",
    "To create a SBML file, we need to convert the second-order equation to two first-order equations by defining the velocity $\\frac{dx}{dt}$ as a new variable $y$:\n",
    "\n",
    "$$\\frac{dx}{dt}=y$$\n",
    "$$\\frac{dy}{dt}=\\mu(1-x^2)y-x$$\n",
    "\n",
    "The initial conditions are now $x=−2$ and $y=0$.\n",
    "\n",
    "## Requirements\n",
    "* `antimony`\n",
    "* `roadrunner`\n",
    "* `matplotlib`"
   ]
  },
  {
   "cell_type": "markdown",
   "metadata": {},
   "source": [
    "## Notebook settings\n",
    "In a first step general settings for the notebook are defined."
   ]
  },
  {
   "cell_type": "code",
   "execution_count": 32,
   "metadata": {
    "collapsed": true
   },
   "outputs": [],
   "source": [
    "from __future__ import print_function, division\n",
    "# print settings for notebook \n",
    "%matplotlib inline\n",
    "\n",
    "import matplotlib\n",
    "matplotlib.rcParams;  # available global parameters\n",
    "\n",
    "matplotlib.rcParams['figure.figsize'] = (9.0, 6.0)\n",
    "matplotlib.rcParams['axes.labelsize'] = 'medium'\n",
    "font = {'family' : 'sans-serif',\n",
    "        'weight' : 'normal', # bold\n",
    "        'size'   : 14}\n",
    "matplotlib.rc('font', **font)"
   ]
  },
  {
   "cell_type": "markdown",
   "metadata": {},
   "source": [
    "## SBML Model\n",
    "Now the model description of the Van der Pol oscillator in a standard format for computational models, the Systems Biology Markup Language ([SBML](www.sbml.org)) is created [Hucka2003]. This allows to analyse the model in a multitude of tools supporting SBML, to name a few\n",
    "\n",
    "* `COPASI`\n",
    "* `cy3sbml`\n",
    "\n",
    "The SBML for the above system of ordinary differential equations (ODEs) is created with [Antimony](http://antimony.sourceforge.net/): A modular human-readable, human-writeable model definition language [Smith?].\n",
    "\n",
    "We set the initial conditions $x=−2$ and $y=0$ and the damping parameter $mu=0$, i.e. no dampening."
   ]
  },
  {
   "cell_type": "code",
   "execution_count": 19,
   "metadata": {
    "collapsed": false
   },
   "outputs": [
    {
     "name": "stdout",
     "output_type": "stream",
     "text": [
      "../models/van_der_pol.xml\n"
     ]
    }
   ],
   "source": [
    "# create SBML\n",
    "import antimony\n",
    "\n",
    "model_id = 'van_der_pol'\n",
    "# ----------------------------\n",
    "model_str = '''\n",
    "model {}\n",
    "  \n",
    "var species x = 2; \n",
    "var species y = 0;\n",
    "const mu = 0;\n",
    "\n",
    "J1: -> x; y\n",
    "J2: -> y; mu *(1-x^2)*y - x\n",
    "\n",
    "end\n",
    "'''.format(model_id)\n",
    "# ----------------------------\n",
    "\n",
    "antimony.setBareNumbersAreDimensionless(True)\n",
    "antimony.loadAntimonyString(model_str)\n",
    "model_file = '../models/{}.xml'.format(model_id)\n",
    "antimony.writeSBMLFile(model_file, model_id)\n",
    "print(model_file)"
   ]
  },
  {
   "cell_type": "code",
   "execution_count": 20,
   "metadata": {
    "collapsed": false
   },
   "outputs": [
    {
     "name": "stdout",
     "output_type": "stream",
     "text": [
      "<?xml version=\"1.0\" encoding=\"UTF-8\"?>\n",
      "<!-- Created by libAntimony version v2.8.1 on 2016-01-14 15:13 with libSBML version 5.12.1. -->\n",
      "<sbml xmlns=\"http://www.sbml.org/sbml/level3/version1/core\" level=\"3\" version=\"1\">\n",
      "  <model id=\"van_der_pol\" name=\"van_der_pol\">\n",
      "    <listOfUnitDefinitions>\n",
      "      <unitDefinition id=\"dimensionless_litre\">\n",
      "        <listOfUnits>\n",
      "          <unit kind=\"dimensionless\" exponent=\"1\" scale=\"0\" multiplier=\"1\"/>\n",
      "          <unit kind=\"litre\" exponent=\"1\" scale=\"0\" multiplier=\"1\"/>\n",
      "        </listOfUnits>\n",
      "      </unitDefinition>\n",
      "    </listOfUnitDefinitions>\n",
      "    <listOfCompartments>\n",
      "      <compartment sboTerm=\"SBO:0000410\" id=\"default_compartment\" spatialDimensions=\"3\" size=\"1\" constant=\"true\"/>\n",
      "    </listOfCompartments>\n",
      "    <listOfSpecies>\n",
      "      <species id=\"x\" compartment=\"default_compartment\" initialConcentration=\"2\" substanceUnits=\"dimensionless_litre\" hasOnlySubstanceUnits=\"false\" boundaryCondition=\"false\" constant=\"false\"/>\n",
      "      <species id=\"y\" compartment=\"default_compartment\" initialConcentration=\"0\" substanceUnits=\"dimensionless_litre\" hasOnlySubstanceUnits=\"false\" boundaryCondition=\"false\" constant=\"false\"/>\n",
      "    </listOfSpecies>\n",
      "    <listOfParameters>\n",
      "      <parameter id=\"mu\" value=\"0\" units=\"dimensionless\" constant=\"true\"/>\n",
      "    </listOfParameters>\n",
      "    <listOfReactions>\n",
      "      <reaction id=\"J1\" reversible=\"true\" fast=\"false\">\n",
      "        <listOfProducts>\n",
      "          <speciesReference species=\"x\" stoichiometry=\"1\" constant=\"true\"/>\n",
      "        </listOfProducts>\n",
      "        <listOfModifiers>\n",
      "          <modifierSpeciesReference species=\"y\"/>\n",
      "        </listOfModifiers>\n",
      "        <kineticLaw>\n",
      "          <math xmlns=\"http://www.w3.org/1998/Math/MathML\">\n",
      "            <ci> y </ci>\n",
      "          </math>\n",
      "        </kineticLaw>\n",
      "      </reaction>\n",
      "      <reaction id=\"J2\" reversible=\"true\" fast=\"false\">\n",
      "        <listOfProducts>\n",
      "          <speciesReference species=\"y\" stoichiometry=\"1\" constant=\"true\"/>\n",
      "        </listOfProducts>\n",
      "        <listOfModifiers>\n",
      "          <modifierSpeciesReference species=\"x\"/>\n",
      "        </listOfModifiers>\n",
      "        <kineticLaw>\n",
      "          <math xmlns=\"http://www.w3.org/1998/Math/MathML\" xmlns:sbml=\"http://www.sbml.org/sbml/level3/version1/core\">\n",
      "            <apply>\n",
      "              <minus/>\n",
      "              <apply>\n",
      "                <times/>\n",
      "                <ci> mu </ci>\n",
      "                <apply>\n",
      "                  <minus/>\n",
      "                  <cn sbml:units=\"dimensionless\" type=\"integer\"> 1 </cn>\n",
      "                  <apply>\n",
      "                    <power/>\n",
      "                    <ci> x </ci>\n",
      "                    <cn sbml:units=\"dimensionless\" type=\"integer\"> 2 </cn>\n",
      "                  </apply>\n",
      "                </apply>\n",
      "                <ci> y </ci>\n",
      "              </apply>\n",
      "              <ci> x </ci>\n",
      "            </apply>\n",
      "          </math>\n",
      "        </kineticLaw>\n",
      "      </reaction>\n",
      "    </listOfReactions>\n",
      "  </model>\n",
      "</sbml>\n",
      "\n"
     ]
    }
   ],
   "source": [
    "# show SBML\n",
    "print(antimony.getSBMLString(model_id))"
   ]
  },
  {
   "cell_type": "markdown",
   "metadata": {},
   "source": [
    "### Validation\n",
    "Validation of the SBML model and display of problems with the file."
   ]
  },
  {
   "cell_type": "code",
   "execution_count": 30,
   "metadata": {
    "collapsed": false
   },
   "outputs": [
    {
     "name": "stdout",
     "output_type": "stream",
     "text": [
      " filename : ../models/van_der_pol.xml\n",
      " file size (byte) : 2856\n",
      " read time (ms) : 0.864029\n",
      " c-check time (ms) : 0.310183\n",
      " validation error(s) : 0\n",
      " consistency error(s): 0\n",
      " validation warning(s) : 0\n",
      " consistency warning(s): 0 \n",
      "\n"
     ]
    }
   ],
   "source": [
    "import multiscale.sbmlutils.validation as validation\n",
    "reload(validation)\n",
    "validation.validate_sbml(model_file, ucheck=False); # no unit checks"
   ]
  },
  {
   "cell_type": "markdown",
   "metadata": {},
   "source": [
    "## Simulation\n",
    "\n",
    "After the model definition the model can be be simulated.\n",
    "We can now use the defined model for some simulations. We use `roadrunner` for the simulations."
   ]
  },
  {
   "cell_type": "code",
   "execution_count": 31,
   "metadata": {
    "collapsed": false
   },
   "outputs": [
    {
     "name": "stdout",
     "output_type": "stream",
     "text": [
      "['time', '[x]', '[y]']\n",
      "--------------------------------------------------------------------------------\n",
      "<roadrunner.RoadRunner() { \n",
      "'this' : 0x3d4aae0\n",
      "'modelLoaded' : true\n",
      "'modelName' : van_der_pol\n",
      "'libSBMLVersion' : LibSBML Version: 5.11.0\n",
      "'jacobianStepSize' : 1e-05\n",
      "'conservedMoietyAnalysis' : false\n",
      "'simulateOptions' : \n",
      "< roadrunner.SimulateOptions() \n",
      "{ \n",
      "'this' : 0x439e4a0, \n",
      "'reset' : 0,\n",
      "'structuredResult' : 0,\n",
      "'copyResult' : 1,\n",
      "'steps' : 50,\n",
      "'start' : 0,\n",
      "'duration' : 5\n",
      "}>, \n",
      "'integrator' : \n",
      "< roadrunner.Integrator() >\n",
      "  settings:\n",
      "      relative_tolerance: 0.00000001\n",
      "      absolute_tolerance: 0.00000001\n",
      "                   stiff: true\n",
      "       maximum_bdf_order: 5\n",
      "     maximum_adams_order: 12\n",
      "       maximum_num_steps: 20000\n",
      "       maximum_time_step: 0\n",
      "       minimum_time_step: 0\n",
      "       initial_time_step: 0\n",
      "          multiple_steps: false\n",
      "      variable_step_size: true\n",
      "\n",
      "}>\n",
      "--------------------------------------------------------------------------------\n"
     ]
    }
   ],
   "source": [
    "import roadrunner\n",
    "import multiscale.odesim.simulate.roadrunner_tools as rt\n",
    "reload(rt)\n",
    "# load model in roadrunner\n",
    "r = roadrunner.RoadRunner(model_file)\n",
    "# what are the current selections\n",
    "print(r.selections)\n",
    "# make the integrator settings\n",
    "rt.set_integrator_settings(r)"
   ]
  },
  {
   "cell_type": "code",
   "execution_count": 35,
   "metadata": {
    "collapsed": false
   },
   "outputs": [
    {
     "name": "stdout",
     "output_type": "stream",
     "text": [
      "mu = 0.0\n"
     ]
    },
    {
     "data": {
      "image/png": "[encoded data removed]",
      "text/plain": [
       "<matplotlib.figure.Figure at 0x7f1c0119ae90>"
      ]
     },
     "metadata": {},
     "output_type": "display_data"
    }
   ],
   "source": [
    "# Simulation \n",
    "print('mu = {}'.format(r['mu']))\n",
    "tend = 50\n",
    "s = r.simulate(0, tend)\n",
    "\n",
    "# create plot\n",
    "import matplotlib.pylab as plt\n",
    "plt.subplot(121)\n",
    "plt.plot(s['time'], s['[x]'], color='blue', label='x')\n",
    "plt.plot(s['time'], s['[y]'], color='black', label='y')\n",
    "plt.legend()\n",
    "plt.xlabel('time')\n",
    "plt.ylabel('x , y');\n",
    "plt.xlim([0,tend])\n",
    "plt.ylim([-3,3])\n",
    "\n",
    "plt.subplot(122)\n",
    "plt.plot(s['[x]'], s['[y]'], color=\"black\")\n",
    "plt.xlabel('x')\n",
    "plt.ylabel('y');\n",
    "plt.xlim([-3,3])\n",
    "plt.ylim([-3,3]);"
   ]
  },
  {
   "cell_type": "markdown",
   "metadata": {},
   "source": [
    "## Model behavior\n",
    "\n",
    "Evolution of the limit cycle in the phase plane. The limit cycle begins as circle and, with varying $\\mu$, become increasingly sharp. An example of a [Relaxation oscillator](http://en.wikipedia.org/wiki/Relaxation_oscillator).\n",
    "\n",
    "The Van der Pol oscillator shows an interesting behavior depending on the dampin parameter $\\mu$.\n",
    "\n",
    "![phase plane](http://upload.wikimedia.org/wikipedia/commons/thumb/f/fa/VanderPol-lc.svg/220px-VanderPol-lc.svg.png \"Van der Pol phase plane\")"
   ]
  },
  {
   "cell_type": "code",
   "execution_count": 39,
   "metadata": {
    "collapsed": false
   },
   "outputs": [
    {
     "name": "stdout",
     "output_type": "stream",
     "text": [
      "['time', '[x]', '[y]', 'J1', 'J2']\n",
      "['time', '[x]', '[y]', 'J1', 'J2']\n"
     ]
    }
   ],
   "source": [
    "# add the additional values of interest to the selection\n",
    "print(r.selections)\n",
    "r.selections = ['time'] + ['[{}]'.format(sid) for sid in r.model.getFloatingSpeciesIds()] \\\n",
    "                            + r.model.getReactionIds()\n",
    "print(r.selections)"
   ]
  },
  {
   "cell_type": "code",
   "execution_count": 42,
   "metadata": {
    "collapsed": false
   },
   "outputs": [
    {
     "name": "stdout",
     "output_type": "stream",
     "text": [
      "0\n",
      "Integration time: 0.0126299858093\n",
      "0.01\n",
      "Integration time: 0.0153958797455\n",
      "0.5\n",
      "Integration time: 0.0330009460449\n",
      "1.0\n",
      "Integration time: 0.0435178279877\n",
      "1.5\n",
      "Integration time: 0.0480110645294\n",
      "2.0\n",
      "Integration time: 0.0527539253235\n",
      "2.5\n",
      "Integration time: 0.0533149242401\n",
      "3.0\n",
      "Integration time: 0.0570800304413\n",
      "3.5\n",
      "Integration time: 0.0560970306396\n",
      "4.0\n",
      "Integration time: 0.0545349121094\n"
     ]
    }
   ],
   "source": [
    "# change the control parameter mu in the model\n",
    "import numpy as np\n",
    "results = []\n",
    "mu_values = [0, 0.01, 0.5, 1.0, 1.5, 2.0, 2.5, 3.0, 3.5, 4.0]\n",
    "for mu in mu_values:\n",
    "    print(mu)\n",
    "    s, gp = rt.simulate(r, t_start=0, t_stop=100, parameters={'mu': mu})\n",
    "    results.append(s)"
   ]
  },
  {
   "cell_type": "code",
   "execution_count": 46,
   "metadata": {
    "collapsed": false
   },
   "outputs": [
    {
     "data": {
      "text/plain": [
       "(-7, 7)"
      ]
     },
     "execution_count": 46,
     "metadata": {},
     "output_type": "execute_result"
    },
    {
     "data": {
      "image/png": "[encoded data removed]",
      "text/plain": [
       "<matplotlib.figure.Figure at 0x7f1c00d1a650>"
      ]
     },
     "metadata": {},
     "output_type": "display_data"
    }
   ],
   "source": [
    "plt.figure(figsize=(5,10))\n",
    "for k, mu in enumerate(mu_values):\n",
    "    res = results[k]\n",
    "    plt.plot(res['[x]'], res['[y]'], color='black')\n",
    "plt.title('Phase plane of limit cycle')\n",
    "plt.xlabel('x')\n",
    "plt.ylabel('y')\n",
    "plt.xlim([-2,2])\n",
    "plt.ylim([-7,7])"
   ]
  },
  {
   "cell_type": "code",
   "execution_count": 47,
   "metadata": {
    "collapsed": true
   },
   "outputs": [],
   "source": [
    "# calculating the derivatives for given concentrations\n",
    "def dxdt(rr, X, Y): \n",
    "    DX = np.zeros_like(X)\n",
    "    DY = np.zeros_like(Y)\n",
    "    for k, _ in np.ndenumerate(X):\n",
    "        # print('X[k], Y[k]', X[k], Y[k])\n",
    "        rr['[x]'], rr['[y]'] = X[k], Y[k] \n",
    "        DX[k], DY[k] = rr['J1'], rr['J2']\n",
    "    return DX, DY"
   ]
  },
  {
   "cell_type": "code",
   "execution_count": 49,
   "metadata": {
    "collapsed": true
   },
   "outputs": [],
   "source": [
    "def phase_portrait(r, x=np.linspace(-4, 4, 20), y=np.linspace(-7, 7, 20), figsize = (5,8)):\n",
    "    \n",
    "    fig2 = plt.figure(figsize=figsize)\n",
    "    ax2 = fig2.add_subplot(1,1,1)\n",
    "\n",
    "    # quiverplot\n",
    "    # define a grid and compute direction at each point\n",
    "    X1 , Y1  = np.meshgrid(x, y)                    # create a grid\n",
    "    DX1, DY1 = dxdt(r, X1, Y1)                   # compute J1 and J2 (use roadrunner as calculator)\n",
    "\n",
    "    M = (np.hypot(DX1, DY1))                        # norm the rate \n",
    "    M[ M == 0] = 1.                                 # avoid zero division errors \n",
    "    DX1 /= M                                        # normalize each arrows\n",
    "    DY1 /= M\n",
    "\n",
    "    ax2.quiver(X1, Y1, DX1, DY1, M, pivot='mid')\n",
    "    # ax2.xaxis.label = 'x'\n",
    "    # ax2.yaxis.label = 'y'\n",
    "    # ax2.legend()\n",
    "    ax2.grid()"
   ]
  },
  {
   "cell_type": "code",
   "execution_count": 51,
   "metadata": {
    "collapsed": false
   },
   "outputs": [
    {
     "name": "stdout",
     "output_type": "stream",
     "text": [
      "0.3\n"
     ]
    },
    {
     "ename": "NameError",
     "evalue": "global name 'rr' is not defined",
     "output_type": "error",
     "traceback": [
      "\u001b[1;31m---------------------------------------------------------------------------\u001b[0m",
      "\u001b[1;31mNameError\u001b[0m                                 Traceback (most recent call last)",
      "\u001b[1;32m<ipython-input-51-3e3be18c7f41>\u001b[0m in \u001b[0;36m<module>\u001b[1;34m()\u001b[0m\n\u001b[0;32m      2\u001b[0m     \u001b[1;32mprint\u001b[0m\u001b[1;33m(\u001b[0m\u001b[0mmu\u001b[0m\u001b[1;33m)\u001b[0m\u001b[1;33m\u001b[0m\u001b[0m\n\u001b[0;32m      3\u001b[0m     \u001b[0mr\u001b[0m\u001b[1;33m[\u001b[0m\u001b[1;34m'mu'\u001b[0m\u001b[1;33m]\u001b[0m \u001b[1;33m=\u001b[0m \u001b[0mmu\u001b[0m\u001b[1;33m\u001b[0m\u001b[0m\n\u001b[1;32m----> 4\u001b[1;33m     \u001b[0mphase_portrait\u001b[0m\u001b[1;33m(\u001b[0m\u001b[0mr\u001b[0m\u001b[1;33m,\u001b[0m \u001b[0mfigsize\u001b[0m\u001b[1;33m=\u001b[0m\u001b[1;33m(\u001b[0m\u001b[1;36m4\u001b[0m\u001b[1;33m,\u001b[0m\u001b[1;36m4\u001b[0m\u001b[1;33m)\u001b[0m\u001b[1;33m)\u001b[0m\u001b[1;33m\u001b[0m\u001b[0m\n\u001b[0m\u001b[0;32m      5\u001b[0m     \u001b[0mtrajectory\u001b[0m\u001b[1;33m(\u001b[0m\u001b[0mmu\u001b[0m\u001b[1;33m,\u001b[0m \u001b[0mx0\u001b[0m\u001b[1;33m=\u001b[0m\u001b[1;36m2.3\u001b[0m\u001b[1;33m,\u001b[0m \u001b[0my0\u001b[0m\u001b[1;33m=\u001b[0m\u001b[1;36m4.0\u001b[0m\u001b[1;33m)\u001b[0m\u001b[1;33m\u001b[0m\u001b[0m\n",
      "\u001b[1;32m<ipython-input-49-f0f9edcec2ce>\u001b[0m in \u001b[0;36mphase_portrait\u001b[1;34m(r, x, y, figsize)\u001b[0m\n\u001b[0;32m      7\u001b[0m     \u001b[1;31m# define a grid and compute direction at each point\u001b[0m\u001b[1;33m\u001b[0m\u001b[1;33m\u001b[0m\u001b[0m\n\u001b[0;32m      8\u001b[0m     \u001b[0mX1\u001b[0m \u001b[1;33m,\u001b[0m \u001b[0mY1\u001b[0m  \u001b[1;33m=\u001b[0m \u001b[0mnp\u001b[0m\u001b[1;33m.\u001b[0m\u001b[0mmeshgrid\u001b[0m\u001b[1;33m(\u001b[0m\u001b[0mx\u001b[0m\u001b[1;33m,\u001b[0m \u001b[0my\u001b[0m\u001b[1;33m)\u001b[0m                    \u001b[1;31m# create a grid\u001b[0m\u001b[1;33m\u001b[0m\u001b[0m\n\u001b[1;32m----> 9\u001b[1;33m     \u001b[0mDX1\u001b[0m\u001b[1;33m,\u001b[0m \u001b[0mDY1\u001b[0m \u001b[1;33m=\u001b[0m \u001b[0mdxdt\u001b[0m\u001b[1;33m(\u001b[0m\u001b[0mrr\u001b[0m\u001b[1;33m,\u001b[0m \u001b[0mX1\u001b[0m\u001b[1;33m,\u001b[0m \u001b[0mY1\u001b[0m\u001b[1;33m)\u001b[0m                   \u001b[1;31m# compute J1 and J2 (use roadrunner as calculator)\u001b[0m\u001b[1;33m\u001b[0m\u001b[0m\n\u001b[0m\u001b[0;32m     10\u001b[0m \u001b[1;33m\u001b[0m\u001b[0m\n\u001b[0;32m     11\u001b[0m     \u001b[0mM\u001b[0m \u001b[1;33m=\u001b[0m \u001b[1;33m(\u001b[0m\u001b[0mnp\u001b[0m\u001b[1;33m.\u001b[0m\u001b[0mhypot\u001b[0m\u001b[1;33m(\u001b[0m\u001b[0mDX1\u001b[0m\u001b[1;33m,\u001b[0m \u001b[0mDY1\u001b[0m\u001b[1;33m)\u001b[0m\u001b[1;33m)\u001b[0m                        \u001b[1;31m# norm the rate\u001b[0m\u001b[1;33m\u001b[0m\u001b[0m\n",
      "\u001b[1;31mNameError\u001b[0m: global name 'rr' is not defined"
     ]
    },
    {
     "data": {
      "image/png": "[encoded data removed]",
      "text/plain": [
       "<matplotlib.figure.Figure at 0x7f1c00c190d0>"
      ]
     },
     "metadata": {},
     "output_type": "display_data"
    }
   ],
   "source": [
    "for mu in [0.3, 0.0, 0.3, 4.0]:\n",
    "    print(mu)\n",
    "    r['mu'] = mu\n",
    "    phase_portrait(r, figsize=(4,4))\n",
    "    trajectory(mu, x0=2.3, y0=4.0)"
   ]
  },
  {
   "cell_type": "markdown",
   "metadata": {},
   "source": [
    "## Phase plane and trajectories\n",
    "\n",
    "We can now analyse the phase plane and the trajectories for different damping values $mu$."
   ]
  },
  {
   "cell_type": "code",
   "execution_count": null,
   "metadata": {
    "collapsed": true
   },
   "outputs": [],
   "source": [
    "mu = 0.3  # 0.0, 0.3, 4.0\n",
    "\n",
    "# create phase portrait\n",
    "rr['mu'] = mu\n",
    "phase_portrait(rr)\n",
    "# single trajectories\n",
    "def trajectory(mu, x0=2.0, y0=0.0, color=\"black\"):\n",
    "    s, _ = rt.simulation(rr, t_start=0, t_stop=100, parameters = {'mu' : mu}, init_concentrations={'x':x0, 'y':y0})\n",
    "    plt.plot(s['[x]'], s['[y]'], color=color)\n",
    "\n",
    "\n",
    "trajectory(mu, x0=2.3, y0=4.0)\n",
    "trajectory(mu, x0=0.2, y0=0.4)\n",
    "trajectory(mu, x0=-2.0, y0=6.0)\n",
    "trajectory(mu, x0=-2.0, y0=-6.0)\n",
    "# limit cycle\n",
    "trajectory(mu, color=\"blue\")"
   ]
  },
  {
   "cell_type": "code",
   "execution_count": null,
   "metadata": {
    "collapsed": true
   },
   "outputs": [],
   "source": []
  }
 ],
 "metadata": {
  "kernelspec": {
   "display_name": "Python 2",
   "language": "python",
   "name": "python2"
  },
  "language_info": {
   "codemirror_mode": {
    "name": "ipython",
    "version": 2
   },
   "file_extension": ".py",
   "mimetype": "text/x-python",
   "name": "python",
   "nbconvert_exporter": "python",
   "pygments_lexer": "ipython2",
   "version": "2.7.6"
  }
 },
 "nbformat": 4,
 "nbformat_minor": 0
}
