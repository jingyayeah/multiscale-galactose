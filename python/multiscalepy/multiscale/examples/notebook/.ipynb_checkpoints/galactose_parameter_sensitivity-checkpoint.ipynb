{
 "cells": [
  {
   "cell_type": "markdown",
   "metadata": {},
   "source": [
    "# Parameter sensitivity\n",
    "\n",
    "Analysis of the effect of parameter changes on the output of standard simulations. The single cell clearance model of galactose metabolism is tested."
   ]
  },
  {
   "cell_type": "code",
   "execution_count": 1,
   "metadata": {
    "collapsed": false
   },
   "outputs": [],
   "source": [
    "# notebook setup\n",
    "from __future__ import print_function, division\n",
    "%matplotlib inline"
   ]
  },
  {
   "cell_type": "code",
   "execution_count": 2,
   "metadata": {
    "collapsed": true
   },
   "outputs": [],
   "source": [
    "# simulation & model database\n",
    "import django\n",
    "django.setup()\n",
    "# import the database API functions and tools\n",
    "import simapp.db.api as db_api\n",
    "import multiscale.odesim.db.tools as db_tools"
   ]
  },
  {
   "cell_type": "code",
   "execution_count": 3,
   "metadata": {
    "collapsed": false
   },
   "outputs": [
    {
     "name": "stderr",
     "output_type": "stream",
     "text": [
      "WARNING:root:CompModel exists with model_id, model is not created: galactose_29_annotated\n",
      "/home/mkoenig/git/multiscale-galactose/python/multiscalepy/multiscale/multiscalesite/simapp/models.py:143: UserWarning: CompModel exists with model_id, model is not created: galactose_29_annotated\n",
      "  warnings.warn(warn_string)\n",
      "\n",
      "WARNING:py.warnings:/home/mkoenig/git/multiscale-galactose/python/multiscalepy/multiscale/multiscalesite/simapp/models.py:143: UserWarning: CompModel exists with model_id, model is not created: galactose_29_annotated\n",
      "  warnings.warn(warn_string)\n",
      "\n"
     ]
    },
    {
     "name": "stdout",
     "output_type": "stream",
     "text": [
      "/home/mkoenig/git/multiscale-galactose/python/multiscalepy/multiscale/examples/models/galactose/galactose_29_annotated.xml\n"
     ]
    }
   ],
   "source": [
    "# create model in database\n",
    "from multiscale.examples.testdata import galactose_singlecell_sbml\n",
    "print(galactose_singlecell_sbml)\n",
    "comp_model = db_api.create_model(filepath=galactose_singlecell_sbml)"
   ]
  },
  {
   "cell_type": "code",
   "execution_count": 4,
   "metadata": {
    "collapsed": false
   },
   "outputs": [
    {
     "name": "stdout",
     "output_type": "stream",
     "text": [
      "<SBML: galactose_29_annotated>\n"
     ]
    }
   ],
   "source": [
    "# TODO: fix how to get models !\n",
    "if not comp_model:\n",
    "    from simapp.models import CompModel\n",
    "    comp_models = CompModel.objects.filter(model_id=\"galactose_29_annotated\")\n",
    "    comp_model = comp_models[0]\n",
    "    print(comp_model)"
   ]
  },
  {
   "cell_type": "code",
   "execution_count": 5,
   "metadata": {
    "collapsed": false
   },
   "outputs": [
    {
     "data": {
      "text/plain": [
       "'1.4.2; Compiler: gcc 4.8.4, C++ version: 199711; JIT Compiler: LLVM-3.4; Date: Jan  7 2016, 09:12:52'"
      ]
     },
     "execution_count": 5,
     "metadata": {},
     "output_type": "execute_result"
    }
   ],
   "source": [
    "import roadrunner\n",
    "roadrunner.getVersionStr()"
   ]
  },
  {
   "cell_type": "markdown",
   "metadata": {},
   "source": [
    "## Reference simulation\n",
    "Reference simulation against which the parameter changes are tested. This is a standard galactose challenge."
   ]
  },
  {
   "cell_type": "code",
   "execution_count": 28,
   "metadata": {
    "collapsed": false
   },
   "outputs": [
    {
     "name": "stdout",
     "output_type": "stream",
     "text": [
      "Loading : /home/mkoenig/multiscale-galactose-results/django/model/galactose_29_annotated.xml\n",
      "SBML load time: 0.156339883804\n",
      "['time', '[c__ppi]', '[e__h2oM]', '[c__glc1p]', '[c__udpgal]', '[c__udp]', '[c__atp]', '[c__utp]', '[e__gal]', '[c__gal1pM]', '[c__gal]', '[c__galtolM]', '[e__galM]', '[c__glc6p]', '[c__adp]', '[h__h2oM]', '[c__nadp]', '[c__udpgalM]', '[c__galM]', '[c__galtol]', '[c__nadph]', '[c__glc6pM]', '[c__glc1pM]', '[c__udpglc]', '[c__gal1p]', '[c__udpglcM]', '[c__phos]']\n",
      "< roadrunner.Integrator() >\n",
      "\n",
      "< roadrunner.SimulateOptions() \n",
      "{ \n",
      "'this' : 0x2c1bf40, \n",
      "'reset' : 0,\n",
      "'structuredResult' : 0,\n",
      "'copyResult' : 1,\n",
      "'steps' : 50,\n",
      "'start' : 0,\n",
      "'duration' : 5\n",
      "}>\n",
      "Integration time: 0.0075409412384\n",
      "<roadrunner.RoadRunner() { \n",
      "'this' : 0x27c1440\n",
      "'modelLoaded' : true\n",
      "'modelName' : galactose_29\n",
      "'libSBMLVersion' : LibSBML Version: 5.11.0\n",
      "'jacobianStepSize' : 1e-05\n",
      "'conservedMoietyAnalysis' : false\n",
      "'simulateOptions' : \n",
      "< roadrunner.SimulateOptions() \n",
      "{ \n",
      "'this' : 0x2c1bf40, \n",
      "'reset' : 0,\n",
      "'structuredResult' : 0,\n",
      "'copyResult' : 1,\n",
      "'steps' : 50,\n",
      "'start' : 0,\n",
      "'duration' : 1000\n",
      "}>, \n",
      "'integrator' : \n",
      "< roadrunner.Integrator() >\n",
      "\n",
      "}>\n",
      "cvode\n",
      "relative_tolerance : 1e-08\n",
      "absolute_tolerance : 2.35e-23\n",
      "stiff : True\n",
      "maximum_bdf_order : 5\n",
      "maximum_adams_order : 12\n",
      "maximum_num_steps : 20000\n",
      "maximum_time_step : 0.0\n",
      "minimum_time_step : 0.0\n",
      "initial_time_step : 0.0\n",
      "multiple_steps : False\n",
      "variable_step_size : True\n",
      "None\n"
     ]
    },
    {
     "data": {
      "image/png": "[encoded data removed]",
      "text/plain": [
       "<matplotlib.figure.Figure at 0x7fbe9b745dd0>"
      ]
     },
     "metadata": {},
     "output_type": "display_data"
    }
   ],
   "source": [
    "# standard simulation \n",
    "import multiscale.odesim.simulate.roadrunner_tools as rt\n",
    "reload(rt)\n",
    "r = rt.load_model(comp_model.filepath)\n",
    "# r = roadrunner.RoadRunner(comp_model.filepath)\n",
    "\n",
    "r.selections = ['time'] + ['[{}]'.format(s) for s in rr.model.getFloatingSpeciesIds()]\n",
    "print(r.selections)\n",
    "\n",
    "# simulate\n",
    "s = rt.simulate(r, 0, 1000)\n",
    "print(r)\n",
    "print(rt.print_integrator_settings(r))\n",
    "r.plot()"
   ]
  },
  {
   "cell_type": "markdown",
   "metadata": {},
   "source": [
    "## Parameter variability analysis\n",
    "\n",
    "Vary all single parameters in the model between [0.95-1.05] the original value."
   ]
  },
  {
   "cell_type": "code",
   "execution_count": null,
   "metadata": {
    "collapsed": false
   },
   "outputs": [],
   "source": [
    "# These are the parameters to vary\n",
    "parameter_ids = rr.model.getGlobalParameterIds()\n",
    "parameter_ids"
   ]
  },
  {
   "cell_type": "code",
   "execution_count": null,
   "metadata": {
    "collapsed": false
   },
   "outputs": [],
   "source": [
    "# get units from the sbml\n",
    "import libsbml\n",
    "doc = libsbml.readSBML(demo_filepath)\n",
    "sbml_model = doc.getModel()\n",
    "units = {}\n",
    "for pid in parameter_ids: \n",
    "    p = sbml_model.getParameter(pid)\n",
    "    unit = p.getUnits()\n",
    "    units[pid] = unit\n",
    "units"
   ]
  },
  {
   "cell_type": "code",
   "execution_count": null,
   "metadata": {
    "collapsed": false
   },
   "outputs": [],
   "source": [
    "# get the original values for all parameters\n",
    "values = {pid: rr[pid] for pid in parameter_ids}\n",
    "values"
   ]
  },
  {
   "cell_type": "code",
   "execution_count": null,
   "metadata": {
    "collapsed": false
   },
   "outputs": [],
   "source": [
    "# now we can setup the single variations\n",
    "from multiscale.odesim.dist.samples import Sample, SampleParameter\n",
    "factors = [0.90, 1.10]\n",
    "samples = []\n",
    "for pid in parameter_ids:\n",
    "    for f in factors:\n",
    "        # create an empty sample\n",
    "        s = Sample()\n",
    "        # Set the parameters to the values\n",
    "        sp = SampleParameter(pid, f * rr[pid], unit=units[pid], \\\n",
    "                             parameter_type=db_api.ParameterType.GLOBAL_PARAMETER)\n",
    "        s.add_parameter(sp)\n",
    "        samples.append(s)\n",
    "\n",
    "samples"
   ]
  },
  {
   "cell_type": "code",
   "execution_count": null,
   "metadata": {
    "collapsed": false
   },
   "outputs": [],
   "source": [
    "# We want step based integration in the interval [0.0, 20.0]\n",
    "settings_dict = {db_api.SettingKey.VAR_STEPS: False,\\\n",
    "                 db_api.SettingKey.T_START: 0.0,\\\n",
    "                 db_api.SettingKey.T_END: 20.0, \\\n",
    "                 db_api.SettingKey.STEPS: 100}\n",
    "\n",
    "# For the tolerances, ... we use the default settings\n",
    "settings = db_api.create_settings(settings_dict)\n",
    "for setting in settings:\n",
    "    print(setting)"
   ]
  },
  {
   "cell_type": "code",
   "execution_count": null,
   "metadata": {
    "collapsed": true
   },
   "outputs": [],
   "source": [
    "method = db_api.create_method(method_type=db_api.MethodType.ODE, settings=settings)"
   ]
  },
  {
   "cell_type": "code",
   "execution_count": null,
   "metadata": {
    "collapsed": true
   },
   "outputs": [],
   "source": [
    "task = db_api.create_task(comp_model, method=method, info=\"Single parameter variation {}.\".format(factors))"
   ]
  },
  {
   "cell_type": "code",
   "execution_count": null,
   "metadata": {
    "collapsed": false
   },
   "outputs": [],
   "source": [
    "from django.core.exceptions import ValidationError\n",
    "try:\n",
    "    # add the simulations to the task\n",
    "    simulations = db_tools.create_simulations_from_samples(task, samples)\n",
    "    # finalize task, so no additional simulations can be added\n",
    "    task.finalize_status()\n",
    "except ValidationError:\n",
    "    simulations = task.simulations.all()\n",
    "simulations\n",
    "print('TaskStatus:', task.status_str)"
   ]
  },
  {
   "cell_type": "code",
   "execution_count": null,
   "metadata": {
    "collapsed": false
   },
   "outputs": [],
   "source": [
    "len(simulations)"
   ]
  },
  {
   "cell_type": "markdown",
   "metadata": {},
   "source": [
    "### Solve the ODE system\n",
    "\n",
    "Now we are running the solver on the defined problems."
   ]
  },
  {
   "cell_type": "code",
   "execution_count": null,
   "metadata": {
    "collapsed": true
   },
   "outputs": [],
   "source": [
    "from multiscale.odesim.simulate import solve"
   ]
  },
  {
   "cell_type": "code",
   "execution_count": null,
   "metadata": {
    "collapsed": false
   },
   "outputs": [],
   "source": [
    "solve.run_simulations(simulations, task)"
   ]
  },
  {
   "cell_type": "code",
   "execution_count": null,
   "metadata": {
    "collapsed": true
   },
   "outputs": [],
   "source": [
    "# plot the results\n",
    "from simapp.models import Result\n",
    "import matplotlib.pylab as plt\n",
    "plt_fontsize = 30"
   ]
  },
  {
   "cell_type": "code",
   "execution_count": null,
   "metadata": {
    "collapsed": false
   },
   "outputs": [],
   "source": [
    "# Load the HDF5 files and plot them\n",
    "from multiscale.odesim.simulate import solve_io\n",
    "reload(solve_io)\n",
    "plt.figure(figsize=(20,14))\n",
    "for sim in simulations:\n",
    "    result = Result.objects.get(simulation=sim, result_type=db_api.ResultType.HDF5)\n",
    "    data, header = solve_io.load_hdf5(result.filepath)\n",
    "    plt.plot(data[:,0], data[:,1:], '-', color='black')\n",
    "    \n",
    "plt.xlabel('time [s]', fontsize=plt_fontsize)\n",
    "plt.ylabel('species [mM]', fontsize=plt_fontsize);"
   ]
  },
  {
   "cell_type": "markdown",
   "metadata": {},
   "source": [
    "## Double parameter variation\n",
    "\n",
    "For comparison all double parameter changes in the model are performed.  \n",
    "How much larger are the combined effects of parameter changes?"
   ]
  },
  {
   "cell_type": "code",
   "execution_count": null,
   "metadata": {
    "collapsed": false
   },
   "outputs": [],
   "source": [
    "# now we can setup the double variations\n",
    "from multiscale.odesim.dist.samples import Sample, SampleParameter\n",
    "samples_double = []\n",
    "for pid1 in parameter_ids:\n",
    "    for pid2 in parameter_ids:\n",
    "        if pid1 == pid2:\n",
    "            continue\n",
    "        for f1 in factors:\n",
    "            for f2 in factors:\n",
    "        \n",
    "                # create an empty sample\n",
    "                s = Sample()\n",
    "                # Set first parameter\n",
    "                sp1 = SampleParameter(pid1, f1 * rr[pid1], unit=units[pid1], \\\n",
    "                             parameter_type=db_api.ParameterType.GLOBAL_PARAMETER)\n",
    "                # Set second parameter\n",
    "                sp2 = SampleParameter(pid2, f2 * rr[pid2], unit=units[pid2], \\\n",
    "                             parameter_type=db_api.ParameterType.GLOBAL_PARAMETER)\n",
    "                s.add_parameters([sp1, sp2])\n",
    "                samples_double.append(s)\n",
    "print('Number of parameters:', len(parameter_ids))                \n",
    "print('Number of samples:', len(samples_double))"
   ]
  },
  {
   "cell_type": "code",
   "execution_count": null,
   "metadata": {
    "collapsed": true
   },
   "outputs": [],
   "source": [
    "task_double = db_api.create_task(comp_model, method=method, info=\"Double parameter variation {}.\".format(factors))"
   ]
  },
  {
   "cell_type": "code",
   "execution_count": null,
   "metadata": {
    "collapsed": true
   },
   "outputs": [],
   "source": [
    "# Removing objects from the database\n",
    "# from simapp.models import Task\n",
    "# task_temp = Task.objects.get(pk=64)\n",
    "# task_temp.delete()\n",
    "# task_double.info = \"Double parameter variation {}.\".format(factors)\n",
    "# task_double.save()"
   ]
  },
  {
   "cell_type": "code",
   "execution_count": null,
   "metadata": {
    "collapsed": false
   },
   "outputs": [],
   "source": [
    "print('TaskStatus:', task.status_str)\n",
    "from django.core.exceptions import ValidationError\n",
    "try:\n",
    "    # add the simulations to the task\n",
    "    simulations_double = db_tools.create_simulations_from_samples(task_double, samples_double)\n",
    "    # finalize task, so no additional simulations can be added\n",
    "    task_double.finalize_status()\n",
    "except ValidationError:\n",
    "    simulations_double = task_double.simulations.all()\n",
    "simulations\n",
    "print('TaskStatus:', task.status_str)"
   ]
  },
  {
   "cell_type": "code",
   "execution_count": null,
   "metadata": {
    "collapsed": false
   },
   "outputs": [],
   "source": [
    "import time\n",
    "start = time.time()\n",
    "solve.run_simulations(simulations_double, task_double)\n",
    "duration = time.time() - start\n",
    "print('Total time:', duration)"
   ]
  },
  {
   "cell_type": "code",
   "execution_count": null,
   "metadata": {
    "collapsed": false
   },
   "outputs": [],
   "source": [
    "# Load the HDF5 files and plot them\n",
    "from multiscale.odesim.simulate import solve_io\n",
    "reload(solve_io)\n",
    "plt.figure(figsize=(20,14))\n",
    "for sim in simulations_double:\n",
    "    result = Result.objects.get(simulation=sim, result_type=db_api.ResultType.HDF5)\n",
    "    data, header = solve_io.load_hdf5(result.filepath)\n",
    "    plt.plot(data[:,0], data[:,1:], '-', color='grey')\n",
    "    \n",
    "for sim in simulations:\n",
    "    result = Result.objects.get(simulation=sim, result_type=db_api.ResultType.HDF5)\n",
    "    data, header = solve_io.load_hdf5(result.filepath)\n",
    "    plt.plot(data[:,0], data[:,1:], '-', color='black')\n",
    "    \n",
    "plt.xlabel('time [s]', fontsize=plt_fontsize)\n",
    "plt.ylabel('species [mM]', fontsize=plt_fontsize)"
   ]
  },
  {
   "cell_type": "code",
   "execution_count": null,
   "metadata": {
    "collapsed": true
   },
   "outputs": [],
   "source": []
  }
 ],
 "metadata": {
  "kernelspec": {
   "display_name": "Python 2",
   "language": "python",
   "name": "python2"
  },
  "language_info": {
   "codemirror_mode": {
    "name": "ipython",
    "version": 2
   },
   "file_extension": ".py",
   "mimetype": "text/x-python",
   "name": "python",
   "nbconvert_exporter": "python",
   "pygments_lexer": "ipython2",
   "version": "2.7.6"
  }
 },
 "nbformat": 4,
 "nbformat_minor": 0
}
