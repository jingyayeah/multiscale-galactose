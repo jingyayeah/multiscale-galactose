{
 "cells": [
  {
   "cell_type": "markdown",
   "metadata": {},
   "source": [
    "# Event triggering\n",
    "Antimony based model with event triggered at certain event times.\n",
    "The event times occur at exactly the same timepoint, which can be problematic."
   ]
  },
  {
   "cell_type": "code",
   "execution_count": 1,
   "metadata": {
    "collapsed": true
   },
   "outputs": [],
   "source": [
    "import ipywidgets\n",
    "ipywidgets.FloatText(min=0, max=0)"
   ]
  },
  {
   "cell_type": "code",
   "execution_count": null,
   "metadata": {
    "collapsed": false
   },
   "outputs": [
    {
     "name": "stderr",
     "output_type": "stream",
     "text": [
      "/usr/local/lib/python2.7/dist-packages/IPython/html.py:14: ShimWarning: The `IPython.html` package has been deprecated. You should import from `notebook` instead. `IPython.html.widgets` has moved to `ipywidgets`.\n",
      "  \"`IPython.html.widgets` has moved to `ipywidgets`.\", ShimWarning)\n"
     ]
    }
   ],
   "source": [
    "%matplotlib inline\n",
    "import tellurium as te\n",
    "from tellurium.widgets import ParameterSlider\n",
    "\n",
    "model = '''\n",
    "      model pathway()\n",
    "        S1 -> S2; k1*S1 - k2*S2 # Reversible term added here\n",
    "\n",
    "        # Initialize values\n",
    "        S1 = 5; S2 = 0;\n",
    "        k1 = 0.1;  k2 = 0.05;\n",
    "\n",
    "      end\n",
    "'''\n",
    "r = te.loadAntimonyModel(model)\n",
    "ParameterSlider(r, paramIds=['k1'])"
   ]
  },
  {
   "cell_type": "code",
   "execution_count": null,
   "metadata": {
    "collapsed": false
   },
   "outputs": [],
   "source": [
    "from __future__ import print_function, division\n",
    "\n",
    "import tellurium as te\n",
    "import roadrunner\n",
    "from roadrunner import SelectionRecord\n",
    "import itertools\n",
    "\n",
    "# Model definition via antimony.\n",
    "# The model contains an Event triggered at t=2 [s].\n",
    "r = te.loada(\"\"\"\n",
    "    model event_time()\n",
    "    // Reactions\n",
    "    J0: $PP_S -> 2 S3; K1 * PP_S;\n",
    "\n",
    "    // Species initializations:\n",
    "    var species S3;\n",
    "    var species S4;\n",
    "    S3 = 0.5;\n",
    "    PP_S = 0.0;\n",
    "    S4 := 2*S3;\n",
    "\n",
    "    // Rule for S1\n",
    "    K1 = 0.5;    \n",
    "    \n",
    "    // Additional events for triggering re-integration\n",
    "    E1: at(time>=2):  S3=5;  \n",
    "    end\n",
    "\"\"\")\n",
    "\n",
    "r.selections = ['time'] + r.model.getBoundarySpeciesIds() + r.model.getFloatingSpeciesIds() + r.model.getReactionIds()\n",
    "print(r.selections)\n",
    "integrator = r.getIntegrator()\n",
    "print(r.getSettings())\n",
    "\n",
    "integrator.setSetting(absolute_tolerance)\n",
    "absTol = 1E-6 * min(r.model.getCompartmentVolumes())\n",
    "relTol = 1E-6\n",
    "\n",
    "r.reset()\n",
    "r.reset(SelectionRecord.ALL)\n",
    "r.reset(SelectionRecord.INITIAL_GLOBAL_PARAMETER)\n",
    "s = r.simulate(0, 7, absolute=absTol, relative=relTol, variableStep=True, stiff=True, plot=True)\n",
    "print(s)"
   ]
  },
  {
   "cell_type": "code",
   "execution_count": null,
   "metadata": {
    "collapsed": true
   },
   "outputs": [],
   "source": []
  }
 ],
 "metadata": {
  "kernelspec": {
   "display_name": "Python 2",
   "language": "python",
   "name": "python2"
  },
  "language_info": {
   "codemirror_mode": {
    "name": "ipython",
    "version": 2
   },
   "file_extension": ".py",
   "mimetype": "text/x-python",
   "name": "python",
   "nbconvert_exporter": "python",
   "pygments_lexer": "ipython2",
   "version": "2.7.6"
  }
 },
 "nbformat": 4,
 "nbformat_minor": 0
}
