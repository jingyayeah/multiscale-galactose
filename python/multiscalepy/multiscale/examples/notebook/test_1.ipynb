{
 "cells": [
  {
   "cell_type": "code",
   "execution_count": 18,
   "metadata": {
    "collapsed": false
   },
   "outputs": [
    {
     "name": "stdout",
     "output_type": "stream",
     "text": [
      "<SBML: test_3>\n",
      "<roadrunner.RoadRunner() { \n",
      "'this' : 0x416d120\n",
      "'modelLoaded' : true\n",
      "'modelName' : test_3\n",
      "'libSBMLVersion' : LibSBML Version: 5.11.0\n",
      "'jacobianStepSize' : 1e-05\n",
      "'conservedMoietyAnalysis' : false\n",
      "'simulateOptions' : \n",
      "< roadrunner.SimulateOptions() \n",
      "{ \n",
      "'this' : 0x46f9f20, \n",
      "'reset' : 0,\n",
      "'structuredResult' : 0,\n",
      "'copyResult' : 1,\n",
      "'steps' : 50,\n",
      "'start' : 0,\n",
      "'duration' : 10\n",
      "}>, \n",
      "'integrator' : \n",
      "< roadrunner.Integrator() >\n",
      "\n",
      "}>\n",
      "--------------------------------------------------------------------------------\n",
      "cvode\n",
      "('relative_tolerance', ':', 1e-06)\n",
      "('absolute_tolerance', ':', 1.5624999999999998e-20)\n",
      "('stiff', ':', True)\n",
      "('maximum_bdf_order', ':', 5)\n",
      "('maximum_adams_order', ':', 12)\n",
      "('maximum_num_steps', ':', 20000)\n",
      "('maximum_time_step', ':', 0.0)\n",
      "('minimum_time_step', ':', 0.0)\n",
      "('initial_time_step', ':', 0.0)\n",
      "('multiple_steps', ':', False)\n",
      "('variable_step_size', ':', False)\n"
     ]
    },
    {
     "data": {
      "image/png": "[encoded data removed]",
      "text/plain": [
       "<matplotlib.figure.Figure at 0x7f684c4fdb10>"
      ]
     },
     "metadata": {},
     "output_type": "display_data"
    }
   ],
   "source": [
    "%matplotlib inline\n",
    "\n",
    "# Simulating simple test model\n",
    "import roadrunner\n",
    "\n",
    "from simapp.models import CompModel\n",
    "mtest = CompModel.objects.get(model_id=\"test_3\")\n",
    "print(mtest)\n",
    "r = roadrunner.RoadRunner(mtest.filepath)\n",
    "# r = roadrunner.RoadRunner(\"test_3.xml\")\n",
    "\n",
    "# settings\n",
    "absTol = 1E-6\n",
    "relTol = 1E-6\n",
    "absTol = absTol * min(r.model.getCompartmentVolumes())  # absTol relative to the amounts\n",
    "integrator = r.getIntegrator()\n",
    "integrator.setValue('stiff', True)\n",
    "integrator.setValue('absolute_tolerance', absTol)\n",
    "integrator.setValue('relative_tolerance', relTol)\n",
    "\n",
    "# integrate\n",
    "r.simulate(0,10, 100)\n",
    "print(r)\n",
    "print('-'*80)\n",
    "integrator = r.getIntegrator()\n",
    "print(integrator.getName())\n",
    "for key in integrator.getSettings():\n",
    "    print(key, ':', integrator.getValue(key))\n",
    "# plot\n",
    "r.plot()\n",
    "\n",
    "# => does not simulate, despite the steps default setting of 50 ????\n",
    "\n",
    "# setting the steps explcitely is working\n",
    "# r.simulate(0,10, 100)\n",
    "# r.simulate(0,10, steps=100)"
   ]
  },
  {
   "cell_type": "markdown",
   "metadata": {},
   "source": [
    "# Change parameters"
   ]
  },
  {
   "cell_type": "code",
   "execution_count": 58,
   "metadata": {
    "collapsed": false
   },
   "outputs": [
    {
     "name": "stdout",
     "output_type": "stream",
     "text": [
      "(2.5e-05, 1.5625e-14, 0.00012)\n"
     ]
    }
   ],
   "source": [
    "# load model\n",
    "r = roadrunner.RoadRunner(\"test_3.xml\")\n",
    "r.reset(SelectionRecord.ALL)  # full reset (parameters and concentrations)\n",
    "\n",
    "# make a concentration backup (needed later)\n",
    "concentration_backup = dict()\n",
    "for sid in r.model.getFloatingSpeciesIds():\n",
    "    concentration_backup[sid] = r[\"[{}]\".format(sid)]\n",
    "\n",
    "# initial state\n",
    "print(r.x_cell, r.Vol_c, r['[c__gal]'])"
   ]
  },
  {
   "cell_type": "code",
   "execution_count": 59,
   "metadata": {
    "collapsed": false
   },
   "outputs": [
    {
     "name": "stdout",
     "output_type": "stream",
     "text": [
      "(1e-05, 1.5625e-14, 0.00012)\n"
     ]
    }
   ],
   "source": [
    "# change parameter \n",
    "# -> the depending inital assignments are not updated (makes sense, are only initial)\n",
    "r.x_cell = 10E-6  # [m]\n",
    "print(r.x_cell, r.Vol_c, r['[c__gal]'])"
   ]
  },
  {
   "cell_type": "code",
   "execution_count": 60,
   "metadata": {
    "collapsed": false
   },
   "outputs": [
    {
     "name": "stdout",
     "output_type": "stream",
     "text": [
      "(1e-05, 1.0000000000000003e-15, 0.0018749999999999995)\n"
     ]
    }
   ],
   "source": [
    "# force an update via recalculating depending assignments\n",
    "# -> Volume is updated, but also the concentrations due to changes in volume !\n",
    "from roadrunner import SelectionRecord\n",
    "r.reset(SelectionRecord.INITIAL_GLOBAL_PARAMETER)\n",
    "print(r.x_cell, r.Vol_c, r['[c__gal]'])"
   ]
  },
  {
   "cell_type": "code",
   "execution_count": 62,
   "metadata": {
    "collapsed": false
   },
   "outputs": [
    {
     "name": "stdout",
     "output_type": "stream",
     "text": [
      "(1e-05, 1.0000000000000003e-15, 0.0018749999999999995)\n",
      "(1e-05, 1.0000000000000003e-15, 0.0018749999999999995)\n",
      "(1e-05, 1.0000000000000003e-15, 0.00012)\n"
     ]
    }
   ],
   "source": [
    "# a reset of the initial concentrations does not bring the concentrations back\n",
    "r.reset()  # only reset initial concentrations\n",
    "print(r.x_cell, r.Vol_c, r['[c__gal]'])\n",
    "\n",
    "r.reset(SelectionRecord.INITIAL_FLOATING_CONCENTRATION)  # only reset initial concentrations\n",
    "print(r.x_cell, r.Vol_c, r['[c__gal]'])\n",
    "\n",
    "# the backup of the concentrations is needed\n",
    "# restore concentrations\n",
    "# -> now same initial concentrations under changed parameters\n",
    "for key, value in concentration_backup.iteritems():\n",
    "    r.model['[{}]'.format(key)] = value\n",
    "print(r.x_cell, r.Vol_c, r['[c__gal]'])"
   ]
  },
  {
   "cell_type": "code",
   "execution_count": 51,
   "metadata": {
    "collapsed": false
   },
   "outputs": [
    {
     "name": "stdout",
     "output_type": "stream",
     "text": [
      "(2.5e-05, 1.5625e-14, 0.00012)\n"
     ]
    }
   ],
   "source": [
    "# To reset all use\n",
    "r.reset(SelectionRecord.ALL)  # full reset (parameters and concentrations)\n",
    "print(r.x_cell, r.Vol_c, r['[c__gal]'])"
   ]
  },
  {
   "cell_type": "code",
   "execution_count": 65,
   "metadata": {
    "collapsed": false
   },
   "outputs": [
    {
     "name": "stdout",
     "output_type": "stream",
     "text": [
      "(2.5e-05, 1.5625e-14, 0.00012)\n",
      "(1e-05, 1.5625e-14, 0.00012)\n",
      "(1e-05, 1.0000000000000003e-15, 0.0018749999999999995)\n",
      "(1e-05, 1.0000000000000003e-15, 0.0018749999999999995)\n",
      "(1e-05, 1.0000000000000003e-15, 0.0018749999999999995)\n",
      "(1e-05, 1.0000000000000003e-15, 0.00012)\n",
      "(2.5e-05, 1.5625e-14, 0.00012)\n"
     ]
    }
   ],
   "source": [
    "# load model\n",
    "r = roadrunner.RoadRunner(\"test_3.xml\")\n",
    "r.reset(SelectionRecord.ALL)  # full reset (parameters and concentrations)\n",
    "\n",
    "# make a concentration backup (needed later)\n",
    "concentration_backup = dict()\n",
    "for sid in r.model.getFloatingSpeciesIds():\n",
    "    concentration_backup[sid] = r[\"[{}]\".format(sid)]\n",
    "\n",
    "# initial state\n",
    "print(r.x_cell, r.Vol_c, r['[c__gal]'])\n",
    "\n",
    "# change parameter \n",
    "# -> the depending inital assignments are not updated (makes sense, are only initial)\n",
    "r.x_cell = 10E-6  # [m]\n",
    "print(r.x_cell, r.Vol_c, r['[c__gal]'])\n",
    "\n",
    "# force an update via recalculating depending assignments\n",
    "# -> Volume is updated, but also the concentrations due to changes in volume !\n",
    "from roadrunner import SelectionRecord\n",
    "r.reset(SelectionRecord.INITIAL_GLOBAL_PARAMETER)\n",
    "print(r.x_cell, r.Vol_c, r['[c__gal]'])\n",
    "\n",
    "# a reset of the initial concentrations does not bring the concentrations back\n",
    "r.reset() \n",
    "print(r.x_cell, r.Vol_c, r['[c__gal]'])\n",
    "r.reset(SelectionRecord.INITIAL_FLOATING_CONCENTRATION) \n",
    "print(r.x_cell, r.Vol_c, r['[c__gal]'])\n",
    "\n",
    "# restore concentrations\n",
    "# the backup of the concentrations is needed because the above things do not work\n",
    "# -> now same initial concentrations under changed parameters\n",
    "for key, value in concentration_backup.iteritems():\n",
    "    r.model['[{}]'.format(key)] = value\n",
    "print(r.x_cell, r.Vol_c, r['[c__gal]'])\n",
    "\n",
    "# To reset all use\n",
    "r.reset(SelectionRecord.ALL)  # full reset (parameters and concentrations)\n",
    "print(r.x_cell, r.Vol_c, r['[c__gal]'])"
   ]
  },
  {
   "cell_type": "code",
   "execution_count": null,
   "metadata": {
    "collapsed": true
   },
   "outputs": [],
   "source": [
    "SelectionRecord."
   ]
  }
 ],
 "metadata": {
  "kernelspec": {
   "display_name": "Python 2",
   "language": "python",
   "name": "python2"
  },
  "language_info": {
   "codemirror_mode": {
    "name": "ipython",
    "version": 2
   },
   "file_extension": ".py",
   "mimetype": "text/x-python",
   "name": "python",
   "nbconvert_exporter": "python",
   "pygments_lexer": "ipython2",
   "version": "2.7.6"
  }
 },
 "nbformat": 4,
 "nbformat_minor": 0
}
