{
 "cells": [
  {
   "cell_type": "code",
   "execution_count": 6,
   "metadata": {
    "collapsed": false
   },
   "outputs": [
    {
     "name": "stdout",
     "output_type": "stream",
     "text": [
      "<SBML: test_1>\n",
      "<roadrunner.RoadRunner() { \n",
      "'this' : 0x44a54a0\n",
      "'modelLoaded' : true\n",
      "'modelName' : test_1\n",
      "'libSBMLVersion' : LibSBML Version: 5.11.0\n",
      "'jacobianStepSize' : 1e-05\n",
      "'conservedMoietyAnalysis' : false\n",
      "'simulateOptions' : \n",
      "< roadrunner.SimulateOptions() \n",
      "{ \n",
      "'this' : 0x476cbf0, \n",
      "'reset' : 0,\n",
      "'structuredResult' : 0,\n",
      "'copyResult' : 1,\n",
      "'steps' : 50,\n",
      "'start' : 0,\n",
      "'duration' : 10\n",
      "}>, \n",
      "'integrator' : \n",
      "< roadrunner.Integrator() >\n",
      "\n",
      "}>\n",
      "--------------------------------------------------------------------------------\n",
      "cvode\n",
      "('relative_tolerance', ':', 1e-06)\n",
      "('absolute_tolerance', ':', 1.5624999999999998e-20)\n",
      "('stiff', ':', True)\n",
      "('maximum_bdf_order', ':', 5)\n",
      "('maximum_adams_order', ':', 12)\n",
      "('maximum_num_steps', ':', 20000)\n",
      "('maximum_time_step', ':', 0.0)\n",
      "('minimum_time_step', ':', 0.0)\n",
      "('initial_time_step', ':', 0.0)\n",
      "('multiple_steps', ':', False)\n",
      "('variable_step_size', ':', False)\n"
     ]
    },
    {
     "data": {
      "image/png": "[encoded data removed]",
      "text/plain": [
       "<matplotlib.figure.Figure at 0x7f684c420850>"
      ]
     },
     "metadata": {},
     "output_type": "display_data"
    }
   ],
   "source": [
    "%matplotlib inline\n",
    "\n",
    "# Simulating simple test model\n",
    "import roadrunner\n",
    "reload(roadrunner)\n",
    "\n",
    "from simapp.models import CompModel\n",
    "\n",
    "mtest = CompModel.objects.get(model_id=\"test_1\")\n",
    "print(mtest)\n",
    "\n",
    "r = roadrunner.RoadRunner(mtest.filepath)\n",
    "# settings\n",
    "absTol = 1E-6\n",
    "relTol = 1E-6\n",
    "absTol = absTol * min(r.model.getCompartmentVolumes())  # absTol relative to the amounts\n",
    "integrator = r.getIntegrator()\n",
    "integrator.setValue('stiff', True)\n",
    "integrator.setValue('absolute_tolerance', absTol)\n",
    "integrator.setValue('relative_tolerance', relTol)\n",
    "\n",
    "# integrate\n",
    "r.simulate(0,10)\n",
    "print(r)\n",
    "print('-'*80)\n",
    "integrator = r.getIntegrator()\n",
    "print(integrator.getName())\n",
    "for key in integrator.getSettings():\n",
    "    print(key, ':', integrator.getValue(key))\n",
    "# plot\n",
    "\n",
    "r.plot()"
   ]
  },
  {
   "cell_type": "code",
   "execution_count": 8,
   "metadata": {
    "collapsed": false
   },
   "outputs": [
    {
     "name": "stdout",
     "output_type": "stream",
     "text": [
      "    time, [c__gal]\n",
      " [[    0,  0.00012]]\n",
      "\n"
     ]
    }
   ],
   "source": [
    "print(r.getSimulationData())"
   ]
  },
  {
   "cell_type": "code",
   "execution_count": null,
   "metadata": {
    "collapsed": true
   },
   "outputs": [],
   "source": []
  }
 ],
 "metadata": {
  "kernelspec": {
   "display_name": "Python 2",
   "language": "python",
   "name": "python2"
  },
  "language_info": {
   "codemirror_mode": {
    "name": "ipython",
    "version": 2
   },
   "file_extension": ".py",
   "mimetype": "text/x-python",
   "name": "python",
   "nbconvert_exporter": "python",
   "pygments_lexer": "ipython2",
   "version": "2.7.6"
  }
 },
 "nbformat": 4,
 "nbformat_minor": 0
}
