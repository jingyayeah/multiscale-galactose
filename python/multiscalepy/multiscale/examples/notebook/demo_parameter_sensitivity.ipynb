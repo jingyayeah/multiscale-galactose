{
 "cells": [
  {
   "cell_type": "markdown",
   "metadata": {},
   "source": [
    "# Variability analysis\n",
    "\n",
    "Analyse the effect of parameter changes and double parameter changes on the output of given simulation.\n",
    "All parameters are changed and the effects on the simulation results/stability is analysed."
   ]
  },
  {
   "cell_type": "code",
   "execution_count": 1,
   "metadata": {
    "collapsed": true
   },
   "outputs": [],
   "source": [
    "from __future__ import print_function\n",
    "# import and setup database\n",
    "import django\n",
    "django.setup()\n",
    "# import the database API functions and tools\n",
    "import simapp.db.api as db_api\n",
    "import multiscale.odesim.db.tools as db_tools"
   ]
  },
  {
   "cell_type": "code",
   "execution_count": 2,
   "metadata": {
    "collapsed": false
   },
   "outputs": [
    {
     "name": "stdout",
     "output_type": "stream",
     "text": [
      "/home/mkoenig/git/multiscale-galactose/python/multiscalepy/multiscale/examples/models/demo/Koenig_demo_10_annotated.xml\n"
     ]
    }
   ],
   "source": [
    "# create model in database\n",
    "from multiscale.examples.testdata import demo_sbml\n",
    "print(demo_sbml)\n",
    "comp_model = db_api.create_model(filepath=demo_sbml)"
   ]
  },
  {
   "cell_type": "code",
   "execution_count": 3,
   "metadata": {
    "collapsed": false
   },
   "outputs": [
    {
     "data": {
      "text/plain": [
       "<CompModel: <SBML: Koenig_demo_10_annotated>>"
      ]
     },
     "execution_count": 3,
     "metadata": {},
     "output_type": "execute_result"
    }
   ],
   "source": [
    "comp_model"
   ]
  },
  {
   "cell_type": "code",
   "execution_count": 4,
   "metadata": {
    "collapsed": false
   },
   "outputs": [
    {
     "data": {
      "text/plain": [
       "'1.4.2; Compiler: gcc 4.8.4, C++ version: 199711; JIT Compiler: LLVM-3.4; Date: Jan 20 2016, 08:49:40'"
      ]
     },
     "execution_count": 4,
     "metadata": {},
     "output_type": "execute_result"
    }
   ],
   "source": [
    "import roadrunner\n",
    "roadrunner.getVersionStr()"
   ]
  },
  {
   "cell_type": "code",
   "execution_count": 5,
   "metadata": {
    "collapsed": false
   },
   "outputs": [
    {
     "name": "stdout",
     "output_type": "stream",
     "text": [
      "['time', '[e__A]', '[e__C]', '[e__B]', '[c__C]', '[c__B]', '[c__A]']\n"
     ]
    },
    {
     "data": {
      "image/png": "[encoded data removed]",
      "text/plain": [
       "<matplotlib.figure.Figure at 0x7f494c202ad0>"
      ]
     },
     "metadata": {},
     "output_type": "display_data"
    }
   ],
   "source": [
    "%matplotlib inline\n",
    "import multiscale.odesim.simulate.roadrunner_tools as rt\n",
    "\n",
    "# Uset the filepath from the database\n",
    "r = roadrunner.RoadRunner(comp_model.filepath)\n",
    "r.selections = ['time'] + ['[{}]'.format(s) for s in r.model.getFloatingSpeciesIds()]\n",
    "print(r.selections)\n",
    "rt.set_integrator_settings(r)\n",
    "s = r.simulate(0, 20)  # timecourse for 20 [s]\n",
    "r.plot()"
   ]
  },
  {
   "cell_type": "markdown",
   "metadata": {},
   "source": [
    "## Parameter variability analysis\n",
    "\n",
    "Vary all single parameters in the model between [0.95-1.05] the original value."
   ]
  },
  {
   "cell_type": "code",
   "execution_count": 6,
   "metadata": {
    "collapsed": false
   },
   "outputs": [
    {
     "data": {
      "text/plain": [
       "['Keq_v1',\n",
       " 'Keq_v4',\n",
       " 'Km_A',\n",
       " 'Km_B',\n",
       " 'Km_C',\n",
       " 'Vmax_bA',\n",
       " 'Vmax_bB',\n",
       " 'Vmax_bC',\n",
       " 'Vmax_v1',\n",
       " 'Vmax_v2',\n",
       " 'Vmax_v3',\n",
       " 'Vmax_v4',\n",
       " 'scale_f']"
      ]
     },
     "execution_count": 6,
     "metadata": {},
     "output_type": "execute_result"
    }
   ],
   "source": [
    "# These are the parameters to vary\n",
    "parameter_ids = r.model.getGlobalParameterIds()\n",
    "sorted(parameter_ids)"
   ]
  },
  {
   "cell_type": "code",
   "execution_count": 7,
   "metadata": {
    "collapsed": false
   },
   "outputs": [
    {
     "name": "stdout",
     "output_type": "stream",
     "text": [
      "Vmax_v4 = (0.5, 'mole_per_s')\n",
      "scale_f = (1e-06, 'dimensionless')\n",
      "Vmax_bB = (2.0, 'mole_per_s')\n",
      "Vmax_bC = (2.0, 'mole_per_s')\n",
      "Vmax_bA = (5.0, 'mole_per_s')\n",
      "Vmax_v2 = (0.5, 'mole_per_s')\n",
      "Vmax_v3 = (0.5, 'mole_per_s')\n",
      "Vmax_v1 = (1.0, 'mole_per_s')\n",
      "Km_A = (1.0, 'mM')\n",
      "Km_C = (3.0, 'mM')\n",
      "Km_B = (0.5, 'mM')\n",
      "Keq_v4 = (2.0, 'dimensionless')\n",
      "Keq_v1 = (10.0, 'dimensionless')\n"
     ]
    }
   ],
   "source": [
    "# get values for all parameters\n",
    "values = {pid: r[pid] for pid in parameter_ids}\n",
    "# print(values)\n",
    "\n",
    "# get units from SBML file\n",
    "import libsbml\n",
    "doc = libsbml.readSBML(demo_sbml)\n",
    "sbml_model = doc.getModel()\n",
    "units = {}\n",
    "for pid in parameter_ids: \n",
    "    p = sbml_model.getParameter(pid)\n",
    "    unit = p.getUnits()\n",
    "    units[pid] = (r[pid], unit)\n",
    "for k,v in units.iteritems():\n",
    "    print(k, '=', v)"
   ]
  },
  {
   "cell_type": "code",
   "execution_count": 8,
   "metadata": {
    "collapsed": false
   },
   "outputs": [
    {
     "data": {
      "text/plain": [
       "[{'Km_C': <Km_C = 2.700E+00 [(3.0, 'mM')] (GLOBAL_PARAMETER)>},\n",
       " {'Km_C': <Km_C = 3.300E+00 [(3.0, 'mM')] (GLOBAL_PARAMETER)>},\n",
       " {'scale_f': <scale_f = 9.000E-07 [(1e-06, 'dimensionless')] (GLOBAL_PARAMETER)>},\n",
       " {'scale_f': <scale_f = 1.100E-06 [(1e-06, 'dimensionless')] (GLOBAL_PARAMETER)>},\n",
       " {'Vmax_bB': <Vmax_bB = 1.800E+00 [(2.0, 'mole_per_s')] (GLOBAL_PARAMETER)>},\n",
       " {'Vmax_bB': <Vmax_bB = 2.200E+00 [(2.0, 'mole_per_s')] (GLOBAL_PARAMETER)>},\n",
       " {'Vmax_bC': <Vmax_bC = 1.800E+00 [(2.0, 'mole_per_s')] (GLOBAL_PARAMETER)>},\n",
       " {'Vmax_bC': <Vmax_bC = 2.200E+00 [(2.0, 'mole_per_s')] (GLOBAL_PARAMETER)>},\n",
       " {'Vmax_bA': <Vmax_bA = 4.500E+00 [(5.0, 'mole_per_s')] (GLOBAL_PARAMETER)>},\n",
       " {'Vmax_bA': <Vmax_bA = 5.500E+00 [(5.0, 'mole_per_s')] (GLOBAL_PARAMETER)>},\n",
       " {'Vmax_v2': <Vmax_v2 = 4.500E-01 [(0.5, 'mole_per_s')] (GLOBAL_PARAMETER)>},\n",
       " {'Vmax_v2': <Vmax_v2 = 5.500E-01 [(0.5, 'mole_per_s')] (GLOBAL_PARAMETER)>},\n",
       " {'Vmax_v3': <Vmax_v3 = 4.500E-01 [(0.5, 'mole_per_s')] (GLOBAL_PARAMETER)>},\n",
       " {'Vmax_v3': <Vmax_v3 = 5.500E-01 [(0.5, 'mole_per_s')] (GLOBAL_PARAMETER)>},\n",
       " {'Vmax_v1': <Vmax_v1 = 9.000E-01 [(1.0, 'mole_per_s')] (GLOBAL_PARAMETER)>},\n",
       " {'Vmax_v1': <Vmax_v1 = 1.100E+00 [(1.0, 'mole_per_s')] (GLOBAL_PARAMETER)>},\n",
       " {'Km_A': <Km_A = 9.000E-01 [(1.0, 'mM')] (GLOBAL_PARAMETER)>},\n",
       " {'Km_A': <Km_A = 1.100E+00 [(1.0, 'mM')] (GLOBAL_PARAMETER)>},\n",
       " {'Vmax_v4': <Vmax_v4 = 4.500E-01 [(0.5, 'mole_per_s')] (GLOBAL_PARAMETER)>},\n",
       " {'Vmax_v4': <Vmax_v4 = 5.500E-01 [(0.5, 'mole_per_s')] (GLOBAL_PARAMETER)>},\n",
       " {'Km_B': <Km_B = 4.500E-01 [(0.5, 'mM')] (GLOBAL_PARAMETER)>},\n",
       " {'Km_B': <Km_B = 5.500E-01 [(0.5, 'mM')] (GLOBAL_PARAMETER)>},\n",
       " {'Keq_v4': <Keq_v4 = 1.800E+00 [(2.0, 'dimensionless')] (GLOBAL_PARAMETER)>},\n",
       " {'Keq_v4': <Keq_v4 = 2.200E+00 [(2.0, 'dimensionless')] (GLOBAL_PARAMETER)>},\n",
       " {'Keq_v1': <Keq_v1 = 9.000E+00 [(10.0, 'dimensionless')] (GLOBAL_PARAMETER)>},\n",
       " {'Keq_v1': <Keq_v1 = 1.100E+01 [(10.0, 'dimensionless')] (GLOBAL_PARAMETER)>}]"
      ]
     },
     "execution_count": 8,
     "metadata": {},
     "output_type": "execute_result"
    }
   ],
   "source": [
    "# now we can setup the single variations\n",
    "from multiscale.odesim.dist.samples import Sample, SampleParameter\n",
    "factors = [0.90, 1.10]\n",
    "samples = []\n",
    "for pid in parameter_ids:\n",
    "    for f in factors:\n",
    "        # create an empty sample\n",
    "        s = Sample()\n",
    "        # Set the parameters to the values\n",
    "        sp = SampleParameter(pid, f * r[pid], unit=units[pid], \\\n",
    "                             parameter_type=db_api.ParameterType.GLOBAL_PARAMETER)\n",
    "        s.add_parameter(sp)\n",
    "        samples.append(s)\n",
    "\n",
    "samples"
   ]
  },
  {
   "cell_type": "code",
   "execution_count": 9,
   "metadata": {
    "collapsed": false
   },
   "outputs": [
    {
     "name": "stdout",
     "output_type": "stream",
     "text": [
      "INTEGRATOR = ROADRUNNER\n",
      "VAR_STEPS = False\n",
      "ABS_TOL = 1e-06\n",
      "REL_TOL = 1e-06\n",
      "T_START = 0.0\n",
      "T_END = 20.0\n",
      "STEPS = 100\n",
      "STIFF = True\n"
     ]
    }
   ],
   "source": [
    "# We want step based integration in the interval [0.0, 20.0]\n",
    "# TODO: synchronize the possible settings\n",
    "settings_dict = {db_api.SettingKey.VAR_STEPS: False,\\\n",
    "                 db_api.SettingKey.T_START: 0.0,\\\n",
    "                 db_api.SettingKey.T_END: 20.0, \\\n",
    "                 db_api.SettingKey.STEPS: 100}\n",
    "\n",
    "# For the tolerances, ... we use the default settings\n",
    "settings = db_api.create_settings(settings_dict)\n",
    "for setting in settings:\n",
    "    print(setting)"
   ]
  },
  {
   "cell_type": "code",
   "execution_count": 10,
   "metadata": {
    "collapsed": false
   },
   "outputs": [
    {
     "name": "stdout",
     "output_type": "stream",
     "text": [
      "M274\n"
     ]
    }
   ],
   "source": [
    "method = db_api.create_method(method_type=db_api.MethodType.ODE, settings=settings)\n",
    "print(method)"
   ]
  },
  {
   "cell_type": "code",
   "execution_count": 11,
   "metadata": {
    "collapsed": false
   },
   "outputs": [
    {
     "name": "stdout",
     "output_type": "stream",
     "text": [
      "T222\n",
      "FINALIZED\n"
     ]
    }
   ],
   "source": [
    "task = db_api.create_task(comp_model, method=method, info=\"Single parameter variation {}.\".format(factors))\n",
    "print(task)\n",
    "print(task.status_str)"
   ]
  },
  {
   "cell_type": "code",
   "execution_count": 12,
   "metadata": {
    "collapsed": false
   },
   "outputs": [
    {
     "name": "stdout",
     "output_type": "stream",
     "text": [
      "[<Simulation: S317>, <Simulation: S316>, <Simulation: S315>, <Simulation: S314>, <Simulation: S313>, <Simulation: S312>, <Simulation: S311>, <Simulation: S310>, <Simulation: S309>, <Simulation: S308>, <Simulation: S307>, <Simulation: S306>, <Simulation: S305>, <Simulation: S304>, <Simulation: S303>, <Simulation: S302>, <Simulation: S301>, <Simulation: S300>, <Simulation: S299>, <Simulation: S298>, '...(remaining elements truncated)...']\n",
      "TaskStatus: FINALIZED\n"
     ]
    }
   ],
   "source": [
    "from django.core.exceptions import ValidationError\n",
    "\n",
    "# add the simulations to the task\n",
    "if task.has_status_open():\n",
    "    simulations = db_tools.create_simulations_from_samples(task, samples)\n",
    "    # finalize task, so no additional simulations can be added\n",
    "    task.finalize_status()\n",
    "else:\n",
    "    simulations = task.simulations.all()\n",
    "\n",
    "print(simulations)\n",
    "print('TaskStatus:', task.status_str)"
   ]
  },
  {
   "cell_type": "code",
   "execution_count": 13,
   "metadata": {
    "collapsed": false
   },
   "outputs": [
    {
     "data": {
      "text/plain": [
       "26"
      ]
     },
     "execution_count": 13,
     "metadata": {},
     "output_type": "execute_result"
    }
   ],
   "source": [
    "len(simulations)"
   ]
  },
  {
   "cell_type": "markdown",
   "metadata": {},
   "source": [
    "### Solve the ODE system\n",
    "\n",
    "Now we are running the solver on the defined problems."
   ]
  },
  {
   "cell_type": "code",
   "execution_count": 14,
   "metadata": {
    "collapsed": true
   },
   "outputs": [],
   "source": [
    "from multiscale.odesim.simulate import solve"
   ]
  },
  {
   "cell_type": "code",
   "execution_count": 15,
   "metadata": {
    "collapsed": false
   },
   "outputs": [
    {
     "name": "stdout",
     "output_type": "stream",
     "text": [
      "Loading : /home/mkoenig/multiscale-galactose-results/django/model/Koenig_demo_10_annotated.xml\n",
      "SBML load time: 0.0243549346924\n",
      "Time: [0.0131|0.0013]\n",
      "Time: [0.0113|0.0011]\n",
      "Time: [0.0116|0.0010]\n",
      "Time: [0.0113|0.0011]\n",
      "Time: [0.0119|0.0012]\n",
      "Time: [0.0117|0.0013]\n",
      "Time: [0.0125|0.0012]\n",
      "Time: [0.0197|0.0011]\n",
      "Time: [0.0139|0.0011]\n",
      "Time: [0.0129|0.0012]\n",
      "Time: [0.0184|0.0018]\n",
      "Time: [0.0135|0.0015]\n",
      "Time: [0.0162|0.0022]\n",
      "Time: [0.0174|0.0037]\n",
      "Time: [0.0186|0.0021]\n",
      "Time: [0.0130|0.0014]\n",
      "Time: [0.0162|0.0023]\n",
      "Time: [0.0161|0.0019]\n",
      "Time: [0.0133|0.0013]\n",
      "Time: [0.0138|0.0015]\n",
      "Time: [0.0179|0.0020]\n",
      "Time: [0.0130|0.0012]\n",
      "Time: [0.0172|0.0022]\n",
      "Time: [0.0125|0.0011]\n",
      "Time: [0.0173|0.0023]\n",
      "Time: [0.0164|0.0021]\n"
     ]
    }
   ],
   "source": [
    "solve.run_simulations(simulations, task)"
   ]
  },
  {
   "cell_type": "code",
   "execution_count": 16,
   "metadata": {
    "collapsed": true
   },
   "outputs": [],
   "source": [
    "# plot the results\n",
    "from simapp.models import Result\n",
    "import matplotlib.pylab as plt\n",
    "plt_fontsize = 30"
   ]
  },
  {
   "cell_type": "code",
   "execution_count": 17,
   "metadata": {
    "collapsed": false
   },
   "outputs": [
    {
     "data": {
      "image/png": "[encoded data removed]",
      "text/plain": [
       "<matplotlib.figure.Figure at 0x7f494bc30b10>"
      ]
     },
     "metadata": {},
     "output_type": "display_data"
    }
   ],
   "source": [
    "# Load the HDF5 files and plot them\n",
    "from multiscale.odesim.simulate import solve_io\n",
    "reload(solve_io)\n",
    "plt.figure(figsize=(10,7))\n",
    "for sim in simulations:\n",
    "    result = Result.objects.get(simulation=sim, result_type=db_api.ResultType.HDF5)\n",
    "    data, header = solve_io.load_hdf5(result.filepath)\n",
    "    plt.plot(data[:,0], data[:,1:], '-', color='black')\n",
    "    \n",
    "plt.xlabel('time [s]', fontsize=plt_fontsize)\n",
    "plt.ylabel('species [mM]', fontsize=plt_fontsize);"
   ]
  },
  {
   "cell_type": "markdown",
   "metadata": {},
   "source": [
    "## Double parameter variation\n",
    "\n",
    "For comparison all double parameter changes in the model are performed.  \n",
    "How much larger are the combined effects of parameter changes?"
   ]
  },
  {
   "cell_type": "code",
   "execution_count": 18,
   "metadata": {
    "collapsed": false
   },
   "outputs": [
    {
     "name": "stdout",
     "output_type": "stream",
     "text": [
      "Number of parameters: 13\n",
      "Number of samples: 624\n"
     ]
    }
   ],
   "source": [
    "# now we can setup the double variations\n",
    "from multiscale.odesim.dist.samples import Sample, SampleParameter\n",
    "samples_double = []\n",
    "for pid1 in parameter_ids:\n",
    "    for pid2 in parameter_ids:\n",
    "        if pid1 == pid2:\n",
    "            continue\n",
    "        for f1 in factors:\n",
    "            for f2 in factors:\n",
    "        \n",
    "                # create an empty sample\n",
    "                s = Sample()\n",
    "                # Set first parameter\n",
    "                sp1 = SampleParameter(pid1, f1 * r[pid1], unit=units[pid1], \\\n",
    "                             parameter_type=db_api.ParameterType.GLOBAL_PARAMETER)\n",
    "                # Set second parameter\n",
    "                sp2 = SampleParameter(pid2, f2 * r[pid2], unit=units[pid2], \\\n",
    "                             parameter_type=db_api.ParameterType.GLOBAL_PARAMETER)\n",
    "                s.add_parameters([sp1, sp2])\n",
    "                samples_double.append(s)\n",
    "print('Number of parameters:', len(parameter_ids))                \n",
    "print('Number of samples:', len(samples_double))"
   ]
  },
  {
   "cell_type": "code",
   "execution_count": 19,
   "metadata": {
    "collapsed": true
   },
   "outputs": [],
   "source": [
    "task_double = db_api.create_task(comp_model, method=method, info=\"Double parameter variation {}.\".format(factors))"
   ]
  },
  {
   "cell_type": "code",
   "execution_count": 20,
   "metadata": {
    "collapsed": true
   },
   "outputs": [],
   "source": [
    "# Removing objects from the database\n",
    "# from simapp.models import Task\n",
    "# task_temp = Task.objects.get(pk=64)\n",
    "# task_temp.delete()\n",
    "# task_double.info = \"Double parameter variation {}.\".format(factors)\n",
    "# task_double.save()"
   ]
  },
  {
   "cell_type": "code",
   "execution_count": 21,
   "metadata": {
    "collapsed": false
   },
   "outputs": [
    {
     "name": "stdout",
     "output_type": "stream",
     "text": [
      "TaskStatus: FINALIZED\n",
      "624\n"
     ]
    }
   ],
   "source": [
    "print('TaskStatus:', task_double.status_str)\n",
    "if task_double.has_status_open():\n",
    "    # add the simulations to the task\n",
    "    simulations_double = db_tools.create_simulations_from_samples(task_double, samples_double)\n",
    "    # finalize task, so no additional simulations can be added\n",
    "    task_double.finalize_status()\n",
    "else:\n",
    "    simulations_double = task_double.simulations.all()\n",
    "print(len(simulations_double))"
   ]
  },
  {
   "cell_type": "code",
   "execution_count": 22,
   "metadata": {
    "collapsed": false
   },
   "outputs": [
    {
     "name": "stdout",
     "output_type": "stream",
     "text": [
      "Loading : /home/mkoenig/multiscale-galactose-results/django/model/Koenig_demo_10_annotated.xml\n",
      "SBML load time: 0.0239899158478\n",
      "Time: [0.0116|0.0011]\n",
      "Time: [0.0135|0.0014]\n",
      "Time: [0.0132|0.0013]\n",
      "Time: [0.0120|0.0013]\n",
      "Time: [0.0113|0.0011]\n",
      "Time: [0.0146|0.0014]\n",
      "Time: [0.0132|0.0012]\n",
      "Time: [0.0129|0.0014]\n",
      "Time: [0.0127|0.0013]\n",
      "Time: [0.0141|0.0012]\n",
      "Time: [0.0139|0.0014]\n",
      "Time: [0.0130|0.0014]\n",
      "Time: [0.0135|0.0011]\n",
      "Time: [0.0129|0.0012]\n",
      "Time: [0.0122|0.0013]\n",
      "Time: [0.0132|0.0016]\n",
      "Time: [0.0135|0.0012]\n",
      "Time: [0.0155|0.0023]\n",
      "Time: [0.0124|0.0011]\n",
      "Time: [0.0120|0.0012]\n",
      "Time: [0.0147|0.0016]\n",
      "Time: [0.0131|0.0015]\n",
      "Time: [0.0124|0.0012]\n",
      "Time: [0.0126|0.0011]\n",
      "Time: [0.0136|0.0013]\n",
      "Time: [0.0119|0.0013]\n",
      "Time: [0.0112|0.0010]\n",
      "Time: [0.0121|0.0015]\n",
      "Time: [0.0132|0.0013]\n",
      "Time: [0.0138|0.0013]\n",
      "Time: [0.0132|0.0015]\n",
      "Time: [0.0132|0.0014]\n",
      "Time: [0.0126|0.0012]\n",
      "Time: [0.0128|0.0012]\n",
      "Time: [0.0123|0.0014]\n",
      "Time: [0.0114|0.0013]\n",
      "Time: [0.0115|0.0013]\n",
      "Time: [0.0120|0.0014]\n",
      "Time: [0.0140|0.0016]\n",
      "Time: [0.0138|0.0015]\n",
      "Time: [0.0128|0.0011]\n",
      "Time: [0.0137|0.0013]\n",
      "Time: [0.0128|0.0016]\n",
      "Time: [0.0131|0.0013]\n",
      "Time: [0.0139|0.0013]\n",
      "Time: [0.0130|0.0012]\n",
      "Time: [0.0141|0.0014]\n",
      "Time: [0.0133|0.0016]\n",
      "Time: [0.0130|0.0012]\n",
      "Time: [0.0134|0.0013]\n",
      "Time: [0.0161|0.0016]\n",
      "Time: [0.0133|0.0015]\n",
      "Time: [0.0119|0.0011]\n",
      "Time: [0.0139|0.0014]\n",
      "Time: [0.0132|0.0013]\n",
      "Time: [0.0135|0.0015]\n",
      "Time: [0.0136|0.0014]\n",
      "Time: [0.0138|0.0013]\n",
      "Time: [0.0131|0.0015]\n",
      "Time: [0.0131|0.0015]\n",
      "Time: [0.0130|0.0013]\n",
      "Time: [0.0137|0.0011]\n",
      "Time: [0.0143|0.0017]\n",
      "Time: [0.0127|0.0012]\n",
      "Time: [0.0125|0.0015]\n",
      "Time: [0.0143|0.0014]\n",
      "Time: [0.0134|0.0015]\n",
      "Time: [0.0136|0.0013]\n",
      "Time: [0.0124|0.0012]\n",
      "Time: [0.0146|0.0015]\n",
      "Time: [0.0133|0.0013]\n",
      "Time: [0.0136|0.0015]\n",
      "Time: [0.0137|0.0013]\n",
      "Time: [0.0144|0.0017]\n",
      "Time: [0.0128|0.0014]\n",
      "Time: [0.0127|0.0011]\n",
      "Time: [0.0128|0.0015]\n",
      "Time: [0.0132|0.0013]\n",
      "Time: [0.0138|0.0014]\n",
      "Time: [0.0130|0.0014]\n",
      "Time: [0.0126|0.0015]\n",
      "Time: [0.0136|0.0011]\n",
      "Time: [0.0135|0.0015]\n",
      "Time: [0.0129|0.0013]\n",
      "Time: [0.0130|0.0014]\n",
      "Time: [0.0143|0.0012]\n",
      "Time: [0.0141|0.0015]\n",
      "Time: [0.0136|0.0014]\n",
      "Time: [0.0145|0.0022]\n",
      "Time: [0.0134|0.0012]\n",
      "Time: [0.0130|0.0017]\n",
      "Time: [0.0119|0.0011]\n",
      "Time: [0.0119|0.0011]\n",
      "Time: [0.0158|0.0021]\n",
      "Time: [0.0124|0.0013]\n",
      "Time: [0.0144|0.0017]\n",
      "Time: [0.0123|0.0013]\n",
      "Time: [0.0139|0.0011]\n",
      "Time: [0.0130|0.0014]\n",
      "Time: [0.0128|0.0013]\n",
      "Time: [0.0126|0.0014]\n",
      "Time: [0.0146|0.0013]\n",
      "Time: [0.0133|0.0014]\n",
      "Time: [0.0127|0.0012]\n",
      "Time: [0.0129|0.0014]\n",
      "Time: [0.0136|0.0012]\n",
      "Time: [0.0130|0.0015]\n",
      "Time: [0.0127|0.0012]\n",
      "Time: [0.0134|0.0012]\n",
      "Time: [0.0126|0.0013]\n",
      "Time: [0.0124|0.0013]\n",
      "Time: [0.0118|0.0012]\n",
      "Time: [0.0126|0.0014]\n",
      "Time: [0.0126|0.0011]\n",
      "Time: [0.0122|0.0012]\n",
      "Time: [0.0148|0.0016]\n",
      "Time: [0.0138|0.0013]\n",
      "Time: [0.0126|0.0012]\n",
      "Time: [0.0133|0.0017]\n",
      "Time: [0.0153|0.0019]\n",
      "Time: [0.0121|0.0012]\n",
      "Time: [0.0120|0.0012]\n",
      "Time: [0.0135|0.0012]\n",
      "Time: [0.0143|0.0014]\n",
      "Time: [0.0121|0.0013]\n",
      "Time: [0.0123|0.0012]\n",
      "Time: [0.0134|0.0012]\n",
      "Time: [0.0149|0.0018]\n",
      "Time: [0.0116|0.0012]\n",
      "Time: [0.0117|0.0012]\n",
      "Time: [0.0143|0.0014]\n",
      "Time: [0.0140|0.0015]\n",
      "Time: [0.0111|0.0011]\n",
      "Time: [0.0116|0.0012]\n",
      "Time: [0.0142|0.0013]\n",
      "Time: [0.0158|0.0019]\n",
      "Time: [0.0109|0.0011]\n",
      "Time: [0.0119|0.0014]\n",
      "Time: [0.0108|0.0010]\n",
      "Time: [0.0104|0.0011]\n",
      "Time: [0.0104|0.0011]\n",
      "Time: [0.0113|0.0012]\n",
      "Time: [0.0108|0.0012]\n",
      "Time: [0.0107|0.0010]\n",
      "Time: [0.0113|0.0011]\n",
      "Time: [0.0135|0.0013]\n",
      "Time: [0.0138|0.0015]\n",
      "Time: [0.0131|0.0015]\n",
      "Time: [0.0148|0.0015]\n",
      "Time: [0.0143|0.0013]\n",
      "Time: [0.0172|0.0026]\n",
      "Time: [0.0140|0.0017]\n",
      "Time: [0.0138|0.0015]\n",
      "Time: [0.0138|0.0014]\n",
      "Time: [0.0109|0.0011]\n",
      "Time: [0.0127|0.0013]\n",
      "Time: [0.0125|0.0013]\n",
      "Time: [0.0108|0.0011]\n",
      "Time: [0.0106|0.0012]\n",
      "Time: [0.0115|0.0013]\n",
      "Time: [0.0139|0.0014]\n",
      "Time: [0.0122|0.0013]\n",
      "Time: [0.0118|0.0011]\n",
      "Time: [0.0133|0.0013]\n",
      "Time: [0.0163|0.0025]\n",
      "Time: [0.0122|0.0012]\n",
      "Time: [0.0152|0.0015]\n",
      "Time: [0.0150|0.0016]\n",
      "Time: [0.0130|0.0014]\n",
      "Time: [0.0129|0.0012]\n",
      "Time: [0.0123|0.0012]\n",
      "Time: [0.0141|0.0013]\n",
      "Time: [0.0138|0.0014]\n",
      "Time: [0.0133|0.0013]\n",
      "Time: [0.0135|0.0012]\n",
      "Time: [0.0132|0.0014]\n",
      "Time: [0.0132|0.0012]\n",
      "Time: [0.0142|0.0016]\n",
      "Time: [0.0124|0.0013]\n",
      "Time: [0.0151|0.0018]\n",
      "Time: [0.0127|0.0013]\n",
      "Time: [0.0126|0.0012]\n",
      "Time: [0.0122|0.0012]\n",
      "Time: [0.0138|0.0015]\n",
      "Time: [0.0132|0.0014]\n",
      "Time: [0.0129|0.0011]\n",
      "Time: [0.0123|0.0013]\n",
      "Time: [0.0118|0.0012]\n",
      "Time: [0.0119|0.0012]\n",
      "Time: [0.0130|0.0013]\n",
      "Time: [0.0138|0.0015]\n",
      "Time: [0.0131|0.0015]\n",
      "Time: [0.0125|0.0013]\n",
      "Time: [0.0120|0.0012]\n",
      "Time: [0.0143|0.0013]\n",
      "Time: [0.0143|0.0015]\n",
      "Time: [0.0117|0.0012]\n",
      "Time: [0.0124|0.0012]\n",
      "Time: [0.0146|0.0013]\n",
      "Time: [0.0134|0.0013]\n",
      "Time: [0.0121|0.0012]\n",
      "Time: [0.0137|0.0015]\n",
      "Time: [0.0135|0.0014]\n",
      "Time: [0.0162|0.0020]\n",
      "Time: [0.0154|0.0023]\n",
      "Time: [0.0151|0.0016]\n",
      "Time: [0.0140|0.0013]\n",
      "Time: [0.0131|0.0016]\n",
      "Time: [0.0124|0.0014]\n",
      "Time: [0.0123|0.0013]\n",
      "Time: [0.0109|0.0012]\n",
      "Time: [0.0114|0.0013]\n",
      "Time: [0.0121|0.0013]\n",
      "Time: [0.0116|0.0012]\n",
      "Time: [0.0120|0.0012]\n",
      "Time: [0.0131|0.0013]\n",
      "Time: [0.0131|0.0016]\n",
      "Time: [0.0121|0.0012]\n",
      "Time: [0.0114|0.0011]\n",
      "Time: [0.0118|0.0013]\n",
      "Time: [0.0130|0.0014]\n",
      "Time: [0.0128|0.0014]\n",
      "Time: [0.0123|0.0013]\n",
      "Time: [0.0109|0.0013]\n",
      "Time: [0.0116|0.0012]\n",
      "Time: [0.0132|0.0021]\n",
      "Time: [0.0136|0.0015]\n",
      "Time: [0.0127|0.0015]\n",
      "Time: [0.0117|0.0015]\n",
      "Time: [0.0110|0.0012]\n",
      "Time: [0.0138|0.0013]\n",
      "Time: [0.0126|0.0013]\n",
      "Time: [0.0131|0.0014]\n",
      "Time: [0.0119|0.0013]\n",
      "Time: [0.0123|0.0013]\n",
      "Time: [0.0137|0.0016]\n",
      "Time: [0.0125|0.0014]\n",
      "Time: [0.0131|0.0014]\n",
      "Time: [0.0118|0.0014]\n",
      "Time: [0.0130|0.0013]\n",
      "Time: [0.0152|0.0016]\n",
      "Time: [0.0137|0.0014]\n",
      "Time: [0.0124|0.0013]\n",
      "Time: [0.0106|0.0012]\n",
      "Time: [0.0122|0.0012]\n",
      "Time: [0.0119|0.0014]\n",
      "Time: [0.0127|0.0016]\n",
      "Time: [0.0118|0.0014]\n",
      "Time: [0.0125|0.0014]\n",
      "Time: [0.0126|0.0016]\n",
      "Time: [0.0342|0.0012]\n",
      "Time: [0.0127|0.0016]\n",
      "Time: [0.0118|0.0012]\n",
      "Time: [0.0128|0.0013]\n",
      "Time: [0.0130|0.0013]\n",
      "Time: [0.0118|0.0013]\n",
      "Time: [0.0117|0.0014]\n",
      "Time: [0.0129|0.0014]\n",
      "Time: [0.0129|0.0013]\n",
      "Time: [0.0124|0.0015]\n",
      "Time: [0.0118|0.0015]\n",
      "Time: [0.0113|0.0012]\n",
      "Time: [0.0125|0.0013]\n",
      "Time: [0.0139|0.0013]\n",
      "Time: [0.0128|0.0014]\n",
      "Time: [0.0123|0.0013]\n",
      "Time: [0.0112|0.0013]\n",
      "Time: [0.0133|0.0015]\n",
      "Time: [0.0136|0.0015]\n",
      "Time: [0.0121|0.0015]\n",
      "Time: [0.0104|0.0012]\n",
      "Time: [0.0135|0.0016]\n",
      "Time: [0.0133|0.0014]\n",
      "Time: [0.0126|0.0012]\n",
      "Time: [0.0120|0.0014]\n",
      "Time: [0.0101|0.0011]\n",
      "Time: [0.0101|0.0011]\n",
      "Time: [0.0098|0.0010]\n",
      "Time: [0.0098|0.0010]\n",
      "Time: [0.0100|0.0012]\n",
      "Time: [0.0111|0.0011]\n",
      "Time: [0.0146|0.0015]\n",
      "Time: [0.0123|0.0013]\n",
      "Time: [0.0116|0.0012]\n",
      "Time: [0.0117|0.0012]\n",
      "Time: [0.0109|0.0012]\n",
      "Time: [0.0115|0.0012]\n",
      "Time: [0.0123|0.0012]\n",
      "Time: [0.0121|0.0014]\n",
      "Time: [0.0122|0.0013]\n",
      "Time: [0.0128|0.0014]\n",
      "Time: [0.0123|0.0014]\n",
      "Time: [0.0117|0.0013]\n",
      "Time: [0.0121|0.0013]\n",
      "Time: [0.0122|0.0014]\n",
      "Time: [0.0119|0.0014]\n",
      "Time: [0.0113|0.0015]\n",
      "Time: [0.0120|0.0012]\n",
      "Time: [0.0119|0.0013]\n",
      "Time: [0.0111|0.0012]\n",
      "Time: [0.0116|0.0012]\n",
      "Time: [0.0125|0.0014]\n",
      "Time: [0.0137|0.0017]\n",
      "Time: [0.0119|0.0015]\n",
      "Time: [0.0105|0.0014]\n",
      "Time: [0.0111|0.0013]\n",
      "Time: [0.0122|0.0013]\n",
      "Time: [0.0110|0.0012]\n",
      "Time: [0.0110|0.0013]\n",
      "Time: [0.0120|0.0014]\n",
      "Time: [0.0121|0.0013]\n",
      "Time: [0.0130|0.0014]\n",
      "Time: [0.0128|0.0015]\n",
      "Time: [0.0136|0.0015]\n",
      "Time: [0.0121|0.0011]\n",
      "Time: [0.0134|0.0015]\n",
      "Time: [0.0136|0.0015]\n",
      "Time: [0.0122|0.0013]\n",
      "Time: [0.0114|0.0013]\n",
      "Time: [0.0127|0.0014]\n",
      "Time: [0.0131|0.0015]\n",
      "Time: [0.0119|0.0012]\n",
      "Time: [0.0113|0.0011]\n",
      "Time: [0.0129|0.0017]\n",
      "Time: [0.0119|0.0013]\n",
      "Time: [0.0131|0.0013]\n",
      "Time: [0.0131|0.0014]\n",
      "Time: [0.0127|0.0014]\n",
      "Time: [0.0121|0.0012]\n",
      "Time: [0.0122|0.0014]\n",
      "Time: [0.0129|0.0013]\n",
      "Time: [0.0122|0.0013]\n",
      "Time: [0.0107|0.0012]\n",
      "Time: [0.0127|0.0014]\n",
      "Time: [0.0131|0.0013]\n",
      "Time: [0.0112|0.0013]\n",
      "Time: [0.0123|0.0014]\n",
      "Time: [0.0109|0.0012]\n",
      "Time: [0.0126|0.0013]\n",
      "Time: [0.0139|0.0015]\n",
      "Time: [0.0125|0.0013]\n",
      "Time: [0.0130|0.0014]\n",
      "Time: [0.0119|0.0011]\n",
      "Time: [0.0115|0.0012]\n",
      "Time: [0.0126|0.0013]\n",
      "Time: [0.0131|0.0014]\n",
      "Time: [0.0121|0.0015]\n",
      "Time: [0.0114|0.0014]\n",
      "Time: [0.0131|0.0015]\n",
      "Time: [0.0132|0.0014]\n",
      "Time: [0.0119|0.0013]\n",
      "Time: [0.0113|0.0013]\n",
      "Time: [0.0127|0.0013]\n",
      "Time: [0.0131|0.0013]\n",
      "Time: [0.0127|0.0014]\n",
      "Time: [0.0124|0.0015]\n",
      "Time: [0.0112|0.0015]\n",
      "Time: [0.0130|0.0015]\n",
      "Time: [0.0137|0.0016]\n",
      "Time: [0.0122|0.0015]\n",
      "Time: [0.0110|0.0012]\n",
      "Time: [0.0127|0.0016]\n",
      "Time: [0.0126|0.0012]\n",
      "Time: [0.0130|0.0015]\n",
      "Time: [0.0108|0.0013]\n",
      "Time: [0.0110|0.0013]\n",
      "Time: [0.0119|0.0014]\n",
      "Time: [0.0128|0.0014]\n",
      "Time: [0.0134|0.0017]\n",
      "Time: [0.0121|0.0015]\n",
      "Time: [0.0101|0.0012]\n",
      "Time: [0.0117|0.0013]\n",
      "Time: [0.0137|0.0017]\n",
      "Time: [0.0129|0.0016]\n",
      "Time: [0.0119|0.0014]\n",
      "Time: [0.0102|0.0012]\n",
      "Time: [0.0120|0.0012]\n",
      "Time: [0.0135|0.0016]\n",
      "Time: [0.0128|0.0015]\n",
      "Time: [0.0115|0.0013]\n",
      "Time: [0.0104|0.0013]\n",
      "Time: [0.0117|0.0015]\n",
      "Time: [0.0133|0.0015]\n",
      "Time: [0.0133|0.0016]\n",
      "Time: [0.0122|0.0016]\n",
      "Time: [0.0108|0.0013]\n",
      "Time: [0.0141|0.0014]\n",
      "Time: [0.0150|0.0013]\n",
      "Time: [0.0159|0.0015]\n",
      "Time: [0.0118|0.0014]\n",
      "Time: [0.0121|0.0012]\n",
      "Time: [0.0137|0.0014]\n",
      "Time: [0.0151|0.0023]\n",
      "Time: [0.0110|0.0010]\n",
      "Time: [0.0120|0.0011]\n",
      "Time: [0.0149|0.0017]\n",
      "Time: [0.0115|0.0012]\n",
      "Time: [0.0115|0.0013]\n",
      "Time: [0.0132|0.0013]\n",
      "Time: [0.0141|0.0013]\n",
      "Time: [0.0129|0.0014]\n",
      "Time: [0.0104|0.0011]\n",
      "Time: [0.0126|0.0014]\n",
      "Time: [0.0127|0.0015]\n",
      "Time: [0.0134|0.0015]\n",
      "Time: [0.0123|0.0016]\n",
      "Time: [0.0101|0.0011]\n",
      "Time: [0.0110|0.0013]\n",
      "Time: [0.0116|0.0012]\n",
      "Time: [0.0131|0.0015]\n",
      "Time: [0.0104|0.0011]\n",
      "Time: [0.0104|0.0012]\n",
      "Time: [0.0120|0.0013]\n",
      "Time: [0.0134|0.0014]\n",
      "Time: [0.0126|0.0015]\n",
      "Time: [0.0179|0.0014]\n",
      "Time: [0.0116|0.0012]\n",
      "Time: [0.0129|0.0015]\n",
      "Time: [0.0136|0.0015]\n",
      "Time: [0.0122|0.0014]\n",
      "Time: [0.0106|0.0013]\n",
      "Time: [0.0128|0.0014]\n",
      "Time: [0.0139|0.0015]\n",
      "Time: [0.0122|0.0014]\n",
      "Time: [0.0123|0.0014]\n",
      "Time: [0.0103|0.0011]\n",
      "Time: [0.0127|0.0015]\n",
      "Time: [0.0134|0.0015]\n",
      "Time: [0.0131|0.0014]\n",
      "Time: [0.0121|0.0013]\n",
      "Time: [0.0100|0.0011]\n",
      "Time: [0.0111|0.0015]\n",
      "Time: [0.0119|0.0011]\n",
      "Time: [0.0135|0.0013]\n",
      "Time: [0.0126|0.0014]\n",
      "Time: [0.0098|0.0010]\n",
      "Time: [0.0130|0.0014]\n",
      "Time: [0.0133|0.0013]\n",
      "Time: [0.0124|0.0014]\n",
      "Time: [0.0119|0.0013]\n",
      "Time: [0.0101|0.0011]\n",
      "Time: [0.0123|0.0016]\n",
      "Time: [0.0131|0.0014]\n",
      "Time: [0.0130|0.0014]\n",
      "Time: [0.0120|0.0013]\n",
      "Time: [0.0101|0.0011]\n",
      "Time: [0.0123|0.0014]\n",
      "Time: [0.0126|0.0013]\n",
      "Time: [0.0133|0.0014]\n",
      "Time: [0.0123|0.0016]\n",
      "Time: [0.0104|0.0013]\n",
      "Time: [0.0129|0.0016]\n",
      "Time: [0.0153|0.0014]\n",
      "Time: [0.0115|0.0014]\n",
      "Time: [0.0104|0.0012]\n",
      "Time: [0.0121|0.0014]\n",
      "Time: [0.0126|0.0013]\n",
      "Time: [0.0140|0.0015]\n",
      "Time: [0.0121|0.0013]\n",
      "Time: [0.0107|0.0013]\n",
      "Time: [0.0154|0.0015]\n",
      "Time: [0.0135|0.0012]\n",
      "Time: [0.0123|0.0014]\n",
      "Time: [0.0102|0.0011]\n",
      "Time: [0.0147|0.0013]\n",
      "Time: [0.0152|0.0016]\n",
      "Time: [0.0145|0.0015]\n",
      "Time: [0.0123|0.0012]\n",
      "Time: [0.0133|0.0014]\n",
      "Time: [0.0179|0.0024]\n",
      "Time: [0.0121|0.0012]\n",
      "Time: [0.0121|0.0013]\n",
      "Time: [0.0136|0.0014]\n",
      "Time: [0.0137|0.0014]\n",
      "Time: [0.0150|0.0015]\n",
      "Time: [0.0121|0.0013]\n",
      "Time: [0.0142|0.0015]\n",
      "Time: [0.0145|0.0013]\n",
      "Time: [0.0123|0.0013]\n",
      "Time: [0.0127|0.0014]\n",
      "Time: [0.0131|0.0016]\n",
      "Time: [0.0119|0.0013]\n",
      "Time: [0.0130|0.0013]\n",
      "Time: [0.0128|0.0013]\n",
      "Time: [0.0126|0.0014]\n",
      "Time: [0.0124|0.0017]\n",
      "Time: [0.0168|0.0022]\n",
      "Time: [0.0145|0.0020]\n",
      "Time: [0.0167|0.0022]\n",
      "Time: [0.0185|0.0025]\n",
      "Time: [0.0147|0.0018]\n",
      "Time: [0.0152|0.0025]\n",
      "Time: [0.0149|0.0022]\n",
      "Time: [0.0141|0.0014]\n",
      "Time: [0.0134|0.0013]\n",
      "Time: [0.0113|0.0011]\n",
      "Time: [0.0147|0.0016]\n",
      "Time: [0.0119|0.0014]\n",
      "Time: [0.0178|0.0026]\n",
      "Time: [0.0148|0.0021]\n",
      "Time: [0.0148|0.0014]\n",
      "Time: [0.0141|0.0015]\n",
      "Time: [0.0141|0.0011]\n",
      "Time: [0.0127|0.0012]\n",
      "Time: [0.0141|0.0014]\n",
      "Time: [0.0152|0.0016]\n",
      "Time: [0.0174|0.0023]\n",
      "Time: [0.0142|0.0021]\n",
      "Time: [0.0169|0.0018]\n",
      "Time: [0.0136|0.0020]\n",
      "Time: [0.0151|0.0016]\n",
      "Time: [0.0111|0.0012]\n",
      "Time: [0.0121|0.0012]\n",
      "Time: [0.0121|0.0013]\n",
      "Time: [0.0154|0.0019]\n",
      "Time: [0.0145|0.0025]\n",
      "Time: [0.0153|0.0014]\n",
      "Time: [0.0121|0.0011]\n",
      "Time: [0.0123|0.0011]\n",
      "Time: [0.0139|0.0012]\n",
      "Time: [0.0141|0.0014]\n",
      "Time: [0.0147|0.0015]\n",
      "Time: [0.0122|0.0011]\n",
      "Time: [0.0111|0.0011]\n",
      "Time: [0.0139|0.0015]\n",
      "Time: [0.0153|0.0015]\n",
      "Time: [0.0116|0.0014]\n",
      "Time: [0.0113|0.0012]\n",
      "Time: [0.0143|0.0014]\n",
      "Time: [0.0158|0.0017]\n",
      "Time: [0.0131|0.0011]\n",
      "Time: [0.0129|0.0012]\n",
      "Time: [0.0137|0.0013]\n",
      "Time: [0.0152|0.0014]\n",
      "Time: [0.0111|0.0012]\n",
      "Time: [0.0109|0.0010]\n",
      "Time: [0.0131|0.0016]\n",
      "Time: [0.0140|0.0011]\n",
      "Time: [0.0137|0.0013]\n",
      "Time: [0.0118|0.0012]\n",
      "Time: [0.0131|0.0012]\n",
      "Time: [0.0120|0.0014]\n",
      "Time: [0.0150|0.0018]\n",
      "Time: [0.0140|0.0013]\n",
      "Time: [0.0117|0.0012]\n",
      "Time: [0.0159|0.0019]\n",
      "Time: [0.0144|0.0017]\n",
      "Time: [0.0115|0.0011]\n",
      "Time: [0.0104|0.0013]\n",
      "Time: [0.0141|0.0012]\n",
      "Time: [0.0135|0.0014]\n",
      "Time: [0.0119|0.0011]\n",
      "Time: [0.0106|0.0011]\n",
      "Time: [0.0123|0.0012]\n",
      "Time: [0.0129|0.0013]\n",
      "Time: [0.0133|0.0015]\n",
      "Time: [0.0129|0.0012]\n",
      "Time: [0.0103|0.0013]\n",
      "Time: [0.0121|0.0011]\n",
      "Time: [0.0116|0.0014]\n",
      "Time: [0.0111|0.0014]\n",
      "Time: [0.0119|0.0012]\n",
      "Time: [0.0111|0.0013]\n",
      "Time: [0.0115|0.0013]\n",
      "Time: [0.0118|0.0011]\n",
      "Time: [0.0131|0.0016]\n",
      "Time: [0.0125|0.0015]\n",
      "Time: [0.0100|0.0010]\n",
      "Time: [0.0101|0.0013]\n",
      "Time: [0.0122|0.0013]\n",
      "Time: [0.0126|0.0014]\n",
      "Time: [0.0134|0.0014]\n",
      "Time: [0.0105|0.0012]\n",
      "Time: [0.0101|0.0012]\n",
      "Time: [0.0123|0.0013]\n",
      "Time: [0.0131|0.0013]\n",
      "Time: [0.0131|0.0015]\n",
      "Time: [0.0104|0.0012]\n",
      "Time: [0.0098|0.0010]\n",
      "Time: [0.0125|0.0014]\n",
      "Time: [0.0129|0.0015]\n",
      "Time: [0.0136|0.0015]\n",
      "Time: [0.0112|0.0015]\n",
      "Time: [0.0099|0.0012]\n",
      "Time: [0.0125|0.0015]\n",
      "Time: [0.0131|0.0014]\n",
      "Time: [0.0121|0.0014]\n",
      "Time: [0.0101|0.0011]\n",
      "Time: [0.0100|0.0011]\n",
      "Time: [0.0120|0.0012]\n",
      "Time: [0.0117|0.0013]\n",
      "Time: [0.0112|0.0014]\n",
      "Time: [0.0116|0.0014]\n",
      "Time: [0.0103|0.0012]\n",
      "Time: [0.0121|0.0012]\n",
      "Time: [0.0131|0.0014]\n",
      "Time: [0.0132|0.0015]\n",
      "Time: [0.0102|0.0011]\n",
      "Time: [0.0100|0.0010]\n",
      "Time: [0.0122|0.0013]\n",
      "Time: [0.0136|0.0013]\n",
      "Time: [0.0135|0.0014]\n",
      "Time: [0.0115|0.0012]\n",
      "Time: [0.0098|0.0010]\n",
      "Time: [0.0124|0.0014]\n",
      "Time: [0.0129|0.0014]\n",
      "Time: [0.0122|0.0013]\n",
      "Time: [0.0103|0.0013]\n",
      "Time: [0.0101|0.0012]\n",
      "Time: [0.0110|0.0011]\n",
      "Time: [0.0122|0.0015]\n",
      "Time: [0.0122|0.0013]\n",
      "Time: [0.0118|0.0012]\n",
      "Time: [0.0114|0.0011]\n",
      "Time: [0.0127|0.0014]\n",
      "Time: [0.0126|0.0014]\n",
      "Time: [0.0138|0.0016]\n",
      "Time: [0.0124|0.0013]\n",
      "Time: [0.0106|0.0012]\n",
      "Time: [0.0111|0.0013]\n",
      "Time: [0.0134|0.0013]\n",
      "Time: [0.0127|0.0014]\n",
      "Time: [0.0120|0.0015]\n",
      "Time: [0.0101|0.0012]\n",
      "Total time: 8.06191110611\n"
     ]
    }
   ],
   "source": [
    "import time\n",
    "start = time.time()\n",
    "solve.run_simulations(simulations_double, task_double)\n",
    "duration = time.time() - start\n",
    "print('Total time:', duration)"
   ]
  },
  {
   "cell_type": "code",
   "execution_count": 23,
   "metadata": {
    "collapsed": false
   },
   "outputs": [
    {
     "data": {
      "text/plain": [
       "<matplotlib.text.Text at 0x7f4942c47ed0>"
      ]
     },
     "execution_count": 23,
     "metadata": {},
     "output_type": "execute_result"
    },
    {
     "data": {
      "image/png": "[encoded data removed]",
      "text/plain": [
       "<matplotlib.figure.Figure at 0x7f494bc382d0>"
      ]
     },
     "metadata": {},
     "output_type": "display_data"
    }
   ],
   "source": [
    "# Load the HDF5 files and plot them\n",
    "from multiscale.odesim.simulate import solve_io\n",
    "reload(solve_io)\n",
    "plt.figure(figsize=(10, 7))\n",
    "for sim in simulations_double:\n",
    "    result = Result.objects.get(simulation=sim, result_type=db_api.ResultType.HDF5)\n",
    "    data, header = solve_io.load_hdf5(result.filepath)\n",
    "    plt.plot(data[:,0], data[:,1:], '-', color='grey')\n",
    "    \n",
    "for sim in simulations:\n",
    "    result = Result.objects.get(simulation=sim, result_type=db_api.ResultType.HDF5)\n",
    "    data, header = solve_io.load_hdf5(result.filepath)\n",
    "    plt.plot(data[:,0], data[:,1:], '-', color='black')\n",
    "    \n",
    "plt.xlabel('time [s]', fontsize=plt_fontsize)\n",
    "plt.ylabel('species [mM]', fontsize=plt_fontsize)"
   ]
  },
  {
   "cell_type": "code",
   "execution_count": null,
   "metadata": {
    "collapsed": true
   },
   "outputs": [],
   "source": []
  }
 ],
 "metadata": {
  "kernelspec": {
   "display_name": "Python 2",
   "language": "python",
   "name": "python2"
  },
  "language_info": {
   "codemirror_mode": {
    "name": "ipython",
    "version": 2
   },
   "file_extension": ".py",
   "mimetype": "text/x-python",
   "name": "python",
   "nbconvert_exporter": "python",
   "pygments_lexer": "ipython2",
   "version": "2.7.6"
  }
 },
 "nbformat": 4,
 "nbformat_minor": 0
}
