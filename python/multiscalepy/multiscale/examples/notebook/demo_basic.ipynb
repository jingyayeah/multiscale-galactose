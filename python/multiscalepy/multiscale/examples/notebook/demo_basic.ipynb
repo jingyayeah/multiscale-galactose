{
 "cells": [
  {
   "cell_type": "code",
   "execution_count": null,
   "metadata": {
    "collapsed": true
   },
   "outputs": [],
   "source": [
    "# Introduction to kinetic modeling with SBML\n",
    "\n",
    "Kinetic modeling based on ordinary differential equations (ODE) plays an important role in computational biology. An important aspect of such models is its reusability and the reproducibility of the results. An important step towards reproducible and understandable models was the introduction of standard formats for model description (SBML, CellML, BioPax) and guidlines for model description (MIRIAM) and simulation description (MIASE) were developed. These standards are currently supported by a wide range of libraries and software tools, providing a rich environment for the work with such models.  \n",
    "In addition to standard formats, IPython notebooks provide the visual framework for representing model setup, simulation and results in a unified and reproducible way.\n",
    "\n",
    "This notebook demonstrates the basic work with computational models based on the Systems Biology Markup Language (SBML), the de facto standard for kinetic models in biology.  \n",
    "As part of the introduction standard tools in python for the interaction with SBML based models are presented, like libSBML, Antimony and RoadRunner. ODE simulations are demonstrated.\n",
    "\n",
    "\n",
    "### How to Use the Examples\n",
    "TODO: update and provide the examples.\n",
    "\n",
    "\n",
    "* Make sure your machine already has Python and related libraries, such as ipython, numpy, scipy, pandas, etc.\n",
    "* Start Cytoscape (cyREST should be installed!)\n",
    "* Clone the repository: git clone https://github.com/idekerlab/cy-rest-python\n",
    "* Change directory: cd cy-rest-python\n",
    "* Start IPython Notebook: `ipython notebook`\n",
    "* Click index.ipynb to start the example\n",
    "\n"
   ]
  },
  {
   "cell_type": "code",
   "execution_count": 1,
   "metadata": {
    "collapsed": true
   },
   "outputs": [],
   "source": [
    "from __future__ import print_function, division\n",
    "%matplotlib inline\n",
    "import numpy as np\n",
    "import matplotlib.pyplot as plt\n",
    "import networkx as nx"
   ]
  },
  {
   "cell_type": "markdown",
   "metadata": {},
   "source": [
    "## libSBML\n",
    "An important part of the work with SBML is the possibilty to modify models.  \n",
    "Some GUI based modeling environments are available, like CellDesigner or BioUML.  \n",
    "To programatically interact with SBML the SBML library libSBML (http://www.sbml.org) is the option of choice."
   ]
  },
  {
   "cell_type": "code",
   "execution_count": 2,
   "metadata": {
    "collapsed": false
   },
   "outputs": [
    {
     "name": "stdout",
     "output_type": "stream",
     "text": [
      "demo_basic.html\t\t\t  galactose_multiscale.py\r\n",
      "demo_basic.ipynb\t\t  galactose_parameter_sensitivity.ipynb\r\n",
      "demo_django.html\t\t  __init__.py\r\n",
      "demo_django.ipynb\t\t  README.md\r\n",
      "demo_graph.html\t\t\t  test_simulation_strategies.html\r\n",
      "demo_graph.ipynb\t\t  test_simulation_strategies.ipynb\r\n",
      "demo_mca.html\t\t\t  Untitled1.ipynb\r\n",
      "demo_mca.ipynb\t\t\t  Untitled.ipynb\r\n",
      "demo_parameter_sensitivity.html   van_der_pol.html\r\n",
      "demo_parameter_sensitivity.ipynb  van_der_pol.ipynb\r\n",
      "galactose_multiscale.ipynb\r\n"
     ]
    }
   ],
   "source": [
    "!ls    # available files"
   ]
  },
  {
   "cell_type": "markdown",
   "metadata": {},
   "source": [
    "Loading model with libsbml and inspect main model features."
   ]
  },
  {
   "cell_type": "code",
   "execution_count": 3,
   "metadata": {
    "collapsed": false
   },
   "outputs": [
    {
     "name": "stdout",
     "output_type": "stream",
     "text": [
      "/home/mkoenig/git/multiscale-galactose/python/multiscalepy/multiscale/examples/models/demo/Koenig_demo_10_annotated.xml\n",
      "<Model Koenig_demo_10_annotated \"Koenig_demo_10\">\n"
     ]
    }
   ],
   "source": [
    "import libsbml\n",
    "from multiscale.examples import testdata\n",
    "print(testdata.demo_sbml)\n",
    "doc = libsbml.readSBMLFromFile(testdata.demo_sbml) \n",
    "model = doc.getModel()\n",
    "print(model)"
   ]
  },
  {
   "cell_type": "markdown",
   "metadata": {},
   "source": [
    "Print model information like model id, and listOfSpecies"
   ]
  },
  {
   "cell_type": "code",
   "execution_count": 4,
   "metadata": {
    "collapsed": false
   },
   "outputs": [
    {
     "name": "stdout",
     "output_type": "stream",
     "text": [
      "Koenig_demo_10_annotated\n",
      "--------------------------------------------------------------------------------\n",
      "<Compartment e \"external compartment\">\n",
      "external compartment m3\n",
      "<Compartment c \"cell compartment\">\n",
      "cell compartment m3\n",
      "<Compartment m \"plasma membrane\">\n",
      "plasma membrane m2\n",
      "--------------------------------------------------------------------------------\n",
      "<Species e__A \"A\">\n",
      "<Species e__C \"C\">\n",
      "<Species e__B \"B\">\n",
      "<Species c__C \"C\">\n",
      "<Species c__B \"B\">\n",
      "<Species c__A \"A\">\n",
      "--------------------------------------------------------------------------------\n",
      "<Reaction bA \"bA (A import)\">\n",
      "<Reaction bB \"bB (B export)\">\n",
      "<Reaction bC \"bC (C export)\">\n",
      "<Reaction v1 \"v1 (A -> B)\">\n",
      "<Reaction v2 \"v2 (A -> C)\">\n",
      "<Reaction v3 \"v3 (C -> A)\">\n",
      "<Reaction v4 \"v4 (C -> B)\">\n"
     ]
    }
   ],
   "source": [
    "print(model.getId())\n",
    "print('-' * 80)\n",
    "\n",
    "compartments = model.getListOfCompartments()\n",
    "for c in compartments:\n",
    "    print(c)\n",
    "    print(c.name, c.units)\n",
    "print('-' * 80)\n",
    "\n",
    "species = model.getListOfSpecies()\n",
    "for s in species:\n",
    "    print(s)\n",
    "print('-' * 80)\n",
    "    \n",
    "reactions = model.getListOfReactions()\n",
    "for r in reactions:\n",
    "    print(r)"
   ]
  },
  {
   "cell_type": "markdown",
   "metadata": {},
   "source": [
    "### Using libSBML to generate a simple graph of the network\n",
    "\n",
    "For a very simple visualization of the network we can read the graph from the species and reactions.  \n",
    "TODO: provide example with networkX"
   ]
  },
  {
   "cell_type": "markdown",
   "metadata": {},
   "source": [
    "## Antimony\n",
    "\n",
    "Antimony is a tools for SBML which provides human readable representation of the SBML information.\n",
    "Loading SBML with Antimony and get human readable representation of the information."
   ]
  },
  {
   "cell_type": "code",
   "execution_count": 5,
   "metadata": {
    "collapsed": false
   },
   "outputs": [
    {
     "name": "stdout",
     "output_type": "stream",
     "text": [
      "('__main', 'Koenig_demo_10_annotated')\n",
      "// Created by libAntimony v2.8.1\n",
      "model *Koenig_demo_10_annotated()\n",
      "\n",
      "  // Compartments and Species:\n",
      "  compartment e, c;\n",
      "  species e__A in e, e__C in e, e__B in e, c__C in c, c__B in c, c__A in c;\n",
      "\n",
      "  // Reactions:\n",
      "  bA: e__A => c__A; (scale_f*(Vmax_bA/Km_A)*(e__A - c__A))/(1 dimensionless + e__A/Km_A + c__A/Km_A);\n",
      "  bB: c__B => e__B; (scale_f*(Vmax_bB/Km_B)*(c__B - e__B))/(1 dimensionless + e__B/Km_B + c__B/Km_B);\n",
      "  bC: c__C => e__C; (scale_f*(Vmax_bC/Km_C)*(c__C - e__C))/(1 dimensionless + e__C/Km_C + c__C/Km_C);\n",
      "  v1 in c: c__A => c__B; (scale_f*Vmax_v1)/Km_A*(c__A - 1 dimensionless/Keq_v1*c__B);\n",
      "  v2 in c: c__A => c__C; (scale_f*Vmax_v2)/Km_A*c__A;\n",
      "  v3 in c: c__C => c__A; (scale_f*Vmax_v3)/Km_A*c__C;\n",
      "  v4 in c: c__C => c__B; (scale_f*Vmax_v4)/Km_A*(c__C - 1 dimensionless/Keq_v4*c__B);\n",
      "\n",
      "  // Species initializations:\n",
      "  e__A = 10;\n",
      "  e__A has mM;\n",
      "  e__C = 0;\n",
      "  e__C has mM;\n",
      "  e__B = 0;\n",
      "  e__B has mM;\n",
      "  c__C = 0;\n",
      "  c__C has mM;\n",
      "  c__B = 0;\n",
      "  c__B has mM;\n",
      "  c__A = 0;\n",
      "  c__A has mM;\n",
      "\n",
      "  // Compartment initializations:\n",
      "  e = 1e-06;\n",
      "  e has m3;\n",
      "  c = 1e-06;\n",
      "  c has m3;\n",
      "\n",
      "  // Variable initializations:\n",
      "  Km_C = 3;\n",
      "  Km_C has mM;\n",
      "  scale_f = 1e-06;\n",
      "  scale_f has dimensionless;\n",
      "  Vmax_bB = 2;\n",
      "  Vmax_bB has mole_per_s;\n",
      "  Vmax_bC = 2;\n",
      "  Vmax_bC has mole_per_s;\n",
      "  Vmax_bA = 5;\n",
      "  Vmax_bA has mole_per_s;\n",
      "  Vmax_v2 = 0.5;\n",
      "  Vmax_v2 has mole_per_s;\n",
      "  Vmax_v3 = 0.5;\n",
      "  Vmax_v3 has mole_per_s;\n",
      "  Vmax_v1 = 1;\n",
      "  Vmax_v1 has mole_per_s;\n",
      "  Km_A = 1;\n",
      "  Km_A has mM;\n",
      "  Vmax_v4 = 0.5;\n",
      "  Vmax_v4 has mole_per_s;\n",
      "  Km_B = 0.5;\n",
      "  Km_B has mM;\n",
      "  Keq_v4 = 2;\n",
      "  Keq_v4 has dimensionless;\n",
      "  Keq_v1 = 10;\n",
      "  Keq_v1 has dimensionless;\n",
      "\n",
      "  // Other declarations:\n",
      "  var e, c;\n",
      "  const Km_C, scale_f, Vmax_bB, Vmax_bC, Vmax_bA, Vmax_v2, Vmax_v3, Vmax_v1;\n",
      "  const Km_A, Vmax_v4, Km_B, Keq_v4, Keq_v1;\n",
      "\n",
      "  // Unit definitions:\n",
      "  unit kg = kilogram;\n",
      "  unit mM = mole / metre^3;\n",
      "  unit m = metre;\n",
      "  unit s = second;\n",
      "  unit m3 = metre^3;\n",
      "  unit m2 = metre^2;\n",
      "  unit mole_per_s = mole / second;\n",
      "  unit length = m;\n",
      "  unit area = m2;\n",
      "  unit volume = m3;\n",
      "  unit substance = mole;\n",
      "  unit extent = mole;\n",
      "  unit time_unit = s;\n",
      "\n",
      "  // Display Names:\n",
      "  m is \"plasma membrane\";\n",
      "  e is \"external compartment\";\n",
      "  c is \"cell compartment\";\n",
      "  e__A is \"A\";\n",
      "  e__C is \"C\";\n",
      "  e__B is \"B\";\n",
      "  c__C is \"C\";\n",
      "  c__B is \"B\";\n",
      "  c__A is \"A\";\n",
      "  scale_f is \"metabolic scaling factor\";\n",
      "  bA is \"bA (A import)\";\n",
      "  bB is \"bB (B export)\";\n",
      "  bC is \"bC (C export)\";\n",
      "  v1 is \"v1 (A -> B)\";\n",
      "  v2 is \"v2 (A -> C)\";\n",
      "  v3 is \"v3 (C -> A)\";\n",
      "  v4 is \"v4 (C -> B)\";\n",
      "end\n",
      "\n"
     ]
    }
   ],
   "source": [
    "import antimony\n",
    "antimony.loadSBMLFile(testdata.demo_sbml)\n",
    "mod_names = antimony.getModuleNames()\n",
    "print(mod_names)\n",
    "ant_string = antimony.getAntimonyString(mod_names[1])\n",
    "print(ant_string)"
   ]
  },
  {
   "cell_type": "markdown",
   "metadata": {},
   "source": [
    "### Creating models with Antimony\n",
    "\n",
    "Antimony provides a simple syntax to define models in text."
   ]
  },
  {
   "cell_type": "code",
   "execution_count": 6,
   "metadata": {
    "collapsed": false
   },
   "outputs": [
    {
     "name": "stdout",
     "output_type": "stream",
     "text": [
      "v2.8.0\n",
      "<?xml version=\"1.0\" encoding=\"UTF-8\"?>\n",
      "<!-- Created by libAntimony version v2.8.1 on 2016-01-21 16:44 with libSBML version 5.12.1. -->\n",
      "<sbml xmlns=\"http://www.sbml.org/sbml/level3/version1/core\" level=\"3\" version=\"1\">\n",
      "  <model id=\"example1\" name=\"example1\">\n",
      "    <listOfCompartments>\n",
      "      <compartment sboTerm=\"SBO:0000410\" id=\"default_compartment\" spatialDimensions=\"3\" size=\"1\" constant=\"true\"/>\n",
      "    </listOfCompartments>\n",
      "    <listOfSpecies>\n",
      "      <species id=\"S1\" compartment=\"default_compartment\" initialConcentration=\"10\" hasOnlySubstanceUnits=\"false\" boundaryCondition=\"false\" constant=\"false\"/>\n",
      "      <species id=\"S2\" compartment=\"default_compartment\" initialConcentration=\"0\" hasOnlySubstanceUnits=\"false\" boundaryCondition=\"false\" constant=\"false\"/>\n",
      "    </listOfSpecies>\n",
      "    <listOfParameters>\n",
      "      <parameter id=\"k1\" value=\"0.1\" constant=\"true\"/>\n",
      "    </listOfParameters>\n",
      "    <listOfReactions>\n",
      "      <reaction id=\"_J0\" reversible=\"true\" fast=\"false\">\n",
      "        <listOfReactants>\n",
      "          <speciesReference species=\"S1\" stoichiometry=\"1\" constant=\"true\"/>\n",
      "        </listOfReactants>\n",
      "        <listOfProducts>\n",
      "          <speciesReference species=\"S2\" stoichiometry=\"1\" constant=\"true\"/>\n",
      "        </listOfProducts>\n",
      "        <kineticLaw>\n",
      "          <math xmlns=\"http://www.w3.org/1998/Math/MathML\">\n",
      "            <apply>\n",
      "              <times/>\n",
      "              <ci> k1 </ci>\n",
      "              <ci> S1 </ci>\n",
      "            </apply>\n",
      "          </math>\n",
      "        </kineticLaw>\n",
      "      </reaction>\n",
      "    </listOfReactions>\n",
      "  </model>\n",
      "</sbml>\n",
      "\n"
     ]
    }
   ],
   "source": [
    "import antimony\n",
    "print(antimony.LIBANTIMONY_VERSION_STRING)\n",
    "\n",
    "model_str = '''\n",
    "# Simple UniUni reaction with first-order mass-action kinetics\n",
    "model example1\n",
    "  S1 -> S2; k1*S1\n",
    "  S1 = 10\n",
    "  S2 = 0\n",
    "  k1 = 0.1\n",
    "end\n",
    "'''\n",
    "\n",
    "# Load model string\n",
    "res = antimony.loadAntimonyString(model_str)\n",
    "if (res == -1):\n",
    "    print(antimony.getLastError())\n",
    "\n",
    "# SBML is created based on module name\n",
    "module_name = antimony.getMainModuleName()\n",
    "print(antimony.getSBMLString(module_name))"
   ]
  },
  {
   "cell_type": "markdown",
   "metadata": {},
   "source": [
    "## RoadRunner simulations\n",
    "\n",
    "Example simulations with the demo network.\n",
    "First import roadrunner for simulations."
   ]
  },
  {
   "cell_type": "code",
   "execution_count": 7,
   "metadata": {
    "collapsed": false
   },
   "outputs": [
    {
     "data": {
      "text/plain": [
       "'1.4.2; Compiler: gcc 4.8.4, C++ version: 199711; JIT Compiler: LLVM-3.4; Date: Jan 21 2016, 08:32:08'"
      ]
     },
     "execution_count": 7,
     "metadata": {},
     "output_type": "execute_result"
    }
   ],
   "source": [
    "import roadrunner\n",
    "roadrunner.getVersionStr()"
   ]
  },
  {
   "cell_type": "markdown",
   "metadata": {},
   "source": [
    "Loading the model and performing a simple time course simulation."
   ]
  },
  {
   "cell_type": "code",
   "execution_count": 8,
   "metadata": {
    "collapsed": false
   },
   "outputs": [
    {
     "name": "stdout",
     "output_type": "stream",
     "text": [
      "['time', '[e__A]', '[e__C]', '[e__B]', '[c__C]', '[c__B]', '[c__A]']\n"
     ]
    },
    {
     "data": {
      "image/png": "[encoded data removed]",
      "text/plain": [
       "<matplotlib.figure.Figure at 0x7efe6444ccd0>"
      ]
     },
     "metadata": {},
     "output_type": "display_data"
    },
    {
     "data": {
      "text/plain": [
       "(100, 7)"
      ]
     },
     "execution_count": 8,
     "metadata": {},
     "output_type": "execute_result"
    }
   ],
   "source": [
    "# load model and generate equidistant timecourse for 20 [s]\n",
    "r = roadrunner.RoadRunner(testdata.demo_sbml)\n",
    "r.selections = ['time'] + ['[{}]'.format(s) for s in r.model.getFloatingSpeciesIds()]\n",
    "print(r.selections)\n",
    "\n",
    "result = r.simulate(0,20, 100, plot=True)\n",
    "result.shape"
   ]
  },
  {
   "cell_type": "code",
   "execution_count": 9,
   "metadata": {
    "collapsed": false
   },
   "outputs": [
    {
     "name": "stdout",
     "output_type": "stream",
     "text": [
      "        time,   [e__A],     [e__C],    [e__B],    [c__C],    [c__B],   [c__A]\n",
      " [[        0,       10,          0,         0,         0,         0,        0],\n",
      "  [  0.20202,  9.15465, 0.00167644, 0.0143228, 0.0365807, 0.0647265, 0.728059],\n",
      "  [  0.40404,  8.42114,  0.0107259, 0.0688642,  0.117111,  0.204651,  1.17752],\n",
      "  [ 0.606061,  7.76568,   0.029183,  0.151185,  0.214214,  0.386444,  1.45329],\n",
      "  [ 0.808081,   7.1684,  0.0563114,  0.249264,  0.314298,   0.59248,  1.61923],\n",
      "  [   1.0101,  6.61729,  0.0904292,  0.356286,  0.411046,  0.810251,  1.71468],\n",
      "  [  1.21212,  6.10511,   0.129755,  0.468371,   0.50187,   1.03118,  1.76373],\n",
      "  [  1.41414,  5.62717,   0.172759,   0.58306,  0.585771,   1.24938,  1.78188],\n",
      "  [  1.61616,  5.18053,   0.218175,  0.698753,  0.662594,   1.46089,  1.77909],\n",
      "  [  1.81818,  4.76332,   0.265001,  0.814286,  0.732573,   1.66318,  1.76168],\n",
      "  [   2.0202,  4.37431,   0.312458,  0.928849,  0.796089,   1.85465,   1.7337],\n",
      "  [  2.22222,  4.01256,   0.359942,   1.04191,  0.853514,   2.03416,  1.69798],\n",
      "  [  2.42424,  3.67729,   0.406981,   1.15304,    0.9052,   2.20103,  1.65652],\n",
      "  [  2.62626,  3.36778,   0.453202,   1.26167,  0.951498,   2.35514,  1.61074],\n",
      "  [  2.82828,   3.0833,   0.498314,   1.36744,  0.992736,   2.49652,  1.56175],\n",
      "  [   3.0303,  2.82296,   0.542096,   1.47044,    1.0292,   2.62489,  1.51045],\n",
      "  [  3.23232,   2.5858,    0.58437,   1.57071,   1.06116,   2.74032,  1.45769],\n",
      "  [  3.43434,  2.37071,   0.624995,   1.66736,    1.0889,   2.84388,   1.4042],\n",
      "  [  3.63636,  2.17646,   0.663865,   1.75978,   1.11272,   2.93654,  1.35068],\n",
      "  [  3.83838,  2.00176,   0.700908,   1.84924,   1.13294,   3.01746,  1.29775],\n",
      "  [   4.0404,   1.8452,   0.736073,    1.9363,    1.1498,   3.08676,  1.24592],\n",
      "  [  4.24242,  1.70535,   0.769327,   2.01874,   1.16358,   3.14733,  1.19571],\n",
      "  [  4.44444,   1.5808,   0.800657,    2.0966,   1.17465,   3.19981,  1.14753],\n",
      "  [  4.64646,  1.47012,   0.830075,   2.17192,   1.18333,   3.24292,  1.10168],\n",
      "  [  4.84848,  1.37196,   0.857605,   2.24387,   1.18984,   3.27838,  1.05837],\n",
      "  [  5.05051,  1.28503,   0.883279,   2.31098,   1.19448,   3.30848,  1.01779],\n",
      "  [  5.25253,  1.20812,   0.907146,   2.37453,   1.19756,   3.33269, 0.979999],\n",
      "  [  5.45455,  1.14012,   0.929271,   2.43593,   1.19931,   3.35044, 0.944977],\n",
      "  [  5.65657,  1.08001,    0.94972,   2.49344,   1.19988,   3.36429,  0.91269],\n",
      "  [  5.85859,  1.02688,   0.968557,   2.54659,   1.19954,   3.37539, 0.883075],\n",
      "  [  6.06061, 0.979916,   0.985864,   2.59728,   1.19848,    3.3825, 0.855995],\n",
      "  [  6.26263, 0.938376,    1.00172,   2.64478,   1.19682,   3.38704, 0.831303],\n",
      "  [  6.46465, 0.901614,    1.01622,   2.68913,    1.1947,   3.38952, 0.808852],\n",
      "  [  6.66667, 0.869058,    1.02943,   2.73083,   1.19225,      3.39, 0.788478],\n",
      "  [  6.86869, 0.840201,    1.04144,   2.76998,   1.18954,   3.38885, 0.770016],\n",
      "  [  7.07071, 0.814599,    1.05233,   2.80656,   1.18666,   3.38657, 0.753306],\n",
      "  [  7.27273, 0.791861,    1.06219,   2.84051,   1.18367,    3.3836, 0.738198],\n",
      "  [  7.47475, 0.771645,    1.07107,     2.872,   1.18063,   3.38013, 0.724551],\n",
      "  [  7.67677, 0.753654,    1.07907,   2.90131,    1.1776,   3.37617, 0.712228],\n",
      "  [  7.87879, 0.737625,    1.08624,   2.92863,   1.17461,   3.37182, 0.701105],\n",
      "  [  8.08081, 0.723329,    1.09266,   2.95405,   1.17167,   3.36725, 0.691063],\n",
      "  [  8.28283, 0.710564,    1.09839,   2.97765,   1.16882,   3.36261, 0.681996],\n",
      "  [  8.48485, 0.699153,    1.10349,   2.99953,   1.16605,   3.35799,  0.67381],\n",
      "  [  8.68687,  0.68894,      1.108,   3.01984,    1.1634,   3.35343, 0.666416],\n",
      "  [  8.88889, 0.679791,    1.11199,   3.03865,   1.16085,     3.349, 0.659736],\n",
      "  [  9.09091, 0.671586,    1.11551,   3.05614,   1.15843,   3.34467, 0.653698],\n",
      "  [  9.29293, 0.664219,    1.11859,   3.07239,   1.15612,   3.34047, 0.648238],\n",
      "  [  9.49495, 0.657598,    1.12127,   3.08748,   1.15393,   3.33645, 0.643297],\n",
      "  [  9.69697,  0.65164,     1.1236,   3.10149,   1.15186,   3.33262, 0.638823],\n",
      "  [  9.89899, 0.646273,    1.12561,   3.11446,   1.14989,   3.32902,  0.63477],\n",
      "  [   10.101, 0.641434,    1.12733,   3.12649,   1.14804,   3.32565, 0.631095],\n",
      "  [   10.303, 0.637066,    1.12879,   3.13763,   1.14628,    3.3225, 0.627762],\n",
      "  [  10.5051,  0.63312,    1.13002,   3.14796,   1.14463,   3.31956, 0.624736],\n",
      "  [  10.7071, 0.629551,    1.13104,   3.15754,   1.14308,   3.31683, 0.621988],\n",
      "  [  10.9091, 0.626321,    1.13187,   3.16643,   1.14162,   3.31429,  0.61949],\n",
      "  [  11.1111, 0.623394,    1.13254,   3.17468,   1.14025,   3.31195, 0.617218],\n",
      "  [  11.3131, 0.620738,    1.13306,   3.18233,   1.13897,   3.30978,  0.61515],\n",
      "  [  11.5152, 0.618319,    1.13345,   3.18946,   1.13777,   3.30778, 0.613262],\n",
      "  [  11.7172, 0.616116,    1.13373,   3.19607,   1.13664,   3.30593, 0.611538],\n",
      "  [  11.9192, 0.614114,    1.13391,   3.20222,   1.13558,   3.30424, 0.609964],\n",
      "  [  12.1212, 0.612301,      1.134,   3.20792,   1.13458,    3.3027,  0.60853],\n",
      "  [  12.3232, 0.610639,    1.13401,   3.21323,   1.13365,   3.30129, 0.607214],\n",
      "  [  12.5253, 0.609108,    1.13397,   3.21819,   1.13278,   3.29999, 0.606002],\n",
      "  [  12.7273, 0.607712,    1.13386,    3.2228,   1.13196,   3.29881, 0.604893],\n",
      "  [  12.9293, 0.606449,     1.1337,   3.22707,   1.13119,   3.29774, 0.603881],\n",
      "  [  13.1313, 0.605319,    1.13349,   3.23102,   1.13045,   3.29679, 0.602965],\n",
      "  [  13.3333, 0.604249,    1.13326,   3.23472,   1.12976,   3.29592, 0.602116],\n",
      "  [  13.5354, 0.603265,    1.13299,   3.23818,   1.12912,   3.29514, 0.601341],\n",
      "  [  13.7374, 0.602361,    1.13269,   3.24138,   1.12851,   3.29445, 0.600641],\n",
      "  [  13.9394, 0.601534,    1.13237,   3.24435,   1.12794,   3.29383, 0.600014],\n",
      "  [  14.1414, 0.600781,    1.13203,    3.2471,    1.1274,   3.29328, 0.599448],\n",
      "  [  14.3434, 0.600094,    1.13168,   3.24968,    1.1269,   3.29278, 0.598907],\n",
      "  [  14.5455, 0.599478,    1.13131,   3.25208,   1.12642,   3.29234, 0.598404],\n",
      "  [  14.7475, 0.598934,    1.13094,   3.25432,   1.12597,   3.29193,  0.59793],\n",
      "  [  14.9495, 0.598465,    1.13056,    3.2564,   1.12555,   3.29157,  0.59748],\n",
      "  [  15.1515, 0.598026,    1.13018,   3.25835,   1.12516,   3.29125, 0.597073],\n",
      "  [  15.3535, 0.597598,     1.1298,   3.26017,   1.12479,   3.29096, 0.596715],\n",
      "  [  15.5556, 0.597188,    1.12942,   3.26187,   1.12444,   3.29071, 0.596402],\n",
      "  [  15.7576, 0.596785,    1.12904,   3.26347,   1.12412,   3.29048, 0.596137],\n",
      "  [  15.9596, 0.596376,    1.12867,   3.26496,   1.12382,   3.29028, 0.595926],\n",
      "  [  16.1616, 0.596058,     1.1283,   3.26637,   1.12353,    3.2901, 0.595682],\n",
      "  [  16.3636, 0.595792,    1.12794,   3.26768,   1.12326,   3.28993, 0.595436],\n",
      "  [  16.5657, 0.595587,    1.12758,   3.26892,     1.123,   3.28977, 0.595176],\n",
      "  [  16.7677, 0.595459,    1.12723,   3.27007,   1.12275,   3.28963, 0.594889],\n",
      "  [  16.9697, 0.595385,    1.12689,   3.27116,   1.12251,   3.28949, 0.594592],\n",
      "  [  17.1717, 0.595269,    1.12656,   3.27218,   1.12228,   3.28937, 0.594366],\n",
      "  [  17.3737, 0.595113,    1.12624,   3.27314,   1.12207,   3.28927, 0.594211],\n",
      "  [  17.5758, 0.594882,    1.12592,   3.27403,   1.12187,   3.28917, 0.594154],\n",
      "  [  17.7778, 0.594688,    1.12561,   3.27487,   1.12168,    3.2891, 0.594075],\n",
      "  [  17.9798, 0.594483,    1.12532,   3.27566,   1.12151,   3.28904, 0.594014],\n",
      "  [  18.1818, 0.594275,    1.12503,   3.27641,   1.12136,   3.28901, 0.593955],\n",
      "  [  18.3838, 0.594076,    1.12475,   3.27711,   1.12121,   3.28899, 0.593899],\n",
      "  [  18.5859, 0.593903,    1.12448,   3.27777,   1.12107,   3.28898, 0.593825],\n",
      "  [  18.7879, 0.593776,    1.12423,   3.27839,   1.12095,   3.28898, 0.593713],\n",
      "  [  18.9899, 0.593668,    1.12398,   3.27898,   1.12083,   3.28899, 0.593592],\n",
      "  [  19.1919, 0.593544,    1.12374,   3.27953,   1.12072,     3.289, 0.593496],\n",
      "  [  19.3939, 0.593412,    1.12351,   3.28006,   1.12061,   3.28902, 0.593422],\n",
      "  [   19.596,  0.59328,    1.12329,   3.28056,   1.12051,   3.28903, 0.593365],\n",
      "  [   19.798, 0.593207,    1.12308,   3.28103,   1.12041,   3.28904, 0.593268],\n",
      "  [       20, 0.593184,    1.12288,   3.28147,   1.12031,   3.28904, 0.593147]]\n",
      "\n"
     ]
    }
   ],
   "source": [
    "print(result)"
   ]
  },
  {
   "cell_type": "code",
   "execution_count": 10,
   "metadata": {
    "collapsed": false
   },
   "outputs": [
    {
     "data": {
      "text/plain": [
       "(100, 7)"
      ]
     },
     "execution_count": 10,
     "metadata": {},
     "output_type": "execute_result"
    }
   ],
   "source": [
    "result.shape"
   ]
  },
  {
   "cell_type": "code",
   "execution_count": 11,
   "metadata": {
    "collapsed": false
   },
   "outputs": [
    {
     "data": {
      "image/png": "[encoded data removed]",
      "text/plain": [
       "<matplotlib.figure.Figure at 0x7efe643a0a90>"
      ]
     },
     "metadata": {},
     "output_type": "display_data"
    }
   ],
   "source": [
    "# plot some concentrations against each other\n",
    "plt.plot(result['[c__A]'], result['[e__A]'], '-o', color='black', label=\"A_ext ~ A\")\n",
    "plt.plot(result['[c__B]'], result['[e__B]'], '-o', color='red', label=\"B_ext ~ B\")\n",
    "plt.plot(result['[c__C]'], result['[c__C]'], '-o', color='blue', label=\"C_ext ~ C\")\n",
    "plt.xlabel('Cell concentration [mM]')\n",
    "plt.ylabel('External concentration [mM]')\n",
    "plt.title('Trajectories of A, B, C')\n",
    "plt.legend();"
   ]
  },
  {
   "cell_type": "markdown",
   "metadata": {},
   "source": [
    "### Selections\n",
    "\n",
    "The content of the numerical output is defined via selections. Via selections the, components of the model we are interested in can be selected.\n",
    "Currently only the time and all concentrations of the model are selected."
   ]
  },
  {
   "cell_type": "code",
   "execution_count": 12,
   "metadata": {
    "collapsed": false
   },
   "outputs": [
    {
     "name": "stdout",
     "output_type": "stream",
     "text": [
      "['time', '[e__A]', '[e__C]', '[e__B]', '[c__C]', '[c__B]', '[c__A]']\n"
     ]
    }
   ],
   "source": [
    "print(r.selections)"
   ]
  },
  {
   "cell_type": "code",
   "execution_count": 13,
   "metadata": {
    "collapsed": false
   },
   "outputs": [
    {
     "name": "stdout",
     "output_type": "stream",
     "text": [
      "<type 'numpy.ndarray'>\n",
      "['e', 'c', 'm']\n",
      "[  1.00000000e-06   1.00000000e-06   1.00000000e+00]\n"
     ]
    }
   ],
   "source": [
    "# get all the compartment volumes at end point\n",
    "print(type(r.model.getCompartmentVolumes()))\n",
    "print(r.model.getCompartmentIds())\n",
    "print(r.model.getCompartmentVolumes())"
   ]
  },
  {
   "cell_type": "code",
   "execution_count": 14,
   "metadata": {
    "collapsed": false
   },
   "outputs": [
    {
     "name": "stdout",
     "output_type": "stream",
     "text": [
      "['bA', 'bB', 'bC', 'v1', 'v2', 'v3', 'v4']\n",
      "[  8.42883858e-11   2.14094040e-09  -9.81571503e-10   2.64242508e-07\n",
      "   2.96573381e-07   5.60153039e-07  -2.62107596e-07]\n"
     ]
    }
   ],
   "source": [
    "# get all the reactionRates at end point\n",
    "print(r.model.getReactionIds())\n",
    "print(r.model.getReactionRates())"
   ]
  },
  {
   "cell_type": "markdown",
   "metadata": {},
   "source": [
    "Now we are interested in the rates. Adding them to the selection, and plot them."
   ]
  },
  {
   "cell_type": "code",
   "execution_count": 15,
   "metadata": {
    "collapsed": true
   },
   "outputs": [],
   "source": [
    "r.selections = ['time'] + r.model.getReactionIds()"
   ]
  },
  {
   "cell_type": "code",
   "execution_count": 16,
   "metadata": {
    "collapsed": true
   },
   "outputs": [],
   "source": [
    "r.reset()  # reset initial concentrations\n",
    "s  = r.simulate(0,20, plot=False)  # timecourse for 20 [s]"
   ]
  },
  {
   "cell_type": "code",
   "execution_count": 17,
   "metadata": {
    "collapsed": false
   },
   "outputs": [
    {
     "data": {
      "text/plain": [
       " [[   0, 4.54545e-06,           0,           0,           0,           0,           0,            0],\n",
       "  [ 0.4, 3.42481e-06, 3.48348e-07, 6.70591e-08, 1.15043e-06, 5.85281e-07, 5.76293e-08,  7.29171e-09],\n",
       "  [ 0.8, 2.84385e-06, 5.09853e-07, 1.51676e-07, 1.55584e-06, 8.07114e-07, 1.55154e-07,  9.17315e-09],\n",
       "  [ 1.2,  2.4577e-06, 5.62187e-07, 2.03833e-07, 1.65999e-06, 8.80895e-07, 2.48305e-07, -6.18396e-09],\n",
       "  [ 1.6, 2.14829e-06, 5.73179e-07, 2.28468e-07, 1.63554e-06, 8.89981e-07, 3.28348e-07, -3.27196e-08],\n",
       "  [   2, 1.87093e-06, 5.64704e-07, 2.35409e-07, 1.55332e-06, 8.68461e-07, 3.95009e-07,  -6.4001e-08],\n",
       "  [ 2.4, 1.61055e-06, 5.45288e-07, 2.31555e-07, 1.44357e-06, 8.30869e-07, 4.49646e-07,  -9.5778e-08],\n",
       "  [ 2.8, 1.36446e-06, 5.19378e-07, 2.21092e-07, 1.32103e-06, 7.84384e-07, 4.93623e-07, -1.25727e-07],\n",
       "  [ 3.2, 1.13595e-06, 4.89605e-07, 2.06572e-07, 1.19384e-06, 7.33098e-07, 5.28174e-07, -1.52709e-07]]"
      ]
     },
     "execution_count": 17,
     "metadata": {},
     "output_type": "execute_result"
    }
   ],
   "source": [
    "# print first 10 rows of solution\n",
    "s[0:9, :]"
   ]
  },
  {
   "cell_type": "code",
   "execution_count": 18,
   "metadata": {
    "collapsed": false
   },
   "outputs": [
    {
     "name": "stdout",
     "output_type": "stream",
     "text": [
      "c__A = 0.593138421731\n",
      "Vmax_bA = 5.0\n"
     ]
    }
   ],
   "source": [
    "print('c__A = {}'.format(r.c__A))\n",
    "print('Vmax_bA = {}'.format(r.Vmax_bA))"
   ]
  },
  {
   "cell_type": "markdown",
   "metadata": {},
   "source": [
    "The units can be read out from the SBML file."
   ]
  },
  {
   "cell_type": "code",
   "execution_count": 19,
   "metadata": {
    "collapsed": false
   },
   "outputs": [
    {
     "name": "stdout",
     "output_type": "stream",
     "text": [
      "<Model Koenig_demo_10_annotated \"Koenig_demo_10\">\n",
      "<class 'libsbml.Model'>\n"
     ]
    }
   ],
   "source": [
    "print(model)\n",
    "print(type(model))"
   ]
  },
  {
   "cell_type": "code",
   "execution_count": 20,
   "metadata": {
    "collapsed": false
   },
   "outputs": [
    {
     "name": "stdout",
     "output_type": "stream",
     "text": [
      "<Species c__A \"A\"> c__A A\n",
      "mole\n",
      "False\n",
      "<species metaid=\"meta_a0f87ee0ecba42f78d9571c76ac04ef7\" sboTerm=\"SBO:0000247\" id=\"c__A\" name=\"A\" compartment=\"c\" initialConcentration=\"0\" substanceUnits=\"mole\" hasOnlySubstanceUnits=\"false\" boundaryCondition=\"false\" constant=\"false\">\n",
      "  <annotation>\n",
      "    <rdf:RDF xmlns:rdf=\"http://www.w3.org/1999/02/22-rdf-syntax-ns#\" xmlns:dc=\"http://purl.org/dc/elements/1.1/\" xmlns:dcterms=\"http://purl.org/dc/terms/\" xmlns:vCard=\"http://www.w3.org/2001/vcard-rdf/3.0#\" xmlns:bqbiol=\"http://biomodels.net/biology-qualifiers/\" xmlns:bqmodel=\"http://biomodels.net/model-qualifiers/\">\n",
      "      <rdf:Description rdf:about=\"#meta_a0f87ee0ecba42f78d9571c76ac04ef7\">\n",
      "        <bqbiol:is>\n",
      "          <rdf:Bag>\n",
      "            <rdf:li rdf:resource=\"http://identifiers.org/biomodels.sbo/SBO:0000247\"/>\n",
      "          </rdf:Bag>\n",
      "        </bqbiol:is>\n",
      "      </rdf:Description>\n",
      "    </rdf:RDF>\n",
      "  </annotation>\n",
      "</species>\n"
     ]
    },
    {
     "data": {
      "text/plain": [
       "'mole (exponent = 1, multiplier = 1, scale = 0), metre (exponent = -3, multiplier = 1, scale = 0)'"
      ]
     },
     "execution_count": 20,
     "metadata": {},
     "output_type": "execute_result"
    }
   ],
   "source": [
    "s = model.getSpecies('c__A')\n",
    "print(s, s.getId(), s.getName())\n",
    "print(s.getUnits())  # has mole as unit due to substance units\n",
    "print(s.has_only_substance_units)\n",
    "print(s.toSBML())\n",
    "\n",
    "udef =  s.getDerivedUnitDefinition()\n",
    "libsbml.UnitDefinition_printUnits(udef)"
   ]
  },
  {
   "cell_type": "markdown",
   "metadata": {},
   "source": [
    "## Steady States\n",
    "\n",
    "Proper simulation to steady state (i.e. with NEQ solvers and not just based on letting the simulation run for long)."
   ]
  },
  {
   "cell_type": "code",
   "execution_count": 21,
   "metadata": {
    "collapsed": false
   },
   "outputs": [
    {
     "name": "stdout",
     "output_type": "stream",
     "text": [
      "['e__A', 'e__C', 'e__B', 'c__C', 'c__B', 'c__A']\n",
      "[  5.92250871e-07   1.11869105e-06   3.29028969e-06   1.11869732e-06\n",
      "   3.29028623e-06   5.92251521e-07]\n"
     ]
    }
   ],
   "source": [
    "# ? what does the value for time mean here ? \n",
    "# bug in the setup\n",
    "from roadrunner import SelectionRecord\n",
    "r.steadyStateSelections = r.model.getFloatingSpeciesIds()\n",
    "print(r.steadyStateSelections)\n",
    "print(r.getSteadyStateValues())"
   ]
  },
  {
   "cell_type": "markdown",
   "metadata": {},
   "source": [
    "## Stoichiometric Matrix\n",
    "\n",
    "Access to the stoichiometric matrix of the system is simple via"
   ]
  },
  {
   "cell_type": "code",
   "execution_count": 22,
   "metadata": {
    "collapsed": false
   },
   "outputs": [
    {
     "data": {
      "text/plain": [
       "        bA, bB, bC, v1, v2, v3, v4\n",
       "e__A [[ -1,  0,  0,  0,  0,  0,  0],\n",
       "e__C  [  0,  0,  1,  0,  0,  0,  0],\n",
       "e__B  [  0,  1,  0,  0,  0,  0,  0],\n",
       "c__C  [  0,  0, -1,  0,  1, -1, -1],\n",
       "c__B  [  0, -1,  0,  1,  0,  0,  1],\n",
       "c__A  [  1,  0,  0, -1, -1,  1,  0]]"
      ]
     },
     "execution_count": 22,
     "metadata": {},
     "output_type": "execute_result"
    }
   ],
   "source": [
    "r.getFullStoichiometryMatrix()"
   ]
  },
  {
   "cell_type": "code",
   "execution_count": 23,
   "metadata": {
    "collapsed": false
   },
   "outputs": [
    {
     "data": {
      "text/plain": [
       " [[ 1, 1, 1, 1, 1, 1]]"
      ]
     },
     "execution_count": 23,
     "metadata": {},
     "output_type": "execute_result"
    }
   ],
   "source": [
    "r.getConservationMatrix()"
   ]
  },
  {
   "cell_type": "markdown",
   "metadata": {},
   "source": [
    "## Jacobian Matrix\n",
    "\n",
    "Access to Jacobian matrix of the systems via"
   ]
  },
  {
   "cell_type": "code",
   "execution_count": 24,
   "metadata": {
    "collapsed": false
   },
   "outputs": [
    {
     "data": {
      "text/plain": [
       "                e__A,        e__C,         e__B,         c__C,         c__B,         c__A\n",
       "e__A [[ -2.28885e-06,           0,            0,            0,            0,  2.28885e-06],\n",
       "e__C  [            0, -3.8187e-07,            0,  3.81869e-07,            0,            0],\n",
       "e__B  [            0,           0, -2.82462e-07,            0,  2.82463e-07,            0],\n",
       "c__C  [            0,  3.8187e-07,            0, -1.38187e-06,      2.5e-07,        5e-07],\n",
       "c__B  [            0,           0,  2.82462e-07,        5e-07, -6.32463e-07,        1e-06],\n",
       "c__A  [  2.28885e-06,           0,            0,        5e-07,        1e-07, -3.78885e-06]]"
      ]
     },
     "execution_count": 24,
     "metadata": {},
     "output_type": "execute_result"
    }
   ],
   "source": [
    "r.getFullJacobian()"
   ]
  },
  {
   "cell_type": "markdown",
   "metadata": {},
   "source": [
    "## Metabolic Control Analysis\n",
    "\n",
    "Direct access to metabolic control analysis, for instance the Concentration control coefficients."
   ]
  },
  {
   "cell_type": "code",
   "execution_count": 25,
   "metadata": {
    "collapsed": false
   },
   "outputs": [
    {
     "data": {
      "text/plain": [
       "                  bA,          bB,           bC,         v1,         v2,        v3,         v4\n",
       "e__A [[ -6.30006e-12, -1.3391e-11,  1.23125e-11,  -0.292398,  -0.223684,  0.422515,  0.0935673],\n",
       "e__C  [  3.96507e-13, -1.3391e-11, -9.77757e-11, -0.0309598,    0.18808, -0.355263,   0.198142],\n",
       "e__B  [  3.96507e-13, 2.73175e-11,  1.23125e-11,  0.0631579, -0.0236842, 0.0447368, -0.0842105],\n",
       "c__C  [  3.96507e-13, -1.3391e-11,  1.23125e-11, -0.0309598,    0.18808, -0.355263,   0.198142],\n",
       "c__B  [  3.96507e-13, -1.3391e-11,  1.23125e-11,  0.0631579, -0.0236842, 0.0447368, -0.0842105],\n",
       "c__A  [  3.96507e-13, -1.3391e-11,  1.23125e-11,  -0.292398,  -0.223684,  0.422515,  0.0935673]]"
      ]
     },
     "execution_count": 25,
     "metadata": {},
     "output_type": "execute_result"
    }
   ],
   "source": [
    "r.getScaledConcentrationControlCoefficientMatrix()"
   ]
  },
  {
   "cell_type": "markdown",
   "metadata": {},
   "source": [
    "## Repeated simulations\n",
    "\n",
    "A standard problem in the analysis of computational models repeated simulations under varying conditions.\n",
    "Examples are \n",
    "* parameter scans\n",
    "* optimizations\n",
    "* varying model inputs\n",
    "\n",
    "Repeated simulations can be implemented using `roadrunner_tools`, `sampling` and `distributions`."
   ]
  },
  {
   "cell_type": "code",
   "execution_count": 34,
   "metadata": {
    "collapsed": false
   },
   "outputs": [
    {
     "name": "stdout",
     "output_type": "stream",
     "text": [
      "Time<__init__> SBML compile: 0.0544288158417 [s]\n"
     ]
    }
   ],
   "source": [
    "# reload clean model with roadrunner_tools\n",
    "import multiscale.simulate.roadrunner_tools as rt\n",
    "reload(rt)\n",
    "r = rt.MyRunner(testdata.demo_sbml)"
   ]
  },
  {
   "cell_type": "markdown",
   "metadata": {},
   "source": [
    "### DataFrames (Parameters & Species)\n",
    "In the following we will vary the global parameters of the model.\n",
    "First we get an overview over the existing model parameters via"
   ]
  },
  {
   "cell_type": "code",
   "execution_count": 89,
   "metadata": {
    "collapsed": false
   },
   "outputs": [
    {
     "data": {
      "text/html": [
       "<div>\n",
       "<table border=\"1\" class=\"dataframe\">\n",
       "  <thead>\n",
       "    <tr style=\"text-align: right;\">\n",
       "      <th></th>\n",
       "      <th>value</th>\n",
       "      <th>unit</th>\n",
       "      <th>constant</th>\n",
       "      <th>parameter</th>\n",
       "      <th>name</th>\n",
       "    </tr>\n",
       "  </thead>\n",
       "  <tbody>\n",
       "    <tr>\n",
       "      <th>Km_C</th>\n",
       "      <td>3.000000</td>\n",
       "      <td>mM</td>\n",
       "      <td>True</td>\n",
       "      <td>&lt;Parameter Km_C&gt;</td>\n",
       "      <td></td>\n",
       "    </tr>\n",
       "    <tr>\n",
       "      <th>scale_f</th>\n",
       "      <td>0.000001</td>\n",
       "      <td>dimensionless</td>\n",
       "      <td>True</td>\n",
       "      <td>&lt;Parameter scale_f \"metabolic scaling factor\"&gt;</td>\n",
       "      <td>metabolic scaling factor</td>\n",
       "    </tr>\n",
       "    <tr>\n",
       "      <th>Vmax_bB</th>\n",
       "      <td>2.000000</td>\n",
       "      <td>mole_per_s</td>\n",
       "      <td>True</td>\n",
       "      <td>&lt;Parameter Vmax_bB&gt;</td>\n",
       "      <td></td>\n",
       "    </tr>\n",
       "    <tr>\n",
       "      <th>Vmax_bC</th>\n",
       "      <td>2.000000</td>\n",
       "      <td>mole_per_s</td>\n",
       "      <td>True</td>\n",
       "      <td>&lt;Parameter Vmax_bC&gt;</td>\n",
       "      <td></td>\n",
       "    </tr>\n",
       "    <tr>\n",
       "      <th>Vmax_bA</th>\n",
       "      <td>5.000000</td>\n",
       "      <td>mole_per_s</td>\n",
       "      <td>True</td>\n",
       "      <td>&lt;Parameter Vmax_bA&gt;</td>\n",
       "      <td></td>\n",
       "    </tr>\n",
       "    <tr>\n",
       "      <th>Vmax_v2</th>\n",
       "      <td>0.500000</td>\n",
       "      <td>mole_per_s</td>\n",
       "      <td>True</td>\n",
       "      <td>&lt;Parameter Vmax_v2&gt;</td>\n",
       "      <td></td>\n",
       "    </tr>\n",
       "    <tr>\n",
       "      <th>Vmax_v3</th>\n",
       "      <td>0.500000</td>\n",
       "      <td>mole_per_s</td>\n",
       "      <td>True</td>\n",
       "      <td>&lt;Parameter Vmax_v3&gt;</td>\n",
       "      <td></td>\n",
       "    </tr>\n",
       "    <tr>\n",
       "      <th>Vmax_v1</th>\n",
       "      <td>1.000000</td>\n",
       "      <td>mole_per_s</td>\n",
       "      <td>True</td>\n",
       "      <td>&lt;Parameter Vmax_v1&gt;</td>\n",
       "      <td></td>\n",
       "    </tr>\n",
       "    <tr>\n",
       "      <th>Km_A</th>\n",
       "      <td>1.000000</td>\n",
       "      <td>mM</td>\n",
       "      <td>True</td>\n",
       "      <td>&lt;Parameter Km_A&gt;</td>\n",
       "      <td></td>\n",
       "    </tr>\n",
       "    <tr>\n",
       "      <th>Vmax_v4</th>\n",
       "      <td>0.500000</td>\n",
       "      <td>mole_per_s</td>\n",
       "      <td>True</td>\n",
       "      <td>&lt;Parameter Vmax_v4&gt;</td>\n",
       "      <td></td>\n",
       "    </tr>\n",
       "    <tr>\n",
       "      <th>Km_B</th>\n",
       "      <td>0.500000</td>\n",
       "      <td>mM</td>\n",
       "      <td>True</td>\n",
       "      <td>&lt;Parameter Km_B&gt;</td>\n",
       "      <td></td>\n",
       "    </tr>\n",
       "    <tr>\n",
       "      <th>Keq_v4</th>\n",
       "      <td>2.000000</td>\n",
       "      <td>dimensionless</td>\n",
       "      <td>True</td>\n",
       "      <td>&lt;Parameter Keq_v4&gt;</td>\n",
       "      <td></td>\n",
       "    </tr>\n",
       "    <tr>\n",
       "      <th>Keq_v1</th>\n",
       "      <td>10.000000</td>\n",
       "      <td>dimensionless</td>\n",
       "      <td>True</td>\n",
       "      <td>&lt;Parameter Keq_v1&gt;</td>\n",
       "      <td></td>\n",
       "    </tr>\n",
       "  </tbody>\n",
       "</table>\n",
       "</div>"
      ],
      "text/plain": [
       "             value           unit constant  \\\n",
       "Km_C      3.000000             mM     True   \n",
       "scale_f   0.000001  dimensionless     True   \n",
       "Vmax_bB   2.000000     mole_per_s     True   \n",
       "Vmax_bC   2.000000     mole_per_s     True   \n",
       "Vmax_bA   5.000000     mole_per_s     True   \n",
       "Vmax_v2   0.500000     mole_per_s     True   \n",
       "Vmax_v3   0.500000     mole_per_s     True   \n",
       "Vmax_v1   1.000000     mole_per_s     True   \n",
       "Km_A      1.000000             mM     True   \n",
       "Vmax_v4   0.500000     mole_per_s     True   \n",
       "Km_B      0.500000             mM     True   \n",
       "Keq_v4    2.000000  dimensionless     True   \n",
       "Keq_v1   10.000000  dimensionless     True   \n",
       "\n",
       "                                              parameter  \\\n",
       "Km_C                                   <Parameter Km_C>   \n",
       "scale_f  <Parameter scale_f \"metabolic scaling factor\">   \n",
       "Vmax_bB                             <Parameter Vmax_bB>   \n",
       "Vmax_bC                             <Parameter Vmax_bC>   \n",
       "Vmax_bA                             <Parameter Vmax_bA>   \n",
       "Vmax_v2                             <Parameter Vmax_v2>   \n",
       "Vmax_v3                             <Parameter Vmax_v3>   \n",
       "Vmax_v1                             <Parameter Vmax_v1>   \n",
       "Km_A                                   <Parameter Km_A>   \n",
       "Vmax_v4                             <Parameter Vmax_v4>   \n",
       "Km_B                                   <Parameter Km_B>   \n",
       "Keq_v4                               <Parameter Keq_v4>   \n",
       "Keq_v1                               <Parameter Keq_v1>   \n",
       "\n",
       "                             name  \n",
       "Km_C                               \n",
       "scale_f  metabolic scaling factor  \n",
       "Vmax_bB                            \n",
       "Vmax_bC                            \n",
       "Vmax_bA                            \n",
       "Vmax_v2                            \n",
       "Vmax_v3                            \n",
       "Vmax_v1                            \n",
       "Km_A                               \n",
       "Vmax_v4                            \n",
       "Km_B                               \n",
       "Keq_v4                             \n",
       "Keq_v1                             "
      ]
     },
     "metadata": {},
     "output_type": "display_data"
    }
   ],
   "source": [
    "# TODO: nice rendering via qgrid - SlickGrid in IPython notebook\n",
    "from IPython.display import display, HTML\n",
    "gp = r.df_global_parameters()\n",
    "display(gp)"
   ]
  },
  {
   "cell_type": "code",
   "execution_count": 90,
   "metadata": {
    "collapsed": false
   },
   "outputs": [
    {
     "data": {
      "text/plain": [
       "value                      10\n",
       "unit                       mM\n",
       "constant                 True\n",
       "parameter    <Parameter Km_C>\n",
       "name                         \n",
       "Name: Km_C, dtype: object"
      ]
     },
     "execution_count": 90,
     "metadata": {},
     "output_type": "execute_result"
    }
   ],
   "source": [
    "# reflects currentSBML state\n",
    "r['Km_C'] = 10 \n",
    "gp = r.df_global_parameters()\n",
    "# display(gp[0,])\n",
    "gp.parameter\n",
    "gp.loc['Km_C']"
   ]
  },
  {
   "cell_type": "code",
   "execution_count": 100,
   "metadata": {
    "collapsed": false
   },
   "outputs": [
    {
     "data": {
      "text/html": [
       "<div>\n",
       "<table border=\"1\" class=\"dataframe\">\n",
       "  <thead>\n",
       "    <tr style=\"text-align: right;\">\n",
       "      <th></th>\n",
       "      <th>concentration</th>\n",
       "      <th>amount</th>\n",
       "      <th>unit</th>\n",
       "      <th>constant</th>\n",
       "      <th>boundaryCondition</th>\n",
       "      <th>species</th>\n",
       "      <th>name</th>\n",
       "    </tr>\n",
       "  </thead>\n",
       "  <tbody>\n",
       "    <tr>\n",
       "      <th>e__A</th>\n",
       "      <td>0.643813</td>\n",
       "      <td>6.438131e-07</td>\n",
       "      <td>mole</td>\n",
       "      <td>False</td>\n",
       "      <td>False</td>\n",
       "      <td>&lt;Species e__A \"A\"&gt;</td>\n",
       "      <td>A</td>\n",
       "    </tr>\n",
       "    <tr>\n",
       "      <th>e__C</th>\n",
       "      <td>1.126543</td>\n",
       "      <td>1.126543e-06</td>\n",
       "      <td>mole</td>\n",
       "      <td>False</td>\n",
       "      <td>False</td>\n",
       "      <td>&lt;Species e__C \"C\"&gt;</td>\n",
       "      <td>C</td>\n",
       "    </tr>\n",
       "    <tr>\n",
       "      <th>e__B</th>\n",
       "      <td>3.120479</td>\n",
       "      <td>3.120479e-06</td>\n",
       "      <td>mole</td>\n",
       "      <td>False</td>\n",
       "      <td>False</td>\n",
       "      <td>&lt;Species e__B \"B\"&gt;</td>\n",
       "      <td>B</td>\n",
       "    </tr>\n",
       "    <tr>\n",
       "      <th>c__C</th>\n",
       "      <td>1.148976</td>\n",
       "      <td>1.148976e-06</td>\n",
       "      <td>mole</td>\n",
       "      <td>False</td>\n",
       "      <td>False</td>\n",
       "      <td>&lt;Species c__C \"C\"&gt;</td>\n",
       "      <td>C</td>\n",
       "    </tr>\n",
       "    <tr>\n",
       "      <th>c__B</th>\n",
       "      <td>3.327283</td>\n",
       "      <td>3.327283e-06</td>\n",
       "      <td>mole</td>\n",
       "      <td>False</td>\n",
       "      <td>False</td>\n",
       "      <td>&lt;Species c__B \"B\"&gt;</td>\n",
       "      <td>B</td>\n",
       "    </tr>\n",
       "    <tr>\n",
       "      <th>c__A</th>\n",
       "      <td>0.632906</td>\n",
       "      <td>6.329065e-07</td>\n",
       "      <td>mole</td>\n",
       "      <td>False</td>\n",
       "      <td>False</td>\n",
       "      <td>&lt;Species c__A \"A\"&gt;</td>\n",
       "      <td>A</td>\n",
       "    </tr>\n",
       "  </tbody>\n",
       "</table>\n",
       "</div>"
      ],
      "text/plain": [
       "      concentration        amount  unit constant boundaryCondition  \\\n",
       "e__A       0.643813  6.438131e-07  mole    False             False   \n",
       "e__C       1.126543  1.126543e-06  mole    False             False   \n",
       "e__B       3.120479  3.120479e-06  mole    False             False   \n",
       "c__C       1.148976  1.148976e-06  mole    False             False   \n",
       "c__B       3.327283  3.327283e-06  mole    False             False   \n",
       "c__A       0.632906  6.329065e-07  mole    False             False   \n",
       "\n",
       "                 species name  \n",
       "e__A  <Species e__A \"A\">    A  \n",
       "e__C  <Species e__C \"C\">    C  \n",
       "e__B  <Species e__B \"B\">    B  \n",
       "c__C  <Species c__C \"C\">    C  \n",
       "c__B  <Species c__B \"B\">    B  \n",
       "c__A  <Species c__A \"A\">    A  "
      ]
     },
     "metadata": {},
     "output_type": "display_data"
    }
   ],
   "source": [
    "# species DataFrame\n",
    "f_species = r.df_species()\n",
    "display(f_species)"
   ]
  },
  {
   "cell_type": "code",
   "execution_count": 116,
   "metadata": {
    "collapsed": false
   },
   "outputs": [
    {
     "name": "stdout",
     "output_type": "stream",
     "text": [
      "Time<__init__> SBML compile: 0.0575489997864 [s]\n",
      "['time', '[c__A]', '[c__B]', '[c__C]', '[e__A]', '[e__B]', '[e__C]']\n",
      "Time<simulate> : 0.0010621547699 [s]\n",
      "Final concentrations\n",
      "e__A    0.643813\n",
      "e__C    1.126543\n",
      "e__B    3.120479\n",
      "c__C    1.148976\n",
      "c__B    3.327283\n",
      "c__A    0.632906\n",
      "Name: concentration, dtype: float64\n",
      "    time    [c__A]    [c__B]    [c__C]     [e__A]    [e__B]    [e__C]\n",
      "0    0.0  0.000000  0.000000  0.000000  10.000000  0.000000  0.000000\n",
      "1    0.2  0.722296  0.063634  0.035961   9.162492  0.013992  0.001626\n",
      "2    0.4  1.170485  0.201390  0.115279   8.434955  0.067438  0.010453\n",
      "3    0.6  1.447103  0.380529  0.211138   7.784344  0.148377  0.028508\n",
      "4    0.8  1.614487  0.583893  0.310247   7.191247  0.245038  0.055087\n",
      "5    1.0  1.711292  0.799233  0.406325   6.643854  0.350717  0.088579\n",
      "6    1.2  1.761791  1.017974  0.496623   6.134832  0.461506  0.127273\n",
      "7    1.4  1.781371  1.234292  0.580143   5.659574  0.574965  0.169655\n",
      "8    1.6  1.779862  1.444297  0.656722   5.215162  0.689478  0.214479\n",
      "9    1.8  1.763614  1.645424  0.726568   4.799713  0.803926  0.260756\n",
      "10   2.0  1.736789  1.836005  0.790027   4.411968  0.917502  0.307711\n",
      "11   2.2  1.702182  2.014983  0.847478   4.051015  1.029601  0.354741\n",
      "12   2.4  1.661741  2.181724  0.899282   3.716113  1.139763  0.401378\n",
      "13   2.6  1.616896  2.335899  0.945773   3.406560  1.247620  0.447253\n",
      "14   2.8  1.568760  2.477405  0.987256   3.121624  1.352879  0.492077\n",
      "15   3.0  1.518258  2.606318  1.024018   2.860484  1.455298  0.535624\n",
      "16   3.2  1.466201  2.722862  1.056333   2.622208  1.554680  0.577714\n",
      "17   3.4  1.413321  2.827388  1.084475   2.405745  1.650861  0.618210\n",
      "18   3.6  1.360288  2.920354  1.108720   2.209928  1.743707  0.657003\n",
      "19   3.8  1.307717  3.002314  1.129348   2.033494  1.833113  0.694015\n",
      "20   4.0  1.256159  3.073897  1.146648   1.875107  1.918996  0.729192\n",
      "21   4.2  1.206096  3.135798  1.160915   1.733389  2.001300  0.762501\n",
      "22   4.4  1.157934  3.188754  1.172442   1.606948  2.079993  0.793929\n",
      "23   4.6  1.111996  3.233531  1.181525   1.494409  2.155061  0.823478\n",
      "24   4.8  1.068524  3.270905  1.188449   1.394439  2.226516  0.851168\n",
      "25   5.0  1.027678  3.301646  1.193489   1.305769  2.294386  0.877031\n",
      "26   5.2  0.989547  3.326504  1.196908   1.227207  2.358721  0.901113\n",
      "27   5.4  0.954153  3.346195  1.198946   1.157652  2.419584  0.923468\n",
      "28   5.6  0.921465  3.361397  1.199827   1.096095  2.477057  0.944159\n",
      "29   5.8  0.891407  3.372736  1.199750   1.041621  2.531233  0.963254\n",
      "30   6.0  0.863869  3.380786  1.198893   0.993406  2.582216  0.980829\n",
      "31   6.2  0.838720  3.386068  1.197414   0.950718  2.630121  0.996960\n",
      "32   6.4  0.815813  3.389045  1.195448   0.912900  2.675066  1.011728\n",
      "33   6.6  0.794992  3.390128  1.193112   0.879376  2.717179  1.025213\n",
      "34   6.8  0.776099  3.389678  1.190505   0.849634  2.756589  1.037494\n",
      "35   7.0  0.758980  3.388007  1.187709   0.823225  2.793427  1.048653\n",
      "36   7.2  0.743484  3.385382  1.184794   0.799751  2.827825  1.058765\n",
      "37   7.4  0.729466  3.382032  1.181815   0.778867  2.859913  1.067905\n",
      "38   7.6  0.716794  3.378151  1.178819   0.760267  2.889822  1.076147\n",
      "39   7.8  0.705340  3.373899  1.175842   0.743683  2.917677  1.083558\n",
      "40   8.0  0.694990  3.369410  1.172912   0.728881  2.943602  1.090205\n",
      "41   8.2  0.685636  3.364793  1.170051   0.715654  2.967716  1.096150\n",
      "42   8.4  0.677181  3.360137  1.167276   0.703823  2.990132  1.101451\n",
      "43   8.6  0.669538  3.355512  1.164599   0.693227  3.010962  1.106162\n",
      "44   8.8  0.662625  3.350974  1.162028   0.683727  3.030309  1.110337\n",
      "45   9.0  0.656371  3.346564  1.159568   0.675201  3.048274  1.114021\n",
      "46   9.2  0.650710  3.342315  1.157222   0.667541  3.064950  1.117260\n",
      "47   9.4  0.645584  3.338250  1.154992   0.660651  3.080427  1.120096\n",
      "48   9.6  0.640939  3.334384  1.152875   0.654448  3.094789  1.122565\n",
      "49   9.8  0.636727  3.330727  1.150871   0.648857  3.108115  1.124703\n",
      "50  10.0  0.632906  3.327283  1.148976   0.643813  3.120479  1.126543\n"
     ]
    },
    {
     "data": {
      "image/png": "[encoded data removed]",
      "text/plain": [
       "<matplotlib.figure.Figure at 0x7efe5d1e5750>"
      ]
     },
     "metadata": {},
     "output_type": "display_data"
    }
   ],
   "source": [
    "import multiscale.simulate.roadrunner_tools as rt\n",
    "reload(rt)\n",
    "r = rt.MyRunner(testdata.demo_sbml)\n",
    "r.set_integrator_settings(variable_step_size=False)\n",
    "r.selections_floating_concentrations()\n",
    "print(r.selections)\n",
    "s = r.simulate(0, 10, steps=50)\n",
    "\n",
    "print(\"Final concentrations\")\n",
    "print(r.df_species()['concentration'])\n",
    "df_sim = r.df_simulation()\n",
    "print(df_sim)\n",
    "r.plot()"
   ]
  },
  {
   "cell_type": "code",
   "execution_count": 139,
   "metadata": {
    "collapsed": false
   },
   "outputs": [
    {
     "data": {
      "text/plain": [
       "10.0"
      ]
     },
     "execution_count": 139,
     "metadata": {},
     "output_type": "execute_result"
    },
    {
     "data": {
      "image/png": "[encoded data removed]",
      "text/plain": [
       "<matplotlib.figure.Figure at 0x7efe6a685d90>"
      ]
     },
     "metadata": {},
     "output_type": "display_data"
    }
   ],
   "source": [
    "df_sim.describe()\n",
    "# df_sim.sort_index(axis=1, ascending=False)\n",
    "# df_sim.sort_values(by=\"[c__A]\")\n",
    "# plt.hist(df_sim['[c__A]'])\n",
    "plt.plot(df_sim['[c__A]'], df_sim['[e__A]'], '-o')\n",
    "df_sim.loc[df_sim.shape[0]-1, 'time']"
   ]
  },
  {
   "cell_type": "code",
   "execution_count": 140,
   "metadata": {
    "collapsed": false
   },
   "outputs": [
    {
     "name": "stdout",
     "output_type": "stream",
     "text": [
      "['bA', 'bB', 'bC', 'v1', 'v2', 'v3', 'v4']\n"
     ]
    }
   ],
   "source": [
    "# kinetic eqution of reaction b1\n",
    "rids = [reaction.getId() for reaction in model.getListOfReactions()]\n",
    "print(rids)\n",
    "r_bA = model.getReaction('bA')"
   ]
  },
  {
   "cell_type": "code",
   "execution_count": 141,
   "metadata": {
    "collapsed": false
   },
   "outputs": [
    {
     "name": "stdout",
     "output_type": "stream",
     "text": [
      "bA = scale_f * (Vmax_bA / Km_A) * (e__A - c__A) / (1 + e__A / Km_A + c__A / Km_A)\n"
     ]
    }
   ],
   "source": [
    "klaw_bA = r_bA.getKineticLaw()\n",
    "print('bA = {}'.format(klaw_bA.formula))"
   ]
  },
  {
   "cell_type": "code",
   "execution_count": 143,
   "metadata": {
    "collapsed": true
   },
   "outputs": [],
   "source": [
    "## Repeated Simulations"
   ]
  },
  {
   "cell_type": "code",
   "execution_count": null,
   "metadata": {
    "collapsed": true
   },
   "outputs": [],
   "source": []
  },
  {
   "cell_type": "code",
   "execution_count": 158,
   "metadata": {
    "collapsed": false
   },
   "outputs": [
    {
     "name": "stdout",
     "output_type": "stream",
     "text": [
      "Time<__init__> SBML compile: 0.0547800064087 [s]\n",
      "< roadrunner.Integrator() >\n",
      "  settings:\n",
      "      relative_tolerance: 0.00000001\n",
      "      absolute_tolerance: 0.00000000000001\n",
      "                   stiff: true\n",
      "       maximum_bdf_order: 5\n",
      "     maximum_adams_order: 12\n",
      "       maximum_num_steps: 20000\n",
      "       maximum_time_step: 0\n",
      "       minimum_time_step: 0\n",
      "       initial_time_step: 0\n",
      "          multiple_steps: false\n",
      "      variable_step_size: true\n",
      "\n",
      "time : 2.84681582451 [s] for 1000 simulations\n"
     ]
    }
   ],
   "source": [
    "# load roadrunner tools for simplified setting of parameters and \n",
    "# initial values\n",
    "import numpy as np\n",
    "import time\n",
    "from roadrunner import SelectionRecord\n",
    "reload(rt)\n",
    "r = rt.MyRunner(testdata.demo_sbml)\n",
    "\n",
    "# print the integrator settings\n",
    "print(r.getIntegrator())\n",
    "\n",
    "# Create some parameter sampling\n",
    "# Vmax_test = np.linspace(start=0, stop=10, num=20)\n",
    "N_sample = 1000\n",
    "Vmax_test = np.random.normal(loc=5.0, scale=1.5, size=N_sample)\n",
    "Vmax_test = np.maximum(0.0, Vmax_test) # nonnegative\n",
    "\n",
    "t1 = time.time()\n",
    "results = []  # quick and dirty, better preallocate matrices\n",
    "for Vmax in Vmax_test:\n",
    "    # create a parameter dict for the simulation\n",
    "    s = r.simulate_complex(start=0, end=20, \n",
    "                                parameters={'Vmax_bA': Vmax}, \n",
    "                                concentrations={'init([c__A])': 2.0},\n",
    "                                time_it=False)\n",
    "    r.reset(SelectionRecord.ALL)\n",
    "    results.append(s)\n",
    "    \n",
    "print('time : {} [s] for {} simulations'.format(time.time() - t1, N_sample))"
   ]
  },
  {
   "cell_type": "markdown",
   "metadata": {},
   "source": [
    "** Histogram of the parameter distribution **\n",
    "\n",
    "Provide an overview over the parameter distribution."
   ]
  },
  {
   "cell_type": "code",
   "execution_count": 159,
   "metadata": {
    "collapsed": false
   },
   "outputs": [
    {
     "data": {
      "image/png": "[encoded data removed]",
      "text/plain": [
       "<matplotlib.figure.Figure at 0x7efe5de05cd0>"
      ]
     },
     "metadata": {},
     "output_type": "display_data"
    }
   ],
   "source": [
    "plt.hist(Vmax_test, color='grey')\n",
    "plt.xlabel('Vmax_test [mole_per_s]')\n",
    "plt.ylabel('frequency');"
   ]
  },
  {
   "cell_type": "markdown",
   "metadata": {},
   "source": [
    "Use matplotlib to plot the resulting curves."
   ]
  },
  {
   "cell_type": "code",
   "execution_count": 160,
   "metadata": {
    "collapsed": false
   },
   "outputs": [
    {
     "data": {
      "image/png": "[encoded data removed]",
      "text/plain": [
       "<matplotlib.figure.Figure at 0x7efe5dd4e3d0>"
      ]
     },
     "metadata": {},
     "output_type": "display_data"
    }
   ],
   "source": [
    "for s in results:\n",
    "    # plt.plot(results[0].transpose())\n",
    "    plt.plot(s['time'], s['[c__A]'], color='black', alpha=0.4)\n",
    "plt.xlim(0, 20)\n",
    "plt.xlabel('time [s]')\n",
    "plt.ylabel('[A_ext] [mM]');"
   ]
  },
  {
   "cell_type": "code",
   "execution_count": 161,
   "metadata": {
    "collapsed": false
   },
   "outputs": [
    {
     "data": {
      "image/png": "[encoded data removed]",
      "text/plain": [
       "<matplotlib.figure.Figure at 0x7efe5c998790>"
      ]
     },
     "metadata": {},
     "output_type": "display_data"
    }
   ],
   "source": [
    "for s in results:\n",
    "    # plt.plot(results[0].transpose())\n",
    "    plt.plot(s['time'], s['[e__A]'], color='black', alpha=0.4)\n",
    "    plt.xlim(0, 20)\n",
    "    plt.xlabel('time [s]')\n",
    "    plt.ylabel('[A] [mM]');"
   ]
  },
  {
   "cell_type": "code",
   "execution_count": 162,
   "metadata": {
    "collapsed": false
   },
   "outputs": [
    {
     "data": {
      "text/plain": [
       "(0, 2.7906572671160044)"
      ]
     },
     "execution_count": 162,
     "metadata": {},
     "output_type": "execute_result"
    },
    {
     "data": {
      "image/png": "[encoded data removed]",
      "text/plain": [
       "<matplotlib.figure.Figure at 0x7efe5d85e3d0>"
      ]
     },
     "metadata": {},
     "output_type": "display_data"
    }
   ],
   "source": [
    "peaks = [max(s['[c__A]']) for s in results]\n",
    "mins = [min(s['[c__A]']) for s in results]\n",
    "plt.plot(Vmax_test, peaks, 'o', color=\"blue\")\n",
    "plt.plot(Vmax_test, mins, 'o', color=\"red\")\n",
    "plt.title('Peak maximum depending on Vmax_bA')\n",
    "plt.ylim([0, max(peaks)])"
   ]
  },
  {
   "cell_type": "code",
   "execution_count": null,
   "metadata": {
    "collapsed": true
   },
   "outputs": [],
   "source": []
  }
 ],
 "metadata": {
  "kernelspec": {
   "display_name": "Python 2",
   "language": "python",
   "name": "python2"
  },
  "language_info": {
   "codemirror_mode": {
    "name": "ipython",
    "version": 2
   },
   "file_extension": ".py",
   "mimetype": "text/x-python",
   "name": "python",
   "nbconvert_exporter": "python",
   "pygments_lexer": "ipython2",
   "version": "2.7.6"
  }
 },
 "nbformat": 4,
 "nbformat_minor": 0
}
