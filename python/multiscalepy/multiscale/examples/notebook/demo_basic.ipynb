{
 "cells": [
  {
   "cell_type": "markdown",
   "metadata": {},
   "source": [
    "# Introduction to kinetic modeling with SBML\n",
    "\n",
    "Kinetic modeling based on ordinary differential equations (ODE) plays an important role in computational biology. An important aspect of such models is its reusability and the reproducibility of the results. An important step towards reproducible and understandable models was the introduction of standard formats for model description (SBML, CellML, BioPax) and guidlines for model description (MIRIAM) and simulation description (MIASE) were developed. These standards are currently supported by a wide range of libraries and software tools, providing a rich environment for the work with such models.  \n",
    "In addition to standard formats, IPython notebooks provide the visual framework for representing model setup, simulation and results in a unified and reproducible way.\n",
    "\n",
    "This notebook demonstrates the basic work with computational models based on the Systems Biology Markup Language (SBML), the de facto standard for kinetic models in biology.  \n",
    "As part of the introduction standard tools in python for the interaction with SBML based models are presented, like libSBML, Antimony and RoadRunner. ODE simulations are demonstrated.\n",
    "\n",
    "\n",
    "### How to Use the Examples\n",
    "TODO: update and provide the examples.\n",
    "\n",
    "\n",
    "* Make sure your machine already has Python and related libraries, such as ipython, numpy, scipy, pandas, etc.\n",
    "* Start Cytoscape (cyREST should be installed!)\n",
    "* Clone the repository: git clone https://github.com/idekerlab/cy-rest-python\n",
    "* Change directory: cd cy-rest-python\n",
    "* Start IPython Notebook: `ipython notebook`\n",
    "* Click index.ipynb to start the example\n",
    "\n"
   ]
  },
  {
   "cell_type": "code",
   "execution_count": 2,
   "metadata": {},
   "outputs": [],
   "source": [
    "from __future__ import \n",
    "%matplotlib inline\n",
    "import numpy as np\n",
    "import matplotlib.pyplot as plt\n",
    "import networkx as nx"
   ]
  },
  {
   "cell_type": "markdown",
   "metadata": {},
   "source": [
    "## libSBML\n",
    "An important part of the work with SBML is the possibilty to modify models.  \n",
    "Some GUI based modeling environments are available, like CellDesigner or BioUML.  \n",
    "To programatically interact with SBML the SBML library libSBML (http://www.sbml.org) is the option of choice."
   ]
  },
  {
   "cell_type": "code",
   "execution_count": 3,
   "metadata": {},
   "outputs": [
    {
     "name": "stdout",
     "output_type": "stream",
     "text": [
      "02_demo_django.ipynb\t       demo_parameter_sensitivity.ipynb\r\n",
      "03_demo_graph.ipynb\t       __init__.py\r\n",
      "04_CyREST.ipynb\t\t       README.md\r\n",
      "05_multiscale_galactose.ipynb  van_der_pol.ipynb\r\n",
      "demo_basic.ipynb\t       van_der_pol.py\r\n",
      "demo_mca.ipynb\t\t       van_der_pol.xml\r\n"
     ]
    }
   ],
   "source": [
    "!ls    # available files"
   ]
  },
  {
   "cell_type": "markdown",
   "metadata": {},
   "source": [
    "Loading model with libsbml and inspect main model features."
   ]
  },
  {
   "cell_type": "code",
   "execution_count": 4,
   "metadata": {},
   "outputs": [],
   "source": [
    "import libsbml"
   ]
  },
  {
   "cell_type": "code",
   "execution_count": 5,
   "metadata": {},
   "outputs": [
    {
     "data": {
      "text/plain": [
       "'/home/mkoenig/git/multiscale-galactose/python/multiscalepy/multiscale/examples/models/demo/Koenig_demo_v02.xml'"
      ]
     },
     "execution_count": 5,
     "output_type": "execute_result",
     "metadata": {}
    }
   ],
   "source": [
    "from multiscale.examples import testdata\n",
    "sbml_filepath = testdata.demo_filepath\n",
    "sbml_filepath"
   ]
  },
  {
   "cell_type": "code",
   "execution_count": 6,
   "metadata": {},
   "outputs": [
    {
     "name": "stdout",
     "output_type": "stream",
     "text": [
      "<Model Koenig_demo_v02 \"Koenig_demo_v02\">\n"
     ]
    }
   ],
   "source": [
    "doc = libsbml.readSBMLFromFile(sbml_filepath) \n",
    "model = doc.getModel()\n",
    "print model"
   ]
  },
  {
   "cell_type": "markdown",
   "metadata": {},
   "source": [
    "Print model information like model id, and listOfSpecies"
   ]
  },
  {
   "cell_type": "code",
   "execution_count": 7,
   "metadata": {},
   "outputs": [
    {
     "name": "stdout",
     "output_type": "stream",
     "text": [
      "Koenig_demo_v02\n",
      "--------------------------------------------------------------------------------\n",
      "<Compartment extern \"External Compartment\">\n",
      "External Compartment m3\n",
      "<Compartment cell \"Cell Compartment\">\n",
      "Cell Compartment m3\n",
      "<Compartment membrane \"Cell Membrane\">\n",
      "Cell Membrane m2\n",
      "--------------------------------------------------------------------------------\n",
      "<Species A \"A cell\">\n",
      "<Species B \"B cell\">\n",
      "<Species C \"C cell\">\n",
      "<Species A_ext \"A extern\">\n",
      "<Species B_ext \"B extern\">\n",
      "<Species C_ext \"C extern\">\n",
      "--------------------------------------------------------------------------------\n",
      "<Reaction bA \"A import\">\n",
      "<Reaction bB \"B export\">\n",
      "<Reaction bC \"C export\">\n",
      "<Reaction v1 \"A -> B\">\n",
      "<Reaction v2 \"A -> C\">\n",
      "<Reaction v3 \"C -> A\">\n",
      "<Reaction v4 \"C -> B\">\n"
     ]
    }
   ],
   "source": [
    "print model.getId()\n",
    "print '-' * 80\n",
    "\n",
    "compartments = model.getListOfCompartments()\n",
    "for c in compartments:\n",
    "    print c\n",
    "    print c.name, c.units\n",
    "print '-' * 80\n",
    "\n",
    "species = model.getListOfSpecies()\n",
    "for s in species:\n",
    "    print s\n",
    "print '-' * 80\n",
    "    \n",
    "reactions = model.getListOfReactions()\n",
    "for r in reactions:\n",
    "        print r"
   ]
  },
  {
   "cell_type": "markdown",
   "metadata": {},
   "source": [
    "### Using libSBML to generate a simple graph of the network\n",
    "\n",
    "For a very simple visualization of the network we can read the graph from the species and reactions.  \n",
    "TODO: provide example with networkX"
   ]
  },
  {
   "cell_type": "markdown",
   "metadata": {},
   "source": [
    "## Antimony\n",
    "\n",
    "Antimony is a tools for SBML which provides human readable representation of the SBML information.\n",
    "Loading SBML with Antimony and get human readable representation of the information."
   ]
  },
  {
   "cell_type": "code",
   "execution_count": 10,
   "metadata": {},
   "outputs": [
    {
     "name": "stdout",
     "output_type": "stream",
     "text": [
      "('__main', 'Koenig_demo_v02')\n"
     ]
    }
   ],
   "source": [
    "import antimony\n",
    "antimony.loadSBMLFile(sbml_filepath)\n",
    "mod_names = antimony.getModuleNames()\n",
    "print mod_names"
   ]
  },
  {
   "cell_type": "code",
   "execution_count": 11,
   "metadata": {},
   "outputs": [
    {
     "name": "stdout",
     "output_type": "stream",
     "text": [
      "None\n"
     ]
    }
   ],
   "source": [
    "ant_string = antimony.getAntimonyString('Koenig_demo')\n",
    "print(ant_string)"
   ]
  },
  {
   "cell_type": "markdown",
   "metadata": {},
   "source": [
    "### Creating models with Antimony\n",
    "\n",
    "Antimony provides a simple syntax to define models in text."
   ]
  },
  {
   "cell_type": "code",
   "execution_count": 13,
   "metadata": {},
   "outputs": [
    {
     "name": "stdout",
     "output_type": "stream",
     "text": [
      "v2.8.0\n",
      "<?xml version=\"1.0\" encoding=\"UTF-8\"?>\n",
      "<!-- Created by libAntimony version v2.8.1 on 2016-01-08 16:57 with libSBML version 5.12.1. -->\n",
      "<sbml xmlns=\"http://www.sbml.org/sbml/level3/version1/core\" level=\"3\" version=\"1\">\n",
      "  <model id=\"example1\" name=\"example1\">\n",
      "    <listOfCompartments>\n",
      "      <compartment sboTerm=\"SBO:0000410\" id=\"default_compartment\" spatialDimensions=\"3\" size=\"1\" constant=\"true\"/>\n",
      "    </listOfCompartments>\n",
      "    <listOfSpecies>\n",
      "      <species id=\"S1\" compartment=\"default_compartment\" initialConcentration=\"10\" hasOnlySubstanceUnits=\"false\" boundaryCondition=\"false\" constant=\"false\"/>\n",
      "      <species id=\"S2\" compartment=\"default_compartment\" initialConcentration=\"0\" hasOnlySubstanceUnits=\"false\" boundaryCondition=\"false\" constant=\"false\"/>\n",
      "    </listOfSpecies>\n",
      "    <listOfParameters>\n",
      "      <parameter id=\"k1\" value=\"0.1\" constant=\"true\"/>\n",
      "    </listOfParameters>\n",
      "    <listOfReactions>\n",
      "      <reaction id=\"_J0\" reversible=\"true\" fast=\"false\">\n",
      "        <listOfReactants>\n",
      "          <speciesReference species=\"S1\" stoichiometry=\"1\" constant=\"true\"/>\n",
      "        </listOfReactants>\n",
      "        <listOfProducts>\n",
      "          <speciesReference species=\"S2\" stoichiometry=\"1\" constant=\"true\"/>\n",
      "        </listOfProducts>\n",
      "        <kineticLaw>\n",
      "          <math xmlns=\"http://www.w3.org/1998/Math/MathML\">\n",
      "            <apply>\n",
      "              <times/>\n",
      "              <ci> k1 </ci>\n",
      "              <ci> S1 </ci>\n",
      "            </apply>\n",
      "          </math>\n",
      "        </kineticLaw>\n",
      "      </reaction>\n",
      "    </listOfReactions>\n",
      "  </model>\n",
      "</sbml>\n",
      "\n"
     ]
    }
   ],
   "source": [
    "import antimony\n",
    "print antimony.LIBANTIMONY_VERSION_STRING\n",
    "\n",
    "model_str = '''\n",
    "# Simple UniUni reaction with first-order mass-action kinetics\n",
    "model example1\n",
    "  S1 -> S2; k1*S1\n",
    "  S1 = 10\n",
    "  S2 = 0\n",
    "  k1 = 0.1\n",
    "end\n",
    "'''\n",
    "\n",
    "# Load model string\n",
    "res = antimony.loadAntimonyString(model_str)\n",
    "if (res == -1):\n",
    "    print antimony.getLastError()\n",
    "\n",
    "# SBML is created based on module name\n",
    "module_name = antimony.getMainModuleName()\n",
    "print antimony.getSBMLString(module_name)"
   ]
  },
  {
   "cell_type": "markdown",
   "metadata": {},
   "source": [
    "## RoadRunner simulations\n",
    "\n",
    "Example simulations with the demo network.\n",
    "First import roadrunner for simulations."
   ]
  },
  {
   "cell_type": "code",
   "execution_count": 14,
   "metadata": {},
   "outputs": [
    {
     "data": {
      "text/plain": [
       "'1.4.2; Compiler: gcc 4.8.4, C++ version: 199711; JIT Compiler: LLVM-3.4; Date: Jan  7 2016, 09:12:52'"
      ]
     },
     "execution_count": 14,
     "output_type": "execute_result",
     "metadata": {}
    }
   ],
   "source": [
    "import roadrunner\n",
    "roadrunner.getVersionStr()"
   ]
  },
  {
   "cell_type": "markdown",
   "metadata": {},
   "source": [
    "Loading the model and performing a simple time course simulation."
   ]
  },
  {
   "cell_type": "code",
   "execution_count": 15,
   "metadata": {},
   "outputs": [
    {
     "name": "stdout",
     "output_type": "stream",
     "text": [
      "['time', '[A]', '[B]', '[C]', '[A_ext]', '[B_ext]', '[C_ext]']\n"
     ]
    },
    {
     "data": {
      "image/png": "[encoded data removed]"
     },
     "output_type": "display_data",
     "metadata": {}
    },
    {
     "data": {
      "text/plain": [
       "(100, 7)"
      ]
     },
     "execution_count": 15,
     "output_type": "execute_result",
     "metadata": {}
    }
   ],
   "source": [
    "# load model and generate equidistant timecourse for 20 [s]\n",
    "rr = roadrunner.RoadRunner(sbml_filepath)\n",
    "rr.selections = ['time'] + ['[{}]'.format(s) for s in rr.model.getFloatingSpeciesIds()]\n",
    "print(rr.selections)\n",
    "\n",
    "result = rr.simulate(0,20, 100, plot=True)\n",
    "result.shape"
   ]
  },
  {
   "cell_type": "code",
   "execution_count": 16,
   "metadata": {},
   "outputs": [
    {
     "data": {
      "text/plain": [
       "        time,      [A],       [B],       [C],  [A_ext],   [B_ext],    [C_ext]\n",
       " [[        0,        0,         0,         0,       10,         0,          0],\n",
       "  [  0.20202, 0.728059, 0.0647265, 0.0365807,  9.15465, 0.0143228, 0.00167644],\n",
       "  [  0.40404,  1.17752,  0.204651,  0.117111,  8.42114, 0.0688642,  0.0107259],\n",
       "  [ 0.606061,  1.45329,  0.386444,  0.214214,  7.76568,  0.151185,   0.029183],\n",
       "  [ 0.808081,  1.61923,   0.59248,  0.314298,   7.1684,  0.249264,  0.0563114],\n",
       "  [   1.0101,  1.71468,  0.810251,  0.411046,  6.61729,  0.356286,  0.0904292],\n",
       "  [  1.21212,  1.76373,   1.03118,   0.50187,  6.10511,  0.468371,   0.129755],\n",
       "  [  1.41414,  1.78188,   1.24938,  0.585771,  5.62717,   0.58306,   0.172759],\n",
       "  [  1.61616,  1.77909,   1.46089,  0.662594,  5.18053,  0.698753,   0.218175],\n",
       "  [  1.81818,  1.76168,   1.66318,  0.732573,  4.76332,  0.814286,   0.265001],\n",
       "  [   2.0202,   1.7337,   1.85465,  0.796089,  4.37431,  0.928849,   0.312458],\n",
       "  [  2.22222,  1.69798,   2.03416,  0.853514,  4.01256,   1.04191,   0.359942],\n",
       "  [  2.42424,  1.65652,   2.20103,    0.9052,  3.67729,   1.15304,   0.406981],\n",
       "  [  2.62626,  1.61074,   2.35514,  0.951498,  3.36778,   1.26167,   0.453202],\n",
       "  [  2.82828,  1.56175,   2.49652,  0.992736,   3.0833,   1.36744,   0.498314],\n",
       "  [   3.0303,  1.51045,   2.62489,    1.0292,  2.82296,   1.47044,   0.542096],\n",
       "  [  3.23232,  1.45769,   2.74032,   1.06116,   2.5858,   1.57071,    0.58437],\n",
       "  [  3.43434,   1.4042,   2.84388,    1.0889,  2.37071,   1.66736,   0.624995],\n",
       "  [  3.63636,  1.35068,   2.93654,   1.11272,  2.17646,   1.75978,   0.663865],\n",
       "  [  3.83838,  1.29775,   3.01746,   1.13294,  2.00176,   1.84924,   0.700908],\n",
       "  [   4.0404,  1.24592,   3.08676,    1.1498,   1.8452,    1.9363,   0.736073],\n",
       "  [  4.24242,  1.19571,   3.14733,   1.16358,  1.70535,   2.01874,   0.769327],\n",
       "  [  4.44444,  1.14753,   3.19981,   1.17465,   1.5808,    2.0966,   0.800657],\n",
       "  [  4.64646,  1.10168,   3.24292,   1.18333,  1.47012,   2.17192,   0.830075],\n",
       "  [  4.84848,  1.05837,   3.27838,   1.18984,  1.37196,   2.24387,   0.857605],\n",
       "  [  5.05051,  1.01779,   3.30848,   1.19448,  1.28503,   2.31098,   0.883279],\n",
       "  [  5.25253, 0.979999,   3.33269,   1.19756,  1.20812,   2.37453,   0.907146],\n",
       "  [  5.45455, 0.944977,   3.35044,   1.19931,  1.14012,   2.43593,   0.929271],\n",
       "  [  5.65657,  0.91269,   3.36429,   1.19988,  1.08001,   2.49344,    0.94972],\n",
       "  [  5.85859, 0.883075,   3.37539,   1.19954,  1.02688,   2.54659,   0.968557],\n",
       "  [  6.06061, 0.855995,    3.3825,   1.19848, 0.979916,   2.59728,   0.985864],\n",
       "  [  6.26263, 0.831303,   3.38704,   1.19682, 0.938376,   2.64478,    1.00172],\n",
       "  [  6.46465, 0.808852,   3.38952,    1.1947, 0.901614,   2.68913,    1.01622],\n",
       "  [  6.66667, 0.788478,      3.39,   1.19225, 0.869058,   2.73083,    1.02943],\n",
       "  [  6.86869, 0.770016,   3.38885,   1.18954, 0.840201,   2.76998,    1.04144],\n",
       "  [  7.07071, 0.753306,   3.38657,   1.18666, 0.814599,   2.80656,    1.05233],\n",
       "  [  7.27273, 0.738198,    3.3836,   1.18367, 0.791861,   2.84051,    1.06219],\n",
       "  [  7.47475, 0.724551,   3.38013,   1.18063, 0.771645,     2.872,    1.07107],\n",
       "  [  7.67677, 0.712228,   3.37617,    1.1776, 0.753654,   2.90131,    1.07907],\n",
       "  [  7.87879, 0.701105,   3.37182,   1.17461, 0.737625,   2.92863,    1.08624],\n",
       "  [  8.08081, 0.691063,   3.36725,   1.17167, 0.723329,   2.95405,    1.09266],\n",
       "  [  8.28283, 0.681996,   3.36261,   1.16882, 0.710564,   2.97765,    1.09839],\n",
       "  [  8.48485,  0.67381,   3.35799,   1.16605, 0.699153,   2.99953,    1.10349],\n",
       "  [  8.68687, 0.666416,   3.35343,    1.1634,  0.68894,   3.01984,      1.108],\n",
       "  [  8.88889, 0.659736,     3.349,   1.16085, 0.679791,   3.03865,    1.11199],\n",
       "  [  9.09091, 0.653698,   3.34467,   1.15843, 0.671586,   3.05614,    1.11551],\n",
       "  [  9.29293, 0.648238,   3.34047,   1.15612, 0.664219,   3.07239,    1.11859],\n",
       "  [  9.49495, 0.643297,   3.33645,   1.15393, 0.657598,   3.08748,    1.12127],\n",
       "  [  9.69697, 0.638823,   3.33262,   1.15186,  0.65164,   3.10149,     1.1236],\n",
       "  [  9.89899,  0.63477,   3.32902,   1.14989, 0.646273,   3.11446,    1.12561],\n",
       "  [   10.101, 0.631095,   3.32565,   1.14804, 0.641434,   3.12649,    1.12733],\n",
       "  [   10.303, 0.627762,    3.3225,   1.14628, 0.637066,   3.13763,    1.12879],\n",
       "  [  10.5051, 0.624736,   3.31956,   1.14463,  0.63312,   3.14796,    1.13002],\n",
       "  [  10.7071, 0.621988,   3.31683,   1.14308, 0.629551,   3.15754,    1.13104],\n",
       "  [  10.9091,  0.61949,   3.31429,   1.14162, 0.626321,   3.16643,    1.13187],\n",
       "  [  11.1111, 0.617218,   3.31195,   1.14025, 0.623394,   3.17468,    1.13254],\n",
       "  [  11.3131,  0.61515,   3.30978,   1.13897, 0.620738,   3.18233,    1.13306],\n",
       "  [  11.5152, 0.613262,   3.30778,   1.13777, 0.618319,   3.18946,    1.13345],\n",
       "  [  11.7172, 0.611538,   3.30593,   1.13664, 0.616116,   3.19607,    1.13373],\n",
       "  [  11.9192, 0.609964,   3.30424,   1.13558, 0.614114,   3.20222,    1.13391],\n",
       "  [  12.1212,  0.60853,    3.3027,   1.13458, 0.612301,   3.20792,      1.134],\n",
       "  [  12.3232, 0.607214,   3.30129,   1.13365, 0.610639,   3.21323,    1.13401],\n",
       "  [  12.5253, 0.606002,   3.29999,   1.13278, 0.609108,   3.21819,    1.13397],\n",
       "  [  12.7273, 0.604893,   3.29881,   1.13196, 0.607712,    3.2228,    1.13386],\n",
       "  [  12.9293, 0.603881,   3.29774,   1.13119, 0.606449,   3.22707,     1.1337],\n",
       "  [  13.1313, 0.602965,   3.29679,   1.13045, 0.605319,   3.23102,    1.13349],\n",
       "  [  13.3333, 0.602116,   3.29592,   1.12976, 0.604249,   3.23472,    1.13326],\n",
       "  [  13.5354, 0.601341,   3.29514,   1.12912, 0.603265,   3.23818,    1.13299],\n",
       "  [  13.7374, 0.600641,   3.29445,   1.12851, 0.602361,   3.24138,    1.13269],\n",
       "  [  13.9394, 0.600014,   3.29383,   1.12794, 0.601534,   3.24435,    1.13237],\n",
       "  [  14.1414, 0.599448,   3.29328,    1.1274, 0.600781,    3.2471,    1.13203],\n",
       "  [  14.3434, 0.598907,   3.29278,    1.1269, 0.600094,   3.24968,    1.13168],\n",
       "  [  14.5455, 0.598404,   3.29234,   1.12642, 0.599478,   3.25208,    1.13131],\n",
       "  [  14.7475,  0.59793,   3.29193,   1.12597, 0.598934,   3.25432,    1.13094],\n",
       "  [  14.9495,  0.59748,   3.29157,   1.12555, 0.598465,    3.2564,    1.13056],\n",
       "  [  15.1515, 0.597073,   3.29125,   1.12516, 0.598026,   3.25835,    1.13018],\n",
       "  [  15.3535, 0.596715,   3.29096,   1.12479, 0.597598,   3.26017,     1.1298],\n",
       "  [  15.5556, 0.596402,   3.29071,   1.12444, 0.597188,   3.26187,    1.12942],\n",
       "  [  15.7576, 0.596137,   3.29048,   1.12412, 0.596785,   3.26347,    1.12904],\n",
       "  [  15.9596, 0.595926,   3.29028,   1.12382, 0.596376,   3.26496,    1.12867],\n",
       "  [  16.1616, 0.595682,    3.2901,   1.12353, 0.596058,   3.26637,     1.1283],\n",
       "  [  16.3636, 0.595436,   3.28993,   1.12326, 0.595792,   3.26768,    1.12794],\n",
       "  [  16.5657, 0.595176,   3.28977,     1.123, 0.595587,   3.26892,    1.12758],\n",
       "  [  16.7677, 0.594889,   3.28963,   1.12275, 0.595459,   3.27007,    1.12723],\n",
       "  [  16.9697, 0.594592,   3.28949,   1.12251, 0.595385,   3.27116,    1.12689],\n",
       "  [  17.1717, 0.594366,   3.28937,   1.12228, 0.595269,   3.27218,    1.12656],\n",
       "  [  17.3737, 0.594211,   3.28927,   1.12207, 0.595113,   3.27314,    1.12624],\n",
       "  [  17.5758, 0.594154,   3.28917,   1.12187, 0.594882,   3.27403,    1.12592],\n",
       "  [  17.7778, 0.594075,    3.2891,   1.12168, 0.594688,   3.27487,    1.12561],\n",
       "  [  17.9798, 0.594014,   3.28904,   1.12151, 0.594483,   3.27566,    1.12532],\n",
       "  [  18.1818, 0.593955,   3.28901,   1.12136, 0.594275,   3.27641,    1.12503],\n",
       "  [  18.3838, 0.593899,   3.28899,   1.12121, 0.594076,   3.27711,    1.12475],\n",
       "  [  18.5859, 0.593825,   3.28898,   1.12107, 0.593903,   3.27777,    1.12448],\n",
       "  [  18.7879, 0.593713,   3.28898,   1.12095, 0.593776,   3.27839,    1.12423],\n",
       "  [  18.9899, 0.593592,   3.28899,   1.12083, 0.593668,   3.27898,    1.12398],\n",
       "  [  19.1919, 0.593496,     3.289,   1.12072, 0.593544,   3.27953,    1.12374],\n",
       "  [  19.3939, 0.593422,   3.28902,   1.12061, 0.593412,   3.28006,    1.12351],\n",
       "  [   19.596, 0.593365,   3.28903,   1.12051,  0.59328,   3.28056,    1.12329],\n",
       "  [   19.798, 0.593268,   3.28904,   1.12041, 0.593207,   3.28103,    1.12308],\n",
       "  [       20, 0.593147,   3.28904,   1.12031, 0.593184,   3.28147,    1.12288]]"
      ]
     },
     "execution_count": 16,
     "output_type": "execute_result",
     "metadata": {}
    }
   ],
   "source": [
    "result"
   ]
  },
  {
   "cell_type": "code",
   "execution_count": 17,
   "metadata": {},
   "outputs": [
    {
     "data": {
      "text/plain": [
       "(100, 7)"
      ]
     },
     "execution_count": 17,
     "output_type": "execute_result",
     "metadata": {}
    }
   ],
   "source": [
    "result.shape"
   ]
  },
  {
   "cell_type": "code",
   "execution_count": 19,
   "metadata": {},
   "outputs": [
    {
     "data": {
      "text/plain": [
       "<matplotlib.legend.Legend at 0x7f7b7e4e46d0>"
      ]
     },
     "execution_count": 19,
     "output_type": "execute_result",
     "metadata": {}
    },
    {
     "data": {
      "image/png": "[encoded data removed]"
     },
     "output_type": "display_data",
     "metadata": {}
    }
   ],
   "source": [
    "# plot some concentrations against each other\n",
    "plt.plot(result['[A]'], result['[A_ext]'], '-o', color='black', label=\"A_ext ~ A\")\n",
    "plt.plot(result['[B]'], result['[B_ext]'], '-o', color='red', label=\"B_ext ~ B\")\n",
    "plt.plot(result['[C]'], result['[C_ext]'], '-o', color='blue', label=\"C_ext ~ C\")\n",
    "plt.xlabel('Cell concentration [mM]')\n",
    "plt.ylabel('External concentration [mM]')\n",
    "plt.title('Trajectories of A, B, C')\n",
    "plt.legend()"
   ]
  },
  {
   "cell_type": "markdown",
   "metadata": {},
   "source": [
    "### Selections\n",
    "\n",
    "The content of the numerical output is defined via selections. Via selections the, components of the model we are interested in can be selected.\n",
    "Currently only the time and all concentrations of the model are selected."
   ]
  },
  {
   "cell_type": "code",
   "execution_count": 20,
   "metadata": {},
   "outputs": [
    {
     "name": "stdout",
     "output_type": "stream",
     "text": [
      "['time', '[A]', '[B]', '[C]', '[A_ext]', '[B_ext]', '[C_ext]']\n"
     ]
    }
   ],
   "source": [
    "print rr.selections"
   ]
  },
  {
   "cell_type": "code",
   "execution_count": 21,
   "metadata": {},
   "outputs": [
    {
     "name": "stdout",
     "output_type": "stream",
     "text": [
      "['extern', 'cell', 'membrane']\n",
      "[  1.00000000e-06   1.00000000e-06   1.00000000e+00]\n"
     ]
    }
   ],
   "source": [
    "# get all the compartment volumes at end point\n",
    "print rr.model.getCompartmentIds()\n",
    "print rr.model.getCompartmentVolumes()"
   ]
  },
  {
   "cell_type": "code",
   "execution_count": 22,
   "metadata": {},
   "outputs": [
    {
     "name": "stdout",
     "output_type": "stream",
     "text": [
      "['bA', 'bB', 'bC', 'v1', 'v2', 'v3', 'v4']\n",
      "[  8.42884735e-11   2.14094040e-09  -9.81571504e-10   2.64242508e-07\n",
      "   2.96573381e-07   5.60153039e-07  -2.62107596e-07]\n"
     ]
    }
   ],
   "source": [
    "# get all the reactionRates at end point\n",
    "print rr.model.getReactionIds()\n",
    "print rr.model.getReactionRates()"
   ]
  },
  {
   "cell_type": "markdown",
   "metadata": {},
   "source": [
    "Now we are interested in the rates. Adding them to the selection, and plot them."
   ]
  },
  {
   "cell_type": "code",
   "execution_count": 23,
   "metadata": {},
   "outputs": [],
   "source": [
    "rr.selections = ['time'] + rr.model.getReactionIds()"
   ]
  },
  {
   "cell_type": "code",
   "execution_count": 24,
   "metadata": {},
   "outputs": [],
   "source": [
    "rr.reset() # reset to initial concentrations\n",
    "s  = rr.simulate(0,20, 100, plot=False)  # equidistant timecourse for 20 [s]"
   ]
  },
  {
   "cell_type": "code",
   "execution_count": 27,
   "metadata": {},
   "outputs": [
    {
     "data": {
      "text/plain": [
       " [[        0, 4.54545e-06,           0,           0,           0,           0,           0,            0],\n",
       "  [  0.20202, 3.87155e-06, 1.74091e-07, 2.29765e-08, 7.21586e-07, 3.64029e-07, 1.82904e-08,  2.10873e-09],\n",
       "  [  0.40404, 3.41723e-06, 3.51091e-07,  6.8025e-08, 1.15705e-06,  5.8876e-07, 5.85557e-08,  7.39291e-09],\n",
       "  [ 0.606061, 3.08856e-06, 4.53455e-07, 1.14097e-07, 1.41465e-06, 7.26646e-07, 1.07107e-07,  1.04959e-08],\n",
       "  [ 0.808081, 2.83478e-06, 5.11597e-07,  1.5308e-07, 1.55999e-06, 8.09617e-07, 1.57149e-07,  9.02913e-09],\n",
       "  [   1.0101, 2.62678e-06,   5.448e-07, 1.83133e-07, 1.63366e-06, 8.57341e-07, 2.05523e-07,  2.96029e-09],\n",
       "  [  1.21212, 2.44755e-06, 5.62937e-07,  2.0493e-07, 1.66061e-06, 8.81864e-07, 2.50935e-07, -6.86032e-09],\n",
       "  [  1.41414,  2.2864e-06, 5.71351e-07, 2.19773e-07, 1.65695e-06, 8.90942e-07, 2.92886e-07, -1.94595e-08],\n",
       "  [  1.61616, 2.13668e-06, 5.73111e-07, 2.29037e-07,   1.633e-06, 8.89546e-07, 3.31297e-07, -3.39249e-08]]"
      ]
     },
     "execution_count": 27,
     "output_type": "execute_result",
     "metadata": {}
    }
   ],
   "source": [
    "# print first 10 rows of solution\n",
    "s[0:9, :]"
   ]
  },
  {
   "cell_type": "code",
   "execution_count": 28,
   "metadata": {},
   "outputs": [
    {
     "name": "stdout",
     "output_type": "stream",
     "text": [
      "A = 0.593146761686\n",
      "Vmax_bA = 5.0\n"
     ]
    }
   ],
   "source": [
    "print('A = {}'.format(rr.A))\n",
    "print('Vmax_bA = {}'.format(rr.Vmax_bA))"
   ]
  },
  {
   "cell_type": "markdown",
   "metadata": {},
   "source": [
    "The units can be read out from the SBML file."
   ]
  },
  {
   "cell_type": "code",
   "execution_count": 29,
   "metadata": {},
   "outputs": [
    {
     "name": "stdout",
     "output_type": "stream",
     "text": [
      "<Model Koenig_demo_v02 \"Koenig_demo_v02\">\n",
      "<class 'libsbml.Model'>\n"
     ]
    }
   ],
   "source": [
    "print model\n",
    "print type(model)"
   ]
  },
  {
   "cell_type": "code",
   "execution_count": 30,
   "metadata": {},
   "outputs": [
    {
     "name": "stdout",
     "output_type": "stream",
     "text": [
      "<Species A \"A cell\"> A A cell\n",
      "mole\n",
      "False\n",
      "<species id=\"A\" name=\"A cell\" compartment=\"cell\" initialConcentration=\"0\" substanceUnits=\"mole\" hasOnlySubstanceUnits=\"false\" boundaryCondition=\"false\" constant=\"false\"/>\n"
     ]
    },
    {
     "data": {
      "text/plain": [
       "'mole (exponent = 1, multiplier = 1, scale = 0), metre (exponent = -3, multiplier = 1, scale = 0)'"
      ]
     },
     "execution_count": 30,
     "output_type": "execute_result",
     "metadata": {}
    }
   ],
   "source": [
    "s = model.getSpecies('A')\n",
    "print s, s.getId(), s.getName()\n",
    "print s.getUnits()   # has mole as unit due to substance units\n",
    "print s.has_only_substance_units\n",
    "\n",
    "print s.toSBML()\n",
    "\n",
    "udef =  s.getDerivedUnitDefinition()\n",
    "libsbml.UnitDefinition_printUnits(udef)"
   ]
  },
  {
   "cell_type": "markdown",
   "metadata": {},
   "source": [
    "## Steady States\n",
    "\n",
    "Proper simulation to steady state (i.e. with NEQ solvers and not just based on letting the simulation run for long)."
   ]
  },
  {
   "cell_type": "code",
   "execution_count": 44,
   "metadata": {},
   "outputs": [
    {
     "name": "stdout",
     "output_type": "stream",
     "text": [
      "['time', 'bA', 'bB', 'bC', 'v1', 'v2', 'v3', 'v4']\n",
      "[ 0.5849026   3.24945891  1.10481603  0.5849026   3.24945891  1.10481603]\n"
     ]
    }
   ],
   "source": [
    "# ? what does the value for time mean here ? \n",
    "# bug in the setup\n",
    "print rr.selections\n",
    "print rr.getSteadyStateValues()"
   ]
  },
  {
   "cell_type": "markdown",
   "metadata": {},
   "source": [
    "## Stoichiometric Matrix\n",
    "\n",
    "Access to the stoichiometric matrix of the system is simple via"
   ]
  },
  {
   "cell_type": "code",
   "execution_count": 45,
   "metadata": {},
   "outputs": [
    {
     "data": {
      "text/plain": [
       "         bA, bB, bC, v1, v2, v3, v4\n",
       "A     [[  1,  0,  0, -1, -1,  1,  0],\n",
       "B      [  0, -1,  0,  1,  0,  0,  1],\n",
       "C      [  0,  0, -1,  0,  1, -1, -1],\n",
       "A_ext  [ -1,  0,  0,  0,  0,  0,  0],\n",
       "B_ext  [  0,  1,  0,  0,  0,  0,  0],\n",
       "C_ext  [  0,  0,  1,  0,  0,  0,  0]]"
      ]
     },
     "execution_count": 45,
     "output_type": "execute_result",
     "metadata": {}
    }
   ],
   "source": [
    "rr.getFullStoichiometryMatrix()"
   ]
  },
  {
   "cell_type": "code",
   "execution_count": 46,
   "metadata": {},
   "outputs": [
    {
     "data": {
      "text/plain": [
       " [[ 1, 1, 1, 1, 1, 1]]"
      ]
     },
     "execution_count": 46,
     "output_type": "execute_result",
     "metadata": {}
    }
   ],
   "source": [
    "rr.getConservationMatrix()"
   ]
  },
  {
   "cell_type": "markdown",
   "metadata": {},
   "source": [
    "## Jacobian Matrix\n",
    "\n",
    "Access to Jacobian matrix of the systems via"
   ]
  },
  {
   "cell_type": "code",
   "execution_count": 47,
   "metadata": {},
   "outputs": [
    {
     "data": {
      "text/plain": [
       "                    A,            B,           C,        A_ext,        B_ext,        C_ext\n",
       "A     [[ -3.80435e-06,        1e-07,       5e-07,  2.30435e-06,            0,            0],\n",
       "B      [        1e-06, -6.35758e-07,       5e-07,            0,  2.85758e-07,            0],\n",
       "C      [        5e-07,      2.5e-07, -1.3839e-06,            0,            0,  3.83904e-07],\n",
       "A_ext  [  2.30435e-06,            0,           0, -2.30435e-06,            0,            0],\n",
       "B_ext  [            0,  2.85758e-07,           0,            0, -2.85758e-07,            0],\n",
       "C_ext  [            0,            0, 3.83904e-07,            0,            0, -3.83904e-07]]"
      ]
     },
     "execution_count": 47,
     "output_type": "execute_result",
     "metadata": {}
    }
   ],
   "source": [
    "rr.getFullJacobian()"
   ]
  },
  {
   "cell_type": "markdown",
   "metadata": {},
   "source": [
    "## Metabolic Control Analysis\n",
    "\n",
    "Direct access to metabolic control analysis, for instance the Concentration control coefficients."
   ]
  },
  {
   "cell_type": "code",
   "execution_count": 48,
   "metadata": {},
   "outputs": [
    {
     "data": {
      "text/plain": [
       "         bA, bB, bC,         v1,         v2,        v3,         v4\n",
       "A     [[  0, -0, -0,  -0.292398,  -0.223684,  0.422515,  0.0935673],\n",
       "B      [  0, -0, -0,  0.0631579, -0.0236842, 0.0447368, -0.0842105],\n",
       "C      [  0, -0, -0, -0.0309598,    0.18808, -0.355263,   0.198142],\n",
       "A_ext  [ -0, -0, -0,  -0.292398,  -0.223684,  0.422515,  0.0935673],\n",
       "B_ext  [  0,  0, -0,  0.0631579, -0.0236842, 0.0447368, -0.0842105],\n",
       "C_ext  [  0, -0,  0, -0.0309598,    0.18808, -0.355263,   0.198142]]"
      ]
     },
     "execution_count": 48,
     "output_type": "execute_result",
     "metadata": {}
    }
   ],
   "source": [
    "rr.getScaledConcentrationControlCoefficientMatrix()"
   ]
  },
  {
   "cell_type": "markdown",
   "metadata": {},
   "source": [
    "## Repeated simulations\n",
    "\n",
    "Parameter scan or multiple simulations.\n",
    "Direct storage of simulation results in a list of numpy arrays.\n",
    "\n",
    "First select a parameter to change continously from sampling.\n",
    "Use additional roadrunner_tools for simplified simulation running."
   ]
  },
  {
   "cell_type": "code",
   "execution_count": 50,
   "metadata": {},
   "outputs": [],
   "source": [
    "import multiscale.odesim.simulate.roadrunner_tools as rt"
   ]
  },
  {
   "cell_type": "code",
   "execution_count": 51,
   "metadata": {},
   "outputs": [],
   "source": [
    "# reload clean model\n",
    "rr = roadrunner.RoadRunner(sbml_filepath)"
   ]
  },
  {
   "cell_type": "markdown",
   "metadata": {},
   "source": [
    "Select parameters to change in the following simulations"
   ]
  },
  {
   "cell_type": "code",
   "execution_count": 52,
   "metadata": {},
   "outputs": [
    {
     "data": {
      "text/plain": [
       "5.0"
      ]
     },
     "execution_count": 52,
     "output_type": "execute_result",
     "metadata": {}
    }
   ],
   "source": [
    "# current value of Vmax_bA\n",
    "rr.Vmax_bA"
   ]
  },
  {
   "cell_type": "markdown",
   "metadata": {},
   "source": [
    "### Global parameters\n",
    "\n",
    "What are the global parameters in the model. To which values are these set in the model?"
   ]
  },
  {
   "cell_type": "code",
   "execution_count": 53,
   "metadata": {},
   "outputs": [
    {
     "data": {
      "text/html": [
       "<div>\n",
       "<table border=\"1\" class=\"dataframe\">\n",
       "  <thead>\n",
       "    <tr style=\"text-align: right;\">\n",
       "      <th></th>\n",
       "      <th>value</th>\n",
       "    </tr>\n",
       "  </thead>\n",
       "  <tbody>\n",
       "    <tr>\n",
       "      <th>scale_f</th>\n",
       "      <td>0.000001</td>\n",
       "    </tr>\n",
       "    <tr>\n",
       "      <th>Vmax_bA</th>\n",
       "      <td>5.000000</td>\n",
       "    </tr>\n",
       "    <tr>\n",
       "      <th>Km_A</th>\n",
       "      <td>1.000000</td>\n",
       "    </tr>\n",
       "    <tr>\n",
       "      <th>Vmax_bB</th>\n",
       "      <td>2.000000</td>\n",
       "    </tr>\n",
       "    <tr>\n",
       "      <th>Km_B</th>\n",
       "      <td>0.500000</td>\n",
       "    </tr>\n",
       "    <tr>\n",
       "      <th>Vmax_bC</th>\n",
       "      <td>2.000000</td>\n",
       "    </tr>\n",
       "    <tr>\n",
       "      <th>Km_C</th>\n",
       "      <td>3.000000</td>\n",
       "    </tr>\n",
       "    <tr>\n",
       "      <th>Vmax_v1</th>\n",
       "      <td>1.000000</td>\n",
       "    </tr>\n",
       "    <tr>\n",
       "      <th>Keq_v1</th>\n",
       "      <td>10.000000</td>\n",
       "    </tr>\n",
       "    <tr>\n",
       "      <th>Vmax_v2</th>\n",
       "      <td>0.500000</td>\n",
       "    </tr>\n",
       "    <tr>\n",
       "      <th>Vmax_v3</th>\n",
       "      <td>0.500000</td>\n",
       "    </tr>\n",
       "    <tr>\n",
       "      <th>Vmax_v4</th>\n",
       "      <td>0.500000</td>\n",
       "    </tr>\n",
       "    <tr>\n",
       "      <th>Keq_v4</th>\n",
       "      <td>2.000000</td>\n",
       "    </tr>\n",
       "  </tbody>\n",
       "</table>\n",
       "</div>"
      ]
     },
     "output_type": "execute_result",
     "metadata": {}
    }
   ],
   "source": [
    "gp = rt.getGlobalParameters(rr)\n",
    "gp"
   ]
  },
  {
   "cell_type": "code",
   "execution_count": 54,
   "metadata": {},
   "outputs": [
    {
     "data": {
      "text/html": [
       "<div>\n",
       "<table border=\"1\" class=\"dataframe\">\n",
       "  <thead>\n",
       "    <tr style=\"text-align: right;\">\n",
       "      <th></th>\n",
       "      <th>amount</th>\n",
       "      <th>concentration</th>\n",
       "    </tr>\n",
       "  </thead>\n",
       "  <tbody>\n",
       "    <tr>\n",
       "      <th>A</th>\n",
       "      <td>0.00000</td>\n",
       "      <td>0</td>\n",
       "    </tr>\n",
       "    <tr>\n",
       "      <th>B</th>\n",
       "      <td>0.00000</td>\n",
       "      <td>0</td>\n",
       "    </tr>\n",
       "    <tr>\n",
       "      <th>C</th>\n",
       "      <td>0.00000</td>\n",
       "      <td>0</td>\n",
       "    </tr>\n",
       "    <tr>\n",
       "      <th>A_ext</th>\n",
       "      <td>0.00001</td>\n",
       "      <td>10</td>\n",
       "    </tr>\n",
       "    <tr>\n",
       "      <th>B_ext</th>\n",
       "      <td>0.00000</td>\n",
       "      <td>0</td>\n",
       "    </tr>\n",
       "    <tr>\n",
       "      <th>C_ext</th>\n",
       "      <td>0.00000</td>\n",
       "      <td>0</td>\n",
       "    </tr>\n",
       "  </tbody>\n",
       "</table>\n",
       "</div>"
      ]
     },
     "output_type": "execute_result",
     "metadata": {}
    }
   ],
   "source": [
    "f_species = rt.getFloatingSpecies(rr)\n",
    "f_species"
   ]
  },
  {
   "cell_type": "code",
   "execution_count": 55,
   "metadata": {},
   "outputs": [
    {
     "data": {
      "text/plain": [
       "10.0"
      ]
     },
     "execution_count": 55,
     "output_type": "execute_result",
     "metadata": {}
    }
   ],
   "source": [
    "f_species.concentration['A_ext']"
   ]
  },
  {
   "cell_type": "markdown",
   "metadata": {},
   "source": [
    "### BoundarySpecies\n",
    "\n",
    "Which concentration values are set constant during the simulations? What are the boundary conditions, i.e. which species are not changing their values?"
   ]
  },
  {
   "cell_type": "code",
   "execution_count": 56,
   "metadata": {},
   "outputs": [
    {
     "data": {
      "text/html": [
       "<div>\n",
       "<table border=\"1\" class=\"dataframe\">\n",
       "  <thead>\n",
       "    <tr style=\"text-align: right;\">\n",
       "      <th></th>\n",
       "      <th>amount</th>\n",
       "      <th>concentration</th>\n",
       "    </tr>\n",
       "  </thead>\n",
       "  <tbody>\n",
       "  </tbody>\n",
       "</table>\n",
       "</div>"
      ]
     },
     "output_type": "execute_result",
     "metadata": {}
    }
   ],
   "source": [
    "rt.getBoundarySpecies(rr)"
   ]
  },
  {
   "cell_type": "code",
   "execution_count": 57,
   "metadata": {},
   "outputs": [
    {
     "data": {
      "text/plain": [
       "value    2\n",
       "Name: Vmax_bB, dtype: float64"
      ]
     },
     "execution_count": 57,
     "output_type": "execute_result",
     "metadata": {}
    }
   ],
   "source": [
    "gp.ix['Vmax_bB']"
   ]
  },
  {
   "cell_type": "code",
   "execution_count": 58,
   "metadata": {},
   "outputs": [
    {
     "name": "stdout",
     "output_type": "stream",
     "text": [
      "['bA', 'bB', 'bC', 'v1', 'v2', 'v3', 'v4']\n"
     ]
    }
   ],
   "source": [
    "# kinetic eqution of reaction b1\n",
    "rids = [r.getId() for r in model.getListOfReactions()]\n",
    "print rids\n",
    "r_bA = model.getReaction('bA')"
   ]
  },
  {
   "cell_type": "code",
   "execution_count": 59,
   "metadata": {},
   "outputs": [
    {
     "name": "stdout",
     "output_type": "stream",
     "text": [
      "bA = scale_f * (Vmax_bA / Km_A) * (A_ext - A) / (1 + A_ext / Km_A + A / Km_A)\n"
     ]
    }
   ],
   "source": [
    "klaw_bA = r_bA.getKineticLaw()\n",
    "print 'bA = {}'.format(klaw_bA.formula)"
   ]
  },
  {
   "cell_type": "code",
   "execution_count": 60,
   "metadata": {},
   "outputs": [
    {
     "name": "stdout",
     "output_type": "stream",
     "text": [
      "time : 1.55032610893 [s] for 1000 simulations\n"
     ]
    }
   ],
   "source": [
    "# load roadrunner tools for simplified setting of parameters and \n",
    "# initial values\n",
    "import numpy as np\n",
    "import time\n",
    "\n",
    "# Create some parameter sampling\n",
    "# Vmax_test = np.linspace(start=0, stop=10, num=20)\n",
    "N_sample = 1000\n",
    "Vmax_test = np.random.normal(loc=5.0, scale=1.5, size=N_sample)\n",
    "Vmax_test = np.maximum(0.0, Vmax_test) # nonnegative\n",
    "\n",
    "t1 = time.time()\n",
    "results = []  # quick and dirty, better preallocate matrices\n",
    "for Vmax in Vmax_test:\n",
    "    # create a parameter dict for the simulation\n",
    "    (s, _) = rt.simulation(rr, t_start=0, t_stop=20, steps=100, \\\n",
    "                           parameters={'Vmax_bA': Vmax}, \\\n",
    "                           init_concentrations={'A': 2.0}, \\\n",
    "                           absTol=1e-08, relTol=1e-08, debug=False)\n",
    "    results.append(s)\n",
    "print 'time : {} [s] for {} simulations'.format(time.time() - t1, N_sample)"
   ]
  },
  {
   "cell_type": "markdown",
   "metadata": {},
   "source": [
    "** Histogram of the parameter distribution **\n",
    "\n",
    "Provide an overview over the parameter distribution."
   ]
  },
  {
   "cell_type": "code",
   "execution_count": 61,
   "metadata": {},
   "outputs": [
    {
     "data": {
      "image/png": "[encoded data removed]"
     },
     "output_type": "display_data",
     "metadata": {}
    }
   ],
   "source": [
    "plt.hist(Vmax_test, color='grey')\n",
    "plt.xlabel('Vmax_test [mole_per_s]')\n",
    "plt.ylabel('frequency');"
   ]
  },
  {
   "cell_type": "markdown",
   "metadata": {},
   "source": [
    "Use matplotlib to plot the resulting curves."
   ]
  },
  {
   "cell_type": "code",
   "execution_count": 62,
   "metadata": {},
   "outputs": [
    {
     "data": {
      "text/plain": [
       "['time', '[A]', '[B]', '[C]', '[A_ext]', '[B_ext]', '[C_ext]']"
      ]
     },
     "execution_count": 62,
     "output_type": "execute_result",
     "metadata": {}
    }
   ],
   "source": [
    "rr.selections"
   ]
  },
  {
   "cell_type": "code",
   "execution_count": 65,
   "metadata": {},
   "outputs": [
    {
     "data": {
      "image/png": "[encoded data removed]"
     },
     "output_type": "display_data",
     "metadata": {}
    }
   ],
   "source": [
    "for s in results:\n",
    "    # plt.plot(results[0].transpose())\n",
    "    plt.plot(s['time'], s['[A_ext]'], color='black', alpha=0.4)\n",
    "plt.xlim(0, 20)\n",
    "plt.xlabel('time [s]')\n",
    "plt.ylabel('[A_ext] [mM]');"
   ]
  },
  {
   "cell_type": "code",
   "execution_count": 66,
   "metadata": {},
   "outputs": [
    {
     "data": {
      "image/png": "[encoded data removed]"
     },
     "output_type": "display_data",
     "metadata": {}
    }
   ],
   "source": [
    "for s in results:\n",
    "    # plt.plot(results[0].transpose())\n",
    "    plt.plot(s['time'], s['[A]'], color='black', alpha=0.4)\n",
    "    plt.xlim(0, 20)\n",
    "    plt.xlabel('time [s]')\n",
    "    plt.ylabel('[A] [mM]');"
   ]
  },
  {
   "cell_type": "code",
   "execution_count": 67,
   "metadata": {},
   "outputs": [
    {
     "data": {
      "text/plain": [
       "(0, 2.7076658865790035)"
      ]
     },
     "execution_count": 67,
     "output_type": "execute_result",
     "metadata": {}
    },
    {
     "data": {
      "image/png": "[encoded data removed]"
     },
     "output_type": "display_data",
     "metadata": {}
    }
   ],
   "source": [
    "peaks = [max(s['[A]']) for s in results]\n",
    "mins = [min(s['[A]']) for s in results]\n",
    "plt.plot(Vmax_test, peaks, 'o', color=\"blue\")\n",
    "plt.plot(Vmax_test, mins, 'o', color=\"red\")\n",
    "plt.title('Peak maximum depending on Vmax_bA')\n",
    "plt.ylim([0, max(peaks)])"
   ]
  }
 ],
 "metadata": {
  "kernelspec": {
   "display_name": "Python 2",
   "language": "python",
   "name": "python2"
  },
  "language_info": {
   "codemirror_mode": {
    "name": "ipython",
    "version": 2.0
   },
   "file_extension": ".py",
   "mimetype": "text/x-python",
   "name": "python",
   "nbconvert_exporter": "python",
   "pygments_lexer": "ipython2",
   "version": "2.7.6"
  }
 },
 "nbformat": 4,
 "nbformat_minor": 0
}