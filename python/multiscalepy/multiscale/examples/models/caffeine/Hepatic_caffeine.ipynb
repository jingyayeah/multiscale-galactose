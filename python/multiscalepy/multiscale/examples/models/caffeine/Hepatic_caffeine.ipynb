{
 "cells": [
  {
   "cell_type": "markdown",
   "metadata": {},
   "source": [
    "# Human hepatic caffeine metabolism\n",
    "Simple model of caffeine clearance by the human liver."
   ]
  },
  {
   "cell_type": "code",
   "execution_count": 5,
   "metadata": {
    "collapsed": true
   },
   "outputs": [],
   "source": [
    "%matplotlib inline\n",
    "from __future__ import print_function, division\n",
    "import tellurium as te"
   ]
  },
  {
   "cell_type": "code",
   "execution_count": 8,
   "metadata": {
    "collapsed": false
   },
   "outputs": [
    {
     "name": "stdout",
     "output_type": "stream",
     "text": [
      "// Created by libAntimony v2.9.0\n",
      "model *Hepatic_caffeine_1()\n",
      "\n",
      "  // Compartments and Species:\n",
      "  compartment h, c, e, pm;\n",
      "  species gdp in c, $theophylline in c, $caffeine in c, $paraxanthine in c;\n",
      "  species utp in c, pp in c, $co2 in c, $nad in c, $theophylline_ext in e;\n",
      "  species gtp in c, udp in c, $nadh in c, $hydron in c, $caffeine_ext in e;\n",
      "  species $theobromine_ext in e, $paraxanthine_ext in e, $amp in c, $phos in c;\n",
      "  species $adp in c, $theobromine in c, $h2o in c, $atp in c;\n",
      "\n",
      "  // Assignment Rules:\n",
      "  h := Vol_h;\n",
      "  c := Vol_c;\n",
      "  e := Vol_e;\n",
      "  pm := A_m;\n",
      "  c__nad_bal := nad + nadh;\n",
      "  c__adp_bal := atp + adp;\n",
      "  c__udp_bal := utp + udp;\n",
      "\n",
      "  // Reactions:\n",
      "  CAFT in pm: $caffeine_ext -> $caffeine; f_caf*(CAFT_Vmax/CAFT_k_caffeine)*(caffeine_ext - caffeine/CAFT_keq)/(1 dimensionless + caffeine_ext/CAFT_k_caffeine + caffeine/CAFT_k_caffeine);\n",
      "  PXT in pm: $paraxanthine_ext -> $paraxanthine; f_caf*(PXT_Vmax/PXT_k_paraxanthine)*(paraxanthine_ext - paraxanthine/PXT_keq)/(1 dimensionless + paraxanthine_ext/PXT_k_paraxanthine + paraxanthine/PXT_k_paraxanthine);\n",
      "  TBT in pm: $theobromine_ext -> $theobromine; f_caf*(TBT_Vmax/TBT_k_theobromine)*(theobromine_ext - theobromine/TBT_keq)/(1 dimensionless + theobromine_ext/TBT_k_theobromine + theobromine/TBT_k_theobromine);\n",
      "  TPT in pm: $theophylline_ext -> $theophylline; f_caf*(TPT_Vmax/TPT_k_theophylline)*(theophylline_ext - theophylline/TPT_keq)/(1 dimensionless + theophylline_ext/TPT_k_theophylline + theophylline/TPT_k_theophylline);\n",
      "  CAF2PX in c: $caffeine => $paraxanthine; f_caf*CAF2PX_Vmax*caffeine/(CAF2PX_k_caffeine + caffeine);\n",
      "  CAF2TB in c: $caffeine => $theobromine; f_caf*CAF2TB_Vmax*caffeine/(CAF2TB_k_caffeine + caffeine);\n",
      "  CAF2TP in c: $caffeine => $theobromine; f_caf*CAF2TP_Vmax*caffeine/(CAF2TP_k_caffeine + caffeine);\n",
      "\n",
      "  // Species initializations:\n",
      "  gdp = 0.1;\n",
      "  gdp has mM;\n",
      "  theophylline = 0;\n",
      "  theophylline has mM;\n",
      "  caffeine = 0;\n",
      "  caffeine has mM;\n",
      "  paraxanthine = 0;\n",
      "  paraxanthine has mM;\n",
      "  utp = 0.27;\n",
      "  utp has mM;\n",
      "  pp = 0.008;\n",
      "  pp has mM;\n",
      "  co2 = 5;\n",
      "  co2 has mM;\n",
      "  nad = 1.22;\n",
      "  nad has mM;\n",
      "  theophylline_ext = 0;\n",
      "  theophylline_ext has mM;\n",
      "  gtp = 0.29;\n",
      "  gtp has mM;\n",
      "  udp = 0.09;\n",
      "  udp has mM;\n",
      "  nadh = 0.00056;\n",
      "  nadh has mM;\n",
      "  hydron = 0;\n",
      "  hydron has mM;\n",
      "  caffeine_ext = 0.1;\n",
      "  caffeine_ext has mM;\n",
      "  theobromine_ext = 0;\n",
      "  theobromine_ext has mM;\n",
      "  paraxanthine_ext = 0;\n",
      "  paraxanthine_ext has mM;\n",
      "  amp = 0.16;\n",
      "  amp has mM;\n",
      "  phos = 5;\n",
      "  phos has mM;\n",
      "  adp = 0.8;\n",
      "  adp has mM;\n",
      "  theobromine = 0;\n",
      "  theobromine has mM;\n",
      "  h2o = 0;\n",
      "  h2o has mM;\n",
      "  atp = 2.8;\n",
      "  atp has mM;\n",
      "  h has m3;\n",
      "  c has m3;\n",
      "  e has m3;\n",
      "  pm has m2;\n",
      "\n",
      "  // Variable initializations:\n",
      "  Vol_h = x_cell*x_cell*y_cell;\n",
      "  Vol_h has m3;\n",
      "  Vol_c = f_cyto*Vol_h;\n",
      "  Vol_c has m3;\n",
      "  Vol_e = Vol_h;\n",
      "  Vol_e has m3;\n",
      "  A_m = x_cell*x_cell;\n",
      "  A_m has m2;\n",
      "  f_cyto = 0.4;\n",
      "  f_cyto has dimensionless;\n",
      "  x_cell = 2.5e-05;\n",
      "  x_cell has m;\n",
      "  f_caf = 0.31;\n",
      "  f_caf has dimensionless;\n",
      "  f_tissue = 0.8;\n",
      "  f_tissue has dimensionless;\n",
      "  y_cell = 9.4e-06;\n",
      "  y_cell has m;\n",
      "  c__nad_bal has mM;\n",
      "  c__adp_bal has mM;\n",
      "  c__udp_bal has mM;\n",
      "  CAFT_keq = 1;\n",
      "  CAFT_keq has dimensionless;\n",
      "  CAFT_k_caffeine = 0.1;\n",
      "  CAFT_k_caffeine has mM;\n",
      "  CAFT_Vmax = 10;\n",
      "  CAFT_Vmax has mole_per_s;\n",
      "  PXT_keq = 1;\n",
      "  PXT_keq has dimensionless;\n",
      "  PXT_k_paraxanthine = 0.1;\n",
      "  PXT_k_paraxanthine has mM;\n",
      "  PXT_Vmax = 2;\n",
      "  PXT_Vmax has mole_per_s;\n",
      "  TBT_keq = 1;\n",
      "  TBT_keq has dimensionless;\n",
      "  TBT_k_theobromine = 0.1;\n",
      "  TBT_k_theobromine has mM;\n",
      "  TBT_Vmax = 2;\n",
      "  TBT_Vmax has mole_per_s;\n",
      "  TPT_keq = 1;\n",
      "  TPT_keq has dimensionless;\n",
      "  TPT_k_theophylline = 0.1;\n",
      "  TPT_k_theophylline has mM;\n",
      "  TPT_Vmax = 2;\n",
      "  TPT_Vmax has mole_per_s;\n",
      "  CAF2PX_k_caffeine = 0.1;\n",
      "  CAF2PX_k_caffeine has mM;\n",
      "  CAF2PX_Vmax = 8.4;\n",
      "  CAF2PX_Vmax has mole_per_s;\n",
      "  CAF2TB_k_caffeine = 0.1;\n",
      "  CAF2TB_k_caffeine has mM;\n",
      "  CAF2TB_Vmax = 1.2;\n",
      "  CAF2TB_Vmax has mole_per_s;\n",
      "  CAF2TP_k_caffeine = 0.1;\n",
      "  CAF2TP_k_caffeine has mM;\n",
      "  CAF2TP_Vmax = 0.4;\n",
      "  CAF2TP_Vmax has mole_per_s;\n",
      "\n",
      "  // Other declarations:\n",
      "  var h, c, e, pm, c__nad_bal, c__adp_bal, c__udp_bal;\n",
      "  const Vol_h, Vol_c, Vol_e, A_m, f_cyto, x_cell, f_caf, f_tissue, y_cell;\n",
      "  const CAFT_keq, CAFT_k_caffeine, CAFT_Vmax, PXT_keq, PXT_k_paraxanthine;\n",
      "  const PXT_Vmax, TBT_keq, TBT_k_theobromine, TBT_Vmax, TPT_keq, TPT_k_theophylline;\n",
      "  const TPT_Vmax, CAF2PX_k_caffeine, CAF2PX_Vmax, CAF2TB_k_caffeine, CAF2TB_Vmax;\n",
      "  const CAF2TP_k_caffeine, CAF2TP_Vmax;\n",
      "\n",
      "  // Unit definitions:\n",
      "  unit Pa_s_per_m2 = pascal * second / metre^2;\n",
      "  unit Pa_s_per_m3 = pascal * second / metre^3;\n",
      "  unit Pa_s_per_m4 = pascal * second / metre^4;\n",
      "  unit Pa = pascal;\n",
      "  unit m_per_s = metre / second;\n",
      "  unit per_m3 = 1 / metre^3;\n",
      "  unit per_m2 = 1 / metre^2;\n",
      "  unit mole_per_s = mole / second;\n",
      "  unit m2_per_s = metre^2 / second;\n",
      "  unit mole_per_s_per_mM2 = metre^6 / (mole * second);\n",
      "  unit m3_per_skg = metre^3 / (kilogram * second);\n",
      "  unit m2 = metre^2;\n",
      "  unit mM_s = mole * second / metre^3;\n",
      "  unit per_s = 1 / second;\n",
      "  unit m3 = metre^3;\n",
      "  unit mM = mole / metre^3;\n",
      "  unit mole_per_s_per_mM = metre^3 / second;\n",
      "  unit kg_per_m3 = kilogram / metre^3;\n",
      "  unit per_mM = metre^3 / mole;\n",
      "  unit m6_per_Pa2_s2 = metre^6 / (pascal^2 * second^2);\n",
      "  unit kg = kilogram;\n",
      "  unit m = metre;\n",
      "  unit s = second;\n",
      "  unit Pa_s = pascal * second;\n",
      "  unit m3_per_s = metre^3 / second;\n",
      "  unit length = m;\n",
      "  unit area = m2;\n",
      "  unit volume = m3;\n",
      "  unit substance = mole;\n",
      "  unit extent = mole;\n",
      "  unit time_unit = s;\n",
      "\n",
      "  // Display Names:\n",
      "  h is \"hepatocyte\";\n",
      "  Vol_h is \"volume hepatocyte\";\n",
      "  c is \"cytosol\";\n",
      "  Vol_c is \"volume cytosol\";\n",
      "  e is \"external\";\n",
      "  Vol_e is \"volume external compartment\";\n",
      "  pm is \"plasma membrane\";\n",
      "  A_m is \"area plasma membrane\";\n",
      "  gdp is \"GDP\";\n",
      "  utp is \"UTP\";\n",
      "  pp is \"pyrophosphate\";\n",
      "  co2 is \"CO2\";\n",
      "  nad is \"NAD+\";\n",
      "  gtp is \"GTP\";\n",
      "  udp is \"UDP\";\n",
      "  nadh is \"NADH\";\n",
      "  hydron is \"H+\";\n",
      "  amp is \"AMP\";\n",
      "  phos is \"phosphate\";\n",
      "  adp is \"ADP\";\n",
      "  h2o is \"H2O\";\n",
      "  atp is \"ATP\";\n",
      "  f_cyto is \"cytosolic fraction of hepatocyte\";\n",
      "  x_cell is \"length hepatocyte\";\n",
      "  f_caf is \"metabolic scaling factor\";\n",
      "  f_tissue is \"parenchymal fraction of liver\";\n",
      "  y_cell is \"width hepatocyte\";\n",
      "  c__nad_bal is \"NAD balance\";\n",
      "  c__adp_bal is \"ADP balance\";\n",
      "  c__udp_bal is \"UDP balance\";\n",
      "  CAFT is \"caffeine transporter\";\n",
      "  PXT is \"paraxanthine transporter\";\n",
      "  TBT is \"theobromine transporter\";\n",
      "  TPT is \"theophylline transporter\";\n",
      "end\n",
      "\n"
     ]
    }
   ],
   "source": [
    "r = te.loads('Hepatic_caffeine_1.xml')\n",
    "print(r.getAntimony(current=False))"
   ]
  },
  {
   "cell_type": "code",
   "execution_count": 7,
   "metadata": {
    "collapsed": false
   },
   "outputs": [
    {
     "name": "stdout",
     "output_type": "stream",
     "text": [
      "['time', '[gdp]', '[utp]', '[pp]', '[gtp]', '[udp]']\n"
     ]
    }
   ],
   "source": [
    "s = r.simulate(0,100,steps=100)\n",
    "print(r.selections)"
   ]
  },
  {
   "cell_type": "code",
   "execution_count": 4,
   "metadata": {
    "collapsed": false
   },
   "outputs": [
    {
     "data": {
      "image/png": "[encoded data removed]",
      "text/plain": [
       "<matplotlib.figure.Figure at 0x7f5366ad3b50>"
      ]
     },
     "metadata": {},
     "output_type": "display_data"
    },
    {
     "data": {
      "text/plain": [
       "<module 'matplotlib.pyplot' from '/usr/local/lib/python2.7/dist-packages/matplotlib/pyplot.pyc'>"
      ]
     },
     "execution_count": 4,
     "metadata": {},
     "output_type": "execute_result"
    }
   ],
   "source": [
    "r.plot(s)"
   ]
  },
  {
   "cell_type": "code",
   "execution_count": null,
   "metadata": {
    "collapsed": true
   },
   "outputs": [],
   "source": []
  }
 ],
 "metadata": {
  "kernelspec": {
   "display_name": "Python 2",
   "language": "python",
   "name": "python2"
  },
  "language_info": {
   "codemirror_mode": {
    "name": "ipython",
    "version": 2
   },
   "file_extension": ".py",
   "mimetype": "text/x-python",
   "name": "python",
   "nbconvert_exporter": "python",
   "pygments_lexer": "ipython2",
   "version": "2.7.6"
  }
 },
 "nbformat": 4,
 "nbformat_minor": 0
}
