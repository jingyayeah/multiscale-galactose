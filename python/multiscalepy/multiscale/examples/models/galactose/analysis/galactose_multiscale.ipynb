{
 "cells": [
  {
   "cell_type": "markdown",
   "metadata": {},
   "source": [
    "Back to the main [Index](index.ipynb)"
   ]
  },
  {
   "cell_type": "markdown",
   "metadata": {},
   "source": [
    "# multiscale-galactose\n",
    "Example simulations with the full multiscale model for timing purposes."
   ]
  },
  {
   "cell_type": "code",
   "execution_count": null,
   "metadata": {
    "collapsed": false
   },
   "outputs": [
    {
     "name": "stdout",
     "output_type": "stream",
     "text": [
      "../models/galactose/Galactose_v128_Nc20_dilution.xml\n",
      "Time: 2.63174796104\n",
      "*** stiff=True, variable_step_size=False ***\n",
      "< roadrunner.Integrator() >\n",
      "  settings:\n",
      "      relative_tolerance: 0.000001\n",
      "      absolute_tolerance: 1.5205308443374601e-21\n",
      "                   stiff: true\n",
      "       maximum_bdf_order: 5\n",
      "     maximum_adams_order: 12\n",
      "       maximum_num_steps: 20000\n",
      "       maximum_time_step: 0\n",
      "       minimum_time_step: 0\n",
      "       initial_time_step: 0\n",
      "          multiple_steps: false\n",
      "      variable_step_size: false\n",
      "\n",
      "Time: 1.80528187752\n",
      "*** stiff=True, variable_step_size=True ***\n",
      "< roadrunner.Integrator() >\n",
      "  settings:\n",
      "      relative_tolerance: 0.000001\n",
      "      absolute_tolerance: 1.5205308443374601e-21\n",
      "                   stiff: true\n",
      "       maximum_bdf_order: 5\n",
      "     maximum_adams_order: 12\n",
      "       maximum_num_steps: 20000\n",
      "       maximum_time_step: 0\n",
      "       minimum_time_step: 0\n",
      "       initial_time_step: 0\n",
      "          multiple_steps: false\n",
      "      variable_step_size: true\n",
      "\n",
      "Time: 1.7042760849"
     ]
    }
   ],
   "source": [
    "import roadrunner\n",
    "from roadrunner import SelectionRecord\n",
    "\n",
    "# import multiscale.examples.testdata as testdata\n",
    "test_sbml = '../models/galactose/Galactose_v128_Nc20_dilution.xml'\n",
    "print(test_sbml)\n",
    "\n",
    "# 31s, reload 2.7s (core), \n",
    "r = time_it(roadrunner.RoadRunner, test_sbml)\n",
    "integrator = r.getIntegrator()\n",
    "\n",
    "# set integrator settings\n",
    "rel_tol = 1E-6\n",
    "abs_tol = 1E-6 * min(r.model.getCompartmentVolumes())\n",
    "integrator.setValue('absolute_tolerance', abs_tol)\n",
    "integrator.setValue('relative_tolerance', rel_tol)\n",
    "tend = 1000\n",
    "\n",
    "# working\n",
    "print('*** stiff=True, variable_step_size=False ***')\n",
    "integrator.setValue('stiff', True)\n",
    "integrator.setValue('variable_step_size', False)\n",
    "print(integrator)\n",
    "r.reset(SelectionRecord.ALL)\n",
    "time_it(r.simulate, start=0, end=tend, steps=1000)\n",
    "\n",
    "# working\n",
    "print('*** stiff=True, variable_step_size=True ***')\n",
    "integrator.setValue('stiff', True)\n",
    "integrator.setValue('variable_step_size', True)\n",
    "print(integrator)\n",
    "r.reset(SelectionRecord.ALL)\n",
    "time_it(r.simulate, start=0, end=tend, steps=1000)\n",
    "\n",
    "# uses up all the available memory & brings the server down!\n",
    "# probably maximum_num_steps: 20000 not tested\n",
    "print('*** stiff=False, variable_step_size=True ***')\n",
    "integrator.setValue('stiff', False)\n",
    "integrator.setValue('variable_step_size', True)\n",
    "print(integrator)\n",
    "r.reset(SelectionRecord.ALL)\n",
    "time_it(r.simulate, start=0, end=tend);\n",
    "\n",
    "\n",
    "\"\"\"\n",
    "# handling correctly via RuntimeError or running forever \n",
    "print('*** stiff=False, variable_step_size=False ***')\n",
    "integrator.setValue('stiff', False)\n",
    "integrator.setValue('variable_step_size', False)\n",
    "print(integrator)\n",
    "r.reset(SelectionRecord.ALL)\n",
    "time_it(r.simulate, start=0, end=tend, steps=1000)\n",
    "\"\"\""
   ]
  },
  {
   "cell_type": "code",
   "execution_count": null,
   "metadata": {
    "collapsed": false
   },
   "outputs": [],
   "source": []
  }
 ],
 "metadata": {
  "kernelspec": {
   "display_name": "Python 2",
   "language": "python",
   "name": "python2"
  },
  "language_info": {
   "codemirror_mode": {
    "name": "ipython",
    "version": 2
   },
   "file_extension": ".py",
   "mimetype": "text/x-python",
   "name": "python",
   "nbconvert_exporter": "python",
   "pygments_lexer": "ipython2",
   "version": "2.7.6"
  }
 },
 "nbformat": 4,
 "nbformat_minor": 0
}
