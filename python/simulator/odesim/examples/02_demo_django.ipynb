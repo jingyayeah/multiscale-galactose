{
 "cells": [
  {
   "cell_type": "markdown",
   "metadata": {
    "collapsed": false
   },
   "source": [
    "# RoadRunner ODE integration with django database\n",
    "\n",
    "For large-scale and large model simulations the simulation data and definition have to be stored in a persistant way. For this all definitions and simulations are managed via a Django database backend.  \n",
    "Tasks, simulations, parameters and timecourses are easily managable via the common database backend.\n",
    "`django.setup`\n",
    "http://localhost:8000/simapp/"
   ]
  },
  {
   "cell_type": "markdown",
   "metadata": {},
   "source": [
    "## Python and module versions\n",
    "\n",
    "Since there are several different versions of Python and each Python package has its own release cycle and version number (for example scipy, numpy, matplotlib, etc., which we installed above and will discuss in detail in the following lectures), it is important for the reproducibility of an IPython notebook to record the versions of all these different software packages. If this is done properly it will be easy to reproduce the environment that was used to run a notebook, but if not it can be hard to know what was used to produce the results in a notebook.\n",
    "\n",
    "To encourage the practice of recording Python and module versions in notebooks, I've created a simple IPython extension that produces a table with versions numbers of selected software components. I believe that it is a good practice to include this kind of table in every notebook you create.\n",
    "\n",
    "To install this IPython extension, run:"
   ]
  },
  {
   "cell_type": "code",
   "execution_count": 84,
   "metadata": {
    "collapsed": false
   },
   "outputs": [
    {
     "name": "stdout",
     "output_type": "stream",
     "text": [
      "Installed version_information.py. To use it, type:\n",
      "  %load_ext version_information\n"
     ]
    }
   ],
   "source": [
    "# you only need to do this once\n",
    "%install_ext http://raw.github.com/jrjohansson/version_information/master/version_information.py"
   ]
  },
  {
   "cell_type": "code",
   "execution_count": 85,
   "metadata": {
    "collapsed": false
   },
   "outputs": [
    {
     "name": "stdout",
     "output_type": "stream",
     "text": [
      "The version_information extension is already loaded. To reload it, use:\n",
      "  %reload_ext version_information\n"
     ]
    },
    {
     "data": {
      "application/json": {
       "Software versions": [
        {
         "module": "Python",
         "version": "2.7.6 64bit [GCC 4.8.2]"
        },
        {
         "module": "IPython",
         "version": "3.1.0"
        },
        {
         "module": "OS",
         "version": "Linux 3.13.0 43 generic x86_64 with Ubuntu 14.04 trusty"
        },
        {
         "module": "numpy",
         "version": "1.8.2"
        },
        {
         "module": "scipy",
         "version": "0.13.3"
        },
        {
         "module": "matplotlib",
         "version": "1.3.1"
        },
        {
         "module": "sympy",
         "version": "0.7.4.1"
        },
        {
         "module": "pandas",
         "version": "0.16.1"
        },
        {
         "module": "django",
         "version": "1.8.1"
        },
        {
         "module": "roadrunner",
         "version": "roadrunner"
        },
        {
         "module": "libsbml",
         "version": "libsbml"
        }
       ]
      },
      "text/html": [
       "<table><tr><th>Software</th><th>Version</th></tr><tr><td>Python</td><td>2.7.6 64bit [GCC 4.8.2]</td></tr><tr><td>IPython</td><td>3.1.0</td></tr><tr><td>OS</td><td>Linux 3.13.0 43 generic x86_64 with Ubuntu 14.04 trusty</td></tr><tr><td>numpy</td><td>1.8.2</td></tr><tr><td>scipy</td><td>0.13.3</td></tr><tr><td>matplotlib</td><td>1.3.1</td></tr><tr><td>sympy</td><td>0.7.4.1</td></tr><tr><td>pandas</td><td>0.16.1</td></tr><tr><td>django</td><td>1.8.1</td></tr><tr><td>roadrunner</td><td>roadrunner</td></tr><tr><td>libsbml</td><td>libsbml</td></tr><tr><td colspan='2'>Wed May 20 10:04:01 2015 UTC</td></tr></table>"
      ],
      "text/latex": [
       "\\begin{tabular}{|l|l|}\\hline\n",
       "{\\bf Software} & {\\bf Version} \\\\ \\hline\\hline\n",
       "Python & 2.7.6 64bit [GCC 4.8.2] \\\\ \\hline\n",
       "IPython & 3.1.0 \\\\ \\hline\n",
       "OS & Linux 3.13.0 43 generic x86\\_64 with Ubuntu 14.04 trusty \\\\ \\hline\n",
       "numpy & 1.8.2 \\\\ \\hline\n",
       "scipy & 0.13.3 \\\\ \\hline\n",
       "matplotlib & 1.3.1 \\\\ \\hline\n",
       "sympy & 0.7.4.1 \\\\ \\hline\n",
       "pandas & 0.16.1 \\\\ \\hline\n",
       "django & 1.8.1 \\\\ \\hline\n",
       "roadrunner & roadrunner \\\\ \\hline\n",
       "libsbml & libsbml \\\\ \\hline\n",
       "\\hline \\multicolumn{2}{|l|}{Wed May 20 10:04:01 2015 UTC} \\\\ \\hline\n",
       "\\end{tabular}\n"
      ],
      "text/plain": [
       "Software versions\n",
       "Python 2.7.6 64bit [GCC 4.8.2]\n",
       "IPython 3.1.0\n",
       "OS Linux 3.13.0 43 generic x86_64 with Ubuntu 14.04 trusty\n",
       "numpy 1.8.2\n",
       "scipy 0.13.3\n",
       "matplotlib 1.3.1\n",
       "sympy 0.7.4.1\n",
       "pandas 0.16.1\n",
       "django 1.8.1\n",
       "roadrunner roadrunner\n",
       "libsbml libsbml\n",
       "Wed May 20 10:04:01 2015 UTC"
      ]
     },
     "execution_count": 85,
     "metadata": {},
     "output_type": "execute_result"
    }
   ],
   "source": [
    "%load_ext version_information\n",
    "%version_information numpy, scipy, matplotlib, sympy, pandas, django, roadrunner, libsbml"
   ]
  },
  {
   "cell_type": "markdown",
   "metadata": {},
   "source": [
    "## Simulations based on database\n",
    "### Database setup"
   ]
  },
  {
   "cell_type": "code",
   "execution_count": 86,
   "metadata": {
    "collapsed": true
   },
   "outputs": [],
   "source": [
    "# import and setup database\n",
    "import django\n",
    "django.setup()"
   ]
  },
  {
   "cell_type": "code",
   "execution_count": 87,
   "metadata": {
    "collapsed": true
   },
   "outputs": [],
   "source": [
    "# import the database API functions and tools\n",
    "import simapp.db.api as db_api\n",
    "import odesim.db.tools as db_tools"
   ]
  },
  {
   "cell_type": "code",
   "execution_count": 88,
   "metadata": {
    "collapsed": false
   },
   "outputs": [
    {
     "name": "stdout",
     "output_type": "stream",
     "text": [
      "multiscalesite.settings\n"
     ]
    }
   ],
   "source": [
    "# display the backend used\n",
    "from django.conf import settings\n",
    "print settings.SETTINGS_MODULE"
   ]
  },
  {
   "cell_type": "markdown",
   "metadata": {},
   "source": [
    "## Create model from given filepath\n",
    "\n",
    "Load one of the demo model provided in examples and create the model in the database.  \n",
    "Model creation and interaction with models is simplified via the `db_api` module."
   ]
  },
  {
   "cell_type": "code",
   "execution_count": 89,
   "metadata": {
    "collapsed": false
   },
   "outputs": [
    {
     "name": "stdout",
     "output_type": "stream",
     "text": [
      "/home/mkoenig/multiscale-galactose/python/multiscalesite/examples/demo/Koenig_demo_v02.xml\n"
     ]
    }
   ],
   "source": [
    "# create model in database\n",
    "from examples.testdata import demo_filepath\n",
    "print(demo_filepath)\n",
    "comp_model = db_api.create_model(filepath=demo_filepath)"
   ]
  },
  {
   "cell_type": "markdown",
   "metadata": {},
   "source": [
    "The model is now in the database and can be accessed.  \n",
    "For instance get the primary database key, the stored filepath on the database server or the MD5 hash of the model which uniquely defines the model version used. Via the MD5 hash the model version is clearly specified."
   ]
  },
  {
   "cell_type": "code",
   "execution_count": 90,
   "metadata": {
    "collapsed": false
   },
   "outputs": [
    {
     "name": "stdout",
     "output_type": "stream",
     "text": [
      "pk: 55\n",
      "filepath: /home/mkoenig/multiscale-galactose-results/django/model/Koenig_demo_v02.xml\n",
      "MD5: c35ba1642554c764a65cd965aebe7afa\n"
     ]
    }
   ],
   "source": [
    "# Print some information about the model\n",
    "print 'pk:', comp_model.pk\n",
    "print 'filepath:', comp_model.filepath\n",
    "print 'MD5:', comp_model.md5"
   ]
  },
  {
   "cell_type": "markdown",
   "metadata": {},
   "source": [
    "With the model key we can lookup all the information in the database and for instance create a human readable report of the model. Open the database and navigate to the models.  \n",
    "http://localhost:8000/simapp/"
   ]
  },
  {
   "cell_type": "markdown",
   "metadata": {},
   "source": [
    "## Simulation\n",
    "\n",
    "We can now define tasks for the model. A task is a collection of simulations with identical settings. One can imagine them as a set of comparable simulations with different parameters or initial concentrations. \n",
    "\n",
    "In this example we use RoadRunner for the numerical integrations."
   ]
  },
  {
   "cell_type": "code",
   "execution_count": 91,
   "metadata": {
    "collapsed": false
   },
   "outputs": [
    {
     "name": "stdout",
     "output_type": "stream",
     "text": [
      "1.3; Compiler: gcc 4.6.3, C++ version: 1; JIT Compiler: LLVM-3.4; Date: Jan 12 2015, 16:43:38\n"
     ]
    }
   ],
   "source": [
    "# TODO: update RoadRunner to latest version (should be 1.3.2)\n",
    "import roadrunner\n",
    "print(roadrunner.getVersionStr())"
   ]
  },
  {
   "cell_type": "markdown",
   "metadata": {},
   "source": [
    "Like before we can define single simulations with the SBML model based on the filepath of the model. \n",
    "This is only using the file information from the SBMLModel but does not create actual Tasks, Simulations or Timecourses in the database. \n",
    "\n",
    "See below how for detailled example for the creation."
   ]
  },
  {
   "cell_type": "code",
   "execution_count": 92,
   "metadata": {
    "collapsed": false
   },
   "outputs": [
    {
     "name": "stdout",
     "output_type": "stream",
     "text": [
      "['time', '[A]', '[B]', '[C]', '[A_ext]', '[B_ext]', '[C_ext]']\n"
     ]
    },
    {
     "data": {
      "image/png": "[encoded data removed]",
      "text/plain": [
       "<matplotlib.figure.Figure at 0x7f9da0125d10>"
      ]
     },
     "metadata": {},
     "output_type": "display_data"
    }
   ],
   "source": [
    "%matplotlib inline\n",
    "# Uset the filepath from the database\n",
    "rr = roadrunner.RoadRunner(comp_model.filepath)\n",
    "print rr.selections\n",
    "s = rr.simulate(0,20, 100, plot=True)  # equidistant timecourse for 20 [s]"
   ]
  },
  {
   "cell_type": "markdown",
   "metadata": {},
   "source": [
    "Now we perform the same simulation via the database and store the results and plots we generate in the database.\n",
    "Create parameters and initial concentrations for simulation and setup a task for the simulation.  \n",
    "In a first step single simulations are run based on given changes to the model.\n",
    "\n",
    "### Parameters for simulation\n",
    "\n",
    "Define the parameters and pack all parameters for the simulation in the sample"
   ]
  },
  {
   "cell_type": "code",
   "execution_count": 93,
   "metadata": {
    "collapsed": false
   },
   "outputs": [
    {
     "data": {
      "text/plain": [
       "<module 'simapp.db.api' from '/home/mkoenig/multiscale-galactose/python/multiscalesite/simapp/db/api.pyc'>"
      ]
     },
     "execution_count": 93,
     "metadata": {},
     "output_type": "execute_result"
    }
   ],
   "source": [
    "reload(db_api)"
   ]
  },
  {
   "cell_type": "markdown",
   "metadata": {},
   "source": [
    "The following `ParameterType` can be set for individual simulations\n",
    "* GLOBAL_PARAMETER : set a parameter in the model\n",
    "* BOUNDARY_INIT : set a initial boundary species concentration (boundary species are constant throughout the simulation)\n",
    "* FLOATING_INIT : set a initial floating species concentration (floating species are not constant)\n",
    "* NONE_SBML_PARAMETER : parameter not influencing the simulation, but stored with the parameter set"
   ]
  },
  {
   "cell_type": "code",
   "execution_count": 94,
   "metadata": {
    "collapsed": false
   },
   "outputs": [
    {
     "data": {
      "text/plain": [
       "{1: 'GLOBAL_PARAMETER',\n",
       " 2: 'BOUNDARY_INIT',\n",
       " 3: 'FLOATING_INIT',\n",
       " 4: 'NONE_SBML_PARAMETER'}"
      ]
     },
     "execution_count": 94,
     "metadata": {},
     "output_type": "execute_result"
    }
   ],
   "source": [
    "db_api.ParameterType.labels"
   ]
  },
  {
   "cell_type": "markdown",
   "metadata": {},
   "source": [
    "A single simulation is based on a sample of parameters, i.e. a collection of parameters.\n",
    "In our example we are interested in a single simulation setting a `Vmax` value and changing an initial concentration."
   ]
  },
  {
   "cell_type": "code",
   "execution_count": 95,
   "metadata": {
    "collapsed": false
   },
   "outputs": [
    {
     "name": "stdout",
     "output_type": "stream",
     "text": [
      "<class 'odesim.dist.samples.Sample'> {'A': <A = 7.000E+00 [mM] (FLOATING_INIT)>, 'Vmax_bA': <Vmax_bA = 5.000E+00 [mole_per_s] (GLOBAL_PARAMETER)>}\n"
     ]
    }
   ],
   "source": [
    "from odesim.dist.samples import Sample, SampleParameter\n",
    "# create an empty sample (this would just run the simulation with the defined parameters and concentrations)\n",
    "s = Sample()\n",
    "\n",
    "# Change the Vmax of b1 (Vmax_b1)\n",
    "sp1 = SampleParameter('Vmax_bA', 5.0, unit='mole_per_s', parameter_type=db_api.ParameterType.GLOBAL_PARAMETER)\n",
    "# Change the initial concentration of A\n",
    "sp2 = SampleParameter('A', 7.0, unit='mM', parameter_type=db_api.ParameterType.FLOATING_INIT)\n",
    "# Add the parameters to the sample\n",
    "s.add_parameters([sp1, sp2])\n",
    "\n",
    "print type(s), s"
   ]
  },
  {
   "cell_type": "markdown",
   "metadata": {},
   "source": [
    "### Simulation method\n",
    "\n",
    "Based on this sample we now create a simulation.  \n",
    "\n",
    "Define with which method and settings the model should be simulated. In this case we want and ODE integration with given start and end time and number of steps."
   ]
  },
  {
   "cell_type": "code",
   "execution_count": 96,
   "metadata": {
    "collapsed": false
   },
   "outputs": [
    {
     "data": {
      "text/plain": [
       "{1: 'INTEGRATOR',\n",
       " 2: 'VAR_STEPS',\n",
       " 3: 'ABS_TOL',\n",
       " 4: 'REL_TOL',\n",
       " 5: 'T_START',\n",
       " 6: 'T_END',\n",
       " 7: 'STEPS',\n",
       " 8: 'STIFF',\n",
       " 9: 'MIN_TIME_STEP',\n",
       " 10: 'MAX_TIME_STEP',\n",
       " 11: 'MAX_NUM_STEP'}"
      ]
     },
     "execution_count": 96,
     "metadata": {},
     "output_type": "execute_result"
    }
   ],
   "source": [
    "db_api.SettingKey.labels"
   ]
  },
  {
   "cell_type": "code",
   "execution_count": 97,
   "metadata": {
    "collapsed": false
   },
   "outputs": [
    {
     "name": "stdout",
     "output_type": "stream",
     "text": [
      "INTEGRATOR = ROADRUNNER\n",
      "VAR_STEPS = False\n",
      "ABS_TOL = 1e-06\n",
      "REL_TOL = 1e-06\n",
      "T_START = 0.0\n",
      "T_END = 20.0\n",
      "STEPS = 100\n",
      "STIFF = True\n"
     ]
    }
   ],
   "source": [
    "# We want step based integration in the interval [0.0, 20.0]\n",
    "settings_dict = {db_api.SettingKey.VAR_STEPS: False,\\\n",
    "                 db_api.SettingKey.T_START: 0.0,\\\n",
    "                 db_api.SettingKey.T_END: 20.0, \\\n",
    "                 db_api.SettingKey.STEPS: 100}\n",
    "\n",
    "# For the tolerances, ... we use the default settings\n",
    "settings = db_api.create_settings(settings_dict)\n",
    "for setting in settings:\n",
    "    print(setting)"
   ]
  },
  {
   "cell_type": "markdown",
   "metadata": {},
   "source": [
    "With the settings we create the method for solving our computational model. In this case we are interested in an ODE solution of the network. The settings and the actual method for simulation are tightly connected."
   ]
  },
  {
   "cell_type": "code",
   "execution_count": 98,
   "metadata": {
    "collapsed": false
   },
   "outputs": [
    {
     "data": {
      "text/plain": [
       "{1: 'ODE', 2: 'FBA'}"
      ]
     },
     "execution_count": 98,
     "metadata": {},
     "output_type": "execute_result"
    }
   ],
   "source": [
    "db_api.MethodType.labels"
   ]
  },
  {
   "cell_type": "code",
   "execution_count": 99,
   "metadata": {
    "collapsed": false
   },
   "outputs": [
    {
     "data": {
      "text/plain": [
       "58"
      ]
     },
     "execution_count": 99,
     "metadata": {},
     "output_type": "execute_result"
    }
   ],
   "source": [
    "method = db_api.create_method(method_type=db_api.MethodType.ODE, settings=settings)\n",
    "method.pk"
   ]
  },
  {
   "cell_type": "markdown",
   "metadata": {},
   "source": [
    "### Task\n",
    "\n",
    "The next step is defining a task for all our simulations. We only have one simulation so far, but the concept of tasks becomes much clearer in the context of many simulations under varying simulation settings."
   ]
  },
  {
   "cell_type": "code",
   "execution_count": 100,
   "metadata": {
    "collapsed": false
   },
   "outputs": [
    {
     "data": {
      "text/plain": [
       "1"
      ]
     },
     "execution_count": 100,
     "metadata": {},
     "output_type": "execute_result"
    }
   ],
   "source": [
    "task = db_api.create_task(comp_model, method=method, info=\"Single database demo simulation.\")\n",
    "task.pk\n",
    "task.method.method_type"
   ]
  },
  {
   "cell_type": "markdown",
   "metadata": {},
   "source": [
    "### Simulations\n",
    "\n",
    "Now we create the actual simulations from the samples."
   ]
  },
  {
   "cell_type": "code",
   "execution_count": 101,
   "metadata": {
    "collapsed": false
   },
   "outputs": [
    {
     "name": "stdout",
     "output_type": "stream",
     "text": [
      "('samples:', [{'A': <A = 7.000E+00 [mM] (FLOATING_INIT)>, 'Vmax_bA': <Vmax_bA = 5.000E+00 [mole_per_s] (GLOBAL_PARAMETER)>}])\n",
      "('simulations:', [<Simulation: S408>])\n"
     ]
    }
   ],
   "source": [
    "samples = [s]\n",
    "simulations = db_tools.create_simulations_from_samples(task, samples)\n",
    "print('samples:', samples)\n",
    "print('simulations:', simulations)\n",
    "# Simulations are not unique in respect to the parameters. \n",
    "# Adding the same simulation multiple times to a task is possible."
   ]
  },
  {
   "cell_type": "code",
   "execution_count": 39,
   "metadata": {
    "collapsed": false
   },
   "outputs": [
    {
     "data": {
      "text/plain": [
       "[<Simulation: S15>, <Simulation: S16>, <Simulation: S17>, <Simulation: S28>, <Simulation: S349>, <Simulation: S350>]"
      ]
     },
     "execution_count": 39,
     "metadata": {},
     "output_type": "execute_result"
    }
   ],
   "source": [
    "# We can see the simulations from the simulation set of the task.\n",
    "task.simulations.all()"
   ]
  },
  {
   "cell_type": "code",
   "execution_count": 40,
   "metadata": {
    "collapsed": false
   },
   "outputs": [
    {
     "data": {
      "text/plain": [
       "<module 'simapp.db.api' from '/home/mkoenig/multiscale-galactose/python/multiscalesite/simapp/db/api.pyc'>"
      ]
     },
     "execution_count": 40,
     "metadata": {},
     "output_type": "execute_result"
    }
   ],
   "source": [
    "reload(db_api)"
   ]
  },
  {
   "cell_type": "markdown",
   "metadata": {},
   "source": [
    "### Solve the ODE system\n",
    "\n",
    "Now we are running the solver on the defined problems."
   ]
  },
  {
   "cell_type": "code",
   "execution_count": 41,
   "metadata": {
    "collapsed": false
   },
   "outputs": [
    {
     "data": {
      "text/plain": [
       "<module 'odesim.simulate.solve' from '/home/mkoenig/multiscale-galactose/python/simulator/odesim/simulate/solve.pyc'>"
      ]
     },
     "execution_count": 41,
     "metadata": {},
     "output_type": "execute_result"
    }
   ],
   "source": [
    "from odesim.simulate import solve\n",
    "reload(solve)"
   ]
  },
  {
   "cell_type": "code",
   "execution_count": 42,
   "metadata": {
    "collapsed": false
   },
   "outputs": [
    {
     "name": "stdout",
     "output_type": "stream",
     "text": [
      "* Start integration *\n",
      "('Simulation: ', [<Simulation: S350>])\n",
      "Loading : /home/mkoenig/multiscale-galactose-results/django/model/Koenig_demo_v02.xml\n",
      "SBML load time : 0.038743019104\n",
      "/home/mkoenig/multiscale-galactose-results/tmp_sim/T43/Koenig_demo_v02_S350_roadrunner.h5\n",
      "HDF5: 0.0276420116425\n",
      "Time: [0.047|0.008 |17.55]\n"
     ]
    }
   ],
   "source": [
    "# Run the actual simulations    \n",
    "print('* Start integration *')\n",
    "print('Simulation: ', simulations)\n",
    "\n",
    "solve.run_simulations(simulations, task)"
   ]
  },
  {
   "cell_type": "code",
   "execution_count": 43,
   "metadata": {
    "collapsed": false
   },
   "outputs": [
    {
     "data": {
      "text/plain": [
       "<module 'simapp.db.api' from '/home/mkoenig/multiscale-galactose/python/multiscalesite/simapp/db/api.pyc'>"
      ]
     },
     "execution_count": 43,
     "metadata": {},
     "output_type": "execute_result"
    }
   ],
   "source": [
    "# Load the HDF5 file results\n",
    "from simapp.models import Result\n",
    "reload(db_api)"
   ]
  },
  {
   "cell_type": "code",
   "execution_count": 70,
   "metadata": {
    "collapsed": false
   },
   "outputs": [
    {
     "name": "stdout",
     "output_type": "stream",
     "text": [
      "[<Result: R125 (hdf5)>]\n"
     ]
    },
    {
     "data": {
      "text/plain": [
       "'/home/mkoenig/multiscale-galactose-results/django/result/T43/Koenig_demo_v02_S350_roadrunner.h5'"
      ]
     },
     "execution_count": 70,
     "metadata": {},
     "output_type": "execute_result"
    }
   ],
   "source": [
    "# Get the first simulation result \n",
    "simulations[0].pk\n",
    "results = Result.objects.filter(simulation=simulations[0], result_type=db_api.ResultType.HDF5)\n",
    "print results\n",
    "r1 = results[0]\n",
    "h5_filepath = str(r1.file.path)\n",
    "h5_filepath"
   ]
  },
  {
   "cell_type": "code",
   "execution_count": 71,
   "metadata": {
    "collapsed": false
   },
   "outputs": [],
   "source": [
    "# Load the HDF5 file\n",
    "from odesim.simulate import solve_io\n",
    "reload(solve_io)\n",
    "data, header = solve_io.load_hdf5(h5_filepath)"
   ]
  },
  {
   "cell_type": "code",
   "execution_count": 72,
   "metadata": {
    "collapsed": false
   },
   "outputs": [
    {
     "name": "stdout",
     "output_type": "stream",
     "text": [
      "           time       [A]           [B]           [C]    [A_ext]  \\\n",
      "0  0.000000e+00  7.000000  0.000000e+00  0.000000e+00  10.000000   \n",
      "1  2.999259e-09  7.000000  2.099482e-08  1.049741e-08  10.000000   \n",
      "2  2.999559e-05  6.999710  2.099347e-04  1.049766e-04   9.999975   \n",
      "3  3.299215e-04  6.996812  2.306783e-03  1.154103e-03   9.999725   \n",
      "4  6.298475e-04  6.993916  4.400598e-03  2.202517e-03   9.999474   \n",
      "\n",
      "        [B_ext]       [C_ext]  \n",
      "0  0.000000e+00  0.000000e+00  \n",
      "1  2.518756e-16  2.098963e-17  \n",
      "2  2.517235e-08  2.098897e-09  \n",
      "3  1.944023e-06  1.628567e-07  \n",
      "4  6.067680e-06  5.097557e-07  \n",
      "141\n"
     ]
    }
   ],
   "source": [
    "# Visualize the results\n",
    "from pandas import DataFrame\n",
    "df = DataFrame(data, columns=header)\n",
    "print df.head()\n",
    "print len(df)\n",
    "# TODO: fix bug - var steps not used"
   ]
  },
  {
   "cell_type": "code",
   "execution_count": 79,
   "metadata": {
    "collapsed": false
   },
   "outputs": [
    {
     "data": {
      "image/png": "[encoded data removed]",
      "text/plain": [
       "<matplotlib.figure.Figure at 0x7f9da0135790>"
      ]
     },
     "metadata": {},
     "output_type": "display_data"
    }
   ],
   "source": [
    "import matplotlib.pylab as plt\n",
    "time = df['time']\n",
    "for k in xrange(1, len(df.columns)):\n",
    "    name = df.columns[k]\n",
    "    plt.plot(df['time'], df[name], '-o', label=name)\n",
    "plt.legend()\n",
    "plt.xlabel('time')\n",
    "plt.ylabel('concentration [mM]')\n",
    "savepath = '/home/mkoenig/multiscale-galactose-results/django/result/T43/Koenig_demo_v02_S350_roadrunner.png'\n",
    "plt.savefig(savepath)"
   ]
  },
  {
   "cell_type": "code",
   "execution_count": 78,
   "metadata": {
    "collapsed": false
   },
   "outputs": [
    {
     "data": {
      "text/plain": [
       "<matplotlib.figure.Figure at 0x7f9da0162d90>"
      ]
     },
     "metadata": {},
     "output_type": "display_data"
    }
   ],
   "source": [
    "# create a plotfile\n",
    "simulations[0]\n"
   ]
  },
  {
   "cell_type": "code",
   "execution_count": 83,
   "metadata": {
    "collapsed": false
   },
   "outputs": [],
   "source": [
    "# Store the plot as result\n",
    "reload(solve_io)\n",
    "solve_io.store_result_db(simulation=simulations[0], filepath=savepath, result_type=db_api.ResultType.PNG)"
   ]
  },
  {
   "cell_type": "markdown",
   "metadata": {},
   "source": [
    "## Distribution of parameters\n",
    "Define distributions of parameters and sample from them.\n",
    "\n",
    "Perform the same workflow for a whole set of simulations. \n",
    "Create visualizations for the individual results as well as for the task.\n",
    "Handle via hash -> if simulations change, the plots have to be recalculated."
   ]
  },
  {
   "cell_type": "code",
   "execution_count": 15,
   "metadata": {
    "collapsed": false
   },
   "outputs": [
    {
     "name": "stdout",
     "output_type": "stream",
     "text": [
      "['time', '[A_in]', '[B_in]', '[C_in]', '[A_out]', '[B_out]', '[C_out]']\n"
     ]
    },
    {
     "data": {
      "image/png": "[encoded data removed]",
      "text/plain": [
       "<matplotlib.figure.Figure at 0x7fa0facfd190>"
      ]
     },
     "metadata": {},
     "output_type": "display_data"
    }
   ],
   "source": [
    "# TODO\n",
    "%matplotlib inline\n",
    "rr = roadrunner.RoadRunner('Koenig_demo.xml')\n",
    "print rr.selections\n",
    "s = rr.simulate(0,20, 100, plot=True)  # equidistant timecourse for 20 [s]"
   ]
  },
  {
   "cell_type": "code",
   "execution_count": null,
   "metadata": {
    "collapsed": true,
    "scrolled": false
   },
   "outputs": [],
   "source": [
    "# TODO: create simulations for parameter distributions"
   ]
  },
  {
   "cell_type": "markdown",
   "metadata": {},
   "source": [
    "## HDF5 file storage\n",
    "For large scale simulations the data has to be stored efficiently in files (HDF5).\n",
    "Binary file format."
   ]
  },
  {
   "cell_type": "code",
   "execution_count": null,
   "metadata": {
    "collapsed": true
   },
   "outputs": [],
   "source": []
  }
 ],
 "metadata": {
  "kernelspec": {
   "display_name": "Python 2",
   "language": "python",
   "name": "python2"
  },
  "language_info": {
   "codemirror_mode": {
    "name": "ipython",
    "version": 2
   },
   "file_extension": ".py",
   "mimetype": "text/x-python",
   "name": "python",
   "nbconvert_exporter": "python",
   "pygments_lexer": "ipython2",
   "version": "2.7.6"
  }
 },
 "nbformat": 4,
 "nbformat_minor": 0
}
