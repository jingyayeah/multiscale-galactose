{
 "cells": [
  {
   "cell_type": "markdown",
   "metadata": {},
   "source": [
    "# Variability analysis\n",
    "\n",
    "An important tool in analyzing the behavior of computational models is analyzing the sensitivity of results to parameter changes. Metabolic Control Analysis (MCA) provides tools for analyzing the effects of such changes on the steady state of the model."
   ]
  },
  {
   "cell_type": "code",
   "execution_count": 24,
   "metadata": {
    "collapsed": true
   },
   "outputs": [],
   "source": [
    "import roadrunner\n",
    "roadrunner.Config.setValue(roadrunner.Config.LOADSBMLOPTIONS_CONSERVED_MOIETIES, True)\n",
    "\n",
    "import numpy as np\n",
    "import pandas as pd\n",
    "from pandas import DataFrame\n",
    "import matplotlib.pylab as plt"
   ]
  },
  {
   "cell_type": "markdown",
   "metadata": {},
   "source": [
    "We are interested in the effects of parameters for a given simulation scenario. The analysed scenario is simple simulation to steady state."
   ]
  },
  {
   "cell_type": "code",
   "execution_count": 25,
   "metadata": {
    "collapsed": false
   },
   "outputs": [
    {
     "data": {
      "image/png": "[encoded data removed]",
      "text/plain": [
       "<matplotlib.figure.Figure at 0x7f9ed4cd4d90>"
      ]
     },
     "metadata": {},
     "output_type": "display_data"
    }
   ],
   "source": [
    "from examples.testdata import demo_filepath\n",
    "# demo_filepath = \"Koenig_demo_v02.xml\"\n",
    "\n",
    "# equidistant timecourse for 20 [s]\n",
    "%matplotlib inline\n",
    "rr = roadrunner.RoadRunner(demo_filepath)\n",
    "s = rr.simulate(0,40, 100, plot=True)  "
   ]
  },
  {
   "cell_type": "code",
   "execution_count": 44,
   "metadata": {
    "collapsed": false
   },
   "outputs": [
    {
     "name": "stdout",
     "output_type": "stream",
     "text": [
      "['time', '[A]', '[C]', '[B]', '[C_ext]', '[B_ext]', '[A_ext]']\n",
      "[ 0.59210526  1.11842105  3.28947368  1.11842105  3.28947368  0.59210526]\n"
     ]
    }
   ],
   "source": [
    "# Steady States\n",
    "# Performs a steady state calculation (evolves the system to a steady\n",
    "#        state), then calculates and returns the set of values specified by\n",
    "#        the steady state selections.\n",
    "print rr.selections\n",
    "print rr.getSteadyStateValues()\n",
    "\n"
   ]
  },
  {
   "cell_type": "markdown",
   "metadata": {},
   "source": [
    "## Metabolic Control Analysis (MCA)\n",
    "\n",
    "Metabolic control analysis (MCA) is a mathematical framework for describing metabolic, signaling, and genetic pathways. MCA quantifies how variables, such as fluxes and species concentrations, depend on network parameters. In particular it is able to describe how network dependent properties, called control coefficients, depend on local properties called elasticities [http://en.wikipedia.org/wiki/Metabolic_control_analysis].\n",
    "\n",
    "### Control Coefficients\n",
    "\n",
    "A control coefficient measures the relative steady state change in a system variable, e.g. pathway flux (J) or metabolite concentration (S), in response to a relative change in a parameter, e.g. enzyme activity or the steady-state rate ( v_i ) of step i. The two main control coefficients are the flux and concentration control coefficients. Flux control coefficients are defined by:\n",
    "\n",
    "$$C^J_{v_i} = \\left( \\frac{dJ}{dp} \\frac{p}{J} \\right) \\bigg/ \\left( \\frac{\\partial v_i}{\\partial p}\\frac{p}{v_i} \\right) = \\frac{d\\ln J}{d\\ln v_i}$$"
   ]
  },
  {
   "cell_type": "code",
   "execution_count": 36,
   "metadata": {
    "collapsed": false
   },
   "outputs": [
    {
     "data": {
      "text/plain": [
       "nan"
      ]
     },
     "execution_count": 36,
     "metadata": {},
     "output_type": "execute_result"
    }
   ],
   "source": [
    "# Scaled control coefficient with respect to a global parameter.\n",
    "rr.getCC('bA', 'Vmax_bA')"
   ]
  },
  {
   "cell_type": "code",
   "execution_count": 37,
   "metadata": {
    "collapsed": false
   },
   "outputs": [
    {
     "name": "stdout",
     "output_type": "stream",
     "text": [
      "** Scaled Flux Control Coefficients **\n",
      "              bA            bB            bC        v1        v2        v3  \\\n",
      "bA  0.000000e+00 -5.901960e-18 -1.759873e-17  0.000010 -0.000004  0.000007   \n",
      "bB  0.000000e+00  0.000000e+00  6.019115e-17 -0.000016 -0.000009  0.000017   \n",
      "bC -2.407586e-16  2.559752e-17  0.000000e+00 -0.000004  0.000000  0.000000   \n",
      "v1  7.592483e-13 -1.635138e-13 -1.311618e-13  0.263158 -0.473684  0.894737   \n",
      "v2  7.592483e-13 -1.635138e-13 -1.311618e-13 -0.292398  0.776316  0.422515   \n",
      "v3  7.592483e-13 -1.635138e-13 -1.311618e-13 -0.030960  0.188080  0.644737   \n",
      "v4  7.592483e-13 -1.635138e-13 -1.311618e-13  0.263158 -0.473684  0.894737   \n",
      "\n",
      "          v4  \n",
      "bA -0.000010  \n",
      "bB  0.000032  \n",
      "bC -0.000029  \n",
      "v1  0.315789  \n",
      "v2  0.093567  \n",
      "v3  0.198142  \n",
      "v4  0.315789  \n"
     ]
    }
   ],
   "source": [
    "# The n by n matrix of scaled flux control coefficients \n",
    "# where n is the number of reactions.\n",
    "print('** Scaled Flux Control Coefficients **')\n",
    "C_J = DataFrame(rr.getScaledFluxControlCoefficientMatrix(), \\\n",
    "                index=rr.model.getReactionIds(), \\\n",
    "                columns=rr.model.getReactionIds())\n",
    "print(C_J)"
   ]
  },
  {
   "cell_type": "markdown",
   "metadata": {},
   "source": [
    "and concentration control coefficients by:\n",
    "\n",
    "$$C^S_{v_i} = \\left( \\frac{dS}{dp} \\frac{p}{S} \\right) \\bigg/ \\left( \\frac{\\partial v_i}{\\partial p} \\frac{p}{v_i} \\right) = \\frac{d\\ln S}{d\\ln v_i}$$"
   ]
  },
  {
   "cell_type": "code",
   "execution_count": 38,
   "metadata": {
    "collapsed": false
   },
   "outputs": [
    {
     "name": "stdout",
     "output_type": "stream",
     "text": [
      "** Scaled Concentration Control Coefficients **\n",
      "                 bA            bB            bC        v1        v2        v3  \\\n",
      "A      9.468591e-10 -2.072045e-10 -1.563858e-10 -0.292398 -0.223684  0.422515   \n",
      "C      9.468591e-10 -2.072045e-10 -1.563858e-10 -0.030960  0.188080 -0.355263   \n",
      "B      9.468591e-10 -2.072045e-10 -1.563858e-10  0.063158 -0.023684  0.044737   \n",
      "C_ext  9.468591e-10 -2.072045e-10  1.241887e-09 -0.030960  0.188080 -0.355263   \n",
      "B_ext  9.468591e-10  4.226973e-10 -1.563858e-10  0.063158 -0.023684  0.044737   \n",
      "A_ext -1.504454e-08 -2.072045e-10 -1.563858e-10 -0.292398 -0.223684  0.422515   \n",
      "\n",
      "             v4  \n",
      "A      0.093567  \n",
      "C      0.198142  \n",
      "B     -0.084211  \n",
      "C_ext  0.198142  \n",
      "B_ext -0.084211  \n",
      "A_ext  0.093567  \n"
     ]
    }
   ],
   "source": [
    "# The m by n matrix of scaled concentration control coefficients where m is the number\n",
    "# of floating species and n the number of reactions.\n",
    "print('** Scaled Concentration Control Coefficients **')\n",
    "C_S = DataFrame(rr.getScaledConcentrationControlCoefficientMatrix(), \\\n",
    "                index=rr.model.getFloatingSpeciesIds(), \\\n",
    "                columns=rr.model.getReactionIds())\n",
    "print(C_S)"
   ]
  },
  {
   "cell_type": "markdown",
   "metadata": {},
   "source": [
    "### Summation Theorems\n",
    "\n",
    "The flux control summation theorem was discovered independently by the Kacser/Burns group and the Heinrich/Rapoport group in the early 1970s and late 1960s. The flux control summation theorem implies that metabolic fluxes are systemic properties and that their control is shared by all reactions in the system. When a single reaction changes its control of the flux this is compensated by changes in the control of the same flux by all other reactions.\n",
    "\n",
    "$$\\sum_i C^J_{v_i} = 1$$\n",
    "\n",
    "$$\\sum_i C^S_{v_i} = 0$$"
   ]
  },
  {
   "cell_type": "code",
   "execution_count": 39,
   "metadata": {
    "collapsed": false
   },
   "outputs": [
    {
     "name": "stdout",
     "output_type": "stream",
     "text": [
      "bA    0.000003\n",
      "bB    0.000024\n",
      "bC   -0.000033\n",
      "v1    1.000000\n",
      "v2    1.000000\n",
      "v3    1.000000\n",
      "v4    1.000000\n",
      "dtype: float64\n"
     ]
    },
    {
     "data": {
      "text/plain": [
       "bA    False\n",
       "bB    False\n",
       "bC    False\n",
       "v1     True\n",
       "v2     True\n",
       "v3     True\n",
       "v4     True\n",
       "dtype: bool"
      ]
     },
     "execution_count": 39,
     "metadata": {},
     "output_type": "execute_result"
    }
   ],
   "source": [
    "# Flux control coefficients have to sum to 1\n",
    "print(np.sum(C_J, axis=1))\n",
    "abs(np.sum(C_J, axis=1)-1) < 1E-6\n",
    "# ! The three transporters do not sum up to 1"
   ]
  },
  {
   "cell_type": "code",
   "execution_count": 40,
   "metadata": {
    "collapsed": false
   },
   "outputs": [
    {
     "name": "stdout",
     "output_type": "stream",
     "text": [
      "A        5.832686e-10\n",
      "C        5.832687e-10\n",
      "B        5.832688e-10\n",
      "C_ext    1.981542e-09\n",
      "B_ext    1.213171e-09\n",
      "A_ext   -1.540813e-08\n",
      "dtype: float64\n"
     ]
    },
    {
     "data": {
      "text/plain": [
       "A        True\n",
       "C        True\n",
       "B        True\n",
       "C_ext    True\n",
       "B_ext    True\n",
       "A_ext    True\n",
       "dtype: bool"
      ]
     },
     "execution_count": 40,
     "metadata": {},
     "output_type": "execute_result"
    }
   ],
   "source": [
    "# Concentration control coefficients have to sum to 0\n",
    "print(np.sum(C_S, axis=1))\n",
    "np.sum(C_S, axis=1) < 1E-6"
   ]
  },
  {
   "cell_type": "markdown",
   "metadata": {},
   "source": [
    "### Elasticity coefficients\n",
    "Retrieve a single elasticity coefficient with respect to a global parameter.\n",
    "\n",
    "        For example::\n",
    "\n",
    "          x = rr.getEE ('J1', 'Vmax')"
   ]
  },
  {
   "cell_type": "code",
   "execution_count": 41,
   "metadata": {
    "collapsed": false
   },
   "outputs": [
    {
     "name": "stdout",
     "output_type": "stream",
     "text": [
      "['scale_f', 'Vmax_bA', 'Km_A', 'Vmax_bB', 'Km_B', 'Vmax_bC', 'Km_C', 'Vmax_v1', 'Keq_v1', 'Vmax_v2', 'Vmax_v3', 'Vmax_v4', 'Keq_v4', 'cm_0_f99cf5ae_fec6_11e4_bab5_c48508349cca']\n",
      "1.0\n",
      "1.24996835523\n"
     ]
    }
   ],
   "source": [
    "print(rr.model.getGlobalParameterIds())\n",
    "print rr.getEE('v1', 'Vmax_v1')\n",
    "print rr.getEE('v1', 'Keq_v1')"
   ]
  },
  {
   "cell_type": "code",
   "execution_count": null,
   "metadata": {
    "collapsed": true
   },
   "outputs": [],
   "source": []
  }
 ],
 "metadata": {
  "kernelspec": {
   "display_name": "Python 2",
   "language": "python",
   "name": "python2"
  },
  "language_info": {
   "codemirror_mode": {
    "name": "ipython",
    "version": 2
   },
   "file_extension": ".py",
   "mimetype": "text/x-python",
   "name": "python",
   "nbconvert_exporter": "python",
   "pygments_lexer": "ipython2",
   "version": "2.7.6"
  }
 },
 "nbformat": 4,
 "nbformat_minor": 0
}
