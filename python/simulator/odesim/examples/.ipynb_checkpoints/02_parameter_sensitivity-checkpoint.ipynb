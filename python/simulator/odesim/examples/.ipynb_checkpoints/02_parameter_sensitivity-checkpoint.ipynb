{
 "cells": [
  {
   "cell_type": "markdown",
   "metadata": {},
   "source": [
    "# Variability analysis"
   ]
  },
  {
   "cell_type": "code",
   "execution_count": 1,
   "metadata": {
    "collapsed": true
   },
   "outputs": [],
   "source": [
    "# import and setup database\n",
    "import django\n",
    "django.setup()\n",
    "# import the database API functions and tools\n",
    "import simapp.db.api as db_api\n",
    "import odesim.db.tools as db_tools"
   ]
  },
  {
   "cell_type": "code",
   "execution_count": 2,
   "metadata": {
    "collapsed": false
   },
   "outputs": [
    {
     "name": "stdout",
     "output_type": "stream",
     "text": [
      "/home/mkoenig/multiscale-galactose/python/multiscalesite/examples/demo/Koenig_demo_v02.xml\n"
     ]
    }
   ],
   "source": [
    "# create model in database\n",
    "from examples.testdata import demo_filepath\n",
    "print(demo_filepath)\n",
    "comp_model = db_api.create_model(filepath=demo_filepath)"
   ]
  },
  {
   "cell_type": "code",
   "execution_count": 3,
   "metadata": {
    "collapsed": false
   },
   "outputs": [
    {
     "data": {
      "text/plain": [
       "<CompModel: <SBML: Koenig_demo_v02>>"
      ]
     },
     "execution_count": 3,
     "metadata": {},
     "output_type": "execute_result"
    }
   ],
   "source": [
    "comp_model"
   ]
  },
  {
   "cell_type": "code",
   "execution_count": 4,
   "metadata": {
    "collapsed": true
   },
   "outputs": [],
   "source": [
    "# TODO: update RoadRunner to latest version (should be 1.3.2)\n",
    "import roadrunner"
   ]
  },
  {
   "cell_type": "code",
   "execution_count": 5,
   "metadata": {
    "collapsed": false
   },
   "outputs": [
    {
     "name": "stdout",
     "output_type": "stream",
     "text": [
      "['time', '[A]', '[B]', '[C]', '[A_ext]', '[B_ext]', '[C_ext]']\n"
     ]
    },
    {
     "data": {
      "image/png": "[encoded data removed]",
      "text/plain": [
       "<matplotlib.figure.Figure at 0x7f1245076850>"
      ]
     },
     "metadata": {},
     "output_type": "display_data"
    }
   ],
   "source": [
    "%matplotlib inline\n",
    "# Uset the filepath from the database\n",
    "rr = roadrunner.RoadRunner(comp_model.filepath)\n",
    "print rr.selections\n",
    "s = rr.simulate(0,20, 100, plot=True)  # equidistant timecourse for 20 [s]"
   ]
  },
  {
   "cell_type": "markdown",
   "metadata": {},
   "source": [
    "## Parameter variability analysis\n",
    "\n",
    "Vary all single parameters in the model between [0.95-1.05] the original value."
   ]
  },
  {
   "cell_type": "code",
   "execution_count": 14,
   "metadata": {
    "collapsed": false
   },
   "outputs": [
    {
     "data": {
      "text/plain": [
       "['scale_f',\n",
       " 'Vmax_bA',\n",
       " 'Km_A',\n",
       " 'Vmax_bB',\n",
       " 'Km_B',\n",
       " 'Vmax_bC',\n",
       " 'Km_C',\n",
       " 'Vmax_v1',\n",
       " 'Keq_v1',\n",
       " 'Vmax_v2',\n",
       " 'Vmax_v3',\n",
       " 'Vmax_v4',\n",
       " 'Keq_v4']"
      ]
     },
     "execution_count": 14,
     "metadata": {},
     "output_type": "execute_result"
    }
   ],
   "source": [
    "# These are the parameters to vary\n",
    "parameter_ids = rr.model.getGlobalParameterIds()\n",
    "parameter_ids"
   ]
  },
  {
   "cell_type": "code",
   "execution_count": 21,
   "metadata": {
    "collapsed": false
   },
   "outputs": [
    {
     "data": {
      "text/plain": [
       "{'Keq_v1': 'dimensionless',\n",
       " 'Keq_v4': 'dimensionless',\n",
       " 'Km_A': 'mM',\n",
       " 'Km_B': 'mM',\n",
       " 'Km_C': 'mM',\n",
       " 'Vmax_bA': 'mole_per_s',\n",
       " 'Vmax_bB': 'mole_per_s',\n",
       " 'Vmax_bC': 'mole_per_s',\n",
       " 'Vmax_v1': 'mole_per_s',\n",
       " 'Vmax_v2': 'mole_per_s',\n",
       " 'Vmax_v3': 'mole_per_s',\n",
       " 'Vmax_v4': 'mole_per_s',\n",
       " 'scale_f': 'dimensionless'}"
      ]
     },
     "execution_count": 21,
     "metadata": {},
     "output_type": "execute_result"
    }
   ],
   "source": [
    "# get units from the sbml\n",
    "import libsbml\n",
    "doc = libsbml.readSBML(demo_filepath)\n",
    "sbml_model = doc.getModel()\n",
    "units = {}\n",
    "for pid in parameter_ids: \n",
    "    p = sbml_model.getParameter(pid)\n",
    "    unit = p.getUnits()\n",
    "    units[pid] = unit\n",
    "units"
   ]
  },
  {
   "cell_type": "code",
   "execution_count": 24,
   "metadata": {
    "collapsed": false
   },
   "outputs": [
    {
     "data": {
      "text/plain": [
       "{'Keq_v1': 10.0,\n",
       " 'Keq_v4': 2.0,\n",
       " 'Km_A': 1.0,\n",
       " 'Km_B': 0.5,\n",
       " 'Km_C': 3.0,\n",
       " 'Vmax_bA': 5.0,\n",
       " 'Vmax_bB': 2.0,\n",
       " 'Vmax_bC': 2.0,\n",
       " 'Vmax_v1': 1.0,\n",
       " 'Vmax_v2': 0.5,\n",
       " 'Vmax_v3': 0.5,\n",
       " 'Vmax_v4': 0.5,\n",
       " 'scale_f': 1e-06}"
      ]
     },
     "execution_count": 24,
     "metadata": {},
     "output_type": "execute_result"
    }
   ],
   "source": [
    "# get the original values for all parameters\n",
    "values = {pid: rr[pid] for pid in parameter_ids}\n",
    "values"
   ]
  },
  {
   "cell_type": "code",
   "execution_count": 37,
   "metadata": {
    "collapsed": false
   },
   "outputs": [
    {
     "data": {
      "text/plain": [
       "[{'scale_f': <scale_f = 9.500E-07 [dimensionless] (GLOBAL_PARAMETER)>},\n",
       " {'scale_f': <scale_f = 1.050E-06 [dimensionless] (GLOBAL_PARAMETER)>},\n",
       " {'Vmax_bA': <Vmax_bA = 4.750E+00 [mole_per_s] (GLOBAL_PARAMETER)>},\n",
       " {'Vmax_bA': <Vmax_bA = 5.250E+00 [mole_per_s] (GLOBAL_PARAMETER)>},\n",
       " {'Km_A': <Km_A = 9.500E-01 [mM] (GLOBAL_PARAMETER)>},\n",
       " {'Km_A': <Km_A = 1.050E+00 [mM] (GLOBAL_PARAMETER)>},\n",
       " {'Vmax_bB': <Vmax_bB = 1.900E+00 [mole_per_s] (GLOBAL_PARAMETER)>},\n",
       " {'Vmax_bB': <Vmax_bB = 2.100E+00 [mole_per_s] (GLOBAL_PARAMETER)>},\n",
       " {'Km_B': <Km_B = 4.750E-01 [mM] (GLOBAL_PARAMETER)>},\n",
       " {'Km_B': <Km_B = 5.250E-01 [mM] (GLOBAL_PARAMETER)>},\n",
       " {'Vmax_bC': <Vmax_bC = 1.900E+00 [mole_per_s] (GLOBAL_PARAMETER)>},\n",
       " {'Vmax_bC': <Vmax_bC = 2.100E+00 [mole_per_s] (GLOBAL_PARAMETER)>},\n",
       " {'Km_C': <Km_C = 2.850E+00 [mM] (GLOBAL_PARAMETER)>},\n",
       " {'Km_C': <Km_C = 3.150E+00 [mM] (GLOBAL_PARAMETER)>},\n",
       " {'Vmax_v1': <Vmax_v1 = 9.500E-01 [mole_per_s] (GLOBAL_PARAMETER)>},\n",
       " {'Vmax_v1': <Vmax_v1 = 1.050E+00 [mole_per_s] (GLOBAL_PARAMETER)>},\n",
       " {'Keq_v1': <Keq_v1 = 9.500E+00 [dimensionless] (GLOBAL_PARAMETER)>},\n",
       " {'Keq_v1': <Keq_v1 = 1.050E+01 [dimensionless] (GLOBAL_PARAMETER)>},\n",
       " {'Vmax_v2': <Vmax_v2 = 4.750E-01 [mole_per_s] (GLOBAL_PARAMETER)>},\n",
       " {'Vmax_v2': <Vmax_v2 = 5.250E-01 [mole_per_s] (GLOBAL_PARAMETER)>},\n",
       " {'Vmax_v3': <Vmax_v3 = 4.750E-01 [mole_per_s] (GLOBAL_PARAMETER)>},\n",
       " {'Vmax_v3': <Vmax_v3 = 5.250E-01 [mole_per_s] (GLOBAL_PARAMETER)>},\n",
       " {'Vmax_v4': <Vmax_v4 = 4.750E-01 [mole_per_s] (GLOBAL_PARAMETER)>},\n",
       " {'Vmax_v4': <Vmax_v4 = 5.250E-01 [mole_per_s] (GLOBAL_PARAMETER)>},\n",
       " {'Keq_v4': <Keq_v4 = 1.900E+00 [dimensionless] (GLOBAL_PARAMETER)>},\n",
       " {'Keq_v4': <Keq_v4 = 2.100E+00 [dimensionless] (GLOBAL_PARAMETER)>}]"
      ]
     },
     "execution_count": 37,
     "metadata": {},
     "output_type": "execute_result"
    }
   ],
   "source": [
    "# now we can setup the single variations\n",
    "from odesim.dist.samples import Sample, SampleParameter\n",
    "factors = [0.95, 1.05]\n",
    "samples = []\n",
    "for pid in parameter_ids:\n",
    "    for f in factors:\n",
    "        # create an empty sample\n",
    "        s = Sample()\n",
    "        # Set the parameters to the values\n",
    "        sp = SampleParameter(pid, f * rr[pid], unit=units[pid], \\\n",
    "                             parameter_type=db_api.ParameterType.GLOBAL_PARAMETER)\n",
    "        s.add_parameter(sp)\n",
    "        samples.append(s)\n",
    "\n",
    "samples"
   ]
  },
  {
   "cell_type": "code",
   "execution_count": 38,
   "metadata": {
    "collapsed": false
   },
   "outputs": [
    {
     "name": "stdout",
     "output_type": "stream",
     "text": [
      "INTEGRATOR = ROADRUNNER\n",
      "VAR_STEPS = False\n",
      "ABS_TOL = 1e-06\n",
      "REL_TOL = 1e-06\n",
      "T_START = 0.0\n",
      "T_END = 20.0\n",
      "STEPS = 100\n",
      "STIFF = True\n"
     ]
    }
   ],
   "source": [
    "# We want step based integration in the interval [0.0, 20.0]\n",
    "settings_dict = {db_api.SettingKey.VAR_STEPS: False,\\\n",
    "                 db_api.SettingKey.T_START: 0.0,\\\n",
    "                 db_api.SettingKey.T_END: 20.0, \\\n",
    "                 db_api.SettingKey.STEPS: 100}\n",
    "\n",
    "# For the tolerances, ... we use the default settings\n",
    "settings = db_api.create_settings(settings_dict)\n",
    "for setting in settings:\n",
    "    print(setting)"
   ]
  },
  {
   "cell_type": "code",
   "execution_count": 39,
   "metadata": {
    "collapsed": true
   },
   "outputs": [],
   "source": [
    "method = db_api.create_method(method_type=db_api.MethodType.ODE, settings=settings)"
   ]
  },
  {
   "cell_type": "code",
   "execution_count": 40,
   "metadata": {
    "collapsed": true
   },
   "outputs": [],
   "source": [
    "task = db_api.create_task(comp_model, method=method, info=\"Single parameter variation [0.95-1.05].\")"
   ]
  },
  {
   "cell_type": "code",
   "execution_count": 41,
   "metadata": {
    "collapsed": false
   },
   "outputs": [],
   "source": [
    "# only once -> otherwise the simulations are added multiple times\n",
    "simulations = db_tools.create_simulations_from_samples(task, samples)"
   ]
  },
  {
   "cell_type": "code",
   "execution_count": 42,
   "metadata": {
    "collapsed": false
   },
   "outputs": [
    {
     "data": {
      "text/plain": [
       "[<Simulation: S410>,\n",
       " <Simulation: S411>,\n",
       " <Simulation: S412>,\n",
       " <Simulation: S413>,\n",
       " <Simulation: S414>,\n",
       " <Simulation: S415>,\n",
       " <Simulation: S416>,\n",
       " <Simulation: S417>,\n",
       " <Simulation: S418>,\n",
       " <Simulation: S419>,\n",
       " <Simulation: S420>,\n",
       " <Simulation: S421>,\n",
       " <Simulation: S422>,\n",
       " <Simulation: S423>,\n",
       " <Simulation: S424>,\n",
       " <Simulation: S425>,\n",
       " <Simulation: S426>,\n",
       " <Simulation: S427>,\n",
       " <Simulation: S428>,\n",
       " <Simulation: S429>,\n",
       " <Simulation: S430>,\n",
       " <Simulation: S431>,\n",
       " <Simulation: S432>,\n",
       " <Simulation: S433>,\n",
       " <Simulation: S434>,\n",
       " <Simulation: S435>]"
      ]
     },
     "execution_count": 42,
     "metadata": {},
     "output_type": "execute_result"
    }
   ],
   "source": [
    "simulations"
   ]
  },
  {
   "cell_type": "markdown",
   "metadata": {},
   "source": [
    "### Solve the ODE system\n",
    "\n",
    "Now we are running the solver on the defined problems."
   ]
  },
  {
   "cell_type": "code",
   "execution_count": 48,
   "metadata": {
    "collapsed": false
   },
   "outputs": [
    {
     "ename": "NameError",
     "evalue": "name 'roadrunner_tools' is not defined",
     "output_type": "error",
     "traceback": [
      "\u001b[1;31m---------------------------------------------------------------------------\u001b[0m",
      "\u001b[1;31mNameError\u001b[0m                                 Traceback (most recent call last)",
      "\u001b[1;32m<ipython-input-48-38733e32a812>\u001b[0m in \u001b[0;36m<module>\u001b[1;34m()\u001b[0m\n\u001b[0;32m      1\u001b[0m \u001b[1;32mfrom\u001b[0m \u001b[0modesim\u001b[0m\u001b[1;33m.\u001b[0m\u001b[0msimulate\u001b[0m \u001b[1;32mimport\u001b[0m \u001b[0msolve\u001b[0m\u001b[1;33m\u001b[0m\u001b[0m\n\u001b[0;32m      2\u001b[0m \u001b[0mreload\u001b[0m\u001b[1;33m(\u001b[0m\u001b[0msolve\u001b[0m\u001b[1;33m)\u001b[0m\u001b[1;33m\u001b[0m\u001b[0m\n\u001b[1;32m----> 3\u001b[1;33m \u001b[0mreload\u001b[0m\u001b[1;33m(\u001b[0m\u001b[0mroadrunner_tools\u001b[0m\u001b[1;33m)\u001b[0m\u001b[1;33m\u001b[0m\u001b[0m\n\u001b[0m",
      "\u001b[1;31mNameError\u001b[0m: name 'roadrunner_tools' is not defined"
     ]
    }
   ],
   "source": [
    "from odesim.simulate import solve\n",
    "reload(solve)"
   ]
  },
  {
   "cell_type": "code",
   "execution_count": 46,
   "metadata": {
    "collapsed": false
   },
   "outputs": [
    {
     "name": "stdout",
     "output_type": "stream",
     "text": [
      "Loading : /home/mkoenig/multiscale-galactose-results/django/model/Koenig_demo_v02.xml\n",
      "SBML load time : 0.048654794693\n",
      "/home/mkoenig/multiscale-galactose-results/tmp_sim/T218/Koenig_demo_v02_S410_roadrunner.h5\n",
      "HDF5: 0.0331399440765\n",
      "Time: [0.062|0.012 |19.55]\n",
      "/home/mkoenig/multiscale-galactose-results/tmp_sim/T218/Koenig_demo_v02_S411_roadrunner.h5\n",
      "HDF5: 0.00302290916443\n",
      "Time: [0.018|0.001 |3.47]\n",
      "/home/mkoenig/multiscale-galactose-results/tmp_sim/T218/Koenig_demo_v02_S412_roadrunner.h5\n",
      "HDF5: 0.00208497047424\n",
      "Time: [0.014|0.001 |4.17]\n",
      "/home/mkoenig/multiscale-galactose-results/tmp_sim/T218/Koenig_demo_v02_S413_roadrunner.h5\n",
      "HDF5: 0.00205206871033\n",
      "Time: [0.012|0.001 |4.96]\n",
      "/home/mkoenig/multiscale-galactose-results/tmp_sim/T218/Koenig_demo_v02_S414_roadrunner.h5\n",
      "HDF5: 0.00222587585449\n",
      "Time: [0.013|0.001 |4.62]\n",
      "/home/mkoenig/multiscale-galactose-results/tmp_sim/T218/Koenig_demo_v02_S415_roadrunner.h5\n",
      "HDF5: 0.00223016738892\n",
      "Time: [0.014|0.001 |4.77]\n",
      "/home/mkoenig/multiscale-galactose-results/tmp_sim/T218/Koenig_demo_v02_S416_roadrunner.h5\n",
      "HDF5: 0.00273084640503\n",
      "Time: [0.017|0.001 |5.12]\n",
      "/home/mkoenig/multiscale-galactose-results/tmp_sim/T218/Koenig_demo_v02_S417_roadrunner.h5\n",
      "HDF5: 0.00248408317566\n",
      "Time: [0.018|0.001 |4.58]\n",
      "/home/mkoenig/multiscale-galactose-results/tmp_sim/T218/Koenig_demo_v02_S418_roadrunner.h5\n",
      "HDF5: 0.00405287742615\n",
      "Time: [0.018|0.001 |4.06]\n",
      "/home/mkoenig/multiscale-galactose-results/tmp_sim/T218/Koenig_demo_v02_S419_roadrunner.h5\n",
      "HDF5: 0.00271201133728\n",
      "Time: [0.018|0.001 |3.88]\n",
      "/home/mkoenig/multiscale-galactose-results/tmp_sim/T218/Koenig_demo_v02_S420_roadrunner.h5\n",
      "HDF5: 0.00236701965332\n",
      "Time: [0.018|0.001 |3.65]\n",
      "/home/mkoenig/multiscale-galactose-results/tmp_sim/T218/Koenig_demo_v02_S421_roadrunner.h5\n",
      "HDF5: 0.0032069683075\n",
      "Time: [0.019|0.001 |5.61]\n",
      "/home/mkoenig/multiscale-galactose-results/tmp_sim/T218/Koenig_demo_v02_S422_roadrunner.h5\n",
      "HDF5: 0.0021059513092\n",
      "Time: [0.015|0.001 |3.97]\n",
      "/home/mkoenig/multiscale-galactose-results/tmp_sim/T218/Koenig_demo_v02_S423_roadrunner.h5\n",
      "HDF5: 0.00318503379822\n",
      "Time: [0.018|0.001 |5.61]\n",
      "/home/mkoenig/multiscale-galactose-results/tmp_sim/T218/Koenig_demo_v02_S424_roadrunner.h5\n",
      "HDF5: 0.00186610221863\n",
      "Time: [0.014|0.001 |4.50]\n",
      "/home/mkoenig/multiscale-galactose-results/tmp_sim/T218/Koenig_demo_v02_S425_roadrunner.h5\n",
      "HDF5: 0.00221085548401\n",
      "Time: [0.013|0.001 |4.54]\n",
      "/home/mkoenig/multiscale-galactose-results/tmp_sim/T218/Koenig_demo_v02_S426_roadrunner.h5\n",
      "HDF5: 0.00194501876831\n",
      "Time: [0.013|0.001 |4.45]\n",
      "/home/mkoenig/multiscale-galactose-results/tmp_sim/T218/Koenig_demo_v02_S427_roadrunner.h5\n",
      "HDF5: 0.00375199317932\n",
      "Time: [0.017|0.001 |5.13]\n",
      "/home/mkoenig/multiscale-galactose-results/tmp_sim/T218/Koenig_demo_v02_S428_roadrunner.h5\n",
      "HDF5: 0.00222396850586\n",
      "Time: [0.015|0.001 |3.92]\n",
      "/home/mkoenig/multiscale-galactose-results/tmp_sim/T218/Koenig_demo_v02_S429_roadrunner.h5\n",
      "HDF5: 0.00322890281677\n",
      "Time: [0.022|0.001 |5.16]\n",
      "/home/mkoenig/multiscale-galactose-results/tmp_sim/T218/Koenig_demo_v02_S430_roadrunner.h5\n",
      "HDF5: 0.00247311592102\n",
      "Time: [0.016|0.001 |4.71]\n",
      "/home/mkoenig/multiscale-galactose-results/tmp_sim/T218/Koenig_demo_v02_S431_roadrunner.h5\n",
      "HDF5: 0.00366306304932\n",
      "Time: [0.020|0.001 |3.55]\n",
      "/home/mkoenig/multiscale-galactose-results/tmp_sim/T218/Koenig_demo_v02_S432_roadrunner.h5\n",
      "HDF5: 0.00320100784302\n",
      "Time: [0.023|0.001 |5.21]\n",
      "/home/mkoenig/multiscale-galactose-results/tmp_sim/T218/Koenig_demo_v02_S433_roadrunner.h5\n",
      "HDF5: 0.00266695022583\n",
      "Time: [0.017|0.001 |3.88]\n",
      "/home/mkoenig/multiscale-galactose-results/tmp_sim/T218/Koenig_demo_v02_S434_roadrunner.h5\n",
      "HDF5: 0.00231409072876\n",
      "Time: [0.015|0.001 |4.51]\n",
      "/home/mkoenig/multiscale-galactose-results/tmp_sim/T218/Koenig_demo_v02_S435_roadrunner.h5\n",
      "HDF5: 0.00377297401428\n",
      "Time: [0.019|0.001 |4.28]\n"
     ]
    }
   ],
   "source": [
    "solve.run_simulations(simulations, task)"
   ]
  },
  {
   "cell_type": "code",
   "execution_count": 49,
   "metadata": {
    "collapsed": true
   },
   "outputs": [],
   "source": [
    "# plot the results\n",
    "from simapp.models import Result"
   ]
  },
  {
   "cell_type": "code",
   "execution_count": null,
   "metadata": {
    "collapsed": true
   },
   "outputs": [],
   "source": [
    "# Load the HDF5 files and plot them\n",
    "from odesim.simulate import solve_io\n",
    "reload(solve_io)\n",
    "data, header = solve_io.load_hdf5(h5_filepath)"
   ]
  }
 ],
 "metadata": {
  "kernelspec": {
   "display_name": "Python 2",
   "language": "python",
   "name": "python2"
  },
  "language_info": {
   "codemirror_mode": {
    "name": "ipython",
    "version": 2
   },
   "file_extension": ".py",
   "mimetype": "text/x-python",
   "name": "python",
   "nbconvert_exporter": "python",
   "pygments_lexer": "ipython2",
   "version": "2.7.6"
  }
 },
 "nbformat": 4,
 "nbformat_minor": 0
}
