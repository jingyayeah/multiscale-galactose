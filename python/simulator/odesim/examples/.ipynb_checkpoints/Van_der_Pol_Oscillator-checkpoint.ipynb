{
 "cells": [
  {
   "cell_type": "markdown",
   "metadata": {},
   "source": [
    "#Van der Pol oscillator\n",
    "\n",
    "http://en.wikipedia.org/wiki/Van_der_Pol_oscillator\n",
    "http://www.opencor.ws/user/howToGetStarted.html\n",
    "\n",
    "In dynamics, the Van der Pol oscillator is a non-conservative oscillator with non-linear damping. \n",
    "\n",
    "## History\n",
    "The Van der Pol oscillator was originally proposed by the Dutch electrical engineer and physicist Balthasar van der Pol while he was working at Philips. Van der Pol found stable oscillations, which he called relaxation-oscillations[2] and are now known as limit cycles, in electrical circuits employing vacuum tubes. When these circuits were driven near the limit cycle they become entrained, i.e. the driving signal pulls the current along with it. Van der Pol and his colleague, van der Mark, reported in the September 1927 issue of Nature that at certain drive frequencies an irregular noise was heard. This irregular noise was always heard near the natural entrainment frequencies. This was one of the first discovered instances of deterministic chaos.\n",
    "\n",
    "The Van der Pol equation has a long history of being used in both the physical and biological sciences. For instance, in biology, Fitzhugh and Nagumo extended the equation in a planar field as a model for action potentials of neurons. \n",
    "\n",
    "## Equations\n",
    "The Van der Pol oscillator evolves in time according to the second-order differential equation\n",
    "$$\\frac{d^2x}{dt^2} - µ(1-x^2)\\frac{dx}{dt} + x = 0$$\n",
    "with initial conditions $x=−2$ and $\\frac{dx}{dt}=0$. $x$ is the position coordinate—which is a function of the time $t$, and $μ$ is a scalar parameter indicating the nonlinearity and the strength of the damping.\n",
    "\n",
    "To create a SBML file, we need to convert the second-order equation to two first-order equations by defining the velocity $\\frac{dx}{dt}$ as a new variable $y$:\n",
    "$$\\frac{dx}{dt}=y$$\n",
    "$$\\frac{dy}{dt}=\\mu(1-x^2)y-x$$\n",
    "The initial conditions are now $x=−2$ and $y=0$.\n",
    "\n",
    "## SBML\n",
    "We can now create the SBML for the above system of ordinary differential equations (ODEs)."
   ]
  },
  {
   "cell_type": "code",
   "execution_count": 17,
   "metadata": {
    "collapsed": false
   },
   "outputs": [
    {
     "name": "stdout",
     "output_type": "stream",
     "text": [
      "<?xml version=\"1.0\" encoding=\"UTF-8\"?>\n",
      "<!-- Created by libAntimony version v2.7.0 on 2015-05-21 14:04 with libSBML version 5.11.4. -->\n",
      "<sbml xmlns=\"http://www.sbml.org/sbml/level3/version1/core\" level=\"3\" version=\"1\">\n",
      "  <model id=\"van_der_pol\" name=\"van_der_pol\">\n",
      "    <listOfCompartments>\n",
      "      <compartment sboTerm=\"SBO:0000410\" id=\"default_compartment\" spatialDimensions=\"3\" size=\"1\" constant=\"true\"/>\n",
      "    </listOfCompartments>\n",
      "    <listOfSpecies>\n",
      "      <species id=\"x\" compartment=\"default_compartment\" hasOnlySubstanceUnits=\"false\" boundaryCondition=\"false\" constant=\"false\"/>\n",
      "      <species id=\"y\" compartment=\"default_compartment\" hasOnlySubstanceUnits=\"false\" boundaryCondition=\"false\" constant=\"false\"/>\n",
      "    </listOfSpecies>\n",
      "    <listOfParameters>\n",
      "      <parameter id=\"mu\" constant=\"true\"/>\n",
      "    </listOfParameters>\n",
      "    <listOfReactions>\n",
      "      <reaction id=\"J1\" reversible=\"true\" fast=\"false\">\n",
      "        <listOfProducts>\n",
      "          <speciesReference species=\"x\" stoichiometry=\"1\" constant=\"true\"/>\n",
      "        </listOfProducts>\n",
      "        <listOfModifiers>\n",
      "          <modifierSpeciesReference species=\"y\"/>\n",
      "        </listOfModifiers>\n",
      "        <kineticLaw>\n",
      "          <math xmlns=\"http://www.w3.org/1998/Math/MathML\">\n",
      "            <ci> y </ci>\n",
      "          </math>\n",
      "        </kineticLaw>\n",
      "      </reaction>\n",
      "      <reaction id=\"J2\" reversible=\"true\" fast=\"false\">\n",
      "        <listOfProducts>\n",
      "          <speciesReference species=\"y\" stoichiometry=\"1\" constant=\"true\"/>\n",
      "        </listOfProducts>\n",
      "        <listOfModifiers>\n",
      "          <modifierSpeciesReference species=\"x\"/>\n",
      "        </listOfModifiers>\n",
      "        <kineticLaw>\n",
      "          <math xmlns=\"http://www.w3.org/1998/Math/MathML\">\n",
      "            <apply>\n",
      "              <minus/>\n",
      "              <apply>\n",
      "                <times/>\n",
      "                <ci> mu </ci>\n",
      "                <apply>\n",
      "                  <minus/>\n",
      "                  <cn type=\"integer\"> 1 </cn>\n",
      "                  <apply>\n",
      "                    <power/>\n",
      "                    <ci> x </ci>\n",
      "                    <cn type=\"integer\"> 2 </cn>\n",
      "                  </apply>\n",
      "                </apply>\n",
      "                <ci> y </ci>\n",
      "              </apply>\n",
      "              <ci> x </ci>\n",
      "            </apply>\n",
      "          </math>\n",
      "        </kineticLaw>\n",
      "      </reaction>\n",
      "    </listOfReactions>\n",
      "  </model>\n",
      "</sbml>\n",
      "\n"
     ]
    }
   ],
   "source": [
    "import libantimony\n",
    "\n",
    "model_str = '''\n",
    "model van_der_pol\n",
    "  \n",
    "var species x = 2;\n",
    "var species y = 0;\n",
    "\n",
    "mu = 0;\n",
    "\n",
    "J1: -> x; y\n",
    "J2: -> y; mu *(1-x^2)*y - x\n",
    "\n",
    "end\n",
    "'''\n",
    "# Load the model string in libantimony\n",
    "res = libantimony.loadAntimonyString(model_str)\n",
    "\n",
    "# SBML is created based on module name\n",
    "module_name = libantimony.getMainModuleName()\n",
    "libantimony.writeSBMLFile('{}.xml'.format(module_name), module_name)\n",
    "print libantimony.getSBMLString(module_name) # show the SBML"
   ]
  },
  {
   "cell_type": "code",
   "execution_count": 21,
   "metadata": {
    "collapsed": true
   },
   "outputs": [],
   "source": [
    "import simapp.db.api as db_api"
   ]
  },
  {
   "cell_type": "code",
   "execution_count": 22,
   "metadata": {
    "collapsed": false
   },
   "outputs": [
    {
     "data": {
      "text/plain": [
       "<CompModel: <SBML: van_der_pol>>"
      ]
     },
     "execution_count": 22,
     "metadata": {},
     "output_type": "execute_result"
    }
   ],
   "source": [
    "db_api.create_model('van_der_pol.xml')"
   ]
  },
  {
   "cell_type": "code",
   "execution_count": 18,
   "metadata": {
    "collapsed": true
   },
   "outputs": [],
   "source": [
    "import roadrunner"
   ]
  },
  {
   "cell_type": "code",
   "execution_count": 19,
   "metadata": {
    "collapsed": true
   },
   "outputs": [],
   "source": [
    "rr = roadrunner.RoadRunner('van_der_pol.xml')"
   ]
  },
  {
   "cell_type": "code",
   "execution_count": 20,
   "metadata": {
    "collapsed": false
   },
   "outputs": [
    {
     "data": {
      "image/png": "[encoded data removed]",
      "text/plain": [
       "<matplotlib.figure.Figure at 0x7fa48e276690>"
      ]
     },
     "metadata": {},
     "output_type": "display_data"
    },
    {
     "data": {
      "image/png": "[encoded data removed]",
      "text/plain": [
       "<matplotlib.figure.Figure at 0x7fa48e369850>"
      ]
     },
     "metadata": {},
     "output_type": "display_data"
    },
    {
     "data": {
      "image/png": "[encoded data removed]",
      "text/plain": [
       "<matplotlib.figure.Figure at 0x7fa4898b4b50>"
      ]
     },
     "metadata": {},
     "output_type": "display_data"
    }
   ],
   "source": [
    "%matplotlib inline\n",
    "rr.simulate(start=0, end=100, varSteps=True, stiff=True, plot=True);\n",
    "rr.simulate(0, 100, varSteps=True, stiff=True, plot=True);\n",
    "\n",
    "# unused arguments should raise a warning !\n",
    "rr.simulate(start=0, duration=100, variableStep=True, stiff=True, plot=True);\n"
   ]
  },
  {
   "cell_type": "markdown",
   "metadata": {},
   "source": [
    "## Model behavior\n",
    "\n",
    "Evolution of the limit cycle in the phase plane. The limit cycle begins as circle and, with varying μ, become increasingly sharp. An example of a Relaxation oscillator http://en.wikipedia.org/wiki/Relaxation_oscillator.\n",
    "\n",
    "TODO: insert the image of the phase plane"
   ]
  },
  {
   "cell_type": "code",
   "execution_count": 9,
   "metadata": {
    "collapsed": true
   },
   "outputs": [],
   "source": [
    "%matplotlib inline\n",
    "import roadrunner\n",
    "import matplotlib.pylab as plt"
   ]
  },
  {
   "cell_type": "code",
   "execution_count": 10,
   "metadata": {
    "collapsed": true
   },
   "outputs": [],
   "source": [
    "res = rr.simulate(start=0, duration=100, variableStep=True, stiff=True, plot=False, relative=1E-7, absolute=1E-7);"
   ]
  },
  {
   "cell_type": "code",
   "execution_count": 11,
   "metadata": {
    "collapsed": false
   },
   "outputs": [
    {
     "data": {
      "text/plain": [
       "<matplotlib.text.Text at 0x7fa48e231ed0>"
      ]
     },
     "execution_count": 11,
     "metadata": {},
     "output_type": "execute_result"
    },
    {
     "data": {
      "image/png": "[encoded data removed]",
      "text/plain": [
       "<matplotlib.figure.Figure at 0x7fa48e30d450>"
      ]
     },
     "metadata": {},
     "output_type": "display_data"
    }
   ],
   "source": [
    "plt.plot(res['[x]'], res['[y]'])\n",
    "plt.title('Phase plane of limit cycle')\n",
    "plt.xlabel('x')\n",
    "plt.ylabel('y')"
   ]
  },
  {
   "cell_type": "code",
   "execution_count": 12,
   "metadata": {
    "collapsed": false
   },
   "outputs": [
    {
     "data": {
      "text/plain": [
       "['time', '[x]', '[y]']"
      ]
     },
     "execution_count": 12,
     "metadata": {},
     "output_type": "execute_result"
    }
   ],
   "source": [
    "# add the additional values of interest to the selection\n",
    "rr.selections"
   ]
  },
  {
   "cell_type": "code",
   "execution_count": 13,
   "metadata": {
    "collapsed": false
   },
   "outputs": [
    {
     "data": {
      "text/plain": [
       "['time', 'x', 'y', 'J1', 'J2']"
      ]
     },
     "execution_count": 13,
     "metadata": {},
     "output_type": "execute_result"
    }
   ],
   "source": [
    "reload(roadrunner)\n",
    "rr.selections = ['time'] + rr.model.getFloatingSpeciesIds() + rr.model.getReactionIds()\n",
    "rr.selections"
   ]
  },
  {
   "cell_type": "code",
   "execution_count": 14,
   "metadata": {
    "collapsed": false
   },
   "outputs": [
    {
     "name": "stdout",
     "output_type": "stream",
     "text": [
      "0\n",
      "Integration time: 0.000613927841187\n",
      "0.01\n",
      "Integration time: 0.000119924545288\n",
      "0.5\n",
      "Integration time: 0.000111818313599\n",
      "1.0\n",
      "Integration time: 0.000114917755127\n",
      "1.5\n",
      "Integration time: 0.000148057937622\n",
      "2.0\n",
      "Integration time: 9.60826873779e-05\n",
      "2.5\n",
      "Integration time: 0.000107049942017\n",
      "3.0\n",
      "Integration time: 6.31809234619e-05\n",
      "3.5\n",
      "Integration time: 9.98973846436e-05\n",
      "4.0\n",
      "Integration time: 6.29425048828e-05\n"
     ]
    }
   ],
   "source": [
    "import odesim.roadrunner.roadrunner_tools as rt\n",
    "import numpy as np\n",
    "results = []\n",
    "mu_values = [0, 0.01, 0.5, 1.0, 1.5, 2.0, 2.5, 3.0, 3.5, 4.0]\n",
    "for mu in mu_values:\n",
    "    print mu\n",
    "    s, gp = rt.simulation(rr, t_start=0, t_stop=100, parameters={'mu': mu})\n",
    "    results.append(s)"
   ]
  },
  {
   "cell_type": "code",
   "execution_count": 15,
   "metadata": {
    "collapsed": false
   },
   "outputs": [
    {
     "ename": "ValueError",
     "evalue": "field named [x] not found",
     "output_type": "error",
     "traceback": [
      "\u001b[1;31m---------------------------------------------------------------------------\u001b[0m",
      "\u001b[1;31mValueError\u001b[0m                                Traceback (most recent call last)",
      "\u001b[1;32m<ipython-input-15-72f93f088961>\u001b[0m in \u001b[0;36m<module>\u001b[1;34m()\u001b[0m\n\u001b[0;32m      2\u001b[0m \u001b[1;32mfor\u001b[0m \u001b[0mk\u001b[0m\u001b[1;33m,\u001b[0m \u001b[0mmu\u001b[0m \u001b[1;32min\u001b[0m \u001b[0menumerate\u001b[0m\u001b[1;33m(\u001b[0m\u001b[0mmu_values\u001b[0m\u001b[1;33m)\u001b[0m\u001b[1;33m:\u001b[0m\u001b[1;33m\u001b[0m\u001b[0m\n\u001b[0;32m      3\u001b[0m     \u001b[0mres\u001b[0m \u001b[1;33m=\u001b[0m \u001b[0mresults\u001b[0m\u001b[1;33m[\u001b[0m\u001b[0mk\u001b[0m\u001b[1;33m]\u001b[0m\u001b[1;33m\u001b[0m\u001b[0m\n\u001b[1;32m----> 4\u001b[1;33m     \u001b[0mplt\u001b[0m\u001b[1;33m.\u001b[0m\u001b[0mplot\u001b[0m\u001b[1;33m(\u001b[0m\u001b[0mres\u001b[0m\u001b[1;33m[\u001b[0m\u001b[1;34m'[x]'\u001b[0m\u001b[1;33m]\u001b[0m\u001b[1;33m,\u001b[0m \u001b[0mres\u001b[0m\u001b[1;33m[\u001b[0m\u001b[1;34m'[y]'\u001b[0m\u001b[1;33m]\u001b[0m\u001b[1;33m,\u001b[0m \u001b[0mcolor\u001b[0m\u001b[1;33m=\u001b[0m\u001b[1;34m'black'\u001b[0m\u001b[1;33m)\u001b[0m\u001b[1;33m\u001b[0m\u001b[0m\n\u001b[0m\u001b[0;32m      5\u001b[0m \u001b[0mplt\u001b[0m\u001b[1;33m.\u001b[0m\u001b[0mtitle\u001b[0m\u001b[1;33m(\u001b[0m\u001b[1;34m'Phase plane of limit cycle'\u001b[0m\u001b[1;33m)\u001b[0m\u001b[1;33m\u001b[0m\u001b[0m\n\u001b[0;32m      6\u001b[0m \u001b[0mplt\u001b[0m\u001b[1;33m.\u001b[0m\u001b[0mxlabel\u001b[0m\u001b[1;33m(\u001b[0m\u001b[1;34m'x'\u001b[0m\u001b[1;33m,\u001b[0m \u001b[0mfontsize\u001b[0m\u001b[1;33m=\u001b[0m\u001b[1;36m30\u001b[0m\u001b[1;33m)\u001b[0m\u001b[1;33m\u001b[0m\u001b[0m\n",
      "\u001b[1;31mValueError\u001b[0m: field named [x] not found"
     ]
    },
    {
     "data": {
      "text/plain": [
       "<matplotlib.figure.Figure at 0x7fa489ccc650>"
      ]
     },
     "metadata": {},
     "output_type": "display_data"
    }
   ],
   "source": [
    "plt.figure(figsize=(4,14))\n",
    "for k, mu in enumerate(mu_values):\n",
    "    res = results[k]\n",
    "    plt.plot(res['[x]'], res['[y]'], color='black')\n",
    "plt.title('Phase plane of limit cycle')\n",
    "plt.xlabel('x', fontsize=30)\n",
    "plt.ylabel('y', fontsize=30)\n",
    "plt.xlim([-2,2])\n",
    "plt.ylim([-7,7])"
   ]
  },
  {
   "cell_type": "code",
   "execution_count": 16,
   "metadata": {
    "collapsed": true
   },
   "outputs": [],
   "source": [
    "# Phase portrait"
   ]
  },
  {
   "cell_type": "code",
   "execution_count": null,
   "metadata": {
    "collapsed": true
   },
   "outputs": [],
   "source": []
  }
 ],
 "metadata": {
  "kernelspec": {
   "display_name": "Python 2",
   "language": "python",
   "name": "python2"
  },
  "language_info": {
   "codemirror_mode": {
    "name": "ipython",
    "version": 2
   },
   "file_extension": ".py",
   "mimetype": "text/x-python",
   "name": "python",
   "nbconvert_exporter": "python",
   "pygments_lexer": "ipython2",
   "version": "2.7.6"
  }
 },
 "nbformat": 4,
 "nbformat_minor": 0
}
