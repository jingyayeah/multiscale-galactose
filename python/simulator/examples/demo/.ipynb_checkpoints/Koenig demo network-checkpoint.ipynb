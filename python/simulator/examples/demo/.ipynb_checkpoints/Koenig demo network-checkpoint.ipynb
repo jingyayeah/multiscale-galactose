{
 "cells": [
  {
   "cell_type": "markdown",
   "metadata": {},
   "source": [
    "## Simulations with demo network"
   ]
  },
  {
   "cell_type": "markdown",
   "metadata": {},
   "source": [
    "Loading model with libsbml and inspect main model features."
   ]
  },
  {
   "cell_type": "code",
   "execution_count": 25,
   "metadata": {
    "collapsed": false
   },
   "outputs": [
    {
     "name": "stdout",
     "output_type": "stream",
     "text": [
      "Koenig_demo_distributions_01.csv  Koenig demo network.ipynb  Koenig_demo.xml\r\n"
     ]
    }
   ],
   "source": [
    "import libsbml\n",
    "!ls"
   ]
  },
  {
   "cell_type": "code",
   "execution_count": 63,
   "metadata": {
    "collapsed": false
   },
   "outputs": [
    {
     "name": "stdout",
     "output_type": "stream",
     "text": [
      "Koenig_demo\n",
      "<ListOfSpecies[6]>\n",
      "A_in A inside mole\n",
      "B_in B inside mole\n",
      "C_in C inside mole\n",
      "A_out A outside mole\n",
      "B_out B outside mole\n",
      "C_out C outside mole\n"
     ]
    }
   ],
   "source": [
    "doc = libsbml.readSBMLFromFile(\"Koenig_demo.xml\")\n",
    "model = doc.getModel()\n",
    "print(model.getId())\n",
    "print(model.getListOfSpecies())\n",
    "for s in model.getListOfSpecies():\n",
    "    print s.getId(), s.getName(), s.getUnits()"
   ]
  },
  {
   "cell_type": "code",
   "execution_count": 37,
   "metadata": {
    "collapsed": true
   },
   "outputs": [],
   "source": [
    "??libantimony.getAntimonyString"
   ]
  },
  {
   "cell_type": "code",
   "execution_count": 39,
   "metadata": {
    "collapsed": false
   },
   "outputs": [
    {
     "name": "stdout",
     "output_type": "stream",
     "text": [
      "('__main', 'Koenig_demo')\n",
      "//Created by libAntimony v2.7.0\n",
      "model *Koenig_demo()\n",
      "\n",
      "  // Compartments and Species:\n",
      "  compartment outside, inside;\n",
      "  species A_in in inside, B_in in inside, C_in in inside, A_out in inside;\n",
      "  species B_out in inside, C_out in inside;\n",
      "\n",
      "  // Reactions:\n",
      "  b1: A_out => A_in; (scale_f*(Vmax_b1/Km_A)*(A_out - A_in))/(1 + A_out/Km_A + A_in/Km_A);\n",
      "  b2: B_in => B_out; (scale_f*(Vmax_b2/Km_B)*(B_in - B_out))/(1 + B_out/Km_B + B_in/Km_B);\n",
      "  b3: C_in => C_out; (scale_f*(Vmax_b3/Km_C)*(C_in - C_out))/(1 + C_out/Km_C + C_in/Km_C);\n",
      "  v1: A_in -> B_in; (scale_f*Vmax_v1)/Km_A*(A_in - 1/Keq_v1*B_in);\n",
      "  v2: A_in -> C_in; (scale_f*Vmax_v2)/Km_A*A_in;\n",
      "  v3: C_in -> A_in; (scale_f*Vmax_v3)/Km_A*C_in;\n",
      "  v4: C_in -> B_in; (scale_f*Vmax_v4)/Km_A*(C_in - 1/Keq_v4*B_in);\n",
      "\n",
      "  // Species initializations:\n",
      "  A_in = 0;\n",
      "  A_in has mM;\n",
      "  B_in = 0;\n",
      "  B_in has mM;\n",
      "  C_in = 0;\n",
      "  C_in has mM;\n",
      "  A_out = 10;\n",
      "  A_out has mM;\n",
      "  B_out = 0;\n",
      "  B_out has mM;\n",
      "  C_out = 0;\n",
      "  C_out has mM;\n",
      "\n",
      "  // Compartment initializations:\n",
      "  outside = 1e-06;\n",
      "  outside has m3;\n",
      "  inside = 1e-06;\n",
      "  inside has m3;\n",
      "\n",
      "  // Variable initializations:\n",
      "  scale_f = 1e-06;\n",
      "  scale_f has dimensionless;\n",
      "  Vmax_b1 = 5;\n",
      "  Vmax_b1 has mole_per_s;\n",
      "  Km_A = 1;\n",
      "  Km_A has mM;\n",
      "  Vmax_b2 = 2;\n",
      "  Vmax_b2 has mole_per_s;\n",
      "  Km_B = 0.5;\n",
      "  Km_B has mM;\n",
      "  Vmax_b3 = 2;\n",
      "  Vmax_b3 has mole_per_s;\n",
      "  Km_C = 3;\n",
      "  Km_C has mM;\n",
      "  Vmax_v1 = 1;\n",
      "  Vmax_v1 has mole_per_s;\n",
      "  Keq_v1 = 10;\n",
      "  Keq_v1 has dimensionless;\n",
      "  Vmax_v2 = 0.5;\n",
      "  Vmax_v2 has mole_per_s;\n",
      "  Vmax_v3 = 0.5;\n",
      "  Vmax_v3 has mole_per_s;\n",
      "  Vmax_v4 = 0.5;\n",
      "  Vmax_v4 has mole_per_s;\n",
      "  Keq_v4 = 2;\n",
      "  Keq_v4 has dimensionless;\n",
      "\n",
      "  // Other declarations:\n",
      "  const outside, inside, scale_f, Vmax_b1, Km_A, Vmax_b2, Km_B, Vmax_b3, Km_C;\n",
      "  const Vmax_v1, Keq_v1, Vmax_v2, Vmax_v3, Vmax_v4, Keq_v4;\n",
      "\n",
      "  // Unit definitions:\n",
      "  unit mM = mole / metre^3;\n",
      "  unit m3 = metre^3;\n",
      "  unit mole_per_s = mole / second;\n",
      "  unit substance = mole;\n",
      "  unit volume = metre^3;\n",
      "  unit area = metre^2;\n",
      "  unit length = metre;\n",
      "  unit extent = mole;\n",
      "\n",
      "  // Display Names:\n",
      "  outside is \"Outer Compartment\";\n",
      "  inside is \"Inner Compartment\";\n",
      "  A_in is \"A inside\";\n",
      "  B_in is \"B inside\";\n",
      "  C_in is \"C inside\";\n",
      "  A_out is \"A outside\";\n",
      "  B_out is \"B outside\";\n",
      "  C_out is \"C outside\";\n",
      "  b1 is \"A import\";\n",
      "  b2 is \"B export\";\n",
      "  b3 is \"C export\";\n",
      "  v1 is \"A -> B\";\n",
      "  v2 is \"A -> C\";\n",
      "  v3 is \"C -> A\";\n",
      "  v4 is \"C -> B\";\n",
      "end\n",
      "\n"
     ]
    }
   ],
   "source": [
    "import libantimony\n",
    "libantimony.loadSBMLFile('Koenig_demo.xml')\n",
    "mod_names = libantimony.getModuleNames()\n",
    "print mod_names\n",
    "ant_string = libantimony.getAntimonyString('Koenig_demo')\n",
    "print(ant_string)\n"
   ]
  },
  {
   "cell_type": "markdown",
   "metadata": {},
   "source": [
    "** Running simulations with demo network **\n",
    "\n",
    "Provides examples for the use of the simple demo network.\n",
    "TODO: provide proper packages for imports of the individual components.\n",
    "\n",
    "First import roadrunner for simulations."
   ]
  },
  {
   "cell_type": "code",
   "execution_count": 40,
   "metadata": {
    "collapsed": false
   },
   "outputs": [
    {
     "data": {
      "text/plain": [
       "'1.3; Compiler: gcc 4.6.3, C++ version: 1; JIT Compiler: LLVM-3.4; Date: Jan 12 2015, 16:43:38'"
      ]
     },
     "execution_count": 40,
     "metadata": {},
     "output_type": "execute_result"
    }
   ],
   "source": [
    "import roadrunner\n",
    "roadrunner.getVersionStr()"
   ]
  },
  {
   "cell_type": "markdown",
   "metadata": {},
   "source": [
    "# RoadRunner simulation"
   ]
  },
  {
   "cell_type": "markdown",
   "metadata": {},
   "source": [
    "Loading the model and performing a simple time course simulation."
   ]
  },
  {
   "cell_type": "code",
   "execution_count": 54,
   "metadata": {
    "collapsed": false
   },
   "outputs": [
    {
     "data": {
      "image/png": "[encoded data removed]",
      "text/plain": [
       "<matplotlib.figure.Figure at 0x7ff2142a4350>"
      ]
     },
     "metadata": {},
     "output_type": "display_data"
    }
   ],
   "source": [
    "%matplotlib inline\n",
    "rr = roadrunner.RoadRunner('Koenig_demo.xml')\n",
    "rr.selections\n",
    "s = rr.simulate(0,20, 100, plot=True)"
   ]
  },
  {
   "cell_type": "markdown",
   "metadata": {},
   "source": [
    "The simulation objects is in the state of the end point of the simulation. One can query the steady state values via simple dot syntax."
   ]
  },
  {
   "cell_type": "code",
   "execution_count": 65,
   "metadata": {
    "collapsed": false
   },
   "outputs": [
    {
     "name": "stdout",
     "output_type": "stream",
     "text": [
      "A_in = 0.593165574596\n",
      "Vmax_b1 = 5.0\n"
     ]
    }
   ],
   "source": [
    "print('A_in = {}'.format(rr.A_in))\n",
    "print('Vmax_b1 = {}'.format(rr.Vmax_b1))"
   ]
  },
  {
   "cell_type": "markdown",
   "metadata": {},
   "source": [
    "The units can be read out from the SBML file."
   ]
  },
  {
   "cell_type": "code",
   "execution_count": 68,
   "metadata": {
    "collapsed": false
   },
   "outputs": [
    {
     "name": "stdout",
     "output_type": "stream",
     "text": [
      "<Model Koenig_demo \"Koenig2014_demo_kinetic_v7\">\n",
      "<class 'libsbml.Model'>\n"
     ]
    }
   ],
   "source": [
    "print model\n",
    "print type(model)"
   ]
  },
  {
   "cell_type": "code",
   "execution_count": 91,
   "metadata": {
    "collapsed": false
   },
   "outputs": [
    {
     "name": "stdout",
     "output_type": "stream",
     "text": [
      "<Species A_in \"A inside\"> A_in A inside\n",
      "mole\n",
      "False\n",
      "<species id=\"A_in\" name=\"A inside\" compartment=\"inside\" initialConcentration=\"0\" substanceUnits=\"mole\" hasOnlySubstanceUnits=\"false\" boundaryCondition=\"false\" constant=\"false\"/>\n"
     ]
    },
    {
     "data": {
      "text/plain": [
       "'mole (exponent = 1, multiplier = 1, scale = 0), metre (exponent = -3, multiplier = 1, scale = 0)'"
      ]
     },
     "execution_count": 91,
     "metadata": {},
     "output_type": "execute_result"
    }
   ],
   "source": [
    "s = model.getSpecies('A_in')\n",
    "print s, s.getId(), s.getName()\n",
    "print s.getUnits()   # has mole as unit due to substance units\n",
    "print s.has_only_substance_units\n",
    "\n",
    "print s.toSBML()\n",
    "\n",
    "udef =  s.getDerivedUnitDefinition()\n",
    "libsbml.UnitDefinition_printUnits(udef)"
   ]
  },
  {
   "cell_type": "markdown",
   "metadata": {},
   "source": [
    "# Repeated simulations\n",
    "\n",
    "Parameter scan or multiple simulations."
   ]
  },
  {
   "cell_type": "code",
   "execution_count": 10,
   "metadata": {
    "collapsed": true
   },
   "outputs": [],
   "source": [
    "\n",
    "\n",
    "\n",
    "import django\n",
    "django.setup()"
   ]
  },
  {
   "cell_type": "code",
   "execution_count": 14,
   "metadata": {
    "collapsed": true
   },
   "outputs": [],
   "source": [
    "import odesim"
   ]
  },
  {
   "cell_type": "code",
   "execution_count": 16,
   "metadata": {
    "collapsed": false
   },
   "outputs": [
    {
     "name": "stdout",
     "output_type": "stream",
     "text": [
      "Koenig_demo_distributions_01.csv  Koenig demo network.ipynb  Koenig_demo.xml\r\n"
     ]
    }
   ],
   "source": [
    "ls"
   ]
  },
  {
   "cell_type": "code",
   "execution_count": 18,
   "metadata": {
    "collapsed": false
   },
   "outputs": [
    {
     "name": "stdout",
     "output_type": "stream",
     "text": [
      "('/home/mkoenig/multiscale-galactose/python/simulator/examples/demo', 'Koenig_demo.xml')\n",
      "Django model already exists! - model is not saved\n"
     ]
    }
   ],
   "source": [
    "model = django_model_from_file('Koenig_demo.xml', sync=False)"
   ]
  },
  {
   "cell_type": "code",
   "execution_count": null,
   "metadata": {
    "collapsed": true
   },
   "outputs": [],
   "source": []
  }
 ],
 "metadata": {
  "kernelspec": {
   "display_name": "Python 2",
   "language": "python",
   "name": "python2"
  },
  "language_info": {
   "codemirror_mode": {
    "name": "ipython",
    "version": 2
   },
   "file_extension": ".py",
   "mimetype": "text/x-python",
   "name": "python",
   "nbconvert_exporter": "python",
   "pygments_lexer": "ipython2",
   "version": "2.7.6"
  }
 },
 "nbformat": 4,
 "nbformat_minor": 0
}
