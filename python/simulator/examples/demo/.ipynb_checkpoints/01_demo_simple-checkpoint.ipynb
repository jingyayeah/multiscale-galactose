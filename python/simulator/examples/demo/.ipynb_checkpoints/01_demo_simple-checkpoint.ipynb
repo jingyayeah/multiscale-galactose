{
 "cells": [
  {
   "cell_type": "markdown",
   "metadata": {},
   "source": [
    "# Simulations with demo network\n",
    "\n",
    "This notebook demonstrates the basic work with SBML models based on Antimony, libSBML and RoadRunner. ODE simulations are demonstrated."
   ]
  },
  {
   "cell_type": "code",
   "execution_count": 21,
   "metadata": {
    "collapsed": false
   },
   "outputs": [
    {
     "name": "stdout",
     "output_type": "stream",
     "text": [
      "Koenig_demo_distributions_01.csv  Koenig demo network.ipynb  Koenig_demo.xml\r\n"
     ]
    }
   ],
   "source": [
    "%matplotlib inline \n",
    "!ls "
   ]
  },
  {
   "cell_type": "markdown",
   "metadata": {},
   "source": [
    "## SBML with libSBML\n",
    "Loading model with libsbml and inspect main model features."
   ]
  },
  {
   "cell_type": "code",
   "execution_count": 29,
   "metadata": {
    "collapsed": false
   },
   "outputs": [
    {
     "name": "stdout",
     "output_type": "stream",
     "text": [
      "<Model Koenig_demo \"Koenig2014_demo_kinetic_v7\">\n"
     ]
    }
   ],
   "source": [
    "import libsbml\n",
    "doc = libsbml.readSBMLFromFile(\"Koenig_demo.xml\") \n",
    "model = doc.getModel()\n",
    "print model"
   ]
  },
  {
   "cell_type": "markdown",
   "metadata": {},
   "source": [
    "Print model information like model id, and listOfSpecies"
   ]
  },
  {
   "cell_type": "code",
   "execution_count": 30,
   "metadata": {
    "collapsed": false
   },
   "outputs": [
    {
     "name": "stdout",
     "output_type": "stream",
     "text": [
      "Koenig_demo\n",
      "<ListOfSpecies[6]>\n",
      "A_in A inside mole\n",
      "B_in B inside mole\n",
      "C_in C inside mole\n",
      "A_out A outside mole\n",
      "B_out B outside mole\n",
      "C_out C outside mole\n"
     ]
    }
   ],
   "source": [
    "print(model.getId())\n",
    "print(model.getListOfSpecies())\n",
    "for s in model.getListOfSpecies():\n",
    "    print s.getId(), s.getName(), s.getUnits()"
   ]
  },
  {
   "cell_type": "markdown",
   "metadata": {},
   "source": [
    "## Antimony\n",
    "\n",
    "Loading SBML with Antimony and get human readable representation of the information."
   ]
  },
  {
   "cell_type": "code",
   "execution_count": 26,
   "metadata": {
    "collapsed": false
   },
   "outputs": [
    {
     "name": "stdout",
     "output_type": "stream",
     "text": [
      "('__main', 'Koenig_demo')\n",
      "//Created by libAntimony v2.7.0\n",
      "model *Koenig_demo()\n",
      "\n",
      "  // Compartments and Species:\n",
      "  compartment outside, inside;\n",
      "  species A_in in inside, B_in in inside, C_in in inside, A_out in inside;\n",
      "  species B_out in inside, C_out in inside;\n",
      "\n",
      "  // Reactions:\n",
      "  b1: A_out => A_in; (scale_f*(Vmax_b1/Km_A)*(A_out - A_in))/(1 + A_out/Km_A + A_in/Km_A);\n",
      "  b2: B_in => B_out; (scale_f*(Vmax_b2/Km_B)*(B_in - B_out))/(1 + B_out/Km_B + B_in/Km_B);\n",
      "  b3: C_in => C_out; (scale_f*(Vmax_b3/Km_C)*(C_in - C_out))/(1 + C_out/Km_C + C_in/Km_C);\n",
      "  v1: A_in -> B_in; (scale_f*Vmax_v1)/Km_A*(A_in - 1/Keq_v1*B_in);\n",
      "  v2: A_in -> C_in; (scale_f*Vmax_v2)/Km_A*A_in;\n",
      "  v3: C_in -> A_in; (scale_f*Vmax_v3)/Km_A*C_in;\n",
      "  v4: C_in -> B_in; (scale_f*Vmax_v4)/Km_A*(C_in - 1/Keq_v4*B_in);\n",
      "\n",
      "  // Species initializations:\n",
      "  A_in = 0;\n",
      "  A_in has mM;\n",
      "  B_in = 0;\n",
      "  B_in has mM;\n",
      "  C_in = 0;\n",
      "  C_in has mM;\n",
      "  A_out = 10;\n",
      "  A_out has mM;\n",
      "  B_out = 0;\n",
      "  B_out has mM;\n",
      "  C_out = 0;\n",
      "  C_out has mM;\n",
      "\n",
      "  // Compartment initializations:\n",
      "  outside = 1e-06;\n",
      "  outside has m3;\n",
      "  inside = 1e-06;\n",
      "  inside has m3;\n",
      "\n",
      "  // Variable initializations:\n",
      "  scale_f = 1e-06;\n",
      "  scale_f has dimensionless;\n",
      "  Vmax_b1 = 5;\n",
      "  Vmax_b1 has mole_per_s;\n",
      "  Km_A = 1;\n",
      "  Km_A has mM;\n",
      "  Vmax_b2 = 2;\n",
      "  Vmax_b2 has mole_per_s;\n",
      "  Km_B = 0.5;\n",
      "  Km_B has mM;\n",
      "  Vmax_b3 = 2;\n",
      "  Vmax_b3 has mole_per_s;\n",
      "  Km_C = 3;\n",
      "  Km_C has mM;\n",
      "  Vmax_v1 = 1;\n",
      "  Vmax_v1 has mole_per_s;\n",
      "  Keq_v1 = 10;\n",
      "  Keq_v1 has dimensionless;\n",
      "  Vmax_v2 = 0.5;\n",
      "  Vmax_v2 has mole_per_s;\n",
      "  Vmax_v3 = 0.5;\n",
      "  Vmax_v3 has mole_per_s;\n",
      "  Vmax_v4 = 0.5;\n",
      "  Vmax_v4 has mole_per_s;\n",
      "  Keq_v4 = 2;\n",
      "  Keq_v4 has dimensionless;\n",
      "\n",
      "  // Other declarations:\n",
      "  const outside, inside, scale_f, Vmax_b1, Km_A, Vmax_b2, Km_B, Vmax_b3, Km_C;\n",
      "  const Vmax_v1, Keq_v1, Vmax_v2, Vmax_v3, Vmax_v4, Keq_v4;\n",
      "\n",
      "  // Unit definitions:\n",
      "  unit mM = mole / metre^3;\n",
      "  unit m3 = metre^3;\n",
      "  unit mole_per_s = mole / second;\n",
      "  unit substance = mole;\n",
      "  unit volume = metre^3;\n",
      "  unit area = metre^2;\n",
      "  unit length = metre;\n",
      "  unit extent = mole;\n",
      "\n",
      "  // Display Names:\n",
      "  outside is \"Outer Compartment\";\n",
      "  inside is \"Inner Compartment\";\n",
      "  A_in is \"A inside\";\n",
      "  B_in is \"B inside\";\n",
      "  C_in is \"C inside\";\n",
      "  A_out is \"A outside\";\n",
      "  B_out is \"B outside\";\n",
      "  C_out is \"C outside\";\n",
      "  b1 is \"A import\";\n",
      "  b2 is \"B export\";\n",
      "  b3 is \"C export\";\n",
      "  v1 is \"A -> B\";\n",
      "  v2 is \"A -> C\";\n",
      "  v3 is \"C -> A\";\n",
      "  v4 is \"C -> B\";\n",
      "end\n",
      "\n"
     ]
    }
   ],
   "source": [
    "import libantimony\n",
    "libantimony.loadSBMLFile('Koenig_demo.xml')\n",
    "mod_names = libantimony.getModuleNames()\n",
    "print mod_names\n",
    "ant_string = libantimony.getAntimonyString('Koenig_demo')\n",
    "print(ant_string)"
   ]
  },
  {
   "cell_type": "markdown",
   "metadata": {},
   "source": [
    "## RoadRunner simulations\n",
    "\n",
    "Example simulations with the demo network.\n",
    "First import roadrunner for simulations.\n",
    "TODO: provide proper packages for imports of the individual components."
   ]
  },
  {
   "cell_type": "code",
   "execution_count": 31,
   "metadata": {
    "collapsed": false
   },
   "outputs": [
    {
     "data": {
      "text/plain": [
       "'1.3; Compiler: gcc 4.6.3, C++ version: 1; JIT Compiler: LLVM-3.4; Date: Jan 12 2015, 16:43:38'"
      ]
     },
     "execution_count": 31,
     "metadata": {},
     "output_type": "execute_result"
    }
   ],
   "source": [
    "import roadrunner\n",
    "roadrunner.getVersionStr()"
   ]
  },
  {
   "cell_type": "markdown",
   "metadata": {},
   "source": [
    "Loading the model and performing a simple time course simulation."
   ]
  },
  {
   "cell_type": "code",
   "execution_count": 33,
   "metadata": {
    "collapsed": false
   },
   "outputs": [
    {
     "name": "stdout",
     "output_type": "stream",
     "text": [
      "['time', '[A_in]', '[B_in]', '[C_in]', '[A_out]', '[B_out]', '[C_out]']\n"
     ]
    },
    {
     "data": {
      "image/png": "[encoded data removed]",
      "text/plain": [
       "<matplotlib.figure.Figure at 0x7ff375280f50>"
      ]
     },
     "metadata": {},
     "output_type": "display_data"
    }
   ],
   "source": [
    "%matplotlib inline\n",
    "rr = roadrunner.RoadRunner('Koenig_demo.xml')\n",
    "print rr.selections\n",
    "s = rr.simulate(0,20, 100, plot=True)  # equidistant timecourse for 20 [s]"
   ]
  },
  {
   "cell_type": "markdown",
   "metadata": {},
   "source": [
    "The simulation objects is in the state of the end point of the simulation. One can query the steady state values via simple dot syntax."
   ]
  },
  {
   "cell_type": "code",
   "execution_count": 34,
   "metadata": {
    "collapsed": false
   },
   "outputs": [
    {
     "name": "stdout",
     "output_type": "stream",
     "text": [
      "A_in = 0.593165574596\n",
      "Vmax_b1 = 5.0\n"
     ]
    }
   ],
   "source": [
    "print('A_in = {}'.format(rr.A_in))\n",
    "print('Vmax_b1 = {}'.format(rr.Vmax_b1))"
   ]
  },
  {
   "cell_type": "markdown",
   "metadata": {},
   "source": [
    "The units can be read out from the SBML file."
   ]
  },
  {
   "cell_type": "code",
   "execution_count": 35,
   "metadata": {
    "collapsed": false
   },
   "outputs": [
    {
     "name": "stdout",
     "output_type": "stream",
     "text": [
      "<Model Koenig_demo \"Koenig2014_demo_kinetic_v7\">\n",
      "<class 'libsbml.Model'>\n"
     ]
    }
   ],
   "source": [
    "print model\n",
    "print type(model)"
   ]
  },
  {
   "cell_type": "code",
   "execution_count": 36,
   "metadata": {
    "collapsed": false
   },
   "outputs": [
    {
     "name": "stdout",
     "output_type": "stream",
     "text": [
      "<Species A_in \"A inside\"> A_in A inside\n",
      "mole\n",
      "False\n",
      "<species id=\"A_in\" name=\"A inside\" compartment=\"inside\" initialConcentration=\"0\" substanceUnits=\"mole\" hasOnlySubstanceUnits=\"false\" boundaryCondition=\"false\" constant=\"false\"/>\n"
     ]
    },
    {
     "data": {
      "text/plain": [
       "'mole (exponent = 1, multiplier = 1, scale = 0), metre (exponent = -3, multiplier = 1, scale = 0)'"
      ]
     },
     "execution_count": 36,
     "metadata": {},
     "output_type": "execute_result"
    }
   ],
   "source": [
    "s = model.getSpecies('A_in')\n",
    "print s, s.getId(), s.getName()\n",
    "print s.getUnits()   # has mole as unit due to substance units\n",
    "print s.has_only_substance_units\n",
    "\n",
    "print s.toSBML()\n",
    "\n",
    "udef =  s.getDerivedUnitDefinition()\n",
    "libsbml.UnitDefinition_printUnits(udef)"
   ]
  },
  {
   "cell_type": "markdown",
   "metadata": {},
   "source": [
    "## Steady States\n",
    "\n",
    "Proper simulation to steady state (i.e. with NEQ solvers and not just based on letting the simulation run for long)."
   ]
  },
  {
   "cell_type": "code",
   "execution_count": 37,
   "metadata": {
    "collapsed": false
   },
   "outputs": [
    {
     "name": "stdout",
     "output_type": "stream",
     "text": [
      "['time', '[A_in]', '[B_in]', '[C_in]', '[A_out]', '[B_out]', '[C_out]']\n",
      "[ 0.59626946  3.31260812  1.12628676  0.59626926  3.31256046  1.12628659]\n"
     ]
    }
   ],
   "source": [
    "# ? what does the value for time mean here ? \n",
    "# bug in the setup\n",
    "print rr.selections\n",
    "print rr.getSteadyStateValues()"
   ]
  },
  {
   "cell_type": "markdown",
   "metadata": {},
   "source": [
    "## Stoichiometric Matrix\n",
    "\n",
    "Access to the stoichiometric matrix of the system is simple via"
   ]
  },
  {
   "cell_type": "code",
   "execution_count": 38,
   "metadata": {
    "collapsed": false
   },
   "outputs": [
    {
     "data": {
      "text/plain": [
       "         b1, b2, b3, v1, v2, v3, v4\n",
       "A_in  [[  1,  0,  0, -1, -1,  1,  0],\n",
       "B_in   [  0, -1,  0,  1,  0,  0,  1],\n",
       "C_in   [  0,  0, -1,  0,  1, -1, -1],\n",
       "A_out  [ -1,  0,  0,  0,  0,  0,  0],\n",
       "B_out  [  0,  1,  0,  0,  0,  0,  0],\n",
       "C_out  [  0,  0,  1,  0,  0,  0,  0]]"
      ]
     },
     "execution_count": 38,
     "metadata": {},
     "output_type": "execute_result"
    }
   ],
   "source": [
    "rr.getFullStoichiometryMatrix()"
   ]
  },
  {
   "cell_type": "code",
   "execution_count": 39,
   "metadata": {
    "collapsed": false
   },
   "outputs": [
    {
     "data": {
      "text/plain": [
       " [[ 1, 1, 1, 1, 1, 1]]"
      ]
     },
     "execution_count": 39,
     "metadata": {},
     "output_type": "execute_result"
    }
   ],
   "source": [
    "rr.getConservationMatrix()"
   ]
  },
  {
   "cell_type": "markdown",
   "metadata": {},
   "source": [
    "## Jacobian Matrix\n",
    "\n",
    "Access to Jacobian matrix of the systems via"
   ]
  },
  {
   "cell_type": "code",
   "execution_count": 40,
   "metadata": {
    "collapsed": false
   },
   "outputs": [
    {
     "data": {
      "text/plain": [
       "                 A_in,         B_in,         C_in,        A_out,        B_out,        C_out\n",
       "A_in  [[ -3.78046e-06,        1e-07,        5e-07,  2.28046e-06,            0,            0],\n",
       "B_in   [        1e-06, -6.30693e-07,        5e-07,            0,  2.80697e-07,            0],\n",
       "C_in   [        5e-07,      2.5e-07, -1.38077e-06,            0,            0,  3.80766e-07],\n",
       "A_out  [  2.28046e-06,            0,            0, -2.28046e-06,            0,            0],\n",
       "B_out  [            0,  2.80693e-07,            0,            0, -2.80697e-07,            0],\n",
       "C_out  [            0,            0,  3.80766e-07,            0,            0, -3.80766e-07]]"
      ]
     },
     "execution_count": 40,
     "metadata": {},
     "output_type": "execute_result"
    }
   ],
   "source": [
    "rr.getFullJacobian()"
   ]
  },
  {
   "cell_type": "markdown",
   "metadata": {},
   "source": [
    "## Metabolic Control Analysis\n",
    "\n",
    "Direct access to metabolic control analysis, for instance the Concentration control coefficients."
   ]
  },
  {
   "cell_type": "code",
   "execution_count": 41,
   "metadata": {
    "collapsed": false
   },
   "outputs": [
    {
     "data": {
      "text/plain": [
       " [[   2.5218e-09, -1.49767e-10, -8.18498e-11,  -0.292398,  -0.223684,  0.422515,  0.0935673],\n",
       "  [   2.5218e-09, -1.49767e-10, -8.18498e-11,  0.0631579, -0.0236842, 0.0447368, -0.0842105],\n",
       "  [   2.5218e-09, -1.49767e-10, -8.18498e-11, -0.0309598,    0.18808, -0.355263,   0.198142],\n",
       "  [ -4.00686e-08, -1.49767e-10, -8.18498e-11,  -0.292398,  -0.223684,  0.422515,  0.0935672],\n",
       "  [   2.5218e-09,  3.05524e-10, -8.18498e-11,  0.0631579, -0.0236842, 0.0447368, -0.0842105],\n",
       "  [   2.5218e-09, -1.49767e-10,  6.49984e-10, -0.0309598,    0.18808, -0.355263,   0.198142]]"
      ]
     },
     "execution_count": 41,
     "metadata": {},
     "output_type": "execute_result"
    }
   ],
   "source": [
    "rr.getScaledConcentrationControlCoefficientMatrix()"
   ]
  },
  {
   "cell_type": "markdown",
   "metadata": {},
   "source": [
    "## Repeated simulations\n",
    "\n",
    "Parameter scan or multiple simulations.\n",
    "Direct storage of simulation results in a list of numpy arrays."
   ]
  },
  {
   "cell_type": "code",
   "execution_count": 43,
   "metadata": {
    "collapsed": false
   },
   "outputs": [
    {
     "data": {
      "text/plain": [
       "5.0"
      ]
     },
     "execution_count": 43,
     "metadata": {},
     "output_type": "execute_result"
    }
   ],
   "source": [
    "rr.Vmax_b1 # current value of Vmax_b1"
   ]
  },
  {
   "cell_type": "code",
   "execution_count": 46,
   "metadata": {
    "collapsed": false
   },
   "outputs": [
    {
     "name": "stdout",
     "output_type": "stream",
     "text": [
      "['b1', 'b2', 'b3', 'v1', 'v2', 'v3', 'v4']\n"
     ]
    }
   ],
   "source": [
    "# kinetic eqution of reaction b1\n",
    "rids = [r.getId() for r in model.getListOfReactions()]\n",
    "print rids\n",
    "r_b1 = model.getReaction('b1')"
   ]
  },
  {
   "cell_type": "code",
   "execution_count": 51,
   "metadata": {
    "collapsed": false
   },
   "outputs": [
    {
     "name": "stdout",
     "output_type": "stream",
     "text": [
      "b1 = scale_f * (Vmax_b1 / Km_A) * (A_out - A_in) / (1 + A_out / Km_A + A_in / Km_A)\n"
     ]
    }
   ],
   "source": [
    "klaw_b1 = r_b1.getKineticLaw()\n",
    "print 'b1 = {}'.format(klaw_b1.formula)"
   ]
  },
  {
   "cell_type": "code",
   "execution_count": 104,
   "metadata": {
    "collapsed": false
   },
   "outputs": [
    {
     "name": "stdout",
     "output_type": "stream",
     "text": [
      "-0.10972926831\n"
     ]
    },
    {
     "data": {
      "image/png": "[encoded data removed]",
      "text/plain": [
       "<matplotlib.figure.Figure at 0x7ff35623cad0>"
      ]
     },
     "metadata": {},
     "output_type": "display_data"
    }
   ],
   "source": [
    "reload(rt)\n",
    "??rt.simulation\n",
    "??np.random.normal\n",
    "# plt.hist(Vmax_test)\n",
    "# print min(Vmax_test)"
   ]
  },
  {
   "cell_type": "code",
   "execution_count": 119,
   "metadata": {
    "collapsed": false
   },
   "outputs": [
    {
     "name": "stdout",
     "output_type": "stream",
     "text": [
      "time : 1.18135404587 [s]\n"
     ]
    },
    {
     "data": {
      "image/png": "[encoded data removed]",
      "text/plain": [
       "<matplotlib.figure.Figure at 0x7ff355ccadd0>"
      ]
     },
     "metadata": {},
     "output_type": "display_data"
    }
   ],
   "source": [
    "import odesim.roadrunner.roadrunner_tools as rt\n",
    "import numpy as np\n",
    "import time\n",
    "\n",
    "# Create some parameter sampling\n",
    "# Vmax_test = np.linspace(start=0, stop=10, num=20)\n",
    "Vmax_test = np.random.normal(loc=5.0, scale=1.5, size=1000)\n",
    "Vmax_test = np.maximum(0.0, Vmax_test)\n",
    "\n",
    "t1 = time.time()\n",
    "results = []\n",
    "for Vmax in Vmax_test:\n",
    "    # create a parameter dict for the simulation\n",
    "    parameters = {'Vmax_b1': Vmax}\n",
    "    inits = {}\n",
    "    (s, _) = rt.simulation(rr, parameters, inits, t_start=0, t_stop=20, absTol=1e-08, relTol=1e-08, info=False)\n",
    "    results.append(s)\n",
    "plt.hist(Vmax_test, color='grey')\n",
    "print 'time : {} [s]'.format(time.time() - t1)"
   ]
  },
  {
   "cell_type": "markdown",
   "metadata": {},
   "source": [
    "Use matplotlib to plot the resulting curves."
   ]
  },
  {
   "cell_type": "code",
   "execution_count": 112,
   "metadata": {
    "collapsed": false
   },
   "outputs": [],
   "source": [
    "# print r_b1.toSBML()"
   ]
  },
  {
   "cell_type": "code",
   "execution_count": 113,
   "metadata": {
    "collapsed": false
   },
   "outputs": [
    {
     "data": {
      "image/png": "[encoded data removed]",
      "text/plain": [
       "<matplotlib.figure.Figure at 0x7ff354662d50>"
      ]
     },
     "metadata": {},
     "output_type": "display_data"
    }
   ],
   "source": [
    "import matplotlib.pyplot as plt\n",
    "for s in results:\n",
    "    # plt.plot(results[0].transpose())\n",
    "    plt.plot(s['time'], s['[A_out]'], color='black', alpha=0.4)\n",
    "    plt.xlim(0, 20)\n",
    "    plt.xlabel('time [s]')\n",
    "    plt.ylabel('[A_out] [mM]')"
   ]
  },
  {
   "cell_type": "code",
   "execution_count": 114,
   "metadata": {
    "collapsed": false
   },
   "outputs": [
    {
     "data": {
      "image/png": "[encoded data removed]",
      "text/plain": [
       "<matplotlib.figure.Figure at 0x7ff354cc1c10>"
      ]
     },
     "metadata": {},
     "output_type": "display_data"
    }
   ],
   "source": [
    "for s in results:\n",
    "    # plt.plot(results[0].transpose())\n",
    "    plt.plot(s['time'], s['[A_in]'], color='black', alpha=0.4)\n",
    "    plt.xlim(0, 20)\n",
    "    plt.xlabel('time [s]')\n",
    "    plt.ylabel('[A_out] [mM]')"
   ]
  },
  {
   "cell_type": "code",
   "execution_count": 117,
   "metadata": {
    "collapsed": false
   },
   "outputs": [
    {
     "data": {
      "text/plain": [
       "[<matplotlib.lines.Line2D at 0x7ff3546a6910>]"
      ]
     },
     "execution_count": 117,
     "metadata": {},
     "output_type": "execute_result"
    },
    {
     "data": {
      "image/png": "[encoded data removed]",
      "text/plain": [
       "<matplotlib.figure.Figure at 0x7ff355e4abd0>"
      ]
     },
     "metadata": {},
     "output_type": "display_data"
    }
   ],
   "source": [
    "peaks = [max(s['[A_in]']) for s in results]\n",
    "plt.plot(Vmax_test, peaks, 'o', color='black')"
   ]
  },
  {
   "cell_type": "markdown",
   "metadata": {},
   "source": [
    "### Repeated simulations with database backend\n",
    "\n",
    "For large scale simulations the data has to be stored efficiently in files (HDF5)."
   ]
  },
  {
   "cell_type": "code",
   "execution_count": 10,
   "metadata": {
    "collapsed": true
   },
   "outputs": [],
   "source": [
    "import django\n",
    "django.setup()"
   ]
  },
  {
   "cell_type": "code",
   "execution_count": null,
   "metadata": {
    "collapsed": true
   },
   "outputs": [],
   "source": []
  },
  {
   "cell_type": "code",
   "execution_count": 14,
   "metadata": {
    "collapsed": true
   },
   "outputs": [],
   "source": [
    "import odesim"
   ]
  },
  {
   "cell_type": "code",
   "execution_count": 16,
   "metadata": {
    "collapsed": false
   },
   "outputs": [
    {
     "name": "stdout",
     "output_type": "stream",
     "text": [
      "Koenig_demo_distributions_01.csv  Koenig demo network.ipynb  Koenig_demo.xml\r\n"
     ]
    }
   ],
   "source": [
    "ls"
   ]
  },
  {
   "cell_type": "code",
   "execution_count": 18,
   "metadata": {
    "collapsed": false
   },
   "outputs": [
    {
     "name": "stdout",
     "output_type": "stream",
     "text": [
      "('/home/mkoenig/multiscale-galactose/python/simulator/examples/demo', 'Koenig_demo.xml')\n",
      "Django model already exists! - model is not saved\n"
     ]
    }
   ],
   "source": [
    "model = django_model_from_file('Koenig_demo.xml', sync=False)"
   ]
  },
  {
   "cell_type": "code",
   "execution_count": null,
   "metadata": {
    "collapsed": true
   },
   "outputs": [],
   "source": []
  }
 ],
 "metadata": {
  "kernelspec": {
   "display_name": "Python 2",
   "language": "python",
   "name": "python2"
  },
  "language_info": {
   "codemirror_mode": {
    "name": "ipython",
    "version": 2
   },
   "file_extension": ".py",
   "mimetype": "text/x-python",
   "name": "python",
   "nbconvert_exporter": "python",
   "pygments_lexer": "ipython2",
   "version": "2.7.6"
  }
 },
 "nbformat": 4,
 "nbformat_minor": 0
}
