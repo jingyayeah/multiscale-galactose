{
 "cells": [
  {
   "cell_type": "markdown",
   "metadata": {},
   "source": [
    "# Graph for SBML network\n",
    "\n",
    "In the following a graph visualization of the SBML network is created.\n",
    "Good python graph libraries are `networkX` and`igraph`. \n",
    "\n",
    "* [networkx](https://networkx.github.io/), [docs](http://networkx.github.io/documentation/networkx-1.9.1/)\n",
    "* [igraph](http://igraph.org/redirect.html)\n",
    "\n",
    "Create a simple graph of the SBML network for demonstration."
   ]
  },
  {
   "cell_type": "code",
   "execution_count": 4,
   "metadata": {
    "collapsed": true
   },
   "outputs": [],
   "source": [
    "%matplotlib inline\n",
    "import libsbml\n",
    "import networkx as nx"
   ]
  },
  {
   "cell_type": "code",
   "execution_count": 5,
   "metadata": {
    "collapsed": false
   },
   "outputs": [
    {
     "name": "stdout",
     "output_type": "stream",
     "text": [
      "01_demo_simple.ipynb  02_demo_graph.ipynb  Koenig_demo_distributions_01.csv\r\n",
      "02_demo_django.ipynb  CyREST.ipynb\t   Koenig_demo.xml\r\n"
     ]
    }
   ],
   "source": [
    "!ls"
   ]
  },
  {
   "cell_type": "code",
   "execution_count": 6,
   "metadata": {
    "collapsed": true
   },
   "outputs": [],
   "source": [
    "doc = libsbml.readSBMLFromFile('Koenig_demo.xml')"
   ]
  },
  {
   "cell_type": "code",
   "execution_count": 7,
   "metadata": {
    "collapsed": false
   },
   "outputs": [
    {
     "name": "stdout",
     "output_type": "stream",
     "text": [
      "Koenig_demo\n"
     ]
    }
   ],
   "source": [
    "model = doc.getModel()\n",
    "print( model.getId() )"
   ]
  },
  {
   "cell_type": "markdown",
   "metadata": {},
   "source": [
    "### Node and edge types\n",
    "\n",
    "Define the allowed node and edge types for the graph."
   ]
  },
  {
   "cell_type": "code",
   "execution_count": 54,
   "metadata": {
    "collapsed": false
   },
   "outputs": [
    {
     "data": {
      "text/plain": [
       "'NodeType.SPECIES'"
      ]
     },
     "execution_count": 54,
     "metadata": {},
     "output_type": "execute_result"
    }
   ],
   "source": [
    "# from json import JSONEncoder\n",
    "\n",
    "from enum import IntEnum # use the IntEnum for JSON decodability\n",
    "class NodeType(IntEnum):\n",
    "    SPECIES = 0\n",
    "    REACTION = 1\n",
    "    \n",
    "\n",
    "class EdgeType(IntEnum):\n",
    "    REACTANT_REACTION = 0\n",
    "    REACTION_PRODUCT = 1\n",
    "    MODIFIER_REACTION = 2\n",
    "    \n",
    "json.dumps(NodeType.SPECIES)"
   ]
  },
  {
   "cell_type": "code",
   "execution_count": 46,
   "metadata": {
    "collapsed": false
   },
   "outputs": [
    {
     "data": {
      "text/plain": [
       "<NodeType.SPECIES: 0>"
      ]
     },
     "execution_count": 46,
     "metadata": {},
     "output_type": "execute_result"
    }
   ],
   "source": [
    "NodeType.SPECIES"
   ]
  },
  {
   "cell_type": "code",
   "execution_count": 61,
   "metadata": {
    "collapsed": false
   },
   "outputs": [
    {
     "name": "stdout",
     "output_type": "stream",
     "text": [
      "nodes: ['C_out', 'C_in', 'B_in', 'A_out', 'v1', 'v2', 'v3', 'v4', 'b1', 'b2', 'b3', 'B_out', 'A_in']\n",
      "edges: [('C_in', 'v3'), ('C_in', 'v4'), ('C_in', 'b3'), ('B_in', 'b2'), ('A_out', 'b1'), ('v1', 'B_in'), ('v2', 'C_in'), ('v3', 'A_in'), ('v4', 'B_in'), ('b1', 'A_in'), ('b2', 'B_out'), ('b3', 'C_out'), ('A_in', 'v1'), ('A_in', 'v2')]\n"
     ]
    }
   ],
   "source": [
    "import libsbml\n",
    "import networkx as nx\n",
    "\n",
    "def graph_from_sbml_model(model):\n",
    "    g = nx.DiGraph()\n",
    "    # add species nodes\n",
    "    for s in model.species:\n",
    "        g.add_node(s.id, name=s.name, compartment=s.compartment,\n",
    "                      node_type=NodeType.SPECIES)\n",
    "    # add reaction nodes\n",
    "    for r in model.reactions:\n",
    "        g.add_node(r.id, name=r.name, compartment=r.compartment,\n",
    "                      node_type=NodeType.REACTION)\n",
    "        # add the directed edges\n",
    "        for reactant in r.reactants:\n",
    "            g.add_edge(reactant.species, r.id, edge_type = EdgeType.REACTANT_REACTION)\n",
    "        for product in r.products:\n",
    "            g.add_edge(r.id, product.species, edge_type = EdgeType.REACTION_PRODUCT)\n",
    "        for modifier in r.modifiers:\n",
    "            g.add_edge(modifier.species, r.id, edge_type = EdgeType.MODIFIER_REACTION)\n",
    "    return g\n",
    "\n",
    "def graph_from_sbml_model_json(model):\n",
    "    g = nx.DiGraph()\n",
    "    # add species nodes\n",
    "    for s in model.species:\n",
    "        g.add_node(s.id, name=s.name, compartment=s.compartment,\n",
    "                      node_type='species')\n",
    "    # add reaction nodes\n",
    "    for r in model.reactions:\n",
    "        g.add_node(r.id, name=r.name, compartment=r.compartment,\n",
    "                      node_type='reaction')\n",
    "        # add the directed edges\n",
    "        for reactant in r.reactants:\n",
    "            g.add_edge(reactant.species, r.id, edge_type='reaction_reactant')\n",
    "        for product in r.products:\n",
    "            g.add_edge(r.id, product.species, edge_type='reaction_product')\n",
    "        for modifier in r.modifiers:\n",
    "            g.add_edge(modifier.species, r.id, edge_type='modifier_reaction')\n",
    "    return g\n",
    "    \n",
    "g = graph_from_sbml_model(model)  \n",
    "g1 = graph_from_sbml_model_json(model)  \n",
    "print 'nodes:', g.nodes()\n",
    "print 'edges:', g.edges()"
   ]
  },
  {
   "cell_type": "code",
   "execution_count": 48,
   "metadata": {
    "collapsed": false
   },
   "outputs": [
    {
     "name": "stdout",
     "output_type": "stream",
     "text": [
      "<function node_colors at 0x7f694ef2bed8>\n"
     ]
    },
    {
     "data": {
      "image/png": "[encoded data removed]",
      "text/plain": [
       "<matplotlib.figure.Figure at 0x7f694ef4e550>"
      ]
     },
     "metadata": {},
     "output_type": "display_data"
    }
   ],
   "source": [
    "def node_colors():\n",
    "    node_colors = []\n",
    "    for n in g.nodes():\n",
    "        if n.node_type == NodeType.SPECIES:\n",
    "            node_colors.append('grey')\n",
    "        elif n.node_type == NodeType.REACTION:\n",
    "            node_colors.append('red')\n",
    "        else:\n",
    "            node_colors.append('black')\n",
    "    return node_colors\n",
    "\n",
    "print node_colors\n",
    "nx.draw(g, node_color='grey', alpha=0.5)"
   ]
  },
  {
   "cell_type": "markdown",
   "metadata": {},
   "source": [
    "### Converting networkx -> JSON\n",
    "\n",
    "Necessary to provide networks in JSON format for Cytoscape. The networkx network has to be converted to the used format."
   ]
  },
  {
   "cell_type": "code",
   "execution_count": 49,
   "metadata": {
    "collapsed": true
   },
   "outputs": [],
   "source": [
    "import json"
   ]
  },
  {
   "cell_type": "code",
   "execution_count": 50,
   "metadata": {
    "collapsed": false
   },
   "outputs": [
    {
     "name": "stdout",
     "output_type": "stream",
     "text": [
      "{\n",
      "    \"elements\": {\n",
      "        \"nodes\": [], \n",
      "        \"edges\": []\n",
      "    }, \n",
      "    \"data\": {\n",
      "        \"name\": \"empty network\"\n",
      "    }\n",
      "}\n"
     ]
    }
   ],
   "source": [
    "# Manually generates JSON as dictionary\n",
    "empty_network = {\n",
    "        'data': {\n",
    "            'name': 'empty network'\n",
    "        },\n",
    "        'elements': {\n",
    "            'nodes':[],\n",
    "            'edges':[]\n",
    "        }\n",
    "}\n",
    "# Uncomment this if you want to see the actual JSON object\n",
    "print(json.dumps(empty_network, indent=4))"
   ]
  },
  {
   "cell_type": "code",
   "execution_count": 51,
   "metadata": {
    "collapsed": false
   },
   "outputs": [],
   "source": [
    "import copy\n",
    "\n",
    "# Create a copy of the empty network object\n",
    "small_network = copy.deepcopy(empty_network)\n",
    "\n",
    "# Sequence of letters (a-z)\n",
    "seq_letters = list(map(chr, range(ord('a'), ord('z')+1)))\n",
    "\n",
    "# Build nodes and edges (in functional way)\n",
    "build_node = lambda x: {'data': { 'id': x }}\n",
    "abc_nodes = map(build_node, seq_letters)\n",
    "\n",
    "build_edge = lambda x: {'data': { 'source': x, 'target': 'a' }}\n",
    "rand_edges = map(build_edge, seq_letters)\n",
    "\n",
    "small_network['elements']['nodes'] = abc_nodes\n",
    "small_network['elements']['edges'] = rand_edges\n",
    "small_network['data']['name'] = 'A is the hub.'\n",
    "\n",
    "# Uncomment this if you want to see the actual JSON object\n",
    "# print(json.dumps(small_network, indent=4))"
   ]
  },
  {
   "cell_type": "code",
   "execution_count": 52,
   "metadata": {
    "collapsed": true
   },
   "outputs": [],
   "source": [
    "import py2cytoscape"
   ]
  },
  {
   "cell_type": "code",
   "execution_count": 65,
   "metadata": {
    "collapsed": false
   },
   "outputs": [],
   "source": [
    "# Convert NetworkX Graph object \n",
    "\n",
    "g_json = py2cytoscape.util.from_networkx(g)\n",
    "g1_json = py2cytoscape.util.from_networkx(g1)\n",
    "    \n",
    "#print(json.dumps(g_json, indent=4))\n",
    "# print(json.dumps(g1_json, indent=4))"
   ]
  },
  {
   "cell_type": "markdown",
   "metadata": {},
   "source": [
    "## Using CyREST\n",
    "\n",
    "Using REST (REpresentational State Transfer) communication between python and Cytoscapes.\n",
    "A good REST introduction can be found at http://www.restapitutorial.com/lessons/whatisrest.html  \n",
    "REST is resource based, these resources are identified by URIs. The resources are separate from their representation. Typical representations are JSON or XML, but could also be CSV based.\n",
    "\n",
    "REST is stateless, the representation carries the state, must be cacheable.\n",
    "\n",
    "Now start Cytoscape to make connection via the REST interface."
   ]
  },
  {
   "cell_type": "code",
   "execution_count": 120,
   "metadata": {
    "collapsed": false
   },
   "outputs": [],
   "source": [
    "# HTTP Client for Python\n",
    "import requests\n",
    "\n",
    "# Standard JSON library\n",
    "import json\n",
    "\n",
    "# Basic Setup\n",
    "PORT_NUMBER = 1234\n",
    "BASE = 'http://localhost:' + str(PORT_NUMBER) + '/v1/'\n",
    "\n",
    "# Header for posting data to the server as JSON\n",
    "HEADERS = {'Content-Type': 'application/json'}"
   ]
  },
  {
   "cell_type": "code",
   "execution_count": 121,
   "metadata": {
    "collapsed": false
   },
   "outputs": [
    {
     "name": "stdout",
     "output_type": "stream",
     "text": [
      "{\n",
      "    \"memoryStatus\": {\n",
      "        \"usedMemory\": 226, \n",
      "        \"freeMemory\": 1737, \n",
      "        \"maxMemory\": 2336, \n",
      "        \"totalMemory\": 1963\n",
      "    }, \n",
      "    \"numberOfCores\": 4, \n",
      "    \"apiVersion\": \"v1\"\n",
      "}\n"
     ]
    }
   ],
   "source": [
    "# Get server status\n",
    "res = requests.get(BASE)\n",
    "res\n",
    "\n",
    "# some status information\n",
    "def json_response(obj):\n",
    "     return json.loads(obj.content);\n",
    "\n",
    "def print_json(obj):\n",
    "    obj_content = json_response(obj)\n",
    "    print(json.dumps(obj_content, indent=4))    \n",
    "\n",
    "print_json(res)"
   ]
  },
  {
   "cell_type": "code",
   "execution_count": 122,
   "metadata": {
    "collapsed": false
   },
   "outputs": [
    {
     "data": {
      "text/plain": [
       "<Response [204]>"
      ]
     },
     "execution_count": 122,
     "metadata": {},
     "output_type": "execute_result"
    }
   ],
   "source": [
    "# Start from a clean slate: remove all networks from current session\n",
    "requests.delete(BASE + 'networks')"
   ]
  },
  {
   "cell_type": "code",
   "execution_count": 123,
   "metadata": {
    "collapsed": false
   },
   "outputs": [
    {
     "name": "stdout",
     "output_type": "stream",
     "text": [
      "{\n",
      "    \"networkSUID\": 52\n",
      "}\n"
     ]
    }
   ],
   "source": [
    "# send the network and create image\n",
    "res1 = requests.post(BASE + 'networks', data=json.dumps(g1_json), headers=HEADERS)\n",
    "print_json(res1)"
   ]
  },
  {
   "cell_type": "code",
   "execution_count": 137,
   "metadata": {
    "collapsed": false
   },
   "outputs": [
    {
     "data": {
      "text/plain": [
       "<Response [200]>"
      ]
     },
     "execution_count": 137,
     "metadata": {},
     "output_type": "execute_result"
    }
   ],
   "source": [
    "res1_dict = json_response(res1)\n",
    "suid = res1_dict['networkSUID']\n",
    "\n",
    "# apply a layout\n",
    "requests.get(BASE + 'apply/layouts/force-directed/' + str(suid))"
   ]
  },
  {
   "cell_type": "code",
   "execution_count": 138,
   "metadata": {
    "collapsed": false
   },
   "outputs": [
    {
     "data": {
      "image/png": "[encoded data removed]",
      "text/plain": [
       "<IPython.core.display.Image object>"
      ]
     },
     "execution_count": 138,
     "metadata": {
      "image/png": {
       "width": 600
      }
     },
     "output_type": "execute_result"
    }
   ],
   "source": [
    "# create an image\n",
    "from IPython.display import Image\n",
    "Image(url=BASE+'networks/' + str(suid) + '/views/first.png', embed=True, width=600)"
   ]
  },
  {
   "cell_type": "markdown",
   "metadata": {},
   "source": [
    "### Visual Styles\n",
    "\n",
    "Define custom visual styles for the network."
   ]
  },
  {
   "cell_type": "code",
   "execution_count": 135,
   "metadata": {
    "collapsed": false
   },
   "outputs": [
    {
     "data": {
      "image/png": "[encoded data removed]",
      "text/plain": [
       "<IPython.core.display.Image object>"
      ]
     },
     "execution_count": 135,
     "metadata": {
      "image/png": {
       "width": 500
      }
     },
     "output_type": "execute_result"
    }
   ],
   "source": [
    "style_name = 'CYSBML'\n",
    "\n",
    "my_style = {\n",
    "  \"title\" : style_name,\n",
    "  \"defaults\" : [ {\n",
    "    \"visualProperty\" : \"EDGE_WIDTH\",\n",
    "    \"value\" : 2.0\n",
    "  }, {\n",
    "    \"visualProperty\" : \"EDGE_STROKE_UNSELECTED_PAINT\",\n",
    "    \"value\" : \"#555555\"\n",
    "  }, {\n",
    "    \"visualProperty\" : \"NODE_FILL_COLOR\",\n",
    "    \"value\" : \"#FFFFFF\"\n",
    "  },{\n",
    "    \"visualProperty\" : \"NODE_BORDER_WIDTH\",\n",
    "    \"value\" : 1\n",
    "  }, {\n",
    "    \"visualProperty\" : \"NODE_SIZE\",\n",
    "    \"value\" : 50\n",
    "  }],\n",
    "  \"mappings\" : [ {\n",
    "    \"mappingType\" : \"discrete\",\n",
    "    \"mappingColumn\" : \"node_type\",\n",
    "    \"mappingColumnType\" : \"String\",\n",
    "    \"visualProperty\" : \"NODE_FILL_COLOR\",\n",
    "    \"map\" : [ {\n",
    "      \"key\" : \"species\",\n",
    "      \"value\" : \"#eeeeee\"\n",
    "    }, {\n",
    "      \"key\" : \"reaction\",\n",
    "      \"value\" : \"#FFFFFF\"\n",
    "    } ]\n",
    "  }, {\n",
    "    \"mappingType\" : \"discrete\",\n",
    "    \"mappingColumn\" : \"node_type\",\n",
    "    \"mappingColumnType\" : \"String\",\n",
    "    \"visualProperty\" : \"NODE_SHAPE\",\n",
    "    \"map\" : [ {\n",
    "      \"key\" : \"species\",\n",
    "      \"value\" : \"ELLIPSE\"\n",
    "    }, {\n",
    "      \"key\" : \"reaction\",\n",
    "      \"value\" : \"DIAMOND\"\n",
    "    } ]\n",
    "  }, {\n",
    "    \"mappingType\" : \"passthrough\",\n",
    "    \"mappingColumn\" : \"name\",\n",
    "    \"mappingColumnType\" : \"String\",\n",
    "    \"visualProperty\" : \"NODE_LABEL\"\n",
    "  }, {\n",
    "    \"mappingType\" : \"discrete\",\n",
    "    \"mappingColumn\" : \"node_type\",\n",
    "    \"mappingColumnType\" : \"String\",\n",
    "    \"visualProperty\" : \"NODE_SIZE\",\n",
    "    \"map\" : [ {\n",
    "      \"key\" : \"species\",\n",
    "      \"value\" : \"50\"\n",
    "    }, {\n",
    "      \"key\" : \"reaction\",\n",
    "      \"value\" : \"40\"\n",
    "    } ]\n",
    "  }, {\n",
    "    \"mappingType\" : \"discrete\",\n",
    "    \"mappingColumn\" : \"edge_type\",\n",
    "    \"mappingColumnType\" : \"String\",\n",
    "    \"visualProperty\" : \"EDGE_TARGET_ARROW_SHAPE\",\n",
    "    \"map\" : [ {\n",
    "      \"key\" : \"reaction_product\",\n",
    "      \"value\" : \"DELTA\"\n",
    "    }, {\n",
    "      \"key\" : \"reaction_reactant\",\n",
    "      \"value\" : \"NONE\"\n",
    "    } ]\n",
    "  },\n",
    "                \n",
    "    ]\n",
    "}\n",
    "\n",
    "# Delete all style\n",
    "requests.delete(BASE + \"styles\")\n",
    "\n",
    "# Create new Visual Style\n",
    "requests.post(BASE + \"styles\", data=json.dumps(my_style), headers=HEADERS)\n",
    "\n",
    "# Apply it to current netwrok\n",
    "requests.get(BASE + 'apply/styles/' + style_name + '/' + str(suid))\n",
    "\n",
    "# Display it here!\n",
    "Image(url=BASE+'networks/' + str(suid) + '/views/first.png', embed=True, width=500)"
   ]
  },
  {
   "cell_type": "markdown",
   "metadata": {},
   "source": [
    "## Using CyRest js for the visualization\n",
    "\n",
    "Although cyREST can create PNG image stream from network view, you may want to see networks as interactive visualizations in some situations.  By using py2cytoscape, you can visualize your networks in simple embedded Cytoscape.js widgets.\n",
    "\n",
    "### System Requirments\n",
    "* [Java 7+](http://www.oracle.com/technetwork/java/javase/downloads/jdk7-downloads-1880260.html)\n",
    "* [Cytoscape 3.1.1 or later](http://cytoscape.org/download.html)\n",
    "* [py2cytoscape](https://pypi.python.org/pypi/py2cytoscape)\n"
   ]
  },
  {
   "cell_type": "code",
   "execution_count": 97,
   "metadata": {
    "collapsed": false
   },
   "outputs": [],
   "source": [
    "from IPython.html.widgets import interact\n",
    "from IPython.html.widgets import *\n",
    "from IPython.html import widgets\n",
    "\n",
    "# Package to render networks in Cytoscape.js\n",
    "from py2cytoscape import cytoscapejs as cyjs\n",
    "\n",
    "import json"
   ]
  },
  {
   "cell_type": "code",
   "execution_count": 98,
   "metadata": {
    "collapsed": false
   },
   "outputs": [
    {
     "name": "stdout",
     "output_type": "stream",
     "text": [
      "layouts: ['Breadthfirst', 'Circle', 'Concentric', 'Grid', 'Preset', 'Spring']\n",
      "styles: [u'Big Labels', u'Directed', u'Minimal', u'Ripple', u'Sample1', u'Solid', u'default', u'default2']\n"
     ]
    }
   ],
   "source": [
    "networks = {}\n",
    "# Layouts\n",
    "layouts = cyjs.get_layouts()\n",
    "print 'layouts:', sorted(layouts.iterkeys())\n",
    "\n",
    "styles = cyjs.styles\n",
    "print 'styles:', sorted(styles.iterkeys())"
   ]
  },
  {
   "cell_type": "code",
   "execution_count": 99,
   "metadata": {
    "collapsed": true
   },
   "outputs": [],
   "source": [
    "def render_graph(Network, Style, Layout):\n",
    "    cyjs.render(Network, Style, Layout)"
   ]
  },
  {
   "cell_type": "code",
   "execution_count": 107,
   "metadata": {
    "collapsed": false
   },
   "outputs": [
    {
     "data": {
      "text/html": [
       "<!DOCTYPE html>\n",
       "<html>\n",
       "\n",
       "<head>\n",
       "    <meta charset=utf-8 />\n",
       "    <style type=\"text/css\">\n",
       "      body {\n",
       "          font: 14px helvetica neue, helvetica, arial, sans-serif;\n",
       "      }\n",
       "\n",
       "      #cy170ee48d-5778-4ce4-ae31-7a1f8c44ee83 {\n",
       "        height: 700px;\n",
       "        width: 1098px;\n",
       "        position: absolute;\n",
       "        left: 4px;\n",
       "        top: 5px;\n",
       "        background: #FFFFFF;\n",
       "      }\n",
       "    </style>\n",
       "\n",
       "    <script>\n",
       "    (function() {\n",
       "      function render() {\n",
       "        $('#cy170ee48d-5778-4ce4-ae31-7a1f8c44ee83').cytoscape({\n",
       "            elements: {\n",
       "                nodes: [{\"data\": {\"node_type\": \"species\", \"compartment\": \"inside\", \"name\": \"C_out\", \"id\": \"C_out\"}}, {\"data\": {\"node_type\": \"species\", \"compartment\": \"inside\", \"name\": \"C_in\", \"id\": \"C_in\"}}, {\"data\": {\"node_type\": \"species\", \"compartment\": \"inside\", \"name\": \"B_in\", \"id\": \"B_in\"}}, {\"data\": {\"node_type\": \"species\", \"compartment\": \"inside\", \"name\": \"A_out\", \"id\": \"A_out\"}}, {\"data\": {\"node_type\": \"reaction\", \"compartment\": \"\", \"name\": \"v1\", \"id\": \"v1\"}}, {\"data\": {\"node_type\": \"reaction\", \"compartment\": \"\", \"name\": \"v2\", \"id\": \"v2\"}}, {\"data\": {\"node_type\": \"reaction\", \"compartment\": \"\", \"name\": \"v3\", \"id\": \"v3\"}}, {\"data\": {\"node_type\": \"reaction\", \"compartment\": \"\", \"name\": \"v4\", \"id\": \"v4\"}}, {\"data\": {\"node_type\": \"reaction\", \"compartment\": \"\", \"name\": \"b1\", \"id\": \"b1\"}}, {\"data\": {\"node_type\": \"reaction\", \"compartment\": \"\", \"name\": \"b2\", \"id\": \"b2\"}}, {\"data\": {\"node_type\": \"reaction\", \"compartment\": \"\", \"name\": \"b3\", \"id\": \"b3\"}}, {\"data\": {\"node_type\": \"species\", \"compartment\": \"inside\", \"name\": \"B_out\", \"id\": \"B_out\"}}, {\"data\": {\"node_type\": \"species\", \"compartment\": \"inside\", \"name\": \"A_in\", \"id\": \"A_in\"}}],\n",
       "                edges: [{\"data\": {\"source\": \"C_in\", \"edge_type\": \"reaction_reactant\", \"target\": \"v3\"}}, {\"data\": {\"source\": \"C_in\", \"edge_type\": \"reaction_reactant\", \"target\": \"v4\"}}, {\"data\": {\"source\": \"C_in\", \"edge_type\": \"reaction_reactant\", \"target\": \"b3\"}}, {\"data\": {\"source\": \"B_in\", \"edge_type\": \"reaction_reactant\", \"target\": \"b2\"}}, {\"data\": {\"source\": \"A_out\", \"edge_type\": \"reaction_reactant\", \"target\": \"b1\"}}, {\"data\": {\"source\": \"v1\", \"edge_type\": \"reaction_product\", \"target\": \"B_in\"}}, {\"data\": {\"source\": \"v2\", \"edge_type\": \"reaction_product\", \"target\": \"C_in\"}}, {\"data\": {\"source\": \"v3\", \"edge_type\": \"reaction_product\", \"target\": \"A_in\"}}, {\"data\": {\"source\": \"v4\", \"edge_type\": \"reaction_product\", \"target\": \"B_in\"}}, {\"data\": {\"source\": \"b1\", \"edge_type\": \"reaction_product\", \"target\": \"A_in\"}}, {\"data\": {\"source\": \"b2\", \"edge_type\": \"reaction_product\", \"target\": \"B_out\"}}, {\"data\": {\"source\": \"b3\", \"edge_type\": \"reaction_product\", \"target\": \"C_out\"}}, {\"data\": {\"source\": \"A_in\", \"edge_type\": \"reaction_reactant\", \"target\": \"v1\"}}, {\"data\": {\"source\": \"A_in\", \"edge_type\": \"reaction_reactant\", \"target\": \"v2\"}}]\n",
       "            },\n",
       "\n",
       "            layout: {\n",
       "                name: 'cose'\n",
       "            },\n",
       "\n",
       "            ready: function() {\n",
       "                window.cy = this;\n",
       "                cy.fit();\n",
       "                cy.style().fromJson([{\"css\": {\"text-opacity\": 1.0, \"background-opacity\": 1.0, \"font-weight\": \"normal\", \"color\": \"rgb(0,153,204)\", \"border-width\": 5.0, \"border-color\": \"rgb(51,51,51)\", \"font-size\": 8, \"height\": 40.0, \"content\": \"data(name)\", \"width\": 40.0, \"shape\": \"ellipse\", \"background-color\": \"rgb(255,255,255)\", \"text-halign\": \"center\", \"font-family\": \"SansSerif\", \"text-valign\": \"center\", \"border-opacity\": 1.0}, \"selector\": \"node\"}, {\"css\": {\"background-color\": \"rgb(255,0,102)\"}, \"selector\": \"node:selected\"}, {\"css\": {\"opacity\": 1.0, \"text-opacity\": 1.0, \"font-size\": 12, \"font-weight\": \"normal\", \"target-arrow-shape\": \"triangle\", \"source-arrow-shape\": \"none\", \"color\": \"rgb(0,0,0)\", \"source-arrow-color\": \"rgb(0,0,0)\", \"line-color\": \"rgb(51,51,51)\", \"content\": \"data(interaction)\", \"width\": 2.0, \"line-style\": \"solid\", \"font-family\": \"SansSerif\", \"target-arrow-color\": \"rgb(51,51,51)\"}, \"selector\": \"edge\"}, {\"css\": {\"line-color\": \"rgb(255,0,0)\"}, \"selector\": \"edge:selected\"}]).update();\n",
       "            }\n",
       "        });\n",
       "      }\n",
       "\n",
       "      var before_render = function(){\n",
       "        if(window['cytoscape'] === undefined){\n",
       "          console.log(\"waiting for Cyjs!\");\n",
       "          window.addEventListener(\"load_cytoscape\", before_render);\n",
       "        } else {\n",
       "          console.log(\"Ready to render graph...\");\n",
       "          render();\n",
       "        }\n",
       "      }\n",
       "\n",
       "      before_render();\n",
       "\n",
       "    })();\n",
       "    </script>\n",
       "</head>\n",
       "\n",
       "<body>\n",
       "  <div id=\"cy170ee48d-5778-4ce4-ae31-7a1f8c44ee83\"></div>\n",
       "  <!-- When only #uuid div is placed on this page, the height of output-box on ipynb will be 0px. One line below will prevent that. -->\n",
       "  <div id=\"dummy\" style=\"width:1098px;height:700px\">\n",
       "</body>\n",
       "\n",
       "</html>"
      ],
      "text/plain": [
       "<IPython.core.display.HTML object>"
      ]
     },
     "metadata": {},
     "output_type": "display_data"
    }
   ],
   "source": [
    "render_graph(Network=g1_json, \n",
    "             Style=styles['Directed'], Layout=layouts['Spring'])"
   ]
  },
  {
   "cell_type": "code",
   "execution_count": null,
   "metadata": {
    "collapsed": true
   },
   "outputs": [],
   "source": []
  }
 ],
 "metadata": {
  "kernelspec": {
   "display_name": "Python 2",
   "language": "python",
   "name": "python2"
  },
  "language_info": {
   "codemirror_mode": {
    "name": "ipython",
    "version": 2
   },
   "file_extension": ".py",
   "mimetype": "text/x-python",
   "name": "python",
   "nbconvert_exporter": "python",
   "pygments_lexer": "ipython2",
   "version": "2.7.6"
  }
 },
 "nbformat": 4,
 "nbformat_minor": 0
}
