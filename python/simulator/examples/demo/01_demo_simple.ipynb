{
 "cells": [
  {
   "cell_type": "markdown",
   "metadata": {},
   "source": [
    "# Introduction to kinetic modeling with SBML\n",
    "\n",
    "Kinetic modeling based on ordinary differential equations (ODE) plays an important role in computational biology. An important aspect of such models is its reusability and the reproducibility of the results. An important step towards reproducible and understandable models was the introduction of standard formats for model description (SBML, CellML, BioPax) and guidlines for model description (MIRIAM) and simulation description (MIASE) were developed. These standards are currently supported by a wide range of libraries and software tools, providing a rich environment for the work with such models.  \n",
    "In addition to standard formats, IPython notebooks provide the visual framework for representing model setup, simulation and results in a unified and reproducible way.\n",
    "\n",
    "This notebook demonstrates the basic work with computational models based on the Systems Biology Markup Language (SBML), the de facto standard for kinetic models in biology.  \n",
    "As part of the introduction standard tools in python for the interaction with SBML based models are presented, like libSBML, Antimony and RoadRunner. ODE simulations are demonstrated."
   ]
  },
  {
   "cell_type": "code",
   "execution_count": 58,
   "metadata": {
    "collapsed": false
   },
   "outputs": [],
   "source": [
    "%matplotlib inline\n",
    "import numpy as np\n",
    "import matplotlib.pyplot as plt"
   ]
  },
  {
   "cell_type": "markdown",
   "metadata": {},
   "source": [
    "## libSBML\n",
    "An important part of the work with SBML is the possibilty to modify models.  \n",
    "Some GUI based modeling environments are available, like CellDesigner or BioUML.  \n",
    "To programatically interact with SBML the SBML library libSBML (http://www.sbml.org) is the option of choice."
   ]
  },
  {
   "cell_type": "code",
   "execution_count": 7,
   "metadata": {
    "collapsed": false
   },
   "outputs": [
    {
     "name": "stdout",
     "output_type": "stream",
     "text": [
      "01_demo_simple.ipynb  Koenig_demo_distributions_01.csv\r\n",
      "02_demo_django.ipynb  Koenig_demo.xml\r\n"
     ]
    }
   ],
   "source": [
    "!ls    # available files"
   ]
  },
  {
   "cell_type": "markdown",
   "metadata": {},
   "source": [
    "Loading model with libsbml and inspect main model features."
   ]
  },
  {
   "cell_type": "code",
   "execution_count": 9,
   "metadata": {
    "collapsed": true
   },
   "outputs": [],
   "source": [
    "import libsbml"
   ]
  },
  {
   "cell_type": "code",
   "execution_count": 10,
   "metadata": {
    "collapsed": false
   },
   "outputs": [
    {
     "name": "stdout",
     "output_type": "stream",
     "text": [
      "<Model Koenig_demo \"Koenig2014_demo_kinetic_v7\">\n"
     ]
    }
   ],
   "source": [
    "doc = libsbml.readSBMLFromFile(\"Koenig_demo.xml\") \n",
    "model = doc.getModel()\n",
    "print model"
   ]
  },
  {
   "cell_type": "markdown",
   "metadata": {},
   "source": [
    "Print model information like model id, and listOfSpecies"
   ]
  },
  {
   "cell_type": "code",
   "execution_count": 12,
   "metadata": {
    "collapsed": false
   },
   "outputs": [
    {
     "name": "stdout",
     "output_type": "stream",
     "text": [
      "Koenig_demo\n",
      "<ListOfSpecies[6]>\n",
      "A_in A inside mole\n",
      "B_in B inside mole\n",
      "C_in C inside mole\n",
      "A_out A outside mole\n",
      "B_out B outside mole\n",
      "C_out C outside mole\n"
     ]
    }
   ],
   "source": [
    "print(model.getId())\n",
    "print(model.getListOfSpecies())\n",
    "for s in model.getListOfSpecies():\n",
    "    print s.getId(), s.getName(), s.getUnits()"
   ]
  },
  {
   "cell_type": "markdown",
   "metadata": {},
   "source": [
    "## Antimony\n",
    "\n",
    "Loading SBML with Antimony and get human readable representation of the information."
   ]
  },
  {
   "cell_type": "code",
   "execution_count": 14,
   "metadata": {
    "collapsed": false
   },
   "outputs": [
    {
     "name": "stdout",
     "output_type": "stream",
     "text": [
      "('__main', 'Koenig_demo')\n"
     ]
    }
   ],
   "source": [
    "import libantimony\n",
    "libantimony.loadSBMLFile('Koenig_demo.xml')\n",
    "mod_names = libantimony.getModuleNames()\n",
    "print mod_names"
   ]
  },
  {
   "cell_type": "code",
   "execution_count": 15,
   "metadata": {
    "collapsed": false
   },
   "outputs": [
    {
     "name": "stdout",
     "output_type": "stream",
     "text": [
      "//Created by libAntimony v2.7.0\n",
      "model *Koenig_demo()\n",
      "\n",
      "  // Compartments and Species:\n",
      "  compartment outside, inside;\n",
      "  species A_in in inside, B_in in inside, C_in in inside, A_out in inside;\n",
      "  species B_out in inside, C_out in inside;\n",
      "\n",
      "  // Reactions:\n",
      "  b1: A_out => A_in; (scale_f*(Vmax_b1/Km_A)*(A_out - A_in))/(1 + A_out/Km_A + A_in/Km_A);\n",
      "  b2: B_in => B_out; (scale_f*(Vmax_b2/Km_B)*(B_in - B_out))/(1 + B_out/Km_B + B_in/Km_B);\n",
      "  b3: C_in => C_out; (scale_f*(Vmax_b3/Km_C)*(C_in - C_out))/(1 + C_out/Km_C + C_in/Km_C);\n",
      "  v1: A_in -> B_in; (scale_f*Vmax_v1)/Km_A*(A_in - 1/Keq_v1*B_in);\n",
      "  v2: A_in -> C_in; (scale_f*Vmax_v2)/Km_A*A_in;\n",
      "  v3: C_in -> A_in; (scale_f*Vmax_v3)/Km_A*C_in;\n",
      "  v4: C_in -> B_in; (scale_f*Vmax_v4)/Km_A*(C_in - 1/Keq_v4*B_in);\n",
      "\n",
      "  // Species initializations:\n",
      "  A_in = 0;\n",
      "  A_in has mM;\n",
      "  B_in = 0;\n",
      "  B_in has mM;\n",
      "  C_in = 0;\n",
      "  C_in has mM;\n",
      "  A_out = 10;\n",
      "  A_out has mM;\n",
      "  B_out = 0;\n",
      "  B_out has mM;\n",
      "  C_out = 0;\n",
      "  C_out has mM;\n",
      "\n",
      "  // Compartment initializations:\n",
      "  outside = 1e-06;\n",
      "  outside has m3;\n",
      "  inside = 1e-06;\n",
      "  inside has m3;\n",
      "\n",
      "  // Variable initializations:\n",
      "  scale_f = 1e-06;\n",
      "  scale_f has dimensionless;\n",
      "  Vmax_b1 = 5;\n",
      "  Vmax_b1 has mole_per_s;\n",
      "  Km_A = 1;\n",
      "  Km_A has mM;\n",
      "  Vmax_b2 = 2;\n",
      "  Vmax_b2 has mole_per_s;\n",
      "  Km_B = 0.5;\n",
      "  Km_B has mM;\n",
      "  Vmax_b3 = 2;\n",
      "  Vmax_b3 has mole_per_s;\n",
      "  Km_C = 3;\n",
      "  Km_C has mM;\n",
      "  Vmax_v1 = 1;\n",
      "  Vmax_v1 has mole_per_s;\n",
      "  Keq_v1 = 10;\n",
      "  Keq_v1 has dimensionless;\n",
      "  Vmax_v2 = 0.5;\n",
      "  Vmax_v2 has mole_per_s;\n",
      "  Vmax_v3 = 0.5;\n",
      "  Vmax_v3 has mole_per_s;\n",
      "  Vmax_v4 = 0.5;\n",
      "  Vmax_v4 has mole_per_s;\n",
      "  Keq_v4 = 2;\n",
      "  Keq_v4 has dimensionless;\n",
      "\n",
      "  // Other declarations:\n",
      "  const outside, inside, scale_f, Vmax_b1, Km_A, Vmax_b2, Km_B, Vmax_b3, Km_C;\n",
      "  const Vmax_v1, Keq_v1, Vmax_v2, Vmax_v3, Vmax_v4, Keq_v4;\n",
      "\n",
      "  // Unit definitions:\n",
      "  unit mM = mole / metre^3;\n",
      "  unit m3 = metre^3;\n",
      "  unit mole_per_s = mole / second;\n",
      "  unit substance = mole;\n",
      "  unit volume = metre^3;\n",
      "  unit area = metre^2;\n",
      "  unit length = metre;\n",
      "  unit extent = mole;\n",
      "\n",
      "  // Display Names:\n",
      "  outside is \"Outer Compartment\";\n",
      "  inside is \"Inner Compartment\";\n",
      "  A_in is \"A inside\";\n",
      "  B_in is \"B inside\";\n",
      "  C_in is \"C inside\";\n",
      "  A_out is \"A outside\";\n",
      "  B_out is \"B outside\";\n",
      "  C_out is \"C outside\";\n",
      "  b1 is \"A import\";\n",
      "  b2 is \"B export\";\n",
      "  b3 is \"C export\";\n",
      "  v1 is \"A -> B\";\n",
      "  v2 is \"A -> C\";\n",
      "  v3 is \"C -> A\";\n",
      "  v4 is \"C -> B\";\n",
      "end\n",
      "\n"
     ]
    }
   ],
   "source": [
    "ant_string = libantimony.getAntimonyString('Koenig_demo')\n",
    "print(ant_string)"
   ]
  },
  {
   "cell_type": "markdown",
   "metadata": {},
   "source": [
    "## RoadRunner simulations\n",
    "\n",
    "Example simulations with the demo network.\n",
    "First import roadrunner for simulations.\n",
    "\n",
    "TODO: provide proper packages for imports of the individual components."
   ]
  },
  {
   "cell_type": "code",
   "execution_count": 16,
   "metadata": {
    "collapsed": false
   },
   "outputs": [
    {
     "data": {
      "text/plain": [
       "'1.3; Compiler: gcc 4.6.3, C++ version: 1; JIT Compiler: LLVM-3.4; Date: Jan 12 2015, 16:43:38'"
      ]
     },
     "execution_count": 16,
     "metadata": {},
     "output_type": "execute_result"
    }
   ],
   "source": [
    "import roadrunner\n",
    "roadrunner.getVersionStr()"
   ]
  },
  {
   "cell_type": "markdown",
   "metadata": {},
   "source": [
    "Loading the model and performing a simple time course simulation."
   ]
  },
  {
   "cell_type": "code",
   "execution_count": 18,
   "metadata": {
    "collapsed": false
   },
   "outputs": [
    {
     "data": {
      "image/png": "[encoded data removed]",
      "text/plain": [
       "<matplotlib.figure.Figure at 0x7f4f46a710d0>"
      ]
     },
     "metadata": {},
     "output_type": "display_data"
    },
    {
     "data": {
      "text/plain": [
       "    time,   [A_in],    [B_in],    [C_in],  [A_out],   [B_out],    [C_out]\n",
       " [[    0,        0,         0,         0,       10,         0,          0],\n",
       "  [  0.2, 0.722291, 0.0636592, 0.0359636,  9.16249, 0.0139675, 0.00162488],\n",
       "  [  0.4,  1.17055,  0.201192,  0.115256,  8.43493, 0.0676093,  0.0104605],\n",
       "  [  0.6,  1.44715,  0.380665,  0.211106,  7.78432,  0.148245,  0.0285142],\n",
       "  [  0.8,  1.61452,  0.583941,  0.310233,  7.19123,  0.244987,  0.0550899],\n",
       "  [    1,  1.71135,  0.799307,  0.406296,  6.64383,  0.350635,  0.0885847],\n",
       "  [  1.2,  1.76188,   1.01801,   0.49659,   6.1348,  0.461449,    0.12728],\n",
       "  [  1.4,  1.78147,   1.23435,    0.5801,  5.65954,  0.574888,   0.169664],\n",
       "  [  1.6,   1.7799,   1.44434,  0.656713,  5.21515,  0.689422,    0.21448],\n",
       "  [  1.8,  1.76358,   1.64545,  0.726598,  4.79972,  0.803894,   0.260748],\n",
       "  [    2,  1.73685,   1.83601,  0.790009,  4.41194,  0.917468,   0.307715],\n",
       "  [  2.2,  1.70218,     2.015,  0.847488,  4.05102,   1.02958,   0.354739],\n",
       "  [  2.4,  1.66176,   2.18173,  0.899281,   3.7161,   1.13974,    0.40138],\n",
       "  [  2.6,  1.61697,   2.33589,  0.945748,  3.40652,   1.24761,   0.447262],\n",
       "  [  2.8,  1.56884,   2.47741,  0.987207,  3.12158,   1.35287,   0.492097],\n",
       "  [    3,  1.51826,   2.60635,   1.02399,  2.86046,   1.45529,   0.535641],\n",
       "  [  3.2,  1.46626,   2.72289,   1.05629,  2.62215,   1.55468,   0.577739],\n",
       "  [  3.4,  1.41341,    2.8274,   1.08442,  2.40567,   1.65086,   0.618235],\n",
       "  [  3.6,   1.3604,   2.92036,   1.10866,  2.20983,   1.74371,    0.65703],\n",
       "  [  3.8,  1.30769,   3.00236,   1.12934,  2.03347,   1.83312,   0.694035],\n",
       "  [    4,  1.25608,   3.07395,   1.14665,   1.8751,     1.919,   0.729208],\n",
       "  [  4.2,  1.20608,   3.13583,   1.16091,  1.73336,   2.00131,   0.762518],\n",
       "  [  4.4,  1.15786,    3.1888,   1.17245,  1.60695,      2.08,   0.793944],\n",
       "  [  4.6,   1.1119,   3.23358,   1.18154,  1.49443,   2.15507,   0.823492],\n",
       "  [  4.8,  1.06839,   3.27096,   1.18846,  1.39448,   2.22653,   0.851181],\n",
       "  [    5,  1.02769,   3.30165,   1.19348,  1.30573,    2.2944,   0.877047],\n",
       "  [  5.2, 0.989636,   3.32648,   1.19689,  1.22713,   2.35874,   0.901129],\n",
       "  [  5.4, 0.954249,   3.34616,   1.19892,  1.15758,    2.4196,   0.923484],\n",
       "  [  5.6, 0.921441,   3.36139,   1.19982,   1.0961,   2.47707,   0.944172],\n",
       "  [  5.8, 0.891354,   3.37274,   1.19975,  1.04165,   2.53125,   0.963266],\n",
       "  [    6, 0.863878,   3.38077,   1.19888, 0.993397,   2.58223,    0.98084],\n",
       "  [  6.2, 0.838626,   3.38607,   1.19742, 0.950781,   2.63013,   0.996969],\n",
       "  [  6.4,  0.81567,   3.38906,   1.19546, 0.912998,   2.67508,    1.01174],\n",
       "  [  6.6, 0.794846,   3.39014,   1.19312, 0.879481,   2.71719,    1.02522],\n",
       "  [  6.8, 0.776142,   3.38965,   1.19049, 0.849617,    2.7566,     1.0375],\n",
       "  [    7, 0.759119,   3.38795,   1.18768, 0.823144,   2.79344,    1.04866],\n",
       "  [  7.2, 0.743629,   3.38533,   1.18477, 0.799669,   2.82784,    1.05877],\n",
       "  [  7.4,  0.72944,   3.38201,   1.18181, 0.778903,   2.85992,    1.06791],\n",
       "  [  7.6, 0.716683,   3.37815,   1.17883, 0.760359,   2.88983,    1.07615],\n",
       "  [  7.8, 0.705212,   3.37391,   1.17585, 0.743788,   2.91768,    1.08356],\n",
       "  [    8,  0.69507,   3.36937,    1.1729, 0.728843,   2.94361,    1.09021],\n",
       "  [  8.2, 0.685784,   3.36475,   1.17003, 0.715569,   2.96772,    1.09615],\n",
       "  [  8.4, 0.677159,   3.36013,   1.16728, 0.703853,   2.99013,    1.10145],\n",
       "  [  8.6, 0.669422,   3.35552,   1.16461, 0.693321,   3.01096,    1.10616],\n",
       "  [  8.8,   0.6625,   3.35099,   1.16204, 0.683828,   3.03031,    1.11034],\n",
       "  [    9, 0.656426,   3.34654,   1.15956, 0.675176,   3.04827,    1.11402],\n",
       "  [  9.2, 0.650854,   3.34228,    1.1572, 0.667454,   3.06495,    1.11726],\n",
       "  [  9.4, 0.645717,   3.33822,   1.15497, 0.660571,   3.08043,     1.1201],\n",
       "  [  9.6,  0.64099,   3.33437,   1.15287, 0.654423,   3.09479,    1.12256],\n",
       "  [  9.8, 0.636692,   3.33073,   1.15087, 0.648892,   3.10811,     1.1247],\n",
       "  [   10, 0.632858,   3.32729,   1.14898, 0.643856,   3.12047,    1.12654],\n",
       "  [ 10.2, 0.629425,   3.32405,   1.14719, 0.639274,   3.13195,    1.12811],\n",
       "  [ 10.4, 0.626262,   3.32104,    1.1455,  0.63516,   3.14259,    1.12945],\n",
       "  [ 10.6, 0.623459,   3.31821,   1.14391, 0.631387,   3.15247,    1.13056],\n",
       "  [ 10.8, 0.620872,    3.3156,   1.14241, 0.627998,   3.16164,    1.13148],\n",
       "  [   11, 0.618474,   3.31318,   1.14101, 0.624959,   3.17015,    1.13223],\n",
       "  [ 11.2, 0.616282,   3.31095,   1.13969, 0.622206,   3.17805,    1.13282],\n",
       "  [ 11.4, 0.614302,   3.30889,   1.13845, 0.619696,   3.18538,    1.13328],\n",
       "  [ 11.6, 0.612503,     3.307,   1.13728, 0.617411,    3.1922,    1.13361],\n",
       "  [ 11.8,  0.61087,   3.30526,   1.13618, 0.615327,   3.19852,    1.13384],\n",
       "  [   12, 0.609396,   3.30366,   1.13515,  0.61342,    3.2044,    1.13397],\n",
       "  [ 12.2, 0.608009,    3.3022,   1.13419, 0.611709,   3.20987,    1.13402],\n",
       "  [ 12.4, 0.606732,   3.30087,   1.13328, 0.610158,   3.21495,      1.134],\n",
       "  [ 12.6, 0.605618,   3.29965,   1.13243, 0.608703,   3.21968,    1.13392],\n",
       "  [ 12.8, 0.604593,   3.29854,   1.13163,  0.60738,   3.22408,    1.13378],\n",
       "  [   13, 0.603684,   3.29753,   1.13087,  0.60615,   3.22817,     1.1336],\n",
       "  [ 13.2, 0.602808,   3.29661,   1.13017, 0.605056,   3.23199,    1.13337],\n",
       "  [ 13.4, 0.601908,    3.2958,   1.12952, 0.604123,   3.23554,    1.13311],\n",
       "  [ 13.6, 0.601099,   3.29506,    1.1289, 0.603258,   3.23885,    1.13282],\n",
       "  [ 13.8, 0.600452,   3.29438,   1.12831, 0.602399,   3.24194,    1.13252],\n",
       "  [   14, 0.599897,   3.29376,   1.12776, 0.601583,   3.24482,    1.13219],\n",
       "  [ 14.2, 0.599366,    3.2932,   1.12724, 0.600849,   3.24751,    1.13184],\n",
       "  [ 14.4, 0.598766,   3.29272,   1.12676, 0.600256,   3.25002,    1.13149],\n",
       "  [ 14.6, 0.598312,   3.29226,    1.1263, 0.599641,   3.25236,    1.13112],\n",
       "  [ 14.8, 0.597885,   3.29186,   1.12587, 0.599081,   3.25455,    1.13075],\n",
       "  [   15, 0.597471,    3.2915,   1.12546, 0.598582,    3.2566,    1.13038],\n",
       "  [ 15.2, 0.597078,   3.29118,   1.12508, 0.598131,   3.25852,    1.13001],\n",
       "  [ 15.4, 0.596765,   3.29089,   1.12472, 0.597679,   3.26031,    1.12963],\n",
       "  [ 15.6,   0.5965,   3.29062,   1.12438, 0.597246,   3.26199,    1.12926],\n",
       "  [ 15.8, 0.596135,   3.29041,   1.12407, 0.596933,   3.26357,    1.12889],\n",
       "  [   16, 0.595851,   3.29021,   1.12377, 0.596606,   3.26504,    1.12852],\n",
       "  [ 16.2, 0.595582,   3.29004,   1.12348, 0.596309,   3.26642,    1.12816],\n",
       "  [ 16.4, 0.595311,   3.28989,   1.12322, 0.596049,   3.26772,    1.12781],\n",
       "  [ 16.6, 0.595125,   3.28974,   1.12297, 0.595764,   3.26894,    1.12746],\n",
       "  [ 16.8, 0.594953,   3.28962,   1.12273,   0.5955,   3.27008,    1.12713],\n",
       "  [   17, 0.594818,    3.2895,   1.12249, 0.595238,   3.27115,    1.12679],\n",
       "  [ 17.2, 0.594634,   3.28941,   1.12228, 0.595037,   3.27216,    1.12647],\n",
       "  [ 17.4, 0.594454,   3.28934,   1.12209, 0.594858,   3.27311,    1.12616],\n",
       "  [ 17.6, 0.594346,   3.28926,   1.12189,  0.59465,     3.274,    1.12585],\n",
       "  [ 17.8,  0.59421,    3.2892,   1.12171, 0.594482,   3.27484,    1.12555],\n",
       "  [   18, 0.594056,   3.28916,   1.12155, 0.594346,   3.27563,    1.12527],\n",
       "  [ 18.2, 0.593918,   3.28912,   1.12139, 0.594215,   3.27638,    1.12499],\n",
       "  [ 18.4, 0.593793,   3.28908,   1.12124, 0.594089,   3.27708,    1.12472],\n",
       "  [ 18.6, 0.593682,   3.28906,   1.12109, 0.593968,   3.27775,    1.12446],\n",
       "  [ 18.8, 0.593584,   3.28903,   1.12096, 0.593852,   3.27837,     1.1242],\n",
       "  [   19, 0.593499,   3.28901,   1.12083, 0.593741,   3.27896,    1.12396],\n",
       "  [ 19.2, 0.593419,     3.289,   1.12071, 0.593639,   3.27951,    1.12373],\n",
       "  [ 19.4, 0.593337,   3.28899,   1.12059, 0.593548,   3.28003,     1.1235],\n",
       "  [ 19.6, 0.593268,   3.28898,   1.12048, 0.593459,   3.28053,    1.12328],\n",
       "  [ 19.8, 0.593206,   3.28898,   1.12038, 0.593373,   3.28099,    1.12307],\n",
       "  [   20, 0.593166,   3.28897,   1.12028, 0.593281,   3.28143,    1.12287]]"
      ]
     },
     "execution_count": 18,
     "metadata": {},
     "output_type": "execute_result"
    }
   ],
   "source": [
    "rr = roadrunner.RoadRunner('Koenig_demo.xml')\n",
    "rr.simulate(0,20, 100, plot=True)  # equidistant timecourse for 20 [s]"
   ]
  },
  {
   "cell_type": "markdown",
   "metadata": {},
   "source": [
    "### Selections\n",
    "\n",
    "The content of the numerical output is defined via selections. Via selections the, components of the model we are interested in can be selected.\n",
    "Currently only the time and all concentrations of the model are selected."
   ]
  },
  {
   "cell_type": "code",
   "execution_count": 21,
   "metadata": {
    "collapsed": false
   },
   "outputs": [
    {
     "name": "stdout",
     "output_type": "stream",
     "text": [
      "['time', '[A_in]', '[B_in]', '[C_in]', '[A_out]', '[B_out]', '[C_out]']\n"
     ]
    }
   ],
   "source": [
    "print rr.selections"
   ]
  },
  {
   "cell_type": "code",
   "execution_count": 29,
   "metadata": {
    "collapsed": false
   },
   "outputs": [
    {
     "name": "stdout",
     "output_type": "stream",
     "text": [
      "['outside', 'inside']\n",
      "[  1.00000000e-06   1.00000000e-06]\n"
     ]
    }
   ],
   "source": [
    "# get all the compartment volumes at end point\n",
    "print rr.model.getCompartmentIds()\n",
    "print rr.model.getCompartmentVolumes()"
   ]
  },
  {
   "cell_type": "code",
   "execution_count": 31,
   "metadata": {
    "collapsed": false
   },
   "outputs": [
    {
     "name": "stdout",
     "output_type": "stream",
     "text": [
      "['b1', 'b2', 'b3', 'v1', 'v2', 'v3', 'v4']\n",
      "[  2.64980208e-10   2.13326815e-09  -9.89684422e-10   2.64268253e-07\n",
      "   2.96582787e-07   5.60138389e-07  -2.62104914e-07]\n"
     ]
    }
   ],
   "source": [
    "# get all the reactionRates at end point\n",
    "print rr.model.getReactionIds()\n",
    "print rr.model.getReactionRates()"
   ]
  },
  {
   "cell_type": "markdown",
   "metadata": {},
   "source": [
    "Now we are interested in the rates. Adding them to the selection, and plot them."
   ]
  },
  {
   "cell_type": "code",
   "execution_count": 38,
   "metadata": {
    "collapsed": false
   },
   "outputs": [
    {
     "name": "stdout",
     "output_type": "stream",
     "text": [
      "['time', 'b1', 'b2', 'b3', 'v1', 'v2', 'v3', 'v4']\n"
     ]
    }
   ],
   "source": [
    "rr.selections = ['time'] + rr.model.getReactionIds()\n",
    "print rr.selections"
   ]
  },
  {
   "cell_type": "code",
   "execution_count": 42,
   "metadata": {
    "collapsed": true
   },
   "outputs": [],
   "source": [
    "rr.reset() # reset to initial concentrations\n",
    "s  = rr.simulate(0,20, 100, plot=False)  # equidistant timecourse for 20 [s]"
   ]
  },
  {
   "cell_type": "code",
   "execution_count": 43,
   "metadata": {
    "collapsed": false
   },
   "outputs": [
    {
     "data": {
      "text/plain": [
       "    time,          b1,          b2,           b3,          v1,          v2,          v3,           v4\n",
       " [[    0, 4.54545e-06,           0,            0,           0,           0,           0,            0],\n",
       "  [  0.2, 3.87706e-06, 1.72055e-07,  2.26092e-08, 7.15925e-07, 3.61145e-07, 1.79818e-08,  2.06702e-09],\n",
       "  [  0.4, 3.42482e-06, 3.47509e-07,  6.70538e-08, 1.15043e-06, 5.85277e-07, 5.76281e-08,  7.33006e-09],\n",
       "  [  0.6,  3.0969e-06, 4.51778e-07,  1.12724e-07, 1.40908e-06, 7.23573e-07, 1.05553e-07,   1.0387e-08],\n",
       "  [  0.8, 2.84359e-06, 5.10116e-07,  1.51631e-07, 1.55613e-06,  8.0726e-07, 1.55116e-07,  9.13119e-09],\n",
       "  [    1, 2.63623e-06, 5.43864e-07,  1.81815e-07, 1.63142e-06, 8.55675e-07, 2.03148e-07,   3.3215e-09],\n",
       "  [  1.2, 2.45761e-06, 5.62333e-07,  2.03821e-07, 1.66008e-06,  8.8094e-07, 2.48295e-07, -6.20657e-09],\n",
       "  [  1.4, 2.29716e-06, 5.71148e-07,  2.18913e-07, 1.65803e-06, 8.90733e-07,  2.9005e-07, -1.85363e-08],\n",
       "  [  1.6, 2.14836e-06, 5.73262e-07,  2.28474e-07, 1.63547e-06,  8.8995e-07, 3.28356e-07, -3.27284e-08],\n",
       "  [  1.8, 2.00715e-06, 5.70675e-07,  2.33664e-07, 1.59904e-06,  8.8179e-07, 3.63299e-07, -4.80649e-08],\n",
       "  [    2, 1.87101e-06, 5.64654e-07,  2.35396e-07, 1.55325e-06, 8.68425e-07, 3.95005e-07,  -6.3999e-08],\n",
       "  [  2.2, 1.73906e-06, 5.56019e-07,  2.34518e-07, 1.50068e-06, 8.51088e-07, 4.23744e-07, -8.00064e-08],\n",
       "  [  2.4, 1.61053e-06, 5.45333e-07,  2.31546e-07, 1.44359e-06,  8.3088e-07,  4.4964e-07, -9.57926e-08],\n",
       "  [  2.6, 1.48548e-06, 5.33016e-07,  2.26945e-07, 1.38338e-06, 8.08483e-07, 4.72874e-07, -1.11099e-07],\n",
       "  [  2.8, 1.36434e-06, 5.19385e-07,  2.21066e-07,  1.3211e-06,  7.8442e-07, 4.93603e-07, -1.25749e-07],\n",
       "  [    3,  1.2477e-06,  5.0467e-07,  2.14207e-07, 1.25762e-06, 7.59128e-07, 5.11997e-07, -1.39591e-07],\n",
       "  [  3.2,  1.1358e-06,  4.8904e-07,  2.06536e-07, 1.19397e-06, 7.33131e-07, 5.28143e-07, -1.52579e-07],\n",
       "  [  3.4,  1.0295e-06, 4.72669e-07,  1.98266e-07, 1.13067e-06, 7.06707e-07, 5.42212e-07, -1.64638e-07],\n",
       "  [  3.6, 9.29315e-07, 4.55707e-07,  1.89535e-07, 1.06836e-06, 6.80199e-07, 5.54331e-07,  -1.7576e-07],\n",
       "  [  3.8, 8.35925e-07,  4.3829e-07,  1.80497e-07, 1.00745e-06, 6.53845e-07, 5.64668e-07, -1.85922e-07],\n",
       "  [    4, 7.49204e-07,  4.2052e-07,   1.7123e-07, 9.48688e-07, 6.28042e-07, 5.73327e-07,  -1.9516e-07],\n",
       "  [  4.2,  6.6923e-07, 4.02515e-07,  1.61836e-07, 8.92496e-07, 6.03039e-07, 5.80456e-07, -2.03501e-07],\n",
       "  [  4.4,  5.9643e-07, 3.84411e-07,  1.52426e-07,  8.3898e-07,  5.7893e-07, 5.86224e-07, -2.10975e-07],\n",
       "  [  4.6, 5.30364e-07,   3.663e-07,  1.43074e-07, 7.88537e-07, 5.55948e-07, 5.90768e-07, -2.17626e-07],\n",
       "  [  4.8, 4.70842e-07, 3.48289e-07,  1.33852e-07, 7.41294e-07, 5.34195e-07, 5.94232e-07, -2.23507e-07],\n",
       "  [    5,  4.1706e-07, 3.30459e-07,  1.24813e-07, 6.97521e-07, 5.13843e-07, 5.96741e-07, -2.28672e-07],\n",
       "  [  5.2, 3.69146e-07, 3.12921e-07,  1.16029e-07, 6.56988e-07, 4.94818e-07, 5.98444e-07, -2.33177e-07],\n",
       "  [  5.4, 3.26702e-07, 2.95753e-07,  1.07542e-07, 6.19633e-07, 4.77125e-07, 5.99461e-07,  -2.3708e-07],\n",
       "  [  5.6, 2.89408e-07, 2.79032e-07,  9.93969e-08, 5.85302e-07,  4.6072e-07,  5.9991e-07, -2.40437e-07],\n",
       "  [  5.8, 2.56212e-07, 2.62801e-07,   9.1607e-08,  5.5408e-07, 4.45677e-07, 5.99875e-07, -2.43309e-07],\n",
       "  [    6, 2.26648e-07, 2.47111e-07,  8.41919e-08, 5.25801e-07, 4.31939e-07, 5.99442e-07,  -2.4575e-07],\n",
       "  [  6.2, 2.01038e-07, 2.32018e-07,  7.71793e-08, 5.00018e-07, 4.19313e-07, 5.98709e-07, -2.47809e-07],\n",
       "  [  6.4, 1.78342e-07,  2.1754e-07,  7.05658e-08, 4.76764e-07, 4.07835e-07,  5.9773e-07, -2.49535e-07],\n",
       "  [  6.6, 1.58236e-07, 2.03698e-07,  6.43511e-08, 4.55832e-07, 3.97423e-07, 5.96561e-07, -2.50974e-07],\n",
       "  [  6.8, 1.39912e-07, 1.90497e-07,  5.85268e-08, 4.37178e-07, 3.88071e-07, 5.95246e-07, -2.52166e-07],\n",
       "  [    7, 1.23971e-07, 1.77961e-07,  5.30997e-08, 4.20323e-07, 3.79559e-07, 5.93842e-07, -2.53146e-07],\n",
       "  [  7.2, 1.10173e-07, 1.66089e-07,  4.80577e-08, 4.05096e-07, 3.71815e-07, 5.92384e-07, -2.53947e-07],\n",
       "  [  7.4, 9.85964e-08,  1.5488e-07,  4.33938e-08, 3.91239e-07,  3.6472e-07, 5.90906e-07, -2.54598e-07],\n",
       "  [  7.6,  8.8163e-08, 1.44305e-07,  3.90786e-08, 3.78867e-07, 3.58341e-07, 5.89414e-07, -2.55125e-07],\n",
       "  [  7.8, 7.87592e-08,  1.3435e-07,  3.50963e-08, 3.67822e-07, 3.52606e-07, 5.87926e-07,  -2.5555e-07],\n",
       "  [    8, 6.96666e-08, 1.24987e-07,  3.14223e-08, 3.58133e-07, 3.47535e-07, 5.86449e-07, -2.55895e-07],\n",
       "  [  8.2,  6.2017e-08, 1.16218e-07,  2.80571e-08, 3.49309e-07, 3.42892e-07, 5.85015e-07, -2.56172e-07],\n",
       "  [  8.4, 5.60558e-08, 1.08024e-07,   2.4987e-08, 3.41146e-07,  3.3858e-07, 5.83638e-07, -2.56394e-07],\n",
       "  [  8.6, 5.05733e-08, 1.00361e-07,  2.21785e-08,  3.3387e-07, 3.34711e-07, 5.82305e-07, -2.56576e-07],\n",
       "  [  8.8, 4.54507e-08, 9.32039e-08,  1.96137e-08, 3.27401e-07,  3.3125e-07, 5.81021e-07, -2.56727e-07],\n",
       "  [    9, 4.02087e-08, 8.65201e-08,  1.72706e-08, 3.21772e-07, 3.28213e-07,  5.7978e-07, -2.56856e-07],\n",
       "  [  9.2, 3.58022e-08, 8.03009e-08,  1.51459e-08, 3.16626e-07, 3.25427e-07, 5.78602e-07, -2.56967e-07],\n",
       "  [  9.4, 3.22026e-08, 7.45202e-08,   1.3224e-08, 3.11896e-07, 3.22859e-07, 5.77487e-07, -2.57066e-07],\n",
       "  [  9.6, 2.92606e-08, 6.91515e-08,  1.14886e-08, 3.07554e-07, 3.20495e-07, 5.76434e-07, -2.57158e-07],\n",
       "  [  9.8, 2.66901e-08, 6.41657e-08,    9.922e-09, 3.03619e-07, 3.18346e-07, 5.75437e-07, -2.57245e-07],\n",
       "  [   10, 2.41546e-08, 5.95339e-08,  8.50693e-09, 3.00129e-07, 3.16429e-07, 5.74491e-07, -2.57332e-07],\n",
       "  [ 10.2, 2.17072e-08, 5.52344e-08,  7.23165e-09,  2.9702e-07, 3.14713e-07, 5.73594e-07, -2.57419e-07],\n",
       "  [ 10.4, 1.96743e-08, 5.12497e-08,  6.08822e-09, 2.94158e-07, 3.13131e-07, 5.72751e-07, -2.57508e-07],\n",
       "  [ 10.6,  1.7581e-08, 4.75526e-08,  5.06056e-09, 2.91637e-07, 3.11729e-07, 5.71953e-07,   -2.576e-07],\n",
       "  [ 10.8,  1.5842e-08,   4.413e-08,  4.14391e-09, 2.89313e-07, 3.10436e-07, 5.71204e-07, -2.57695e-07],\n",
       "  [   11, 1.44528e-08, 4.09638e-08,  3.32895e-09, 2.87156e-07, 3.09237e-07, 5.70503e-07, -2.57793e-07],\n",
       "  [ 11.2,  1.3232e-08, 3.80317e-08,  2.60399e-09, 2.85186e-07, 3.08141e-07, 5.69843e-07, -2.57895e-07],\n",
       "  [ 11.4, 1.20721e-08, 3.53172e-08,  1.96057e-09, 2.83412e-07, 3.07151e-07, 5.69223e-07, -2.58001e-07],\n",
       "  [ 11.6, 1.10056e-08, 3.28048e-08,  1.39138e-09, 2.81803e-07, 3.06251e-07,  5.6864e-07,  -2.5811e-07],\n",
       "  [ 11.8, 1.00083e-08,  3.0479e-08,  8.89082e-10, 2.80345e-07, 3.05435e-07, 5.68091e-07, -2.58223e-07],\n",
       "  [   12, 9.05217e-09, 2.83263e-08,  4.47409e-10,  2.7903e-07, 3.04698e-07, 5.67576e-07, -2.58339e-07],\n",
       "  [ 12.2, 8.33399e-09, 2.63359e-08,  6.23518e-11, 2.77789e-07, 3.04005e-07, 5.67094e-07, -2.58456e-07],\n",
       "  [ 12.4, 7.72648e-09, 2.44945e-08, -2.72534e-10, 2.76644e-07, 3.03366e-07, 5.66642e-07, -2.58576e-07],\n",
       "  [ 12.6,  6.9674e-09,  2.2787e-08, -5.65286e-10, 2.75652e-07, 3.02809e-07, 5.66215e-07, -2.58698e-07],\n",
       "  [ 12.8, 6.29949e-09, 2.12073e-08,  -8.1721e-10, 2.74739e-07, 3.02297e-07, 5.65814e-07, -2.58821e-07],\n",
       "  [   13, 5.58024e-09, 1.97425e-08, -1.03454e-09, 2.73931e-07, 3.01842e-07, 5.65436e-07, -2.58945e-07],\n",
       "  [ 13.2, 5.09095e-09, 1.83887e-08, -1.21733e-09, 2.73147e-07, 3.01404e-07, 5.65084e-07, -2.59069e-07],\n",
       "  [ 13.4, 5.02179e-09, 1.71405e-08, -1.36679e-09, 2.72327e-07, 3.00954e-07, 5.64758e-07, -2.59192e-07],\n",
       "  [ 13.6, 4.89572e-09, 1.59834e-08, -1.49131e-09, 2.71593e-07,  3.0055e-07, 5.64451e-07, -2.59315e-07],\n",
       "  [ 13.8, 4.41915e-09,  1.4906e-08, -1.59723e-09, 2.71014e-07, 3.00226e-07, 5.64157e-07, -2.59438e-07],\n",
       "  [   14, 3.82757e-09, 1.39052e-08, -1.68429e-09, 2.70522e-07, 2.99949e-07, 5.63879e-07,  -2.5956e-07],\n",
       "  [ 14.2, 3.37022e-09, 1.29784e-08, -1.75203e-09, 2.70047e-07, 2.99683e-07, 5.63618e-07, -2.59681e-07],\n",
       "  [ 14.4, 3.38753e-09, 1.21254e-08,  -1.7984e-09, 2.69494e-07, 2.99383e-07,  5.6338e-07, -2.59799e-07],\n",
       "  [ 14.6, 3.02323e-09, 1.13282e-08, -1.83533e-09, 2.69085e-07, 2.99156e-07,  5.6315e-07, -2.59916e-07],\n",
       "  [ 14.8, 2.72199e-09, 1.05888e-08, -1.85928e-09, 2.68699e-07, 2.98943e-07, 5.62934e-07, -2.60031e-07],\n",
       "  [   15, 2.52819e-09, 9.90351e-09, -1.87124e-09, 2.68321e-07, 2.98736e-07, 5.62732e-07, -2.60144e-07],\n",
       "  [ 15.2, 2.39847e-09, 9.26761e-09,  -1.8731e-09, 2.67959e-07, 2.98539e-07, 5.62542e-07, -2.60254e-07],\n",
       "  [ 15.4, 2.08244e-09, 8.67328e-09, -1.86913e-09, 2.67676e-07, 2.98382e-07, 5.62361e-07, -2.60362e-07],\n",
       "  [ 15.6, 1.69939e-09, 8.11946e-09, -1.85886e-09, 2.67438e-07,  2.9825e-07, 5.62188e-07, -2.60468e-07],\n",
       "  [ 15.8, 1.81981e-09, 7.61165e-09, -1.83662e-09, 2.67093e-07, 2.98067e-07, 5.62033e-07,  -2.6057e-07],\n",
       "  [   16, 1.72204e-09, 7.13599e-09, -1.81174e-09, 2.66829e-07, 2.97925e-07, 5.61883e-07,  -2.6067e-07],\n",
       "  [ 16.2,  1.6583e-09, 6.69338e-09, -1.78215e-09, 2.66578e-07, 2.97791e-07, 5.61742e-07, -2.60767e-07],\n",
       "  [ 16.4, 1.68399e-09, 6.28239e-09, -1.74785e-09, 2.66322e-07, 2.97656e-07, 5.61611e-07, -2.60861e-07],\n",
       "  [ 16.6, 1.45737e-09, 5.89565e-09, -1.71344e-09, 2.66151e-07, 2.97563e-07, 5.61483e-07, -2.60953e-07],\n",
       "  [ 16.8, 1.24962e-09, 5.53523e-09, -1.67631e-09, 2.65991e-07, 2.97476e-07, 5.61363e-07, -2.61042e-07],\n",
       "  [   17, 9.60035e-10, 5.19754e-09, -1.63815e-09, 2.65868e-07, 2.97409e-07, 5.61247e-07, -2.61128e-07],\n",
       "  [ 17.2, 9.20948e-10, 4.88581e-09, -1.59556e-09, 2.65693e-07, 2.97317e-07, 5.61142e-07, -2.61211e-07],\n",
       "  [ 17.4, 9.21798e-10, 4.59537e-09, -1.55134e-09, 2.65521e-07, 2.97227e-07, 5.61043e-07, -2.61291e-07],\n",
       "  [ 17.6, 6.94847e-10, 4.32059e-09, -1.50896e-09,  2.6542e-07, 2.97173e-07, 5.60946e-07, -2.61369e-07],\n",
       "  [ 17.8, 6.20057e-10, 4.06582e-09, -1.46431e-09,  2.6529e-07, 2.97105e-07, 5.60856e-07, -2.61444e-07],\n",
       "  [   18, 6.60831e-10, 3.82925e-09, -1.41806e-09, 2.65141e-07, 2.97028e-07, 5.60773e-07, -2.61516e-07],\n",
       "  [ 18.2, 6.77525e-10, 3.60701e-09,  -1.3722e-09, 2.65006e-07, 2.96959e-07, 5.60694e-07, -2.61586e-07],\n",
       "  [ 18.4, 6.74985e-10, 3.39756e-09, -1.32695e-09, 2.64885e-07, 2.96897e-07, 5.60618e-07, -2.61653e-07],\n",
       "  [ 18.6,   6.533e-10, 3.20086e-09, -1.28234e-09, 2.64777e-07, 2.96841e-07, 5.60546e-07, -2.61718e-07],\n",
       "  [ 18.8, 6.12475e-10, 3.01688e-09, -1.23836e-09, 2.64681e-07, 2.96792e-07, 5.60478e-07,  -2.6178e-07],\n",
       "  [   19, 5.52803e-10, 2.84484e-09, -1.19499e-09, 2.64598e-07,  2.9675e-07, 5.60414e-07, -2.61839e-07],\n",
       "  [ 19.2, 5.02286e-10,  2.6841e-09, -1.15207e-09, 2.64519e-07, 2.96709e-07, 5.60353e-07, -2.61897e-07],\n",
       "  [ 19.4,  4.8293e-10, 2.53373e-09, -1.10963e-09, 2.64438e-07, 2.96669e-07, 5.60295e-07, -2.61952e-07],\n",
       "  [ 19.6, 4.36867e-10, 2.39228e-09, -1.06836e-09,  2.6437e-07, 2.96634e-07, 5.60241e-07, -2.62005e-07],\n",
       "  [ 19.8, 3.81925e-10, 2.25921e-09, -1.02816e-09, 2.64308e-07, 2.96603e-07, 5.60189e-07, -2.62056e-07],\n",
       "  [   20,  2.6498e-10, 2.13327e-09, -9.89684e-10, 2.64268e-07, 2.96583e-07, 5.60138e-07, -2.62105e-07]]"
      ]
     },
     "execution_count": 43,
     "metadata": {},
     "output_type": "execute_result"
    }
   ],
   "source": [
    "s"
   ]
  },
  {
   "cell_type": "code",
   "execution_count": 44,
   "metadata": {
    "collapsed": false
   },
   "outputs": [
    {
     "name": "stdout",
     "output_type": "stream",
     "text": [
      "A_in = 0.593165574596\n",
      "Vmax_b1 = 5.0\n"
     ]
    }
   ],
   "source": [
    "print('A_in = {}'.format(rr.A_in))\n",
    "print('Vmax_b1 = {}'.format(rr.Vmax_b1))"
   ]
  },
  {
   "cell_type": "markdown",
   "metadata": {},
   "source": [
    "The units can be read out from the SBML file."
   ]
  },
  {
   "cell_type": "code",
   "execution_count": 45,
   "metadata": {
    "collapsed": false
   },
   "outputs": [
    {
     "name": "stdout",
     "output_type": "stream",
     "text": [
      "<Model Koenig_demo \"Koenig2014_demo_kinetic_v7\">\n",
      "<class 'libsbml.Model'>\n"
     ]
    }
   ],
   "source": [
    "print model\n",
    "print type(model)"
   ]
  },
  {
   "cell_type": "code",
   "execution_count": 46,
   "metadata": {
    "collapsed": false
   },
   "outputs": [
    {
     "name": "stdout",
     "output_type": "stream",
     "text": [
      "<Species A_in \"A inside\"> A_in A inside\n",
      "mole\n",
      "False\n",
      "<species id=\"A_in\" name=\"A inside\" compartment=\"inside\" initialConcentration=\"0\" substanceUnits=\"mole\" hasOnlySubstanceUnits=\"false\" boundaryCondition=\"false\" constant=\"false\"/>\n"
     ]
    },
    {
     "data": {
      "text/plain": [
       "'mole (exponent = 1, multiplier = 1, scale = 0), metre (exponent = -3, multiplier = 1, scale = 0)'"
      ]
     },
     "execution_count": 46,
     "metadata": {},
     "output_type": "execute_result"
    }
   ],
   "source": [
    "s = model.getSpecies('A_in')\n",
    "print s, s.getId(), s.getName()\n",
    "print s.getUnits()   # has mole as unit due to substance units\n",
    "print s.has_only_substance_units\n",
    "\n",
    "print s.toSBML()\n",
    "\n",
    "udef =  s.getDerivedUnitDefinition()\n",
    "libsbml.UnitDefinition_printUnits(udef)"
   ]
  },
  {
   "cell_type": "markdown",
   "metadata": {},
   "source": [
    "## Steady States\n",
    "\n",
    "Proper simulation to steady state (i.e. with NEQ solvers and not just based on letting the simulation run for long)."
   ]
  },
  {
   "cell_type": "code",
   "execution_count": 47,
   "metadata": {
    "collapsed": false
   },
   "outputs": [
    {
     "name": "stdout",
     "output_type": "stream",
     "text": [
      "['time', 'b1', 'b2', 'b3', 'v1', 'v2', 'v3', 'v4']\n",
      "[ 0.59626946  3.31260812  1.12628676  0.59626926  3.31256046  1.12628659]\n"
     ]
    }
   ],
   "source": [
    "# ? what does the value for time mean here ? \n",
    "# bug in the setup\n",
    "print rr.selections\n",
    "print rr.getSteadyStateValues()"
   ]
  },
  {
   "cell_type": "markdown",
   "metadata": {},
   "source": [
    "## Stoichiometric Matrix\n",
    "\n",
    "Access to the stoichiometric matrix of the system is simple via"
   ]
  },
  {
   "cell_type": "code",
   "execution_count": 48,
   "metadata": {
    "collapsed": false
   },
   "outputs": [
    {
     "data": {
      "text/plain": [
       "         b1, b2, b3, v1, v2, v3, v4\n",
       "A_in  [[  1,  0,  0, -1, -1,  1,  0],\n",
       "B_in   [  0, -1,  0,  1,  0,  0,  1],\n",
       "C_in   [  0,  0, -1,  0,  1, -1, -1],\n",
       "A_out  [ -1,  0,  0,  0,  0,  0,  0],\n",
       "B_out  [  0,  1,  0,  0,  0,  0,  0],\n",
       "C_out  [  0,  0,  1,  0,  0,  0,  0]]"
      ]
     },
     "execution_count": 48,
     "metadata": {},
     "output_type": "execute_result"
    }
   ],
   "source": [
    "rr.getFullStoichiometryMatrix()"
   ]
  },
  {
   "cell_type": "code",
   "execution_count": 49,
   "metadata": {
    "collapsed": false
   },
   "outputs": [
    {
     "data": {
      "text/plain": [
       " [[ 1, 1, 1, 1, 1, 1]]"
      ]
     },
     "execution_count": 49,
     "metadata": {},
     "output_type": "execute_result"
    }
   ],
   "source": [
    "rr.getConservationMatrix()"
   ]
  },
  {
   "cell_type": "markdown",
   "metadata": {},
   "source": [
    "## Jacobian Matrix\n",
    "\n",
    "Access to Jacobian matrix of the systems via"
   ]
  },
  {
   "cell_type": "code",
   "execution_count": 50,
   "metadata": {
    "collapsed": false
   },
   "outputs": [
    {
     "data": {
      "text/plain": [
       "                 A_in,         B_in,         C_in,        A_out,        B_out,        C_out\n",
       "A_in  [[ -3.78046e-06,        1e-07,        5e-07,  2.28046e-06,            0,            0],\n",
       "B_in   [        1e-06, -6.30693e-07,        5e-07,            0,  2.80697e-07,            0],\n",
       "C_in   [        5e-07,      2.5e-07, -1.38077e-06,            0,            0,  3.80766e-07],\n",
       "A_out  [  2.28046e-06,            0,            0, -2.28046e-06,            0,            0],\n",
       "B_out  [            0,  2.80693e-07,            0,            0, -2.80697e-07,            0],\n",
       "C_out  [            0,            0,  3.80766e-07,            0,            0, -3.80766e-07]]"
      ]
     },
     "execution_count": 50,
     "metadata": {},
     "output_type": "execute_result"
    }
   ],
   "source": [
    "rr.getFullJacobian()"
   ]
  },
  {
   "cell_type": "markdown",
   "metadata": {},
   "source": [
    "## Metabolic Control Analysis\n",
    "\n",
    "Direct access to metabolic control analysis, for instance the Concentration control coefficients."
   ]
  },
  {
   "cell_type": "code",
   "execution_count": 59,
   "metadata": {
    "collapsed": false
   },
   "outputs": [
    {
     "data": {
      "text/plain": [
       " [[ -2.69032e-11,   9.3663e-10, -4.18109e-10,  -0.292398,  -0.223684,  0.422515,  0.0935673],\n",
       "  [ -2.69032e-11,   9.3663e-10, -4.18109e-10,  0.0631579, -0.0236842, 0.0447368, -0.0842105],\n",
       "  [ -2.69032e-11,   9.3663e-10, -4.18109e-10, -0.0309598,    0.18808, -0.355263,   0.198142],\n",
       "  [  4.27461e-10,   9.3663e-10, -4.18109e-10,  -0.292398,  -0.223684,  0.422515,  0.0935673],\n",
       "  [ -2.69032e-11, -1.91072e-09, -4.18109e-10,  0.0631579, -0.0236842, 0.0447368, -0.0842105],\n",
       "  [ -2.69032e-11,   9.3663e-10,  3.32027e-09, -0.0309598,    0.18808, -0.355263,   0.198142]]"
      ]
     },
     "execution_count": 59,
     "metadata": {},
     "output_type": "execute_result"
    }
   ],
   "source": [
    "rr.getScaledConcentrationControlCoefficientMatrix()"
   ]
  },
  {
   "cell_type": "markdown",
   "metadata": {},
   "source": [
    "## Repeated simulations\n",
    "\n",
    "Parameter scan or multiple simulations.\n",
    "Direct storage of simulation results in a list of numpy arrays."
   ]
  },
  {
   "cell_type": "code",
   "execution_count": 66,
   "metadata": {
    "collapsed": true
   },
   "outputs": [],
   "source": [
    "rr = roadrunner.RoadRunner('Koenig_demo.xml')"
   ]
  },
  {
   "cell_type": "code",
   "execution_count": 67,
   "metadata": {
    "collapsed": false
   },
   "outputs": [
    {
     "data": {
      "text/plain": [
       "5.0"
      ]
     },
     "execution_count": 67,
     "metadata": {},
     "output_type": "execute_result"
    }
   ],
   "source": [
    "rr.Vmax_b1 # current value of Vmax_b1"
   ]
  },
  {
   "cell_type": "code",
   "execution_count": 68,
   "metadata": {
    "collapsed": false
   },
   "outputs": [
    {
     "name": "stdout",
     "output_type": "stream",
     "text": [
      "['b1', 'b2', 'b3', 'v1', 'v2', 'v3', 'v4']\n"
     ]
    }
   ],
   "source": [
    "# kinetic eqution of reaction b1\n",
    "rids = [r.getId() for r in model.getListOfReactions()]\n",
    "print rids\n",
    "r_b1 = model.getReaction('b1')"
   ]
  },
  {
   "cell_type": "code",
   "execution_count": 69,
   "metadata": {
    "collapsed": false
   },
   "outputs": [
    {
     "name": "stdout",
     "output_type": "stream",
     "text": [
      "b1 = scale_f * (Vmax_b1 / Km_A) * (A_out - A_in) / (1 + A_out / Km_A + A_in / Km_A)\n"
     ]
    }
   ],
   "source": [
    "klaw_b1 = r_b1.getKineticLaw()\n",
    "print 'b1 = {}'.format(klaw_b1.formula)"
   ]
  },
  {
   "cell_type": "code",
   "execution_count": 70,
   "metadata": {
    "collapsed": false
   },
   "outputs": [
    {
     "name": "stdout",
     "output_type": "stream",
     "text": [
      "time : 0.965102910995 [s]\n"
     ]
    },
    {
     "data": {
      "image/png": "[encoded data removed]",
      "text/plain": [
       "<matplotlib.figure.Figure at 0x7f4f65ddae90>"
      ]
     },
     "metadata": {},
     "output_type": "display_data"
    }
   ],
   "source": [
    "import odesim.roadrunner.roadrunner_tools as rt\n",
    "import numpy as np\n",
    "import time\n",
    "\n",
    "# Create some parameter sampling\n",
    "# Vmax_test = np.linspace(start=0, stop=10, num=20)\n",
    "Vmax_test = np.random.normal(loc=5.0, scale=1.5, size=1000)\n",
    "Vmax_test = np.maximum(0.0, Vmax_test)\n",
    "\n",
    "t1 = time.time()\n",
    "results = []\n",
    "for Vmax in Vmax_test:\n",
    "    # create a parameter dict for the simulation\n",
    "    parameters = {'Vmax_b1': Vmax}\n",
    "    inits = {}\n",
    "    (s, _) = rt.simulation(rr, parameters, inits, t_start=0, t_stop=20, absTol=1e-08, relTol=1e-08, info=False)\n",
    "    results.append(s)\n",
    "plt.hist(Vmax_test, color='grey')\n",
    "print 'time : {} [s]'.format(time.time() - t1)"
   ]
  },
  {
   "cell_type": "markdown",
   "metadata": {},
   "source": [
    "Use matplotlib to plot the resulting curves."
   ]
  },
  {
   "cell_type": "code",
   "execution_count": 71,
   "metadata": {
    "collapsed": false
   },
   "outputs": [],
   "source": [
    "# print r_b1.toSBML()"
   ]
  },
  {
   "cell_type": "code",
   "execution_count": 72,
   "metadata": {
    "collapsed": false
   },
   "outputs": [
    {
     "data": {
      "image/png": "[encoded data removed]",
      "text/plain": [
       "<matplotlib.figure.Figure at 0x7f4f468ea8d0>"
      ]
     },
     "metadata": {},
     "output_type": "display_data"
    }
   ],
   "source": [
    "import matplotlib.pyplot as plt\n",
    "for s in results:\n",
    "    # plt.plot(results[0].transpose())\n",
    "    plt.plot(s['time'], s['[A_out]'], color='black', alpha=0.4)\n",
    "    plt.xlim(0, 20)\n",
    "    plt.xlabel('time [s]')\n",
    "    plt.ylabel('[A_out] [mM]')"
   ]
  },
  {
   "cell_type": "code",
   "execution_count": 73,
   "metadata": {
    "collapsed": false
   },
   "outputs": [
    {
     "data": {
      "image/png": "[encoded data removed]",
      "text/plain": [
       "<matplotlib.figure.Figure at 0x7f4f4675d490>"
      ]
     },
     "metadata": {},
     "output_type": "display_data"
    }
   ],
   "source": [
    "for s in results:\n",
    "    # plt.plot(results[0].transpose())\n",
    "    plt.plot(s['time'], s['[A_in]'], color='black', alpha=0.4)\n",
    "    plt.xlim(0, 20)\n",
    "    plt.xlabel('time [s]')\n",
    "    plt.ylabel('[A_out] [mM]')"
   ]
  },
  {
   "cell_type": "code",
   "execution_count": 74,
   "metadata": {
    "collapsed": false
   },
   "outputs": [
    {
     "data": {
      "text/plain": [
       "[<matplotlib.lines.Line2D at 0x7f4f3f069110>]"
      ]
     },
     "execution_count": 74,
     "metadata": {},
     "output_type": "execute_result"
    },
    {
     "data": {
      "image/png": "[encoded data removed]",
      "text/plain": [
       "<matplotlib.figure.Figure at 0x7f4f468f0090>"
      ]
     },
     "metadata": {},
     "output_type": "display_data"
    }
   ],
   "source": [
    "peaks = [max(s['[A_in]']) for s in results]\n",
    "plt.plot(Vmax_test, peaks, 'o', color='black')"
   ]
  }
 ],
 "metadata": {
  "kernelspec": {
   "display_name": "Python 2",
   "language": "python",
   "name": "python2"
  },
  "language_info": {
   "codemirror_mode": {
    "name": "ipython",
    "version": 2
   },
   "file_extension": ".py",
   "mimetype": "text/x-python",
   "name": "python",
   "nbconvert_exporter": "python",
   "pygments_lexer": "ipython2",
   "version": "2.7.6"
  }
 },
 "nbformat": 4,
 "nbformat_minor": 0
}
