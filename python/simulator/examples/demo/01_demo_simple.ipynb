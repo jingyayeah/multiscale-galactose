{
 "cells": [
  {
   "cell_type": "markdown",
   "metadata": {},
   "source": [
    "# Introduction to kinetic modeling with SBML\n",
    "\n",
    "Kinetic modeling based on ordinary differential equations (ODE) plays an important role in computational biology. An important aspect of such models is its reusability and the reproducibility of the results. An important step towards reproducible and understandable models was the introduction of standard formats for model description (SBML, CellML, BioPax) and guidlines for model description (MIRIAM) and simulation description (MIASE) were developed. These standards are currently supported by a wide range of libraries and software tools, providing a rich environment for the work with such models.  \n",
    "In addition to standard formats, IPython notebooks provide the visual framework for representing model setup, simulation and results in a unified and reproducible way.\n",
    "\n",
    "This notebook demonstrates the basic work with computational models based on the Systems Biology Markup Language (SBML), the de facto standard for kinetic models in biology.  \n",
    "As part of the introduction standard tools in python for the interaction with SBML based models are presented, like libSBML, Antimony and RoadRunner. ODE simulations are demonstrated.\n",
    "\n",
    "\n",
    "### How to Use the Examples\n",
    "TODO: update and provide the examples.\n",
    "\n",
    "\n",
    "* Make sure your machine already has Python and related libraries, such as ipython, numpy, scipy, pandas, etc.\n",
    "* Start Cytoscape (cyREST should be installed!)\n",
    "* Clone the repository: git clone https://github.com/idekerlab/cy-rest-python\n",
    "* Change directory: cd cy-rest-python\n",
    "* Start IPython Notebook: `ipython notebook`\n",
    "* Click index.ipynb to start the example\n",
    "\n"
   ]
  },
  {
   "cell_type": "code",
   "execution_count": 2,
   "metadata": {
    "collapsed": true
   },
   "outputs": [],
   "source": [
    "%matplotlib inline\n",
    "import numpy as np\n",
    "import matplotlib.pyplot as plt\n",
    "import networkx as nx"
   ]
  },
  {
   "cell_type": "markdown",
   "metadata": {},
   "source": [
    "## libSBML\n",
    "An important part of the work with SBML is the possibilty to modify models.  \n",
    "Some GUI based modeling environments are available, like CellDesigner or BioUML.  \n",
    "To programatically interact with SBML the SBML library libSBML (http://www.sbml.org) is the option of choice."
   ]
  },
  {
   "cell_type": "code",
   "execution_count": 3,
   "metadata": {
    "collapsed": false
   },
   "outputs": [
    {
     "name": "stdout",
     "output_type": "stream",
     "text": [
      "01_demo_simple.ipynb  03_demo_graph.ipynb  Koenig_demo_distributions_01.csv\r\n",
      "02_demo_django.ipynb  04_CyREST.ipynb\t   Koenig_demo_v02.xml\r\n"
     ]
    }
   ],
   "source": [
    "!ls    # available files"
   ]
  },
  {
   "cell_type": "markdown",
   "metadata": {},
   "source": [
    "Loading model with libsbml and inspect main model features."
   ]
  },
  {
   "cell_type": "code",
   "execution_count": 4,
   "metadata": {
    "collapsed": true
   },
   "outputs": [],
   "source": [
    "import libsbml"
   ]
  },
  {
   "cell_type": "code",
   "execution_count": 5,
   "metadata": {
    "collapsed": false
   },
   "outputs": [
    {
     "name": "stdout",
     "output_type": "stream",
     "text": [
      "<Model Koenig_demo_v02 \"Koenig_demo_v02\">\n"
     ]
    }
   ],
   "source": [
    "sbml_filepath = 'Koenig_demo_v02.xml'\n",
    "doc = libsbml.readSBMLFromFile(sbml_filepath) \n",
    "model = doc.getModel()\n",
    "print model"
   ]
  },
  {
   "cell_type": "markdown",
   "metadata": {},
   "source": [
    "Print model information like model id, and listOfSpecies"
   ]
  },
  {
   "cell_type": "code",
   "execution_count": 6,
   "metadata": {
    "collapsed": false
   },
   "outputs": [
    {
     "name": "stdout",
     "output_type": "stream",
     "text": [
      "Koenig_demo_v02\n",
      "--------------------------------------------------------------------------------\n",
      "<Compartment extern \"External Compartment\">\n",
      "External Compartment m3\n",
      "<Compartment cell \"Cell Compartment\">\n",
      "Cell Compartment m3\n",
      "<Compartment membrane \"Cell Membrane\">\n",
      "Cell Membrane m2\n",
      "--------------------------------------------------------------------------------\n",
      "<Species A \"A cell\">\n",
      "<Species B \"B cell\">\n",
      "<Species C \"C cell\">\n",
      "<Species A_ext \"A extern\">\n",
      "<Species B_ext \"B extern\">\n",
      "<Species C_ext \"C extern\">\n",
      "--------------------------------------------------------------------------------\n",
      "<Reaction bA \"A import\">\n",
      "<Reaction bB \"B export\">\n",
      "<Reaction bC \"C export\">\n",
      "<Reaction v1 \"A -> B\">\n",
      "<Reaction v2 \"A -> C\">\n",
      "<Reaction v3 \"C -> A\">\n",
      "<Reaction v4 \"C -> B\">\n"
     ]
    }
   ],
   "source": [
    "print model.getId()\n",
    "print '-' * 80\n",
    "\n",
    "compartments = model.getListOfCompartments()\n",
    "for c in compartments:\n",
    "    print c\n",
    "    print c.name, c.units\n",
    "print '-' * 80\n",
    "\n",
    "species = model.getListOfSpecies()\n",
    "for s in species:\n",
    "    print s\n",
    "print '-' * 80\n",
    "    \n",
    "reactions = model.getListOfReactions()\n",
    "for r in reactions:\n",
    "        print r"
   ]
  },
  {
   "cell_type": "markdown",
   "metadata": {},
   "source": [
    "### Using libSBML to generate a simple graph of the network\n",
    "\n",
    "For a very simple visualization of the network we can read the graph from the species and reactions.  \n",
    "TODO: provide example with networkX"
   ]
  },
  {
   "cell_type": "markdown",
   "metadata": {},
   "source": [
    "## Antimony\n",
    "\n",
    "Antimony is a tools for SBML which provides human readable representation of the SBML information.\n",
    "Loading SBML with Antimony and get human readable representation of the information."
   ]
  },
  {
   "cell_type": "code",
   "execution_count": 7,
   "metadata": {
    "collapsed": false
   },
   "outputs": [
    {
     "name": "stdout",
     "output_type": "stream",
     "text": [
      "('__main',)\n"
     ]
    }
   ],
   "source": [
    "import libantimony\n",
    "libantimony.loadSBMLFile('Koenig_demo.xml')\n",
    "mod_names = libantimony.getModuleNames()\n",
    "print mod_names"
   ]
  },
  {
   "cell_type": "code",
   "execution_count": 8,
   "metadata": {
    "collapsed": false
   },
   "outputs": [
    {
     "name": "stdout",
     "output_type": "stream",
     "text": [
      "None\n"
     ]
    }
   ],
   "source": [
    "ant_string = libantimony.getAntimonyString('Koenig_demo')\n",
    "print(ant_string)"
   ]
  },
  {
   "cell_type": "markdown",
   "metadata": {},
   "source": [
    "### Creating models with Antimony\n",
    "\n",
    "Antimony provides a simple syntax to define models in text."
   ]
  },
  {
   "cell_type": "code",
   "execution_count": 9,
   "metadata": {
    "collapsed": false
   },
   "outputs": [
    {
     "name": "stdout",
     "output_type": "stream",
     "text": [
      "v2.7.0\n",
      "<?xml version=\"1.0\" encoding=\"UTF-8\"?>\n",
      "<!-- Created by libAntimony version v2.7.0 on 2015-05-18 11:03 with libSBML version 5.11.4. -->\n",
      "<sbml xmlns=\"http://www.sbml.org/sbml/level3/version1/core\" level=\"3\" version=\"1\">\n",
      "  <model id=\"example1\" name=\"example1\">\n",
      "    <listOfCompartments>\n",
      "      <compartment sboTerm=\"SBO:0000410\" id=\"default_compartment\" spatialDimensions=\"3\" size=\"1\" constant=\"true\"/>\n",
      "    </listOfCompartments>\n",
      "    <listOfSpecies>\n",
      "      <species id=\"S1\" compartment=\"default_compartment\" initialConcentration=\"10\" hasOnlySubstanceUnits=\"false\" boundaryCondition=\"false\" constant=\"false\"/>\n",
      "      <species id=\"S2\" compartment=\"default_compartment\" initialConcentration=\"0\" hasOnlySubstanceUnits=\"false\" boundaryCondition=\"false\" constant=\"false\"/>\n",
      "    </listOfSpecies>\n",
      "    <listOfParameters>\n",
      "      <parameter id=\"k1\" value=\"0.1\" constant=\"true\"/>\n",
      "    </listOfParameters>\n",
      "    <listOfReactions>\n",
      "      <reaction id=\"_J0\" reversible=\"true\" fast=\"false\">\n",
      "        <listOfReactants>\n",
      "          <speciesReference species=\"S1\" stoichiometry=\"1\" constant=\"true\"/>\n",
      "        </listOfReactants>\n",
      "        <listOfProducts>\n",
      "          <speciesReference species=\"S2\" stoichiometry=\"1\" constant=\"true\"/>\n",
      "        </listOfProducts>\n",
      "        <kineticLaw>\n",
      "          <math xmlns=\"http://www.w3.org/1998/Math/MathML\">\n",
      "            <apply>\n",
      "              <times/>\n",
      "              <ci> k1 </ci>\n",
      "              <ci> S1 </ci>\n",
      "            </apply>\n",
      "          </math>\n",
      "        </kineticLaw>\n",
      "      </reaction>\n",
      "    </listOfReactions>\n",
      "  </model>\n",
      "</sbml>\n",
      "\n"
     ]
    }
   ],
   "source": [
    "import libantimony\n",
    "print libantimony.LIBANTIMONY_VERSION_STRING\n",
    "\n",
    "model_str = '''\n",
    "# Simple UniUni reaction with first-order mass-action kinetics\n",
    "model example1\n",
    "  S1 -> S2; k1*S1\n",
    "  S1 = 10\n",
    "  S2 = 0\n",
    "  k1 = 0.1\n",
    "end\n",
    "'''\n",
    "\n",
    "# Load the model string in libantimony\n",
    "res = libantimony.loadAntimonyString(model_str)\n",
    "if (res == -1):\n",
    "    print libantimony.getLastError()\n",
    "\n",
    "# SBML is created based on module name\n",
    "module_name = libantimony.getMainModuleName()\n",
    "print libantimony.getSBMLString(module_name)"
   ]
  },
  {
   "cell_type": "markdown",
   "metadata": {},
   "source": [
    "## RoadRunner simulations\n",
    "\n",
    "Example simulations with the demo network.\n",
    "First import roadrunner for simulations."
   ]
  },
  {
   "cell_type": "code",
   "execution_count": 29,
   "metadata": {
    "collapsed": false
   },
   "outputs": [
    {
     "data": {
      "text/plain": [
       "'1.3; Compiler: gcc 4.6.3, C++ version: 1; JIT Compiler: LLVM-3.4; Date: Jan 12 2015, 16:43:38'"
      ]
     },
     "execution_count": 29,
     "metadata": {},
     "output_type": "execute_result"
    }
   ],
   "source": [
    "import roadrunner\n",
    "roadrunner.getVersionStr()"
   ]
  },
  {
   "cell_type": "markdown",
   "metadata": {},
   "source": [
    "Loading the model and performing a simple time course simulation."
   ]
  },
  {
   "cell_type": "code",
   "execution_count": 30,
   "metadata": {
    "collapsed": false
   },
   "outputs": [
    {
     "data": {
      "image/png": "[encoded data removed]",
      "text/plain": [
       "<matplotlib.figure.Figure at 0x7f838fad3790>"
      ]
     },
     "metadata": {},
     "output_type": "display_data"
    },
    {
     "data": {
      "text/plain": [
       "(101, 7)"
      ]
     },
     "execution_count": 30,
     "metadata": {},
     "output_type": "execute_result"
    }
   ],
   "source": [
    "# load model and generate equidistant timecourse for 20 [s]\n",
    "rr = roadrunner.RoadRunner(sbml_filepath)\n",
    "result = rr.simulate(0,20, 100, plot=True)\n",
    "result.shape"
   ]
  },
  {
   "cell_type": "code",
   "execution_count": 31,
   "metadata": {
    "collapsed": false
   },
   "outputs": [
    {
     "data": {
      "text/plain": [
       "    time,      [A],       [B],       [C],  [A_ext],   [B_ext],    [C_ext]\n",
       " [[    0,        0,         0,         0,       10,         0,          0],\n",
       "  [  0.2, 0.722291, 0.0636592, 0.0359636,  9.16249, 0.0139675, 0.00162488],\n",
       "  [  0.4,  1.17055,  0.201192,  0.115256,  8.43493, 0.0676093,  0.0104605],\n",
       "  [  0.6,  1.44715,  0.380665,  0.211106,  7.78432,  0.148245,  0.0285142],\n",
       "  [  0.8,  1.61452,  0.583941,  0.310233,  7.19123,  0.244987,  0.0550899],\n",
       "  [    1,  1.71135,  0.799307,  0.406296,  6.64383,  0.350635,  0.0885847],\n",
       "  [  1.2,  1.76188,   1.01801,   0.49659,   6.1348,  0.461449,    0.12728],\n",
       "  [  1.4,  1.78147,   1.23435,    0.5801,  5.65954,  0.574888,   0.169664],\n",
       "  [  1.6,   1.7799,   1.44434,  0.656713,  5.21515,  0.689422,    0.21448],\n",
       "  [  1.8,  1.76358,   1.64545,  0.726598,  4.79972,  0.803894,   0.260748],\n",
       "  [    2,  1.73685,   1.83601,  0.790009,  4.41194,  0.917468,   0.307715],\n",
       "  [  2.2,  1.70218,     2.015,  0.847488,  4.05102,   1.02958,   0.354739],\n",
       "  [  2.4,  1.66176,   2.18173,  0.899281,   3.7161,   1.13974,    0.40138],\n",
       "  [  2.6,  1.61697,   2.33589,  0.945748,  3.40652,   1.24761,   0.447262],\n",
       "  [  2.8,  1.56884,   2.47741,  0.987207,  3.12158,   1.35287,   0.492097],\n",
       "  [    3,  1.51826,   2.60635,   1.02399,  2.86046,   1.45529,   0.535641],\n",
       "  [  3.2,  1.46626,   2.72289,   1.05629,  2.62215,   1.55468,   0.577739],\n",
       "  [  3.4,  1.41341,    2.8274,   1.08442,  2.40567,   1.65086,   0.618235],\n",
       "  [  3.6,   1.3604,   2.92036,   1.10866,  2.20983,   1.74371,    0.65703],\n",
       "  [  3.8,  1.30769,   3.00236,   1.12934,  2.03347,   1.83312,   0.694035],\n",
       "  [    4,  1.25608,   3.07395,   1.14665,   1.8751,     1.919,   0.729208],\n",
       "  [  4.2,  1.20608,   3.13583,   1.16091,  1.73336,   2.00131,   0.762518],\n",
       "  [  4.4,  1.15786,    3.1888,   1.17245,  1.60695,      2.08,   0.793944],\n",
       "  [  4.6,   1.1119,   3.23358,   1.18154,  1.49443,   2.15507,   0.823492],\n",
       "  [  4.8,  1.06839,   3.27096,   1.18846,  1.39448,   2.22653,   0.851181],\n",
       "  [    5,  1.02769,   3.30165,   1.19348,  1.30573,    2.2944,   0.877047],\n",
       "  [  5.2, 0.989636,   3.32648,   1.19689,  1.22713,   2.35874,   0.901129],\n",
       "  [  5.4, 0.954249,   3.34616,   1.19892,  1.15758,    2.4196,   0.923484],\n",
       "  [  5.6, 0.921441,   3.36139,   1.19982,   1.0961,   2.47707,   0.944172],\n",
       "  [  5.8, 0.891354,   3.37274,   1.19975,  1.04165,   2.53125,   0.963266],\n",
       "  [    6, 0.863878,   3.38077,   1.19888, 0.993397,   2.58223,    0.98084],\n",
       "  [  6.2, 0.838626,   3.38607,   1.19742, 0.950781,   2.63013,   0.996969],\n",
       "  [  6.4,  0.81567,   3.38906,   1.19546, 0.912998,   2.67508,    1.01174],\n",
       "  [  6.6, 0.794846,   3.39014,   1.19312, 0.879481,   2.71719,    1.02522],\n",
       "  [  6.8, 0.776142,   3.38965,   1.19049, 0.849617,    2.7566,     1.0375],\n",
       "  [    7, 0.759119,   3.38795,   1.18768, 0.823144,   2.79344,    1.04866],\n",
       "  [  7.2, 0.743629,   3.38533,   1.18477, 0.799669,   2.82784,    1.05877],\n",
       "  [  7.4,  0.72944,   3.38201,   1.18181, 0.778903,   2.85992,    1.06791],\n",
       "  [  7.6, 0.716683,   3.37815,   1.17883, 0.760359,   2.88983,    1.07615],\n",
       "  [  7.8, 0.705212,   3.37391,   1.17585, 0.743788,   2.91768,    1.08356],\n",
       "  [    8,  0.69507,   3.36937,    1.1729, 0.728843,   2.94361,    1.09021],\n",
       "  [  8.2, 0.685784,   3.36475,   1.17003, 0.715569,   2.96772,    1.09615],\n",
       "  [  8.4, 0.677159,   3.36013,   1.16728, 0.703853,   2.99013,    1.10145],\n",
       "  [  8.6, 0.669422,   3.35552,   1.16461, 0.693321,   3.01096,    1.10616],\n",
       "  [  8.8,   0.6625,   3.35099,   1.16204, 0.683828,   3.03031,    1.11034],\n",
       "  [    9, 0.656426,   3.34654,   1.15956, 0.675176,   3.04827,    1.11402],\n",
       "  [  9.2, 0.650854,   3.34228,    1.1572, 0.667454,   3.06495,    1.11726],\n",
       "  [  9.4, 0.645717,   3.33822,   1.15497, 0.660571,   3.08043,     1.1201],\n",
       "  [  9.6,  0.64099,   3.33437,   1.15287, 0.654423,   3.09479,    1.12256],\n",
       "  [  9.8, 0.636692,   3.33073,   1.15087, 0.648892,   3.10811,     1.1247],\n",
       "  [   10, 0.632858,   3.32729,   1.14898, 0.643856,   3.12047,    1.12654],\n",
       "  [ 10.2, 0.629425,   3.32405,   1.14719, 0.639274,   3.13195,    1.12811],\n",
       "  [ 10.4, 0.626262,   3.32104,    1.1455,  0.63516,   3.14259,    1.12945],\n",
       "  [ 10.6, 0.623459,   3.31821,   1.14391, 0.631387,   3.15247,    1.13056],\n",
       "  [ 10.8, 0.620872,    3.3156,   1.14241, 0.627998,   3.16164,    1.13148],\n",
       "  [   11, 0.618474,   3.31318,   1.14101, 0.624959,   3.17015,    1.13223],\n",
       "  [ 11.2, 0.616282,   3.31095,   1.13969, 0.622206,   3.17805,    1.13282],\n",
       "  [ 11.4, 0.614302,   3.30889,   1.13845, 0.619696,   3.18538,    1.13328],\n",
       "  [ 11.6, 0.612503,     3.307,   1.13728, 0.617411,    3.1922,    1.13361],\n",
       "  [ 11.8,  0.61087,   3.30526,   1.13618, 0.615327,   3.19852,    1.13384],\n",
       "  [   12, 0.609396,   3.30366,   1.13515,  0.61342,    3.2044,    1.13397],\n",
       "  [ 12.2, 0.608009,    3.3022,   1.13419, 0.611709,   3.20987,    1.13402],\n",
       "  [ 12.4, 0.606732,   3.30087,   1.13328, 0.610158,   3.21495,      1.134],\n",
       "  [ 12.6, 0.605618,   3.29965,   1.13243, 0.608703,   3.21968,    1.13392],\n",
       "  [ 12.8, 0.604593,   3.29854,   1.13163,  0.60738,   3.22408,    1.13378],\n",
       "  [   13, 0.603684,   3.29753,   1.13087,  0.60615,   3.22817,     1.1336],\n",
       "  [ 13.2, 0.602808,   3.29661,   1.13017, 0.605056,   3.23199,    1.13337],\n",
       "  [ 13.4, 0.601908,    3.2958,   1.12952, 0.604123,   3.23554,    1.13311],\n",
       "  [ 13.6, 0.601099,   3.29506,    1.1289, 0.603258,   3.23885,    1.13282],\n",
       "  [ 13.8, 0.600452,   3.29438,   1.12831, 0.602399,   3.24194,    1.13252],\n",
       "  [   14, 0.599897,   3.29376,   1.12776, 0.601583,   3.24482,    1.13219],\n",
       "  [ 14.2, 0.599366,    3.2932,   1.12724, 0.600849,   3.24751,    1.13184],\n",
       "  [ 14.4, 0.598766,   3.29272,   1.12676, 0.600256,   3.25002,    1.13149],\n",
       "  [ 14.6, 0.598312,   3.29226,    1.1263, 0.599641,   3.25236,    1.13112],\n",
       "  [ 14.8, 0.597885,   3.29186,   1.12587, 0.599081,   3.25455,    1.13075],\n",
       "  [   15, 0.597471,    3.2915,   1.12546, 0.598582,    3.2566,    1.13038],\n",
       "  [ 15.2, 0.597078,   3.29118,   1.12508, 0.598131,   3.25852,    1.13001],\n",
       "  [ 15.4, 0.596765,   3.29089,   1.12472, 0.597679,   3.26031,    1.12963],\n",
       "  [ 15.6,   0.5965,   3.29062,   1.12438, 0.597246,   3.26199,    1.12926],\n",
       "  [ 15.8, 0.596135,   3.29041,   1.12407, 0.596933,   3.26357,    1.12889],\n",
       "  [   16, 0.595851,   3.29021,   1.12377, 0.596606,   3.26504,    1.12852],\n",
       "  [ 16.2, 0.595582,   3.29004,   1.12348, 0.596309,   3.26642,    1.12816],\n",
       "  [ 16.4, 0.595311,   3.28989,   1.12322, 0.596049,   3.26772,    1.12781],\n",
       "  [ 16.6, 0.595125,   3.28974,   1.12297, 0.595764,   3.26894,    1.12746],\n",
       "  [ 16.8, 0.594953,   3.28962,   1.12273,   0.5955,   3.27008,    1.12713],\n",
       "  [   17, 0.594818,    3.2895,   1.12249, 0.595238,   3.27115,    1.12679],\n",
       "  [ 17.2, 0.594634,   3.28941,   1.12228, 0.595037,   3.27216,    1.12647],\n",
       "  [ 17.4, 0.594454,   3.28934,   1.12209, 0.594858,   3.27311,    1.12616],\n",
       "  [ 17.6, 0.594346,   3.28926,   1.12189,  0.59465,     3.274,    1.12585],\n",
       "  [ 17.8,  0.59421,    3.2892,   1.12171, 0.594482,   3.27484,    1.12555],\n",
       "  [   18, 0.594056,   3.28916,   1.12155, 0.594346,   3.27563,    1.12527],\n",
       "  [ 18.2, 0.593918,   3.28912,   1.12139, 0.594215,   3.27638,    1.12499],\n",
       "  [ 18.4, 0.593793,   3.28908,   1.12124, 0.594089,   3.27708,    1.12472],\n",
       "  [ 18.6, 0.593682,   3.28906,   1.12109, 0.593968,   3.27775,    1.12446],\n",
       "  [ 18.8, 0.593584,   3.28903,   1.12096, 0.593852,   3.27837,     1.1242],\n",
       "  [   19, 0.593499,   3.28901,   1.12083, 0.593741,   3.27896,    1.12396],\n",
       "  [ 19.2, 0.593419,     3.289,   1.12071, 0.593639,   3.27951,    1.12373],\n",
       "  [ 19.4, 0.593337,   3.28899,   1.12059, 0.593548,   3.28003,     1.1235],\n",
       "  [ 19.6, 0.593268,   3.28898,   1.12048, 0.593459,   3.28053,    1.12328],\n",
       "  [ 19.8, 0.593206,   3.28898,   1.12038, 0.593373,   3.28099,    1.12307],\n",
       "  [   20, 0.593166,   3.28897,   1.12028, 0.593281,   3.28143,    1.12287]]"
      ]
     },
     "execution_count": 31,
     "metadata": {},
     "output_type": "execute_result"
    }
   ],
   "source": [
    "result"
   ]
  },
  {
   "cell_type": "code",
   "execution_count": 32,
   "metadata": {
    "collapsed": false
   },
   "outputs": [
    {
     "data": {
      "text/plain": [
       "(101, 7)"
      ]
     },
     "execution_count": 32,
     "metadata": {},
     "output_type": "execute_result"
    }
   ],
   "source": [
    "result.shape"
   ]
  },
  {
   "cell_type": "code",
   "execution_count": 33,
   "metadata": {
    "collapsed": false
   },
   "outputs": [
    {
     "data": {
      "text/plain": [
       "<matplotlib.legend.Legend at 0x7f838f92e8d0>"
      ]
     },
     "execution_count": 33,
     "metadata": {},
     "output_type": "execute_result"
    },
    {
     "data": {
      "image/png": "[encoded data removed]",
      "text/plain": [
       "<matplotlib.figure.Figure at 0x7f838fd62310>"
      ]
     },
     "metadata": {},
     "output_type": "display_data"
    }
   ],
   "source": [
    "# plot some concentrations against each other\n",
    "plt.plot(result['[A]'], result['[A_ext]'], '-o', color='black', label=\"A_ext ~ A\")\n",
    "plt.plot(result['[B]'], result['[B_ext]'], '-o', color='red', label=\"B_ext ~ B\")\n",
    "plt.plot(result['[C]'], result['[C_ext]'], '-o', color='blue', label=\"C_ext ~ C\")\n",
    "plt.xlabel('Cell concentration [mM]')\n",
    "plt.ylabel('External concentration [mM]')\n",
    "plt.title('Trajectories of A, B, C')\n",
    "plt.legend()"
   ]
  },
  {
   "cell_type": "markdown",
   "metadata": {},
   "source": [
    "### Selections\n",
    "\n",
    "The content of the numerical output is defined via selections. Via selections the, components of the model we are interested in can be selected.\n",
    "Currently only the time and all concentrations of the model are selected."
   ]
  },
  {
   "cell_type": "code",
   "execution_count": 34,
   "metadata": {
    "collapsed": false
   },
   "outputs": [
    {
     "name": "stdout",
     "output_type": "stream",
     "text": [
      "['time', '[A]', '[B]', '[C]', '[A_ext]', '[B_ext]', '[C_ext]']\n"
     ]
    }
   ],
   "source": [
    "print rr.selections"
   ]
  },
  {
   "cell_type": "code",
   "execution_count": 35,
   "metadata": {
    "collapsed": false
   },
   "outputs": [
    {
     "name": "stdout",
     "output_type": "stream",
     "text": [
      "['extern', 'cell', 'membrane']\n",
      "[  1.00000000e-06   1.00000000e-06   1.00000000e+00]\n"
     ]
    }
   ],
   "source": [
    "# get all the compartment volumes at end point\n",
    "print rr.model.getCompartmentIds()\n",
    "print rr.model.getCompartmentVolumes()"
   ]
  },
  {
   "cell_type": "code",
   "execution_count": 36,
   "metadata": {
    "collapsed": false
   },
   "outputs": [
    {
     "name": "stdout",
     "output_type": "stream",
     "text": [
      "['bA', 'bB', 'bC', 'v1', 'v2', 'v3', 'v4']\n",
      "[  2.64980208e-10   2.13326815e-09  -9.89684422e-10   2.64268253e-07\n",
      "   2.96582787e-07   5.60138389e-07  -2.62104914e-07]\n"
     ]
    }
   ],
   "source": [
    "# get all the reactionRates at end point\n",
    "print rr.model.getReactionIds()\n",
    "print rr.model.getReactionRates()"
   ]
  },
  {
   "cell_type": "markdown",
   "metadata": {},
   "source": [
    "Now we are interested in the rates. Adding them to the selection, and plot them."
   ]
  },
  {
   "cell_type": "code",
   "execution_count": 37,
   "metadata": {
    "collapsed": false
   },
   "outputs": [
    {
     "name": "stdout",
     "output_type": "stream",
     "text": [
      "['time', 'bA', 'bB', 'bC', 'v1', 'v2', 'v3', 'v4']\n"
     ]
    }
   ],
   "source": [
    "rr.selections = ['time'] + rr.model.getReactionIds()\n",
    "print rr.selections"
   ]
  },
  {
   "cell_type": "code",
   "execution_count": 38,
   "metadata": {
    "collapsed": true
   },
   "outputs": [],
   "source": [
    "rr.reset() # reset to initial concentrations\n",
    "s  = rr.simulate(0,20, 100, plot=False)  # equidistant timecourse for 20 [s]"
   ]
  },
  {
   "cell_type": "code",
   "execution_count": 39,
   "metadata": {
    "collapsed": false
   },
   "outputs": [
    {
     "data": {
      "text/plain": [
       " [[   0, 4.54545e-06,           0,           0,           0,           0,           0,            0],\n",
       "  [ 0.2, 3.87706e-06, 1.72055e-07, 2.26092e-08, 7.15925e-07, 3.61145e-07, 1.79818e-08,  2.06702e-09],\n",
       "  [ 0.4, 3.42482e-06, 3.47509e-07, 6.70538e-08, 1.15043e-06, 5.85277e-07, 5.76281e-08,  7.33006e-09],\n",
       "  [ 0.6,  3.0969e-06, 4.51778e-07, 1.12724e-07, 1.40908e-06, 7.23573e-07, 1.05553e-07,   1.0387e-08],\n",
       "  [ 0.8, 2.84359e-06, 5.10116e-07, 1.51631e-07, 1.55613e-06,  8.0726e-07, 1.55116e-07,  9.13119e-09],\n",
       "  [   1, 2.63623e-06, 5.43864e-07, 1.81815e-07, 1.63142e-06, 8.55675e-07, 2.03148e-07,   3.3215e-09],\n",
       "  [ 1.2, 2.45761e-06, 5.62333e-07, 2.03821e-07, 1.66008e-06,  8.8094e-07, 2.48295e-07, -6.20657e-09],\n",
       "  [ 1.4, 2.29716e-06, 5.71148e-07, 2.18913e-07, 1.65803e-06, 8.90733e-07,  2.9005e-07, -1.85363e-08],\n",
       "  [ 1.6, 2.14836e-06, 5.73262e-07, 2.28474e-07, 1.63547e-06,  8.8995e-07, 3.28356e-07, -3.27284e-08],\n",
       "  [ 1.8, 2.00715e-06, 5.70675e-07, 2.33664e-07, 1.59904e-06,  8.8179e-07, 3.63299e-07, -4.80649e-08],\n",
       "  [   2, 1.87101e-06, 5.64654e-07, 2.35396e-07, 1.55325e-06, 8.68425e-07, 3.95005e-07,  -6.3999e-08],\n",
       "  [ 2.2, 1.73906e-06, 5.56019e-07, 2.34518e-07, 1.50068e-06, 8.51088e-07, 4.23744e-07, -8.00064e-08],\n",
       "  [ 2.4, 1.61053e-06, 5.45333e-07, 2.31546e-07, 1.44359e-06,  8.3088e-07,  4.4964e-07, -9.57926e-08],\n",
       "  [ 2.6, 1.48548e-06, 5.33016e-07, 2.26945e-07, 1.38338e-06, 8.08483e-07, 4.72874e-07, -1.11099e-07],\n",
       "  [ 2.8, 1.36434e-06, 5.19385e-07, 2.21066e-07,  1.3211e-06,  7.8442e-07, 4.93603e-07, -1.25749e-07],\n",
       "  [   3,  1.2477e-06,  5.0467e-07, 2.14207e-07, 1.25762e-06, 7.59128e-07, 5.11997e-07, -1.39591e-07],\n",
       "  [ 3.2,  1.1358e-06,  4.8904e-07, 2.06536e-07, 1.19397e-06, 7.33131e-07, 5.28143e-07, -1.52579e-07],\n",
       "  [ 3.4,  1.0295e-06, 4.72669e-07, 1.98266e-07, 1.13067e-06, 7.06707e-07, 5.42212e-07, -1.64638e-07],\n",
       "  [ 3.6, 9.29315e-07, 4.55707e-07, 1.89535e-07, 1.06836e-06, 6.80199e-07, 5.54331e-07,  -1.7576e-07]]"
      ]
     },
     "execution_count": 39,
     "metadata": {},
     "output_type": "execute_result"
    }
   ],
   "source": [
    "# print first 20 rows of solution\n",
    "s[0:19, :]"
   ]
  },
  {
   "cell_type": "code",
   "execution_count": 40,
   "metadata": {
    "collapsed": false
   },
   "outputs": [
    {
     "name": "stdout",
     "output_type": "stream",
     "text": [
      "A = 0.593165574596\n",
      "Vmax_bA = 5.0\n"
     ]
    }
   ],
   "source": [
    "print('A = {}'.format(rr.A))\n",
    "print('Vmax_bA = {}'.format(rr.Vmax_bA))"
   ]
  },
  {
   "cell_type": "markdown",
   "metadata": {},
   "source": [
    "The units can be read out from the SBML file."
   ]
  },
  {
   "cell_type": "code",
   "execution_count": 41,
   "metadata": {
    "collapsed": false
   },
   "outputs": [
    {
     "name": "stdout",
     "output_type": "stream",
     "text": [
      "<Model Koenig_demo_v02 \"Koenig_demo_v02\">\n",
      "<class 'libsbml.Model'>\n"
     ]
    }
   ],
   "source": [
    "print model\n",
    "print type(model)"
   ]
  },
  {
   "cell_type": "code",
   "execution_count": 42,
   "metadata": {
    "collapsed": false
   },
   "outputs": [
    {
     "name": "stdout",
     "output_type": "stream",
     "text": [
      "<Species A \"A cell\"> A A cell\n",
      "mole\n",
      "False\n",
      "<species id=\"A\" name=\"A cell\" compartment=\"cell\" initialConcentration=\"0\" substanceUnits=\"mole\" hasOnlySubstanceUnits=\"false\" boundaryCondition=\"false\" constant=\"false\"/>\n"
     ]
    },
    {
     "data": {
      "text/plain": [
       "'mole (exponent = 1, multiplier = 1, scale = 0), metre (exponent = -3, multiplier = 1, scale = 0)'"
      ]
     },
     "execution_count": 42,
     "metadata": {},
     "output_type": "execute_result"
    }
   ],
   "source": [
    "s = model.getSpecies('A')\n",
    "print s, s.getId(), s.getName()\n",
    "print s.getUnits()   # has mole as unit due to substance units\n",
    "print s.has_only_substance_units\n",
    "\n",
    "print s.toSBML()\n",
    "\n",
    "udef =  s.getDerivedUnitDefinition()\n",
    "libsbml.UnitDefinition_printUnits(udef)"
   ]
  },
  {
   "cell_type": "markdown",
   "metadata": {},
   "source": [
    "## Steady States\n",
    "\n",
    "Proper simulation to steady state (i.e. with NEQ solvers and not just based on letting the simulation run for long)."
   ]
  },
  {
   "cell_type": "code",
   "execution_count": 43,
   "metadata": {
    "collapsed": false
   },
   "outputs": [
    {
     "name": "stdout",
     "output_type": "stream",
     "text": [
      "['time', 'bA', 'bB', 'bC', 'v1', 'v2', 'v3', 'v4']\n",
      "[ 0.59626946  3.31260812  1.12628676  0.59626926  3.31256046  1.12628659]\n"
     ]
    }
   ],
   "source": [
    "# ? what does the value for time mean here ? \n",
    "# bug in the setup\n",
    "print rr.selections\n",
    "print rr.getSteadyStateValues()"
   ]
  },
  {
   "cell_type": "markdown",
   "metadata": {},
   "source": [
    "## Stoichiometric Matrix\n",
    "\n",
    "Access to the stoichiometric matrix of the system is simple via"
   ]
  },
  {
   "cell_type": "code",
   "execution_count": 44,
   "metadata": {
    "collapsed": false
   },
   "outputs": [
    {
     "data": {
      "text/plain": [
       "         bA, bB, bC, v1, v2, v3, v4\n",
       "A     [[  1,  0,  0, -1, -1,  1,  0],\n",
       "B      [  0, -1,  0,  1,  0,  0,  1],\n",
       "C      [  0,  0, -1,  0,  1, -1, -1],\n",
       "A_ext  [ -1,  0,  0,  0,  0,  0,  0],\n",
       "B_ext  [  0,  1,  0,  0,  0,  0,  0],\n",
       "C_ext  [  0,  0,  1,  0,  0,  0,  0]]"
      ]
     },
     "execution_count": 44,
     "metadata": {},
     "output_type": "execute_result"
    }
   ],
   "source": [
    "rr.getFullStoichiometryMatrix()"
   ]
  },
  {
   "cell_type": "code",
   "execution_count": 45,
   "metadata": {
    "collapsed": false
   },
   "outputs": [
    {
     "data": {
      "text/plain": [
       " [[ 1, 1, 1, 1, 1, 1]]"
      ]
     },
     "execution_count": 45,
     "metadata": {},
     "output_type": "execute_result"
    }
   ],
   "source": [
    "rr.getConservationMatrix()"
   ]
  },
  {
   "cell_type": "markdown",
   "metadata": {},
   "source": [
    "## Jacobian Matrix\n",
    "\n",
    "Access to Jacobian matrix of the systems via"
   ]
  },
  {
   "cell_type": "code",
   "execution_count": 46,
   "metadata": {
    "collapsed": false
   },
   "outputs": [
    {
     "data": {
      "text/plain": [
       "                    A,            B,            C,        A_ext,        B_ext,        C_ext\n",
       "A     [[ -3.78046e-06,        1e-07,        5e-07,  2.28046e-06,            0,            0],\n",
       "B      [        1e-06, -6.30693e-07,        5e-07,            0,  2.80697e-07,            0],\n",
       "C      [        5e-07,      2.5e-07, -1.38077e-06,            0,            0,  3.80766e-07],\n",
       "A_ext  [  2.28046e-06,            0,            0, -2.28046e-06,            0,            0],\n",
       "B_ext  [            0,  2.80693e-07,            0,            0, -2.80697e-07,            0],\n",
       "C_ext  [            0,            0,  3.80766e-07,            0,            0, -3.80766e-07]]"
      ]
     },
     "execution_count": 46,
     "metadata": {},
     "output_type": "execute_result"
    }
   ],
   "source": [
    "rr.getFullJacobian()"
   ]
  },
  {
   "cell_type": "markdown",
   "metadata": {},
   "source": [
    "## Metabolic Control Analysis\n",
    "\n",
    "Direct access to metabolic control analysis, for instance the Concentration control coefficients."
   ]
  },
  {
   "cell_type": "code",
   "execution_count": 47,
   "metadata": {
    "collapsed": false
   },
   "outputs": [
    {
     "data": {
      "text/plain": [
       " [[   2.5218e-09, -1.49767e-10, -8.18498e-11,  -0.292398,  -0.223684,  0.422515,  0.0935673],\n",
       "  [   2.5218e-09, -1.49767e-10, -8.18498e-11,  0.0631579, -0.0236842, 0.0447368, -0.0842105],\n",
       "  [   2.5218e-09, -1.49767e-10, -8.18498e-11, -0.0309598,    0.18808, -0.355263,   0.198142],\n",
       "  [ -4.00686e-08, -1.49767e-10, -8.18498e-11,  -0.292398,  -0.223684,  0.422515,  0.0935672],\n",
       "  [   2.5218e-09,  3.05524e-10, -8.18498e-11,  0.0631579, -0.0236842, 0.0447368, -0.0842105],\n",
       "  [   2.5218e-09, -1.49767e-10,  6.49984e-10, -0.0309598,    0.18808, -0.355263,   0.198142]]"
      ]
     },
     "execution_count": 47,
     "metadata": {},
     "output_type": "execute_result"
    }
   ],
   "source": [
    "rr.getScaledConcentrationControlCoefficientMatrix()"
   ]
  },
  {
   "cell_type": "markdown",
   "metadata": {},
   "source": [
    "## Repeated simulations\n",
    "\n",
    "Parameter scan or multiple simulations.\n",
    "Direct storage of simulation results in a list of numpy arrays.\n",
    "\n",
    "First select a parameter to change continously from sampling.\n",
    "Use additional roadrunner_tools for simplified simulation running."
   ]
  },
  {
   "cell_type": "code",
   "execution_count": 55,
   "metadata": {
    "collapsed": false
   },
   "outputs": [
    {
     "data": {
      "text/plain": [
       "<module 'odesim.roadrunner.roadrunner_tools' from '/home/mkoenig/multiscale-galactose/python/simulator/odesim/roadrunner/roadrunner_tools.py'>"
      ]
     },
     "execution_count": 55,
     "metadata": {},
     "output_type": "execute_result"
    }
   ],
   "source": [
    "import odesim.roadrunner.roadrunner_tools as rt\n",
    "reload(rt)"
   ]
  },
  {
   "cell_type": "code",
   "execution_count": 56,
   "metadata": {
    "collapsed": false
   },
   "outputs": [],
   "source": [
    "# reload clean model\n",
    "rr = roadrunner.RoadRunner(sbml_filepath)"
   ]
  },
  {
   "cell_type": "markdown",
   "metadata": {},
   "source": [
    "Select parameters to change in the following simulations"
   ]
  },
  {
   "cell_type": "code",
   "execution_count": 60,
   "metadata": {
    "collapsed": false
   },
   "outputs": [
    {
     "data": {
      "text/plain": [
       "array([  0.,   0.,   0.,  10.,   0.,   0.])"
      ]
     },
     "execution_count": 60,
     "metadata": {},
     "output_type": "execute_result"
    }
   ],
   "source": [
    "# current value of Vmax_bA\n",
    "rr.Vmax_bA \n",
    "rr.model.getBound"
   ]
  },
  {
   "cell_type": "markdown",
   "metadata": {},
   "source": [
    "### Global parameters\n",
    "\n",
    "What are the global parameters in the model. To which values are these set in the model?"
   ]
  },
  {
   "cell_type": "code",
   "execution_count": 79,
   "metadata": {
    "collapsed": false
   },
   "outputs": [
    {
     "data": {
      "text/html": [
       "<div style=\"max-height:1000px;max-width:1500px;overflow:auto;\">\n",
       "<table border=\"1\" class=\"dataframe\">\n",
       "  <thead>\n",
       "    <tr style=\"text-align: right;\">\n",
       "      <th></th>\n",
       "      <th>value</th>\n",
       "    </tr>\n",
       "  </thead>\n",
       "  <tbody>\n",
       "    <tr>\n",
       "      <th>scale_f</th>\n",
       "      <td>0.000001</td>\n",
       "    </tr>\n",
       "    <tr>\n",
       "      <th>Vmax_bA</th>\n",
       "      <td>5.000000</td>\n",
       "    </tr>\n",
       "    <tr>\n",
       "      <th>Km_A</th>\n",
       "      <td>1.000000</td>\n",
       "    </tr>\n",
       "    <tr>\n",
       "      <th>Vmax_bB</th>\n",
       "      <td>2.000000</td>\n",
       "    </tr>\n",
       "    <tr>\n",
       "      <th>Km_B</th>\n",
       "      <td>0.500000</td>\n",
       "    </tr>\n",
       "    <tr>\n",
       "      <th>Vmax_bC</th>\n",
       "      <td>2.000000</td>\n",
       "    </tr>\n",
       "    <tr>\n",
       "      <th>Km_C</th>\n",
       "      <td>3.000000</td>\n",
       "    </tr>\n",
       "    <tr>\n",
       "      <th>Vmax_v1</th>\n",
       "      <td>1.000000</td>\n",
       "    </tr>\n",
       "    <tr>\n",
       "      <th>Keq_v1</th>\n",
       "      <td>10.000000</td>\n",
       "    </tr>\n",
       "    <tr>\n",
       "      <th>Vmax_v2</th>\n",
       "      <td>0.500000</td>\n",
       "    </tr>\n",
       "    <tr>\n",
       "      <th>Vmax_v3</th>\n",
       "      <td>0.500000</td>\n",
       "    </tr>\n",
       "    <tr>\n",
       "      <th>Vmax_v4</th>\n",
       "      <td>0.500000</td>\n",
       "    </tr>\n",
       "    <tr>\n",
       "      <th>Keq_v4</th>\n",
       "      <td>2.000000</td>\n",
       "    </tr>\n",
       "  </tbody>\n",
       "</table>\n",
       "</div>"
      ],
      "text/plain": [
       "             value\n",
       "scale_f   0.000001\n",
       "Vmax_bA   5.000000\n",
       "Km_A      1.000000\n",
       "Vmax_bB   2.000000\n",
       "Km_B      0.500000\n",
       "Vmax_bC   2.000000\n",
       "Km_C      3.000000\n",
       "Vmax_v1   1.000000\n",
       "Keq_v1   10.000000\n",
       "Vmax_v2   0.500000\n",
       "Vmax_v3   0.500000\n",
       "Vmax_v4   0.500000\n",
       "Keq_v4    2.000000"
      ]
     },
     "execution_count": 79,
     "metadata": {},
     "output_type": "execute_result"
    }
   ],
   "source": [
    "reload(rt)\n",
    "gp = rt.getGlobalParameters(rr)"
   ]
  },
  {
   "cell_type": "code",
   "execution_count": 83,
   "metadata": {
    "collapsed": false
   },
   "outputs": [
    {
     "data": {
      "text/html": [
       "<div style=\"max-height:1000px;max-width:1500px;overflow:auto;\">\n",
       "<table border=\"1\" class=\"dataframe\">\n",
       "  <thead>\n",
       "    <tr style=\"text-align: right;\">\n",
       "      <th></th>\n",
       "      <th>amount</th>\n",
       "      <th>concentration</th>\n",
       "    </tr>\n",
       "  </thead>\n",
       "  <tbody>\n",
       "    <tr>\n",
       "      <th>A</th>\n",
       "      <td>0.00000</td>\n",
       "      <td>0</td>\n",
       "    </tr>\n",
       "    <tr>\n",
       "      <th>B</th>\n",
       "      <td>0.00000</td>\n",
       "      <td>0</td>\n",
       "    </tr>\n",
       "    <tr>\n",
       "      <th>C</th>\n",
       "      <td>0.00000</td>\n",
       "      <td>0</td>\n",
       "    </tr>\n",
       "    <tr>\n",
       "      <th>A_ext</th>\n",
       "      <td>0.00001</td>\n",
       "      <td>10</td>\n",
       "    </tr>\n",
       "    <tr>\n",
       "      <th>B_ext</th>\n",
       "      <td>0.00000</td>\n",
       "      <td>0</td>\n",
       "    </tr>\n",
       "    <tr>\n",
       "      <th>C_ext</th>\n",
       "      <td>0.00000</td>\n",
       "      <td>0</td>\n",
       "    </tr>\n",
       "  </tbody>\n",
       "</table>\n",
       "</div>"
      ],
      "text/plain": [
       "        amount  concentration\n",
       "A      0.00000              0\n",
       "B      0.00000              0\n",
       "C      0.00000              0\n",
       "A_ext  0.00001             10\n",
       "B_ext  0.00000              0\n",
       "C_ext  0.00000              0"
      ]
     },
     "execution_count": 83,
     "metadata": {},
     "output_type": "execute_result"
    }
   ],
   "source": [
    "f_species = rt.getFloatingSpecies(rr)\n",
    "f_species"
   ]
  },
  {
   "cell_type": "code",
   "execution_count": 85,
   "metadata": {
    "collapsed": false
   },
   "outputs": [
    {
     "data": {
      "text/plain": [
       "10.0"
      ]
     },
     "execution_count": 85,
     "metadata": {},
     "output_type": "execute_result"
    }
   ],
   "source": [
    "f_species.concentration['A_ext']"
   ]
  },
  {
   "cell_type": "markdown",
   "metadata": {},
   "source": [
    "### BoundarySpecies\n",
    "\n",
    "Which concentration values are set constant during the simulations? What are the boundary conditions, i.e. which species are not changing their values?"
   ]
  },
  {
   "cell_type": "code",
   "execution_count": 81,
   "metadata": {
    "collapsed": false
   },
   "outputs": [
    {
     "data": {
      "text/html": [
       "<div style=\"max-height:1000px;max-width:1500px;overflow:auto;\">\n",
       "<table border=\"1\" class=\"dataframe\">\n",
       "  <thead>\n",
       "    <tr style=\"text-align: right;\">\n",
       "      <th></th>\n",
       "      <th>amount</th>\n",
       "      <th>concentration</th>\n",
       "    </tr>\n",
       "  </thead>\n",
       "  <tbody>\n",
       "  </tbody>\n",
       "</table>\n",
       "</div>"
      ],
      "text/plain": [
       "Empty DataFrame\n",
       "Columns: [amount, concentration]\n",
       "Index: []"
      ]
     },
     "execution_count": 81,
     "metadata": {},
     "output_type": "execute_result"
    }
   ],
   "source": [
    "rt.getBoundarySpecies(rr)"
   ]
  },
  {
   "cell_type": "code",
   "execution_count": 68,
   "metadata": {
    "collapsed": false
   },
   "outputs": [
    {
     "data": {
      "text/plain": [
       "value    2\n",
       "Name: Vmax_bB, dtype: float64"
      ]
     },
     "execution_count": 68,
     "metadata": {},
     "output_type": "execute_result"
    }
   ],
   "source": [
    "gp.ix['Vmax_bB']"
   ]
  },
  {
   "cell_type": "code",
   "execution_count": 49,
   "metadata": {
    "collapsed": false
   },
   "outputs": [
    {
     "name": "stdout",
     "output_type": "stream",
     "text": [
      "['bA', 'bB', 'bC', 'v1', 'v2', 'v3', 'v4']\n"
     ]
    }
   ],
   "source": [
    "# kinetic eqution of reaction b1\n",
    "rids = [r.getId() for r in model.getListOfReactions()]\n",
    "print rids\n",
    "r_bA = model.getReaction('bA')"
   ]
  },
  {
   "cell_type": "code",
   "execution_count": 50,
   "metadata": {
    "collapsed": false
   },
   "outputs": [
    {
     "name": "stdout",
     "output_type": "stream",
     "text": [
      "bA = scale_f * (Vmax_bA / Km_A) * (A_ext - A) / (1 + A_ext / Km_A + A / Km_A)\n"
     ]
    }
   ],
   "source": [
    "klaw_bA = r_bA.getKineticLaw()\n",
    "print 'bA = {}'.format(klaw_bA.formula)"
   ]
  },
  {
   "cell_type": "code",
   "execution_count": 53,
   "metadata": {
    "collapsed": false
   },
   "outputs": [
    {
     "ename": "TypeError",
     "evalue": "simulation() got multiple values for keyword argument 't_start'",
     "output_type": "error",
     "traceback": [
      "\u001b[1;31m---------------------------------------------------------------------------\u001b[0m",
      "\u001b[1;31mTypeError\u001b[0m                                 Traceback (most recent call last)",
      "\u001b[1;32m<ipython-input-53-8bbce1286217>\u001b[0m in \u001b[0;36m<module>\u001b[1;34m()\u001b[0m\n\u001b[0;32m     15\u001b[0m     \u001b[1;31m# create a parameter dict for the simulation\u001b[0m\u001b[1;33m\u001b[0m\u001b[1;33m\u001b[0m\u001b[0m\n\u001b[0;32m     16\u001b[0m     \u001b[0mparameters\u001b[0m \u001b[1;33m=\u001b[0m \u001b[1;33m{\u001b[0m\u001b[1;34m'Vmax_bA'\u001b[0m\u001b[1;33m:\u001b[0m \u001b[0mVmax\u001b[0m\u001b[1;33m}\u001b[0m\u001b[1;33m\u001b[0m\u001b[0m\n\u001b[1;32m---> 17\u001b[1;33m     \u001b[1;33m(\u001b[0m\u001b[0ms\u001b[0m\u001b[1;33m,\u001b[0m \u001b[0m_\u001b[0m\u001b[1;33m)\u001b[0m \u001b[1;33m=\u001b[0m \u001b[0mrt\u001b[0m\u001b[1;33m.\u001b[0m\u001b[0msimulation\u001b[0m\u001b[1;33m(\u001b[0m\u001b[0mrr\u001b[0m\u001b[1;33m,\u001b[0m \u001b[0mparameters\u001b[0m\u001b[1;33m,\u001b[0m \u001b[0mt_start\u001b[0m\u001b[1;33m=\u001b[0m\u001b[1;36m0\u001b[0m\u001b[1;33m,\u001b[0m \u001b[0mt_stop\u001b[0m\u001b[1;33m=\u001b[0m\u001b[1;36m20\u001b[0m\u001b[1;33m,\u001b[0m \u001b[0msteps\u001b[0m\u001b[1;33m=\u001b[0m\u001b[1;36m100\u001b[0m\u001b[1;33m,\u001b[0m \u001b[0mabsTol\u001b[0m\u001b[1;33m=\u001b[0m\u001b[1;36m1e-08\u001b[0m\u001b[1;33m,\u001b[0m \u001b[0mrelTol\u001b[0m\u001b[1;33m=\u001b[0m\u001b[1;36m1e-08\u001b[0m\u001b[1;33m,\u001b[0m \u001b[0minfo\u001b[0m\u001b[1;33m=\u001b[0m\u001b[0mFalse\u001b[0m\u001b[1;33m)\u001b[0m\u001b[1;33m\u001b[0m\u001b[0m\n\u001b[0m\u001b[0;32m     18\u001b[0m     \u001b[0mresults\u001b[0m\u001b[1;33m.\u001b[0m\u001b[0mappend\u001b[0m\u001b[1;33m(\u001b[0m\u001b[0ms\u001b[0m\u001b[1;33m)\u001b[0m\u001b[1;33m\u001b[0m\u001b[0m\n\u001b[0;32m     19\u001b[0m \u001b[0mplt\u001b[0m\u001b[1;33m.\u001b[0m\u001b[0mhist\u001b[0m\u001b[1;33m(\u001b[0m\u001b[0mVmax_test\u001b[0m\u001b[1;33m,\u001b[0m \u001b[0mcolor\u001b[0m\u001b[1;33m=\u001b[0m\u001b[1;34m'grey'\u001b[0m\u001b[1;33m)\u001b[0m\u001b[1;33m\u001b[0m\u001b[0m\n",
      "\u001b[1;31mTypeError\u001b[0m: simulation() got multiple values for keyword argument 't_start'"
     ]
    }
   ],
   "source": [
    "# load roadrunner tools for simplified setting of parameters and \n",
    "# initial values\n",
    "\n",
    "import numpy as np\n",
    "import time\n",
    "\n",
    "# Create some parameter sampling\n",
    "# Vmax_test = np.linspace(start=0, stop=10, num=20)\n",
    "Vmax_test = np.random.normal(loc=5.0, scale=1.5, size=1000)\n",
    "Vmax_test = np.maximum(0.0, Vmax_test) # nonnegative\n",
    "\n",
    "t1 = time.time()\n",
    "results = []  # quick and dirty, better preallocate matrices\n",
    "for Vmax in Vmax_test:\n",
    "    # create a parameter dict for the simulation\n",
    "    parameters = {'Vmax_bA': Vmax}\n",
    "    (s, _) = rt.simulation(rr, parameters, t_start=0, t_stop=20, steps=100, absTol=1e-08, relTol=1e-08, info=False)\n",
    "    results.append(s)\n",
    "plt.hist(Vmax_test, color='grey')\n",
    "print 'time : {} [s]'.format(time.time() - t1)"
   ]
  },
  {
   "cell_type": "markdown",
   "metadata": {},
   "source": [
    "Use matplotlib to plot the resulting curves."
   ]
  },
  {
   "cell_type": "code",
   "execution_count": 71,
   "metadata": {
    "collapsed": true
   },
   "outputs": [],
   "source": [
    "# print r_b1.toSBML()"
   ]
  },
  {
   "cell_type": "code",
   "execution_count": 42,
   "metadata": {
    "collapsed": false
   },
   "outputs": [
    {
     "data": {
      "image/png": "[encoded data removed]"
     },
     "metadata": {},
     "output_type": "display_data"
    }
   ],
   "source": [
    "import matplotlib.pyplot as plt\n",
    "for s in results:\n",
    "    # plt.plot(results[0].transpose())\n",
    "    plt.plot(s['time'], s['[A_out]'], color='black', alpha=0.4)\n",
    "    plt.xlim(0, 20)\n",
    "    plt.xlabel('time [s]')\n",
    "    plt.ylabel('[A_out] [mM]')"
   ]
  },
  {
   "cell_type": "code",
   "execution_count": 73,
   "metadata": {
    "collapsed": false
   },
   "outputs": [
    {
     "data": {
      "image/png": "[encoded data removed]"
     },
     "metadata": {},
     "output_type": "display_data"
    }
   ],
   "source": [
    "for s in results:\n",
    "    # plt.plot(results[0].transpose())\n",
    "    plt.plot(s['time'], s['[A_in]'], color='black', alpha=0.4)\n",
    "    plt.xlim(0, 20)\n",
    "    plt.xlabel('time [s]')\n",
    "    plt.ylabel('[A_out] [mM]')"
   ]
  },
  {
   "cell_type": "code",
   "execution_count": 74,
   "metadata": {
    "collapsed": false
   },
   "outputs": [
    {
     "data": {
      "text/plain": [
       "[<matplotlib.lines.Line2D at 0x7f4f3f069110>]"
      ]
     },
     "execution_count": 74,
     "metadata": {},
     "output_type": "execute_result"
    },
    {
     "data": {
      "image/png": "[encoded data removed]"
     },
     "metadata": {},
     "output_type": "display_data"
    }
   ],
   "source": [
    "peaks = [max(s['[A_in]']) for s in results]\n",
    "plt.plot(Vmax_test, peaks, 'o', color='black')"
   ]
  }
 ],
 "metadata": {
  "kernelspec": {
   "display_name": "Python 2",
   "language": "python",
   "name": "python2"
  },
  "language_info": {
   "codemirror_mode": {
    "name": "ipython",
    "version": 2
   },
   "file_extension": ".py",
   "mimetype": "text/x-python",
   "name": "python",
   "nbconvert_exporter": "python",
   "pygments_lexer": "ipython2",
   "version": "2.7.6"
  }
 },
 "nbformat": 4,
 "nbformat_minor": 0
}
