{
 "cells": [
  {
   "cell_type": "markdown",
   "metadata": {},
   "source": [
    "# Simulations with database backend\n",
    "\n",
    "For large-scale and large model simulations the simulation data and definition have to be stored in a persistant way. For this all definitions and simulations are managed via a Django database backend.  \n",
    "Tasks, simulations, parameters and timecourses are easily managable via the common database backend.\n",
    "`django.setup`\n",
    "http://localhost:8001/sbmlsim/\n",
    "\n",
    "\n",
    "## Repeated simulations with database backend\n",
    "\n",
    "For large scale simulations the data has to be stored efficiently in files (HDF5)."
   ]
  },
  {
   "cell_type": "code",
   "execution_count": 4,
   "metadata": {
    "collapsed": false
   },
   "outputs": [
    {
     "name": "stdout",
     "output_type": "stream",
     "text": [
      "multiscalesite.settings\n"
     ]
    }
   ],
   "source": [
    "# import and setup database\n",
    "import django\n",
    "django.setup()\n",
    "# display the backend used\n",
    "from django.conf import settings\n",
    "print settings.SETTINGS_MODULE"
   ]
  },
  {
   "cell_type": "code",
   "execution_count": 5,
   "metadata": {
    "collapsed": false
   },
   "outputs": [
    {
     "ename": "AttributeError",
     "evalue": "'module' object has no attribute 'db_tools'",
     "output_type": "error",
     "traceback": [
      "\u001b[1;31m---------------------------------------------------------------------------\u001b[0m",
      "\u001b[1;31mAttributeError\u001b[0m                            Traceback (most recent call last)",
      "\u001b[1;32m<ipython-input-5-3cc4c95dc3ab>\u001b[0m in \u001b[0;36m<module>\u001b[1;34m()\u001b[0m\n\u001b[0;32m      2\u001b[0m \u001b[1;33m\u001b[0m\u001b[0m\n\u001b[0;32m      3\u001b[0m \u001b[1;31m# put model into database\u001b[0m\u001b[1;33m\u001b[0m\u001b[1;33m\u001b[0m\u001b[0m\n\u001b[1;32m----> 4\u001b[1;33m \u001b[0mdb_model\u001b[0m \u001b[1;33m=\u001b[0m \u001b[0modesim\u001b[0m\u001b[1;33m.\u001b[0m\u001b[0mdb_tools\u001b[0m\u001b[1;33m.\u001b[0m\u001b[0msbmlmodel_from_file\u001b[0m\u001b[1;33m(\u001b[0m\u001b[1;34m'Koenig_demo.xml'\u001b[0m\u001b[1;33m)\u001b[0m\u001b[1;33m\u001b[0m\u001b[0m\n\u001b[0m",
      "\u001b[1;31mAttributeError\u001b[0m: 'module' object has no attribute 'db_tools'"
     ]
    }
   ],
   "source": [
    "import odesim\n",
    "\n",
    "# put model into database\n",
    "db_model = odesim.db_tools.sbmlmodel_from_file('Koenig_demo.xml')"
   ]
  },
  {
   "cell_type": "code",
   "execution_count": 3,
   "metadata": {
    "collapsed": false
   },
   "outputs": [
    {
     "data": {
      "text/plain": [
       "<module 'odesim' from '/home/mkoenig/multiscale-galactose/python/simulator/odesim/__init__.pyc'>"
      ]
     },
     "execution_count": 3,
     "metadata": {},
     "output_type": "execute_result"
    }
   ],
   "source": [
    "reload(odesim)"
   ]
  },
  {
   "cell_type": "code",
   "execution_count": 6,
   "metadata": {
    "collapsed": false
   },
   "outputs": [],
   "source": []
  },
  {
   "cell_type": "code",
   "execution_count": 5,
   "metadata": {
    "collapsed": false
   },
   "outputs": [
    {
     "ename": "AttributeError",
     "evalue": "'module' object has no attribute 'db_tools'",
     "output_type": "error",
     "traceback": [
      "\u001b[1;31m---------------------------------------------------------------------------\u001b[0m",
      "\u001b[1;31mAttributeError\u001b[0m                            Traceback (most recent call last)",
      "\u001b[1;32m<ipython-input-5-2135fce2a18f>\u001b[0m in \u001b[0;36m<module>\u001b[1;34m()\u001b[0m\n\u001b[1;32m----> 1\u001b[1;33m \u001b[0modesim\u001b[0m\u001b[1;33m.\u001b[0m\u001b[0mdb_tools\u001b[0m\u001b[1;33m.\u001b[0m\u001b[0msbmlmodel_from_file\u001b[0m\u001b[1;33m(\u001b[0m\u001b[1;34m'Koenig_demo.xml'\u001b[0m\u001b[1;33m,\u001b[0m \u001b[0msync\u001b[0m\u001b[1;33m=\u001b[0m\u001b[0mFalse\u001b[0m\u001b[1;33m)\u001b[0m\u001b[1;33m\u001b[0m\u001b[0m\n\u001b[0m",
      "\u001b[1;31mAttributeError\u001b[0m: 'module' object has no attribute 'db_tools'"
     ]
    }
   ],
   "source": [
    " odesim.db_tools.sbmlmodel_from_file('Koenig_demo.xml', sync=False)"
   ]
  },
  {
   "cell_type": "code",
   "execution_count": 9,
   "metadata": {
    "collapsed": false
   },
   "outputs": [
    {
     "name": "stdout",
     "output_type": "stream",
     "text": [
      ":/usr/local/lib/python2.7/site-packages/libsbml:/usr/local/lib/python2.7/site-packages/libsedml:/usr/local/lib/python2.7/site-packages/libantimony:/usr/local/lib/python2.7/dist-packages/roadrunner:/home/mkoenig/multiscale-galactose/python:/home/mkoenig/multiscale-galactose/python/simulator:/home/mkoenig/multiscale-galactose/python/modelcreator:/home/mkoenig/multiscale-galactose/python/multiscalesite\r\n"
     ]
    }
   ],
   "source": [
    "echo $PYTHONPATH"
   ]
  },
  {
   "cell_type": "code",
   "execution_count": 10,
   "metadata": {
    "collapsed": true
   },
   "outputs": [],
   "source": []
  },
  {
   "cell_type": "code",
   "execution_count": null,
   "metadata": {
    "collapsed": true
   },
   "outputs": [],
   "source": [
    "import odesim.db_tools"
   ]
  }
 ],
 "metadata": {
  "kernelspec": {
   "display_name": "Python 2",
   "language": "python",
   "name": "python2"
  },
  "language_info": {
   "codemirror_mode": {
    "name": "ipython",
    "version": 2
   },
   "file_extension": ".py",
   "mimetype": "text/x-python",
   "name": "python",
   "nbconvert_exporter": "python",
   "pygments_lexer": "ipython2",
   "version": "2.7.6"
  }
 },
 "nbformat": 4,
 "nbformat_minor": 0
}
